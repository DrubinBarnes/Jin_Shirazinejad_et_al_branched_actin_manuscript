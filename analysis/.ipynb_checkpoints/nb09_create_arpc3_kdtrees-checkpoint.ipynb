{
 "cells": [
  {
   "cell_type": "markdown",
   "id": "applied-retreat",
   "metadata": {},
   "source": [
    "Cyna Shirazinejad, 7/7/21"
   ]
  },
  {
   "cell_type": "markdown",
   "id": "invalid-average",
   "metadata": {},
   "source": [
    "# Notebook 9: create ARPC3 KDTrees\n",
    "\n",
    "outline:\n",
    "\n",
    "* load independently-tracked ARPC3 \n",
    "* create a KDTree of track (x, y) positions for every frame of the movie"
   ]
  },
  {
   "cell_type": "markdown",
   "id": "distinct-denial",
   "metadata": {},
   "source": [
    "##### import all necessary Python modules"
   ]
  },
  {
   "cell_type": "code",
   "execution_count": 1,
   "id": "undefined-assessment",
   "metadata": {},
   "outputs": [],
   "source": [
    "%load_ext autoreload\n",
    "%autoreload 2\n",
    "%matplotlib inline\n",
    "import sys\n",
    "import numpy as np\n",
    "import pickle\n",
    "unique_user_path_notebook = str(np.load('unique_user_path_notebook.npy'))\n",
    "unique_user_saved_outputs = str(np.load('unique_user_saved_outputs.npy'))\n",
    "unique_user_path_tracks = str(np.load('unique_user_path_tracks.npy'))\n",
    "sys.path.append(unique_user_path_notebook+'/cmeAnalysisPostProcessingPythonScripts') # add custom Python scripts to the local path\n",
    "import display_tracks\n",
    "import separate_tracking_merge_tools\n",
    "import merge_tools\n",
    "import generate_index_dictionary\n",
    "index_dictionary = generate_index_dictionary.return_index_dictionary()"
   ]
  },
  {
   "cell_type": "markdown",
   "id": "handled-personal",
   "metadata": {},
   "source": [
    "# load separately tracked ARPC3 events"
   ]
  },
  {
   "cell_type": "code",
   "execution_count": 2,
   "id": "static-warner",
   "metadata": {},
   "outputs": [
    {
     "name": "stdout",
     "output_type": "stream",
     "text": [
      "total number of arpc3 tracking experiments: 13\n"
     ]
    }
   ],
   "source": [
    "arpc3_tracks = []\n",
    "\n",
    "tracks_200804ADA3Cell001_1s=display_tracks.load_tracks(unique_user_path_tracks + '/ap2dynm2arcp3_project/TIRF movies revised/tracking_data_test_cyna/200804_ADA3/split_channel_data/200804_ADA3_001/tracking_settings_gaussian_psf_model_trackinggaplength_2_trackingradius_3_6/200804ADA3Cell001arpc3_1s/Ch1/Tracking/ProcessedTracks.mat')\n",
    "tracks_200804ADA3Cell002_1s=display_tracks.load_tracks(unique_user_path_tracks + '/ap2dynm2arcp3_project/TIRF movies revised/tracking_data_test_cyna/200804_ADA3/split_channel_data/200804_ADA3_002/tracking_settings_gaussian_psf_model_trackinggaplength_2_trackingradius_3_6/200804ADA3Cell002arpc3_1s/Ch1/Tracking/ProcessedTracks.mat')\n",
    "tracks_200804ADA3Cell003_1s=display_tracks.load_tracks(unique_user_path_tracks + '/ap2dynm2arcp3_project/TIRF movies revised/tracking_data_test_cyna/200804_ADA3/split_channel_data/200804_ADA3_003/tracking_settings_gaussian_psf_model_trackinggaplength_2_trackingradius_3_6/200804ADA3Cell003arpc3_1s/Ch1/Tracking/ProcessedTracks.mat')\n",
    "tracks_200804ADA3Cell008_1s=display_tracks.load_tracks(unique_user_path_tracks + '/ap2dynm2arcp3_project/TIRF movies revised/tracking_data_test_cyna/200804_ADA3/split_channel_data/200804_ADA3_008/tracking_settings_gaussian_psf_model_trackinggaplength_2_trackingradius_3_6/200804ADA3Cell008arpc3_1s/Ch1/Tracking/ProcessedTracks.mat')\n",
    "tracks_200804ADA3Cell009_1s=display_tracks.load_tracks(unique_user_path_tracks + '/ap2dynm2arcp3_project/TIRF movies revised/tracking_data_test_cyna/200804_ADA3/split_channel_data/200804_ADA3_009/tracking_settings_gaussian_psf_model_trackinggaplength_2_trackingradius_3_6/200804ADA3Cell009arpc3_1s/Ch1/Tracking/ProcessedTracks.mat')\n",
    "\n",
    "arpc3_tracks.append(tracks_200804ADA3Cell001_1s)\n",
    "arpc3_tracks.append(tracks_200804ADA3Cell002_1s)\n",
    "arpc3_tracks.append(tracks_200804ADA3Cell003_1s)\n",
    "arpc3_tracks.append(tracks_200804ADA3Cell008_1s)\n",
    "arpc3_tracks.append(tracks_200804ADA3Cell009_1s)\n",
    "\n",
    "# this block is for the following experiment set: 200804_ADA3\n",
    "\n",
    "tracks_200819ADA3Cell001_1s=display_tracks.load_tracks(unique_user_path_tracks + '/ap2dynm2arcp3_project/TIRF movies revised/tracking_data_test_cyna/200819_ADA3/split_channel_data/200819_ADA3_001/tracking_settings_gaussian_psf_model_trackinggaplength_2_trackingradius_3_6/200819ADA3Cell001arpc3_1s/Ch1/Tracking/ProcessedTracks.mat')\n",
    "tracks_200819ADA3Cell002_1s=display_tracks.load_tracks(unique_user_path_tracks + '/ap2dynm2arcp3_project/TIRF movies revised/tracking_data_test_cyna/200819_ADA3/split_channel_data/200819_ADA3_002/tracking_settings_gaussian_psf_model_trackinggaplength_2_trackingradius_3_6/200819ADA3Cell002arpc3_1s/Ch1/Tracking/ProcessedTracks.mat')\n",
    "tracks_200819ADA3Cell003_1s=display_tracks.load_tracks(unique_user_path_tracks + '/ap2dynm2arcp3_project/TIRF movies revised/tracking_data_test_cyna/200819_ADA3/split_channel_data/200819_ADA3_003/tracking_settings_gaussian_psf_model_trackinggaplength_2_trackingradius_3_6/200819ADA3Cell003arpc3_1s/Ch1/Tracking/ProcessedTracks.mat')                                      \n",
    "\n",
    "arpc3_tracks.append(tracks_200819ADA3Cell001_1s)\n",
    "arpc3_tracks.append(tracks_200819ADA3Cell002_1s)\n",
    "arpc3_tracks.append(tracks_200819ADA3Cell003_1s)\n",
    "\n",
    "\n",
    "# this block is for the additional arpc3 cell line data from 7/22: 200722_ADA3\n",
    "\n",
    "tracks_200722ADA3Cell001_1s=display_tracks.load_tracks(unique_user_path_tracks + '/ap2dynm2arcp3_project/TIRF movies revised/tracking_data_test_cyna/200722_ADA3/split_channel_data/200722_ADA3_001/tracking_settings_gaussian_psf_model_trackinggaplength_2_trackingradius_3_6/200722ADA3Cell001arpc3_1s/Ch1/Tracking/ProcessedTracks.mat')\n",
    "tracks_200722ADA3Cell002_1s=display_tracks.load_tracks(unique_user_path_tracks + '/ap2dynm2arcp3_project/TIRF movies revised/tracking_data_test_cyna/200722_ADA3/split_channel_data/200722_ADA3_002/tracking_settings_gaussian_psf_model_trackinggaplength_2_trackingradius_3_6/200722ADA3Cell002arpc3_1s/Ch1/Tracking/ProcessedTracks.mat')\n",
    "tracks_200722ADA3Cell003_1s=display_tracks.load_tracks(unique_user_path_tracks + '/ap2dynm2arcp3_project/TIRF movies revised/tracking_data_test_cyna/200722_ADA3/split_channel_data/200722_ADA3_003/tracking_settings_gaussian_psf_model_trackinggaplength_2_trackingradius_3_6/200722ADA3Cell003arpc3_1s/Ch1/Tracking/ProcessedTracks.mat')\n",
    "tracks_200722ADA3Cell004_1s=display_tracks.load_tracks(unique_user_path_tracks + '/ap2dynm2arcp3_project/TIRF movies revised/tracking_data_test_cyna/200722_ADA3/split_channel_data/200722_ADA3_004/tracking_settings_gaussian_psf_model_trackinggaplength_2_trackingradius_3_6/200722ADA3Cell004arpc3_1s/Ch1/Tracking/ProcessedTracks.mat')\n",
    "tracks_200722ADA3Cell005_1s=display_tracks.load_tracks(unique_user_path_tracks + '/ap2dynm2arcp3_project/TIRF movies revised/tracking_data_test_cyna/200722_ADA3/split_channel_data/200722_ADA3_005/tracking_settings_gaussian_psf_model_trackinggaplength_2_trackingradius_3_6/200722ADA3Cell005arpc3_1s/Ch1/Tracking/ProcessedTracks.mat')\n",
    "\n",
    "arpc3_tracks.append(tracks_200722ADA3Cell001_1s)\n",
    "arpc3_tracks.append(tracks_200722ADA3Cell002_1s)\n",
    "arpc3_tracks.append(tracks_200722ADA3Cell003_1s)\n",
    "arpc3_tracks.append(tracks_200722ADA3Cell004_1s)\n",
    "arpc3_tracks.append(tracks_200722ADA3Cell005_1s)\n",
    "\n",
    "print('total number of arpc3 tracking experiments: ' + str(len(arpc3_tracks)))"
   ]
  },
  {
   "cell_type": "code",
   "execution_count": 3,
   "id": "friendly-desire",
   "metadata": {},
   "outputs": [
    {
     "name": "stdout",
     "output_type": "stream",
     "text": [
      "The number of tracks returned: 17512\n",
      "\n",
      "The number of tracks returned: 16177\n",
      "\n",
      "The number of tracks returned: 15491\n",
      "\n",
      "The number of tracks returned: 17968\n",
      "\n",
      "The number of tracks returned: 18152\n",
      "\n",
      "The number of tracks returned: 17762\n",
      "\n",
      "The number of tracks returned: 17611\n",
      "\n",
      "The number of tracks returned: 15483\n",
      "\n",
      "The number of tracks returned: 14466\n",
      "\n",
      "The number of tracks returned: 15603\n",
      "\n",
      "The number of tracks returned: 13732\n",
      "\n",
      "The number of tracks returned: 14599\n",
      "\n",
      "The number of tracks returned: 15194\n",
      "\n"
     ]
    }
   ],
   "source": [
    "valid_tracks_arpc3 = [display_tracks.remove_tracks_by_criteria(track_set, track_category=[1, 2]) for track_set in arpc3_tracks]"
   ]
  },
  {
   "cell_type": "markdown",
   "id": "italic-venezuela",
   "metadata": {},
   "source": [
    "# save all valid arpc3 tracks"
   ]
  },
  {
   "cell_type": "code",
   "execution_count": 4,
   "id": "sound-marathon",
   "metadata": {},
   "outputs": [],
   "source": [
    "for i in range(len(valid_tracks_arpc3)):\n",
    "    np.save(unique_user_saved_outputs+\"/dataframes/valid_arpc3_tracks_\"+str(i), np.array(list(valid_tracks_arpc3[i])))"
   ]
  },
  {
   "cell_type": "code",
   "execution_count": 5,
   "id": "molecular-illinois",
   "metadata": {},
   "outputs": [],
   "source": [
    "merged_valid_tracks_arpc3 = merge_tools.merge_experiments(valid_tracks_arpc3,[list(range(len(track_set))) for track_set in valid_tracks_arpc3])"
   ]
  },
  {
   "cell_type": "markdown",
   "id": "documentary-zimbabwe",
   "metadata": {},
   "source": [
    "<!-- # measure ap2 initiation to dnm2 peak lifetime, comparing 2 cell lines -->"
   ]
  },
  {
   "cell_type": "markdown",
   "id": "split-upgrade",
   "metadata": {},
   "source": [
    "# create trees of arpc3 locations per frame"
   ]
  },
  {
   "cell_type": "code",
   "execution_count": 7,
   "id": "foster-saturday",
   "metadata": {},
   "outputs": [
    {
     "name": "stdout",
     "output_type": "stream",
     "text": [
      "8\n",
      "9\n",
      "10\n",
      "11\n",
      "12\n",
      "13\n",
      "14\n",
      "15\n",
      "16\n",
      "17\n",
      "18\n",
      "19\n",
      "20\n"
     ]
    }
   ],
   "source": [
    "arpc3_trees = []\n",
    "\n",
    "for experiment_number in range(8, 21):  \n",
    "    \n",
    "    print(experiment_number)\n",
    "    arpc3_experiment=valid_tracks_arpc3[experiment_number-8] # arpc3 tracks in experiment\n",
    "    \n",
    "    # build a tree for each movie frame for all tracks included in the frame\n",
    "    kd_tree_arpc3_experiment, vals_tree = separate_tracking_merge_tools.build_kd_tree_channel(arpc3_experiment,\n",
    "                                                                                              0,\n",
    "                                                                                              241)\n",
    "    arpc3_trees.append([kd_tree_arpc3_experiment, vals_tree])"
   ]
  },
  {
   "cell_type": "markdown",
   "id": "refined-wildlife",
   "metadata": {},
   "source": [
    "# save KDTrees and corresponding value matrices for index matching"
   ]
  },
  {
   "cell_type": "code",
   "execution_count": 8,
   "id": "controlling-footwear",
   "metadata": {},
   "outputs": [
    {
     "name": "stderr",
     "output_type": "stream",
     "text": [
      "Creating an ndarray from ragged nested sequences (which is a list-or-tuple of lists-or-tuples-or ndarrays with different lengths or shapes) is deprecated. If you meant to do this, you must specify 'dtype=object' when creating the ndarray\n"
     ]
    }
   ],
   "source": [
    "for i in range(8,21):\n",
    "    \n",
    "    tree = arpc3_trees[i-8][0]\n",
    "    values = arpc3_trees[i-8][1]\n",
    "    \n",
    "    with open(unique_user_saved_outputs+'/dataframes/arpc3_kdtree_'+str(i), 'wb') as f:\n",
    "        pickle.dump(tree, f)                \n",
    "\n",
    "    np.save(unique_user_saved_outputs+\"/dataframes/arpc3_tree_index_matrix_\"+str(i), values)"
   ]
  },
  {
   "cell_type": "code",
   "execution_count": null,
   "id": "becoming-ending",
   "metadata": {},
   "outputs": [],
   "source": []
  }
 ],
 "metadata": {
  "kernelspec": {
   "display_name": "Python 3",
   "language": "python",
   "name": "python3"
  },
  "language_info": {
   "codemirror_mode": {
    "name": "ipython",
    "version": 3
   },
   "file_extension": ".py",
   "mimetype": "text/x-python",
   "name": "python",
   "nbconvert_exporter": "python",
   "pygments_lexer": "ipython3",
   "version": "3.6.12"
  }
 },
 "nbformat": 4,
 "nbformat_minor": 5
}
