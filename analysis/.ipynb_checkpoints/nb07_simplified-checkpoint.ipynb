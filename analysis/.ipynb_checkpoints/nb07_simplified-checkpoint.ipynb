{
 "cells": [
  {
   "cell_type": "markdown",
   "metadata": {},
   "source": [
    "Cyna Shirazinejad, 1/13/22\n",
    "\n",
    "# outline of notebook 7:\n",
    "\n",
    "* load data from cell lines:\n",
    "* * AP2-tagRFP-T, tagGFP2-DNM2, ARPC3-HaloTag \n",
    "* * AP2-tagRFP-T, tagGFP2-DNM2, N-WASP-HaloTag \n",
    "* extract features from tracks\n",
    "* * use existing feature scaler, decomposition axes, and mixture model to predict the identity of each new event\n",
    "* merge the new data with existing tracks, features, and model cluster identities"
   ]
  }
 ],
 "metadata": {
  "kernelspec": {
   "display_name": "Python 3",
   "language": "python",
   "name": "python3"
  },
  "language_info": {
   "codemirror_mode": {
    "name": "ipython",
    "version": 3
   },
   "file_extension": ".py",
   "mimetype": "text/x-python",
   "name": "python",
   "nbconvert_exporter": "python",
   "pygments_lexer": "ipython3",
   "version": "3.6.12"
  }
 },
 "nbformat": 4,
 "nbformat_minor": 4
}
