{
 "cells": [
  {
   "cell_type": "markdown",
   "metadata": {},
   "source": [
    "Cyna Shirazinejad, 7/7/21\n",
    "\n",
    "# Notebook 1: loading data for model generation\n",
    "\n",
    "outline:\n",
    "\n",
    "* load all data, including:\n",
    "    * movies from AP2-tagRFP-T, tagGFP2-DNM2 cell lines\n",
    "* filter out 'valid' tracks\n",
    "    * valid' tracks are tracks which consist of tracks that appear and disappear \n",
    "      in the bounds of the movie with no more than 2 consecutive gaps\n",
    "    * this is characterized when using AP2 as the primary channel for tracking\n",
    "* creating dataframes of features from tracked events from fitted amplitude and position space to target feature space\n",
    "    * each track will be decomposed into features, described in the notebook\n",
    "    * the number of cell line tags will be included as a label (2 or 3)\n",
    "    * the experiment number will be included as a label (1-8)\n",
    "    * the date of the experiment\n",
    "    * the cmeAnalysis classification as \"DNM2-positive\" (cmeAnalysisDNM2+) \n",
    "      or \"DNM2-negative\" will be included as a label (1 or 0)\n",
    "* save dataframes and tracks for future notebooks"
   ]
  },
  {
   "cell_type": "markdown",
   "metadata": {},
   "source": [
    "# user parameters to toggle plot-generation and/or dataframe construction and corresponding calculations"
   ]
  },
  {
   "cell_type": "code",
   "execution_count": 35,
   "metadata": {},
   "outputs": [],
   "source": [
    "# set a path to the prefix of the pooled working directory with all of the data \n",
    "# the folder that contains all data for this analysis is 'ap2dynm2arcp3_project'\n",
    "# (this folder, containing all raw and tracking data, is available on GitHub)\n",
    "unique_user_path_tracks = '/Volumes/Google Drive/My Drive/Drubin Lab/ap2dynm2arcp3_project/tracking_data/AD_cellline_analysis_formatted/' # needs to be set for each user\n",
    "unique_user_path_notebook = '/Users/cynashirazinejad/Documents/GitHub/Jin_Shirazinejad_et_al_branched_actin_manuscript/analysis'\n",
    "unique_user_saved_outputs = '/Volumes/GoogleDrive/My Drive/Drubin Lab/ap2dynm2arcp3_project/stable_outputs_simplified'"
   ]
  },
  {
   "cell_type": "markdown",
   "metadata": {},
   "source": [
    "# import all necessary Python modules"
   ]
  },
  {
   "cell_type": "code",
   "execution_count": 36,
   "metadata": {},
   "outputs": [
    {
     "name": "stdout",
     "output_type": "stream",
     "text": [
      "The autoreload extension is already loaded. To reload it, use:\n",
      "  %reload_ext autoreload\n"
     ]
    }
   ],
   "source": [
    "%load_ext autoreload\n",
    "%autoreload 2\n",
    "import os\n",
    "import sys\n",
    "import numpy as np\n",
    "import pandas as pd\n",
    "import matplotlib.pyplot as plt\n",
    "from IPython.display import Image\n",
    "sys.path.append(unique_user_path_notebook+'/cmeAnalysisPostProcessingPythonScripts') # add custom Python scripts to the local path\n",
    "import display_tracks\n",
    "import merge_tools\n",
    "import feature_extraction_with_buffer\n",
    "import generate_index_dictionary"
   ]
  },
  {
   "cell_type": "code",
   "execution_count": 37,
   "metadata": {},
   "outputs": [],
   "source": [
    "analysis_metadata = {}\n",
    "analysis_metadata['path_tracks'] = unique_user_path_tracks\n",
    "analysis_metadata['path_notebook'] = unique_user_path_notebook\n",
    "analysis_metadata['path_outputs'] = unique_user_saved_outputs"
   ]
  },
  {
   "cell_type": "markdown",
   "metadata": {},
   "source": [
    "# auto directory adding for notebooks"
   ]
  },
  {
   "cell_type": "code",
   "execution_count": 38,
   "metadata": {},
   "outputs": [],
   "source": [
    "if 'plots' not in os.listdir(unique_user_saved_outputs):\n",
    "    os.mkdir(unique_user_saved_outputs+'/plots/')\n",
    "if 'dataframes' not in os.listdir(unique_user_saved_outputs):\n",
    "    os.mkdir(unique_user_saved_outputs+'/dataframes/')"
   ]
  },
  {
   "cell_type": "markdown",
   "metadata": {},
   "source": [
    "# all track feature options:"
   ]
  },
  {
   "cell_type": "markdown",
   "metadata": {},
   "source": [
    "conventions:\n",
    "1. intensities: fitted amplitude of fluorescence (excluding fitted local background)\n",
    "2. positions: fitted positions (x,y) of two dimensional point-spread-functions per frame in track\n",
    "3. voxel-width = 108 nm\n",
    "\n",
    "features:\n",
    "\n",
    "1. 'lifetime': time between the first and last frame of detected AP2 (seconds)\n",
    "2. 'max_int_ap2': maximum intensity (a.u. fluorescence)\n",
    "3. 'max_int_dnm2': maximum intensity (a.u. fluorescence)\n",
    "4. 'dist_traveled_ap2': track start-to-finish net movement (pixels)\n",
    "5. 'dist_traveled_dnm2': track start-to-finish net movement (pixels)\n",
    "6. 'max_dist_between_ap2_dnm2': the maximum frame-to-frame separation between AP2 and DNM2 (pixels)\n",
    "7. 'md_ap2': mean displacement (pixels)\n",
    "8. 'md_dnm2': mean displacement (pixels)\n",
    "9. 'time_to_peak_ap2': time for the intensity to reach its peak (seconds) [0 if peak is first frame]\n",
    "10. 'time_to_peak_dnm2': time for the intensity to reach its peak (seconds) [0 if peak is first frame]\n",
    "11. 'time_after_peak_ap2': time for intensity to decay from its peak (seconds) [0 if peak is last frame]\n",
    "12. 'time_after_peak_dnm2': time for intensity to decay from its peak (seconds) [0 if peak is last frame]\n",
    "13. 'time_between_peaks_ap2_dnm2': time between peaks of two channels (seconds)\n",
    "14. 'avg_int_change_to_peak_ap2': average change in intensity to the peak (a.u. fluorescence) [0 if peak is first frame]\n",
    "15. 'avg_int_change_to_peak_dnm2': average change in intensity to the peak (a.u. fluorescence) [0 if peak is first frame]\n",
    "16. 'avg_int_change_after_peak_ap2': average change in intensity after the peak (a.u. fluorescence) [0 if peak is last frame]\n",
    "17. 'avg_int_change_after_peak_dnm2': average change in intensity after the peak (a.u. fluorescence) [0 if peak is last frame]\n",
    "18. 'peak_int_diff_ap2_dnm2': difference between maximum intensity of channel 0 and channel 1 (a.u. fluorescence)\n",
    "19. 'ratio_max_int_ap2_dnm2': ratio between maximum intensity of channel 0 and channel 1 (unitless)\n",
    "20. 'mean_ap2': average of fluorescence (a.u. fluorescence)\n",
    "21. 'mean_dnm2': average of fluorescence (a.u. fluorescence)\n",
    "22. 'variation_ap2': variation of fluorescence (a.u. fluorescence^2)\n",
    "23. 'variation_dnm2': variation of fluorescence (a.u. fluorescence^2)\n",
    "24. 'skewness_ap2': skewness of fluorescence (unitless)\n",
    "25. 'skewness_dnm2': skewness of fluorescence (unitless)\n",
    "26. 'kurtosis_ap2': kurtosis of fluorescence (unitless)\n",
    "27. 'kurtosis_dnm2': kurtosis of fluorescence (unitless)\n",
    "28. 'number_significant_dnm2': number of significant detections with p-val lower than provided threshold (counts) [p-val < 0.01]\n",
    "29. 'max_consecutive_significant_dnm2': maximum number of consecutive significant detections with p-val lower than provided threshold (counts) [p-val < 0.01]\n",
    "30. 'fraction_significant_dnm2': fraction of event with significant detections with p-val lower than provided threshold (unitless) [p-val < 0.01]\n",
    "31. 'fraction_peak_ap2': fraction of the event where the peak is located (unitless)\n",
    "32. 'fraction_peak_dnm2': fraction of the event where the peak is located (unitless)"
   ]
  },
  {
   "cell_type": "code",
   "execution_count": 39,
   "metadata": {},
   "outputs": [],
   "source": [
    "# the physical units of each track feature\n",
    "feature_units = ['seconds',\n",
    "                 'a.u. fluorescence',\n",
    "                 'a.u. fluorescence',\n",
    "                 'pixels',\n",
    "                 'pixels',\n",
    "                 'pixels',\n",
    "                 'pixels',\n",
    "                 'pixels',\n",
    "                 'seconds',\n",
    "                 'seconds',\n",
    "                 'seconds',\n",
    "                 'seconds',\n",
    "                 'seconds',\n",
    "                 'a.u. fluorescence',\n",
    "                 'a.u. fluorescence',\n",
    "                 'a.u. fluorescence',\n",
    "                 'a.u. fluorescence',\n",
    "                 'a.u. fluorescence',\n",
    "                 'unitless',\n",
    "                 'a.u. fluorescence',\n",
    "                 'a.u. fluorescence',\n",
    "                 'a.u. fluorescence**2',\n",
    "                 'a.u. fluorescence**2',\n",
    "                 'unitless',\n",
    "                 'unitless',\n",
    "                 'unitless',\n",
    "                 'unitless',\n",
    "                 'counts',\n",
    "                 'counts',\n",
    "                 'unitless',\n",
    "                 'unitless',\n",
    "                 'unitless']"
   ]
  },
  {
   "cell_type": "code",
   "execution_count": 40,
   "metadata": {},
   "outputs": [],
   "source": [
    "possible_track_features_labels = ['lifetime',\n",
    "                                 'max_int_ap2',\n",
    "                                 'max_int_dnm2',\n",
    "                                 'dist_traveled_ap2',\n",
    "                                 'dist_traveled_dnm2',\n",
    "                                 'max_dist_between_ap2_dnm2',\n",
    "                                 'md_ap2',\n",
    "                                 'md_dnm2',\n",
    "                                 'time_to_peak_ap2',\n",
    "                                 'time_to_peak_dnm2',\n",
    "                                 'time_after_peak_ap2',\n",
    "                                 'time_after_peak_dnm2',\n",
    "                                 'time_between_peaks_ap2_dnm2',\n",
    "                                 'avg_int_change_to_peak_ap2',\n",
    "                                 'avg_int_change_to_peak_dnm2',\n",
    "                                 'avg_int_change_after_peak_ap2',\n",
    "                                 'avg_int_change_after_peak_dnm2',\n",
    "                                 'peak_int_diff_ap2_dnm2',\n",
    "                                 'ratio_max_int_ap2_dnm2',\n",
    "                                 'mean_ap2',\n",
    "                                 'mean_dnm2',\n",
    "                                 'variation_ap2',\n",
    "                                 'variation_dnm2',\n",
    "                                 'skewness_ap2',\n",
    "                                 'skewness_dnm2',\n",
    "                                 'kurtosis_ap2',\n",
    "                                 'kurtosis_dnm2',\n",
    "                                 'number_significant_dnm2',\n",
    "                                 'max_consecutive_significant_dnm2',\n",
    "                                 'fraction_significant_dnm2',\n",
    "                                 'fraction_peak_ap2',\n",
    "                                 'fraction_peak_dnm2']"
   ]
  },
  {
   "cell_type": "code",
   "execution_count": 41,
   "metadata": {},
   "outputs": [],
   "source": [
    "possible_track_features = ['lifetime',\n",
    "                            'max_int_ch0',\n",
    "                            'max_int_ch1',\n",
    "                            'dist_traveled_ch0',\n",
    "                            'dist_traveled_ch1',\n",
    "                            'max_dist_between_ch0_ch1',\n",
    "                            'md_ch0',\n",
    "                            'md_ch1',\n",
    "                            'time_to_peak_ch0',\n",
    "                            'time_to_peak_ch1',\n",
    "                            'time_after_peak_ch0',\n",
    "                            'time_after_peak_ch1',\n",
    "                            'time_between_peaks_ch0_ch1',\n",
    "                            'avg_int_change_to_peak_ch0',\n",
    "                            'avg_int_change_to_peak_ch1',\n",
    "                            'avg_int_change_after_peak_ch0',\n",
    "                            'avg_int_change_after_peak_ch1',\n",
    "                            'peak_int_diff_ch0_ch1',\n",
    "                            'ratio_max_int_ch0_ch1',\n",
    "                            'mean_ch0',\n",
    "                            'mean_ch1',\n",
    "                            'variation_ch0',\n",
    "                            'variation_ch1',\n",
    "                            'skewness_ch0',\n",
    "                            'skewness_ch1',\n",
    "                            'kurtosis_ch0',\n",
    "                            'kurtosis_ch1',\n",
    "                            'number_significant_ch1',\n",
    "                            'max_consecutive_significant_ch1',\n",
    "                            'fraction_significant_ch1',\n",
    "                            'fraction_peak_ch0',\n",
    "                            'fraction_peak_ch1']"
   ]
  },
  {
   "cell_type": "code",
   "execution_count": 42,
   "metadata": {},
   "outputs": [],
   "source": [
    "analysis_metadata['feature_units'] = feature_units\n",
    "analysis_metadata['possible_track_features'] = possible_track_features\n",
    "analysis_metadata['possible_track_features_labels'] = possible_track_features_labels"
   ]
  },
  {
   "cell_type": "markdown",
   "metadata": {},
   "source": [
    "# extract features from all tracks, labeled by experiment (0-7), number of imaging channels/labels, and date of experiment"
   ]
  },
  {
   "cell_type": "code",
   "execution_count": null,
   "metadata": {},
   "outputs": [
    {
     "name": "stdout",
     "output_type": "stream",
     "text": [
      "\n",
      "folders to mine:\n",
      "['200804_ap2-dnm2_ap2-dnm2_wildtype_no-treatment_Cell004_1s', '200804_ap2-dnm2_ap2-dnm2_wildtype_no-treatment_Cell005_1s', '200804_ap2-dnm2_ap2-dnm2_wildtype_no-treatment_Cell006_1s', '200804_ap2-dnm2_ap2-dnm2_wildtype_no-treatment_Cell007_1s', '200804_ap2-dnm2_ap2-dnm2_wildtype_no-treatment_Cell010_1s', '200819_ap2-dnm2_ap2-dnm2_wildtype_no-treatment_Cell004_1s', '200819_ap2-dnm2_ap2-dnm2_wildtype_no-treatment_Cell005_1s', '200819_ap2-dnm2_ap2-dnm2_wildtype_no-treatment_Cell006_1s']\n",
      "\n",
      "\n",
      "The number of tracks returned: 7510\n",
      "\n",
      "The number of tracks returned: 7955\n",
      "\n",
      "The number of tracks returned: 5950\n",
      "\n",
      "The number of tracks returned: 7295\n",
      "\n"
     ]
    }
   ],
   "source": [
    "df_merged_features, merged_all_valid_tracks = display_tracks.upload_tracks_and_metadata('/Users/cynashirazinejad/Desktop/test3',\n",
    "                                                               [1],\n",
    "                                                               'Cell',\n",
    "                                                               possible_track_features,\n",
    "                                                               possible_track_features_labels)"
   ]
  },
  {
   "cell_type": "code",
   "execution_count": null,
   "metadata": {},
   "outputs": [],
   "source": [
    "# save the dataframe for subsequent notebooks\n",
    "compression_opts = dict(method='zip',\n",
    "                        archive_name=unique_user_saved_outputs+'/dataframes/df_merged_features.csv')  \n",
    "\n",
    "df_merged_features.to_csv(unique_user_saved_outputs+'/dataframes/df_merged_features.zip', index=False,\n",
    "                                                          compression=compression_opts) "
   ]
  },
  {
   "cell_type": "markdown",
   "metadata": {},
   "source": [
    "# save all valid tracks, split to allow for <100 mb permitted size"
   ]
  },
  {
   "cell_type": "code",
   "execution_count": null,
   "metadata": {},
   "outputs": [],
   "source": [
    "number_of_track_splits = 20\n",
    "analysis_metadata['number_of_track_splits'] = number_of_track_splits\n",
    "\n",
    "np.save(analysis_metadata['path_outputs']+'/dataframes/analysis_metadata', analysis_metadata)"
   ]
  },
  {
   "cell_type": "code",
   "execution_count": null,
   "metadata": {},
   "outputs": [],
   "source": [
    "# split tracks\n",
    "split_valid_tracks = np.array_split(np.array(list(merged_all_valid_tracks)),number_of_track_splits)"
   ]
  },
  {
   "cell_type": "code",
   "execution_count": null,
   "metadata": {},
   "outputs": [],
   "source": [
    "# save each track array chunk\n",
    "for i in range(len(split_valid_tracks)):\n",
    "\n",
    "    np.save(unique_user_saved_outputs+\"/dataframes/merged_all_valid_tracks_\"+str(i), np.array(split_valid_tracks[i]))"
   ]
  },
  {
   "cell_type": "code",
   "execution_count": null,
   "metadata": {},
   "outputs": [],
   "source": [
    "df_merged_features"
   ]
  }
 ],
 "metadata": {
  "kernelspec": {
   "display_name": "Python 3",
   "language": "python",
   "name": "python3"
  },
  "language_info": {
   "codemirror_mode": {
    "name": "ipython",
    "version": 3
   },
   "file_extension": ".py",
   "mimetype": "text/x-python",
   "name": "python",
   "nbconvert_exporter": "python",
   "pygments_lexer": "ipython3",
   "version": "3.6.12"
  }
 },
 "nbformat": 4,
 "nbformat_minor": 4
}
