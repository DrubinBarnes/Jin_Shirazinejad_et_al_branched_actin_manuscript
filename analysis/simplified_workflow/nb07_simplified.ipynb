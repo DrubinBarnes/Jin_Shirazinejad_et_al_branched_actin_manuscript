{
 "cells": [
  {
   "cell_type": "markdown",
   "metadata": {},
   "source": [
    "Cyna Shirazinejad, 1/13/22\n",
    "\n",
    "# outline of notebook 7:\n",
    "\n",
    "* load data from cell lines:\n",
    "* * AP2-tagRFP-T, tagGFP2-DNM2, ARPC3-HaloTag \n",
    "* * AP2-tagRFP-T, tagGFP2-DNM2, N-WASP-HaloTag \n",
    "* extract features from tracks\n",
    "* * use existing feature scaler, decomposition axes, and mixture model to predict the identity of each new event\n",
    "* merge the new data with existing tracks, features, and model cluster identities"
   ]
  },
  {
   "cell_type": "code",
   "execution_count": null,
   "metadata": {},
   "outputs": [],
   "source": [
    "%load_ext autoreload\n",
    "%autoreload 2\n",
    "%matplotlib inline\n",
    "import numpy as np\n",
    "import pandas as pd\n",
    "import sys\n",
    "unique_user_saved_outputs = str(np.load('unique_user_saved_outputs_simplified.npy'))\n",
    "analysis_metadata = np.load(unique_user_saved_outputs+'/dataframes/analysis_metadata.npy', allow_pickle=True)\n",
    "sys.path.append(analysis_metadata.item().get('path_notebook')+'/cmeAnalysisPostProcessingSimplified') # add custom Python scripts to the local path\n",
    "import import_tracks\n",
    "import display_tracks\n",
    "import detect_peaks"
   ]
  },
  {
   "cell_type": "code",
   "execution_count": null,
   "metadata": {
    "scrolled": true
   },
   "outputs": [],
   "source": [
    "analysis_metadata"
   ]
  },
  {
   "cell_type": "code",
   "execution_count": null,
   "metadata": {},
   "outputs": [],
   "source": [
    "display_tracks.upload_tracks_and_metadata?"
   ]
  },
  {
   "cell_type": "code",
   "execution_count": null,
   "metadata": {},
   "outputs": [],
   "source": [
    "possible_track_features = analysis_metadata.item().get('possible_track_features')\n",
    "possible_track_features_labels = analysis_metadata.item().get('possible_track_features_labels')"
   ]
  },
  {
   "cell_type": "markdown",
   "metadata": {},
   "source": [
    "# 3 color cell line (including arpc3 tag in addition to ap2/dnm2): upload tracks, extract features, find clusters and ccp's"
   ]
  },
  {
   "cell_type": "code",
   "execution_count": null,
   "metadata": {},
   "outputs": [],
   "source": [
    "path_ada_tracks = '/Volumes/Google Drive/My Drive/Drubin Lab/ap2dynm2arcp3_project/tracking_data/ADA_cellline_analysis_formatted_temp/'"
   ]
  },
  {
   "cell_type": "code",
   "execution_count": null,
   "metadata": {},
   "outputs": [],
   "source": [
    "import_tracks.upload_tracks_and_metadata(\n",
    "                                       path_ada_tracks,  \n",
    "                                       analysis_metadata.item().get('path_outputs'),\n",
    "                                       analysis_metadata,\n",
    "                                       [1],\n",
    "                                       ['Cell'],\n",
    "                                       possible_track_features,\n",
    "                                       possible_track_features_labels,\n",
    "                                       'df_ada_merged_features',\n",
    "                                       'merged_all_valid_ada_tracks')"
   ]
  },
  {
   "cell_type": "code",
   "execution_count": null,
   "metadata": {},
   "outputs": [],
   "source": [
    "display_tracks.cluster_with_existing_model(analysis_metadata.item().get('path_outputs'),\n",
    "                            'df_ada_merged_features')"
   ]
  },
  {
   "cell_type": "code",
   "execution_count": null,
   "metadata": {},
   "outputs": [],
   "source": [
    "detect_peaks.find_single_peaks_using_existing_model(analysis_metadata.item().get('path_outputs'),\n",
    "                                                    'df_ada_merged_features',\n",
    "                                                    'merged_all_valid_ada_tracks')"
   ]
  },
  {
   "cell_type": "markdown",
   "metadata": {},
   "source": [
    "<!-- # upload hypotonic shock data -->"
   ]
  },
  {
   "cell_type": "code",
   "execution_count": 1,
   "metadata": {},
   "outputs": [],
   "source": [
    "# path_hypotonic='/Volumes/Google Drive/My Drive/Drubin Lab/ap2dynm2arcp3_project/revision_tracking/hypotonic_tracking_data_ap2dnm2'"
   ]
  },
  {
   "cell_type": "code",
   "execution_count": 2,
   "metadata": {},
   "outputs": [],
   "source": [
    "# import_tracks.upload_tracks_and_metadata(\n",
    "#                                        path_hypotonic,  \n",
    "#                                        analysis_metadata.item().get('path_outputs'),\n",
    "#                                        analysis_metadata,\n",
    "#                                        [1],\n",
    "#                                        ['Cell'],\n",
    "#                                        possible_track_features,\n",
    "#                                        possible_track_features_labels,\n",
    "#                                        'df_ada_shock_merged_features',\n",
    "#                                        'merged_all_valid_ada_shock_tracks')"
   ]
  },
  {
   "cell_type": "code",
   "execution_count": 3,
   "metadata": {},
   "outputs": [],
   "source": [
    "# display_tracks.cluster_with_existing_model(analysis_metadata.item().get('path_outputs'),\n",
    "#                             'df_ada_shock_merged_features')"
   ]
  },
  {
   "cell_type": "code",
   "execution_count": 4,
   "metadata": {},
   "outputs": [],
   "source": [
    "# detect_peaks.find_single_peaks_using_existing_model(analysis_metadata.item().get('path_outputs'),\n",
    "#                                                     'df_ada_shock_merged_features',\n",
    "#                                                     'merged_all_valid_ada_shock_tracks')"
   ]
  },
  {
   "cell_type": "markdown",
   "metadata": {},
   "source": [
    "<!-- # separately upload shock data, only keeping movies before treatment -->"
   ]
  },
  {
   "cell_type": "code",
   "execution_count": 5,
   "metadata": {},
   "outputs": [],
   "source": [
    "# import_tracks.upload_tracks_and_metadata(\n",
    "#                                        path_hypotonic,  \n",
    "#                                        analysis_metadata.item().get('path_outputs'),\n",
    "#                                        analysis_metadata,\n",
    "#                                        [1],\n",
    "#                                        ['Cell', 'before'],\n",
    "#                                        possible_track_features,\n",
    "#                                        possible_track_features_labels,\n",
    "#                                        'df_ada_shock_before_merged_features',\n",
    "#                                        'merged_all_valid_ada_before_shock_tracks')"
   ]
  },
  {
   "cell_type": "code",
   "execution_count": 6,
   "metadata": {},
   "outputs": [],
   "source": [
    "# display_tracks.cluster_with_existing_model(analysis_metadata.item().get('path_outputs'),\n",
    "#                             'df_ada_shock_before_merged_features')"
   ]
  },
  {
   "cell_type": "code",
   "execution_count": 7,
   "metadata": {},
   "outputs": [],
   "source": [
    "# detect_peaks.find_single_peaks_using_existing_model(analysis_metadata.item().get('path_outputs'),\n",
    "#                                                     'df_ada_shock_before_merged_features',\n",
    "#                                                     'merged_all_valid_ada_before_shock_tracks')"
   ]
  },
  {
   "cell_type": "markdown",
   "metadata": {},
   "source": [
    "<!-- # separately upload shock data, only keeping movies after treatment -->"
   ]
  },
  {
   "cell_type": "code",
   "execution_count": 8,
   "metadata": {},
   "outputs": [],
   "source": [
    "# import_tracks.upload_tracks_and_metadata(\n",
    "#                                        path_hypotonic,  \n",
    "#                                        analysis_metadata.item().get('path_outputs'),\n",
    "#                                        analysis_metadata,\n",
    "#                                        [1],\n",
    "#                                        ['Cell', 'after'],\n",
    "#                                        possible_track_features,\n",
    "#                                        possible_track_features_labels,\n",
    "#                                        'df_ada_shock_after_merged_features',\n",
    "#                                        'merged_all_valid_ada_after_shock_tracks')"
   ]
  },
  {
   "cell_type": "code",
   "execution_count": 9,
   "metadata": {},
   "outputs": [],
   "source": [
    "# display_tracks.cluster_with_existing_model(analysis_metadata.item().get('path_outputs'),\n",
    "#                             'df_ada_shock_after_merged_features')"
   ]
  },
  {
   "cell_type": "code",
   "execution_count": 10,
   "metadata": {},
   "outputs": [],
   "source": [
    "# detect_peaks.find_single_peaks_using_existing_model(analysis_metadata.item().get('path_outputs'),\n",
    "#                                                     'df_ada_shock_after_merged_features',\n",
    "#                                                     'merged_all_valid_ada_after_shock_tracks')"
   ]
  },
  {
   "cell_type": "markdown",
   "metadata": {},
   "source": [
    "<!-- # upload ck666 experiment -->"
   ]
  },
  {
   "cell_type": "code",
   "execution_count": 11,
   "metadata": {},
   "outputs": [],
   "source": [
    "# path_drugs='/Volumes/Google Drive/My Drive/Drubin Lab/ap2dynm2arcp3_project/revision_tracking/ck666_tracking_data_ap2dnm2'"
   ]
  },
  {
   "cell_type": "code",
   "execution_count": 12,
   "metadata": {},
   "outputs": [],
   "source": [
    "# import_tracks.upload_tracks_and_metadata(\n",
    "#                                        path_drugs,  \n",
    "#                                        analysis_metadata.item().get('path_outputs'),\n",
    "#                                        analysis_metadata,\n",
    "#                                        [1],\n",
    "#                                        ['Cell'],\n",
    "#                                        possible_track_features,\n",
    "#                                        possible_track_features_labels,\n",
    "#                                        'df_ada_drug_merged_features',\n",
    "#                                        'merged_all_valid_ada_drug_tracks')"
   ]
  },
  {
   "cell_type": "code",
   "execution_count": 13,
   "metadata": {},
   "outputs": [],
   "source": [
    "# display_tracks.cluster_with_existing_model(analysis_metadata.item().get('path_outputs'),\n",
    "#                             'df_ada_drug_merged_features')"
   ]
  },
  {
   "cell_type": "code",
   "execution_count": 14,
   "metadata": {},
   "outputs": [],
   "source": [
    "# detect_peaks.find_single_peaks_using_existing_model(analysis_metadata.item().get('path_outputs'),\n",
    "#                                                     'df_ada_drug_merged_features',\n",
    "#                                                     'merged_all_valid_ada_drug_tracks')"
   ]
  },
  {
   "cell_type": "markdown",
   "metadata": {},
   "source": [
    "<!-- # hypotonic data, second imaging date 211208, before shock -->"
   ]
  },
  {
   "cell_type": "code",
   "execution_count": 15,
   "metadata": {},
   "outputs": [],
   "source": [
    "# path_hypotonic_211208='/Volumes/Google Drive/My Drive/Drubin Lab/ap2dynm2arcp3_project/revision_tracking/hypotonic_tracking_data_211208_ap2dnm2'"
   ]
  },
  {
   "cell_type": "code",
   "execution_count": 16,
   "metadata": {},
   "outputs": [],
   "source": [
    "# import_tracks.upload_tracks_and_metadata(\n",
    "#                                        path_hypotonic_211208,  \n",
    "#                                        analysis_metadata.item().get('path_outputs'),\n",
    "#                                        analysis_metadata,\n",
    "#                                        [1],\n",
    "#                                        ['Cell', 'before'],\n",
    "#                                        possible_track_features,\n",
    "#                                        possible_track_features_labels,\n",
    "#                                        'df_ada_shock_before_repeat_2_merged_features',\n",
    "#                                        'merged_all_valid_ada_shock_before_repeat_2tracks')"
   ]
  },
  {
   "cell_type": "code",
   "execution_count": 17,
   "metadata": {},
   "outputs": [],
   "source": [
    "# display_tracks.cluster_with_existing_model(analysis_metadata.item().get('path_outputs'),\n",
    "#                             'df_ada_shock_before_repeat_2_merged_features')"
   ]
  },
  {
   "cell_type": "code",
   "execution_count": 18,
   "metadata": {},
   "outputs": [],
   "source": [
    "# detect_peaks.find_single_peaks_using_existing_model(analysis_metadata.item().get('path_outputs'),\n",
    "#                                                     'df_ada_shock_before_repeat_2_merged_features',\n",
    "#                                                     'merged_all_valid_ada_shock_before_repeat_2tracks')"
   ]
  },
  {
   "cell_type": "markdown",
   "metadata": {},
   "source": [
    "<!-- # hypotonic data, second imaging date 211208, after shock -->"
   ]
  },
  {
   "cell_type": "code",
   "execution_count": 19,
   "metadata": {},
   "outputs": [],
   "source": [
    "# import_tracks.upload_tracks_and_metadata(\n",
    "#                                        path_hypotonic,  \n",
    "#                                        analysis_metadata.item().get('path_outputs'),\n",
    "#                                        analysis_metadata,\n",
    "#                                        [1],\n",
    "#                                        ['Cell', 'after'],\n",
    "#                                        possible_track_features,\n",
    "#                                        possible_track_features_labels,\n",
    "#                                        'df_ada_shock_after_repeat_2_merged_features',\n",
    "#                                        'merged_all_valid_ada_shock_after_repeat_2tracks')"
   ]
  },
  {
   "cell_type": "code",
   "execution_count": 21,
   "metadata": {},
   "outputs": [],
   "source": [
    "# display_tracks.cluster_with_existing_model(analysis_metadata.item().get('path_outputs'),\n",
    "#                             'df_ada_shock_after_repeat_2_merged_features')"
   ]
  },
  {
   "cell_type": "code",
   "execution_count": 22,
   "metadata": {},
   "outputs": [],
   "source": [
    "# detect_peaks.find_single_peaks_using_existing_model(analysis_metadata.item().get('path_outputs'),\n",
    "#                                                     'df_ada_shock_after_repeat_2_merged_features',\n",
    "#                                                     'merged_all_valid_ada_shock_after_repeat_2tracks')"
   ]
  },
  {
   "cell_type": "markdown",
   "metadata": {},
   "source": [
    "# upload ck666 experiment, split up by no-treatment, dmso, ck666"
   ]
  },
  {
   "cell_type": "code",
   "execution_count": 23,
   "metadata": {},
   "outputs": [],
   "source": [
    "path_drugs='/Volumes/Google Drive/My Drive/Drubin Lab/ap2dynm2arcp3_project/revision_tracking/ck666_tracking_data_ap2dnm2'"
   ]
  },
  {
   "cell_type": "markdown",
   "metadata": {},
   "source": [
    "# no treatment"
   ]
  },
  {
   "cell_type": "code",
   "execution_count": null,
   "metadata": {
    "scrolled": true
   },
   "outputs": [],
   "source": [
    "import_tracks.upload_tracks_and_metadata(path_drugs,  \n",
    "                                         analysis_metadata.item().get('path_outputs'),\n",
    "                                         analysis_metadata,\n",
    "                                         [1],\n",
    "                                         ['Cell', 'no-treatment'],\n",
    "                                         possible_track_features,\n",
    "                                         possible_track_features_labels,\n",
    "                                         'df_ada_drug_nt_merged_features',\n",
    "                                         'merged_all_valid_ada_drug_nt_tracks')"
   ]
  },
  {
   "cell_type": "code",
   "execution_count": null,
   "metadata": {},
   "outputs": [],
   "source": [
    "display_tracks.cluster_with_existing_model(analysis_metadata.item().get('path_outputs'),\n",
    "                            'df_ada_drug_nt_merged_features')"
   ]
  },
  {
   "cell_type": "code",
   "execution_count": null,
   "metadata": {},
   "outputs": [],
   "source": [
    "detect_peaks.find_single_peaks_using_existing_model(analysis_metadata.item().get('path_outputs'),\n",
    "                                                    'df_ada_drug_nt_merged_features',\n",
    "                                                    'merged_all_valid_ada_drug_nt_tracks')"
   ]
  },
  {
   "cell_type": "markdown",
   "metadata": {},
   "source": [
    "# dmso"
   ]
  },
  {
   "cell_type": "code",
   "execution_count": null,
   "metadata": {
    "scrolled": true
   },
   "outputs": [],
   "source": [
    "import_tracks.upload_tracks_and_metadata(path_drugs,  \n",
    "                                         analysis_metadata.item().get('path_outputs'),\n",
    "                                         analysis_metadata,\n",
    "                                         [1],\n",
    "                                         ['Cell', 'dmso'],\n",
    "                                         possible_track_features,\n",
    "                                         possible_track_features_labels,\n",
    "                                         'df_ada_drug_dmso_merged_features',\n",
    "                                         'merged_all_valid_ada_drug_dmso_tracks')"
   ]
  },
  {
   "cell_type": "code",
   "execution_count": null,
   "metadata": {},
   "outputs": [],
   "source": [
    "display_tracks.cluster_with_existing_model(analysis_metadata.item().get('path_outputs'),\n",
    "                            'df_ada_drug_dmso_merged_features')"
   ]
  },
  {
   "cell_type": "code",
   "execution_count": null,
   "metadata": {},
   "outputs": [],
   "source": [
    "detect_peaks.find_single_peaks_using_existing_model(analysis_metadata.item().get('path_outputs'),\n",
    "                                                    'df_ada_drug_dmso_merged_features',\n",
    "                                                    'merged_all_valid_ada_drug_dmso_tracks')"
   ]
  },
  {
   "cell_type": "markdown",
   "metadata": {},
   "source": [
    "# ck666"
   ]
  },
  {
   "cell_type": "code",
   "execution_count": null,
   "metadata": {
    "scrolled": true
   },
   "outputs": [],
   "source": [
    "import_tracks.upload_tracks_and_metadata(path_drugs,  \n",
    "                                         analysis_metadata.item().get('path_outputs'),\n",
    "                                         analysis_metadata,\n",
    "                                         [1],\n",
    "                                         ['Cell', 'ck666'],\n",
    "                                         possible_track_features,\n",
    "                                         possible_track_features_labels,\n",
    "                                         'df_ada_drug_ck666_merged_features',\n",
    "                                         'merged_all_valid_ada_drug_ck666_tracks')"
   ]
  },
  {
   "cell_type": "code",
   "execution_count": null,
   "metadata": {},
   "outputs": [],
   "source": [
    "display_tracks.cluster_with_existing_model(analysis_metadata.item().get('path_outputs'),\n",
    "                            'df_ada_drug_ck666_merged_features')"
   ]
  },
  {
   "cell_type": "code",
   "execution_count": null,
   "metadata": {},
   "outputs": [],
   "source": [
    "detect_peaks.find_single_peaks_using_existing_model(analysis_metadata.item().get('path_outputs'),\n",
    "                                                    'df_ada_drug_ck666_merged_features',\n",
    "                                                    'merged_all_valid_ada_drug_ck666_tracks')"
   ]
  },
  {
   "cell_type": "markdown",
   "metadata": {},
   "source": [
    "# hypotonic data, merged 211203 + 211208, before shock"
   ]
  },
  {
   "cell_type": "code",
   "execution_count": null,
   "metadata": {},
   "outputs": [],
   "source": [
    "path_hypotonic_merged='/Volumes/Google Drive/My Drive/Drubin Lab/ap2dynm2arcp3_project/revision_tracking/hypotonic_tracking_data_merged_211203_211208_ap2dnm2/'"
   ]
  },
  {
   "cell_type": "code",
   "execution_count": null,
   "metadata": {
    "scrolled": true
   },
   "outputs": [],
   "source": [
    "import_tracks.upload_tracks_and_metadata(\n",
    "                                       path_hypotonic_merged,  \n",
    "                                       analysis_metadata.item().get('path_outputs'),\n",
    "                                       analysis_metadata,\n",
    "                                       [1],\n",
    "                                       ['Cell', 'before'],\n",
    "                                       possible_track_features,\n",
    "                                       possible_track_features_labels,\n",
    "                                       'df_ada_shock_before_both_dates_merged_features',\n",
    "                                       'merged_all_valid_ada_shock_before_both_dates_tracks')"
   ]
  },
  {
   "cell_type": "code",
   "execution_count": null,
   "metadata": {},
   "outputs": [],
   "source": [
    "display_tracks.cluster_with_existing_model(analysis_metadata.item().get('path_outputs'),\n",
    "                            'df_ada_shock_before_both_dates_merged_features')"
   ]
  },
  {
   "cell_type": "code",
   "execution_count": null,
   "metadata": {},
   "outputs": [],
   "source": [
    "detect_peaks.find_single_peaks_using_existing_model(analysis_metadata.item().get('path_outputs'),\n",
    "                                                    'df_ada_shock_before_both_dates_merged_features',\n",
    "                                                    'merged_all_valid_ada_shock_before_both_dates_tracks')"
   ]
  },
  {
   "cell_type": "markdown",
   "metadata": {},
   "source": [
    "# hypotonic data, merged 211203 + 211208, after shock"
   ]
  },
  {
   "cell_type": "code",
   "execution_count": null,
   "metadata": {},
   "outputs": [],
   "source": [
    "path_hypotonic_merged"
   ]
  },
  {
   "cell_type": "code",
   "execution_count": null,
   "metadata": {
    "scrolled": true
   },
   "outputs": [],
   "source": [
    "import_tracks.upload_tracks_and_metadata(\n",
    "                                       path_hypotonic_merged,  \n",
    "                                       analysis_metadata.item().get('path_outputs'),\n",
    "                                       analysis_metadata,\n",
    "                                       [1],\n",
    "                                       ['Cell', 'after'],\n",
    "                                       possible_track_features,\n",
    "                                       possible_track_features_labels,\n",
    "                                       'df_ada_shock_after_both_dates_merged_features',\n",
    "                                       'merged_all_valid_ada_shock_after_both_dates_tracks')"
   ]
  },
  {
   "cell_type": "code",
   "execution_count": null,
   "metadata": {},
   "outputs": [],
   "source": [
    "display_tracks.cluster_with_existing_model(analysis_metadata.item().get('path_outputs'),\n",
    "                            'df_ada_shock_after_both_dates_merged_features')"
   ]
  },
  {
   "cell_type": "code",
   "execution_count": null,
   "metadata": {},
   "outputs": [],
   "source": [
    "detect_peaks.find_single_peaks_using_existing_model(analysis_metadata.item().get('path_outputs'),\n",
    "                                                    'df_ada_shock_after_both_dates_merged_features',\n",
    "                                                    'merged_all_valid_ada_shock_after_both_dates_tracks')"
   ]
  },
  {
   "cell_type": "code",
   "execution_count": null,
   "metadata": {},
   "outputs": [],
   "source": []
  }
 ],
 "metadata": {
  "kernelspec": {
   "display_name": "Python 3",
   "language": "python",
   "name": "python3"
  },
  "language_info": {
   "codemirror_mode": {
    "name": "ipython",
    "version": 3
   },
   "file_extension": ".py",
   "mimetype": "text/x-python",
   "name": "python",
   "nbconvert_exporter": "python",
   "pygments_lexer": "ipython3",
   "version": "3.6.12"
  }
 },
 "nbformat": 4,
 "nbformat_minor": 4
}
