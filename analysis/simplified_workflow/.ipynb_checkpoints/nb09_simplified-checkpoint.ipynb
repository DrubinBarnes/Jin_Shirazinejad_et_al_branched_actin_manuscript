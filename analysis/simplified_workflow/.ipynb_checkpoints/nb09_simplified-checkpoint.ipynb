{
 "cells": [
  {
   "cell_type": "markdown",
   "id": "welsh-threat",
   "metadata": {},
   "source": [
    "Cyna Shirazinejad, 7/7/21\n",
    "\n",
    "# Notebook 9: create ARPC3 KDTrees\n",
    "\n",
    "outline:\n",
    "\n",
    "* load independently-tracked ARPC3 \n",
    "* create a KDTree of track (x, y) positions for every frame of the movie"
   ]
  },
  {
   "cell_type": "markdown",
   "id": "recreational-longer",
   "metadata": {},
   "source": [
    "##### import all necessary Python modules"
   ]
  },
  {
   "cell_type": "code",
   "execution_count": 2,
   "id": "engaged-heading",
   "metadata": {},
   "outputs": [
    {
     "name": "stdout",
     "output_type": "stream",
     "text": [
      "The autoreload extension is already loaded. To reload it, use:\n",
      "  %reload_ext autoreload\n"
     ]
    }
   ],
   "source": [
    "%load_ext autoreload\n",
    "%autoreload 2\n",
    "%matplotlib inline\n",
    "import numpy as np\n",
    "import pandas as pd\n",
    "import sys\n",
    "unique_user_saved_outputs = str(np.load('unique_user_saved_outputs_simplified.npy'))\n",
    "analysis_metadata = np.load(unique_user_saved_outputs+'/dataframes/analysis_metadata.npy', allow_pickle=True)\n",
    "sys.path.append(analysis_metadata.item().get('path_notebook')+'/cmeAnalysisPostProcessingSimplified') # add custom Python scripts to the local path\n",
    "import separate_tracking_merge_tools"
   ]
  },
  {
   "cell_type": "markdown",
   "id": "rental-jordan",
   "metadata": {},
   "source": [
    "# load separately tracked ARPC3 events"
   ]
  },
  {
   "cell_type": "code",
   "execution_count": 4,
   "id": "labeled-retention",
   "metadata": {},
   "outputs": [],
   "source": [
    "path_arpc3_separate_tracks = '/Volumes/Google Drive/My Drive/Drubin Lab/ap2dynm2arcp3_project/tracking_data/ADA_cellline_analysis_formatted_arpc3_tracking'"
   ]
  },
  {
   "cell_type": "code",
   "execution_count": 6,
   "id": "chicken-motivation",
   "metadata": {},
   "outputs": [
    {
     "name": "stdout",
     "output_type": "stream",
     "text": [
      "\n",
      "folders to mine:\n",
      "\n",
      "\n",
      "creating trees from tracks\n",
      "saving tracks...\n",
      "\n"
     ]
    },
    {
     "ename": "NameError",
     "evalue": "name 'merge_tools' is not defined",
     "output_type": "error",
     "traceback": [
      "\u001b[0;31m---------------------------------------------------------------------------\u001b[0m",
      "\u001b[0;31mNameError\u001b[0m                                 Traceback (most recent call last)",
      "\u001b[0;32m<ipython-input-6-1b63e17e7f7a>\u001b[0m in \u001b[0;36m<module>\u001b[0;34m\u001b[0m\n\u001b[1;32m      6\u001b[0m                            \u001b[0;36m241\u001b[0m\u001b[0;34m,\u001b[0m\u001b[0;34m\u001b[0m\u001b[0;34m\u001b[0m\u001b[0m\n\u001b[1;32m      7\u001b[0m                            \u001b[0;34m'arpc3_wildtype_no-treatment_separate_arpc3_tracking'\u001b[0m\u001b[0;34m,\u001b[0m\u001b[0;34m\u001b[0m\u001b[0;34m\u001b[0m\u001b[0m\n\u001b[0;32m----> 8\u001b[0;31m                            'arpc3_wildtype_no-treatment_separate_arpc3_tracking')\n\u001b[0m\u001b[1;32m      9\u001b[0m \u001b[0;34m\u001b[0m\u001b[0m\n",
      "\u001b[0;32m~/Documents/GitHub/Jin_Shirazinejad_et_al_branched_actin_manuscript/analysis/simplified_workflow/cmeAnalysisPostProcessingSimplified/separate_tracking_merge_tools.py\u001b[0m in \u001b[0;36mbuild_trees_from_directory\u001b[0;34m(path_outputs, path_tracks, identifier_string, track_categories, channel_for_trees, length_of_movie, name_tracks, name_trees)\u001b[0m\n\u001b[1;32m     70\u001b[0m     \u001b[0mprint\u001b[0m\u001b[0;34m(\u001b[0m\u001b[0;34m'saving tracks...\\n'\u001b[0m\u001b[0;34m)\u001b[0m\u001b[0;34m\u001b[0m\u001b[0;34m\u001b[0m\u001b[0m\n\u001b[1;32m     71\u001b[0m     \u001b[0;31m# split tracks\u001b[0m\u001b[0;34m\u001b[0m\u001b[0;34m\u001b[0m\u001b[0;34m\u001b[0m\u001b[0m\n\u001b[0;32m---> 72\u001b[0;31m     \u001b[0mmerged_all_tracks\u001b[0m \u001b[0;34m=\u001b[0m \u001b[0mmerge_tools\u001b[0m\u001b[0;34m.\u001b[0m\u001b[0mmerge_experiments\u001b[0m\u001b[0;34m(\u001b[0m\u001b[0mtracks\u001b[0m\u001b[0;34m,\u001b[0m\u001b[0;34m[\u001b[0m\u001b[0mlist\u001b[0m\u001b[0;34m(\u001b[0m\u001b[0mrange\u001b[0m\u001b[0;34m(\u001b[0m\u001b[0mlen\u001b[0m\u001b[0;34m(\u001b[0m\u001b[0mtrack_set\u001b[0m\u001b[0;34m)\u001b[0m\u001b[0;34m)\u001b[0m\u001b[0;34m)\u001b[0m \u001b[0;32mfor\u001b[0m \u001b[0mtrack_set\u001b[0m \u001b[0;32min\u001b[0m \u001b[0mtracks\u001b[0m\u001b[0;34m]\u001b[0m\u001b[0;34m)\u001b[0m\u001b[0;34m\u001b[0m\u001b[0;34m\u001b[0m\u001b[0m\n\u001b[0m\u001b[1;32m     73\u001b[0m     \u001b[0mnumber_of_track_splits\u001b[0m \u001b[0;34m=\u001b[0m \u001b[0manalysis_metadata\u001b[0m\u001b[0;34m.\u001b[0m\u001b[0mitem\u001b[0m\u001b[0;34m(\u001b[0m\u001b[0;34m)\u001b[0m\u001b[0;34m.\u001b[0m\u001b[0mget\u001b[0m\u001b[0;34m(\u001b[0m\u001b[0;34m'number_of_track_splits'\u001b[0m\u001b[0;34m)\u001b[0m\u001b[0;34m\u001b[0m\u001b[0;34m\u001b[0m\u001b[0m\n\u001b[1;32m     74\u001b[0m     \u001b[0msplit_valid_tracks\u001b[0m \u001b[0;34m=\u001b[0m \u001b[0mnp\u001b[0m\u001b[0;34m.\u001b[0m\u001b[0marray_split\u001b[0m\u001b[0;34m(\u001b[0m\u001b[0mnp\u001b[0m\u001b[0;34m.\u001b[0m\u001b[0marray\u001b[0m\u001b[0;34m(\u001b[0m\u001b[0mlist\u001b[0m\u001b[0;34m(\u001b[0m\u001b[0mmerged_all_tracks\u001b[0m\u001b[0;34m)\u001b[0m\u001b[0;34m)\u001b[0m\u001b[0;34m,\u001b[0m \u001b[0mnumber_of_track_splits\u001b[0m\u001b[0;34m)\u001b[0m\u001b[0;34m\u001b[0m\u001b[0;34m\u001b[0m\u001b[0m\n",
      "\u001b[0;31mNameError\u001b[0m: name 'merge_tools' is not defined"
     ]
    }
   ],
   "source": [
    "separate_tracking_merge_tools.build_trees_from_directory(analysis_metadata.item().get('path_outputs'),\n",
    "                           path_arpc3_separate_tracks,\n",
    "                           ['Cell'],\n",
    "                           [1,2],\n",
    "                           0,\n",
    "                           241,\n",
    "                           'arpc3_wildtype_no-treatment_separate_arpc3_tracking',\n",
    "                           'arpc3_wildtype_no-treatment_separate_arpc3_tracking')\n",
    "\n"
   ]
  },
  {
   "cell_type": "code",
   "execution_count": null,
   "id": "alternative-omaha",
   "metadata": {},
   "outputs": [],
   "source": []
  }
 ],
 "metadata": {
  "kernelspec": {
   "display_name": "Python 3",
   "language": "python",
   "name": "python3"
  },
  "language_info": {
   "codemirror_mode": {
    "name": "ipython",
    "version": 3
   },
   "file_extension": ".py",
   "mimetype": "text/x-python",
   "name": "python",
   "nbconvert_exporter": "python",
   "pygments_lexer": "ipython3",
   "version": "3.6.12"
  }
 },
 "nbformat": 4,
 "nbformat_minor": 5
}
