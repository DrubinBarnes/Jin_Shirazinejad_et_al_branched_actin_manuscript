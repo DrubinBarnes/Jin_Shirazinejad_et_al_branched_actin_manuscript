{
 "cells": [
  {
   "cell_type": "markdown",
   "id": "expanded-recommendation",
   "metadata": {},
   "source": [
    "Cyna Shirazinejad, 7/7/21\n",
    "\n",
    "# Notebook 9: create ARPC3 KDTrees\n",
    "\n",
    "outline:\n",
    "\n",
    "* load independently-tracked ARPC3 \n",
    "* create a KDTree of track (x, y) positions for every frame of the movie"
   ]
  },
  {
   "cell_type": "markdown",
   "id": "generous-story",
   "metadata": {},
   "source": [
    "##### import all necessary Python modules"
   ]
  },
  {
   "cell_type": "code",
   "execution_count": 2,
   "id": "least-accommodation",
   "metadata": {},
   "outputs": [
    {
     "name": "stdout",
     "output_type": "stream",
     "text": [
      "The autoreload extension is already loaded. To reload it, use:\n",
      "  %reload_ext autoreload\n"
     ]
    }
   ],
   "source": [
    "%load_ext autoreload\n",
    "%autoreload 2\n",
    "%matplotlib inline\n",
    "import numpy as np\n",
    "import pandas as pd\n",
    "import sys\n",
    "unique_user_saved_outputs = str(np.load('unique_user_saved_outputs_simplified.npy'))\n",
    "analysis_metadata = np.load(unique_user_saved_outputs+'/dataframes/analysis_metadata.npy', allow_pickle=True)\n",
    "sys.path.append(analysis_metadata.item().get('path_notebook')+'/cmeAnalysisPostProcessingSimplified') # add custom Python scripts to the local path\n",
    "import separate_tracking_merge_tools"
   ]
  },
  {
   "cell_type": "markdown",
   "id": "weird-ceramic",
   "metadata": {},
   "source": [
    "# load separately tracked ARPC3 events"
   ]
  },
  {
   "cell_type": "code",
   "execution_count": 7,
   "id": "characteristic-welsh",
   "metadata": {},
   "outputs": [],
   "source": [
    "path_arpc3_separate_tracks = '/Volumes/Google Drive/My Drive/Drubin Lab/ap2dynm2arcp3_project/tracking_data/ADA_cellline_analysis_formatted_arpc3_tracking'"
   ]
  },
  {
   "cell_type": "code",
   "execution_count": 14,
   "id": "portable-korea",
   "metadata": {},
   "outputs": [
    {
     "name": "stdout",
     "output_type": "stream",
     "text": [
      "\n",
      "folders to mine:\n",
      "0_200804_ap2-dnm2-arpc3_arpc3_wildtype_no-treatment_Cell001_1s\n",
      "9_200804_ap2-dnm2-arpc3_arpc3_wildtype_no-treatment_Cell002_1s\n",
      "10_200804_ap2-dnm2-arpc3_arpc3_wildtype_no-treatment_Cell003_1s\n",
      "11_200804_ap2-dnm2-arpc3_arpc3_wildtype_no-treatment_Cell008_1s\n",
      "12_200804_ap2-dnm2-arpc3_arpc3_wildtype_no-treatment_Cell009_1s\n",
      "13_200819_ap2-dnm2-arpc3_arpc3_wildtype_no-treatment_Cell001_1s\n",
      "14_200819_ap2-dnm2-arpc3_arpc3_wildtype_no-treatment_Cell002_1s\n",
      "15_200819_ap2-dnm2-arpc3_arpc3_wildtype_no-treatment_Cell003_1s\n",
      "16_200722_ap2-dnm2-arpc3_arpc3_wildtype_no-treatment_Cell001_1s\n",
      "17_200722_ap2-dnm2-arpc3_arpc3_wildtype_no-treatment_Cell002_1s\n",
      "18_200722_ap2-dnm2-arpc3_arpc3_wildtype_no-treatment_Cell003_1s\n",
      "19_200722_ap2-dnm2-arpc3_arpc3_wildtype_no-treatment_Cell004_1s\n",
      "20_200722_ap2-dnm2-arpc3_arpc3_wildtype_no-treatment_Cell005_1s\n",
      "\n",
      "\n",
      "creating trees from tracks\n",
      "experiment: 0\n",
      "The number of tracks returned: 17512\n",
      "\n",
      "experiment: 1\n",
      "The number of tracks returned: 16177\n",
      "\n",
      "experiment: 2\n",
      "The number of tracks returned: 15491\n",
      "\n",
      "experiment: 3\n",
      "The number of tracks returned: 17968\n",
      "\n",
      "experiment: 4\n",
      "The number of tracks returned: 18152\n",
      "\n",
      "experiment: 5\n",
      "The number of tracks returned: 17762\n",
      "\n",
      "experiment: 6\n",
      "The number of tracks returned: 17611\n",
      "\n",
      "experiment: 7\n",
      "The number of tracks returned: 15483\n",
      "\n",
      "experiment: 8\n",
      "The number of tracks returned: 14466\n",
      "\n",
      "experiment: 9\n",
      "The number of tracks returned: 15603\n",
      "\n",
      "experiment: 10\n",
      "The number of tracks returned: 13732\n",
      "\n",
      "experiment: 11\n",
      "The number of tracks returned: 14599\n",
      "\n",
      "experiment: 12\n",
      "The number of tracks returned: 15194\n",
      "\n",
      "saving tracks...\n",
      "\n"
     ]
    },
    {
     "ename": "TypeError",
     "evalue": "int() argument must be a string, a bytes-like object or a number, not 'NoneType'",
     "output_type": "error",
     "traceback": [
      "\u001b[0;31m---------------------------------------------------------------------------\u001b[0m",
      "\u001b[0;31mTypeError\u001b[0m                                 Traceback (most recent call last)",
      "\u001b[0;32m~/opt/anaconda3/envs/branched_actin/lib/python3.6/site-packages/numpy/lib/shape_base.py\u001b[0m in \u001b[0;36marray_split\u001b[0;34m(ary, indices_or_sections, axis)\u001b[0m\n\u001b[1;32m    771\u001b[0m         \u001b[0;31m# handle array case.\u001b[0m\u001b[0;34m\u001b[0m\u001b[0;34m\u001b[0m\u001b[0;34m\u001b[0m\u001b[0m\n\u001b[0;32m--> 772\u001b[0;31m         \u001b[0mNsections\u001b[0m \u001b[0;34m=\u001b[0m \u001b[0mlen\u001b[0m\u001b[0;34m(\u001b[0m\u001b[0mindices_or_sections\u001b[0m\u001b[0;34m)\u001b[0m \u001b[0;34m+\u001b[0m \u001b[0;36m1\u001b[0m\u001b[0;34m\u001b[0m\u001b[0;34m\u001b[0m\u001b[0m\n\u001b[0m\u001b[1;32m    773\u001b[0m         \u001b[0mdiv_points\u001b[0m \u001b[0;34m=\u001b[0m \u001b[0;34m[\u001b[0m\u001b[0;36m0\u001b[0m\u001b[0;34m]\u001b[0m \u001b[0;34m+\u001b[0m \u001b[0mlist\u001b[0m\u001b[0;34m(\u001b[0m\u001b[0mindices_or_sections\u001b[0m\u001b[0;34m)\u001b[0m \u001b[0;34m+\u001b[0m \u001b[0;34m[\u001b[0m\u001b[0mNtotal\u001b[0m\u001b[0;34m]\u001b[0m\u001b[0;34m\u001b[0m\u001b[0;34m\u001b[0m\u001b[0m\n",
      "\u001b[0;31mTypeError\u001b[0m: object of type 'NoneType' has no len()",
      "\nDuring handling of the above exception, another exception occurred:\n",
      "\u001b[0;31mTypeError\u001b[0m                                 Traceback (most recent call last)",
      "\u001b[0;32m<ipython-input-14-1b63e17e7f7a>\u001b[0m in \u001b[0;36m<module>\u001b[0;34m\u001b[0m\n\u001b[1;32m      6\u001b[0m                            \u001b[0;36m241\u001b[0m\u001b[0;34m,\u001b[0m\u001b[0;34m\u001b[0m\u001b[0;34m\u001b[0m\u001b[0m\n\u001b[1;32m      7\u001b[0m                            \u001b[0;34m'arpc3_wildtype_no-treatment_separate_arpc3_tracking'\u001b[0m\u001b[0;34m,\u001b[0m\u001b[0;34m\u001b[0m\u001b[0;34m\u001b[0m\u001b[0m\n\u001b[0;32m----> 8\u001b[0;31m                            'arpc3_wildtype_no-treatment_separate_arpc3_tracking')\n\u001b[0m\u001b[1;32m      9\u001b[0m \u001b[0;34m\u001b[0m\u001b[0m\n",
      "\u001b[0;32m~/Documents/GitHub/Jin_Shirazinejad_et_al_branched_actin_manuscript/analysis/simplified_workflow/cmeAnalysisPostProcessingSimplified/separate_tracking_merge_tools.py\u001b[0m in \u001b[0;36mbuild_trees_from_directory\u001b[0;34m(path_outputs, path_tracks, identifier_strings, track_categories, channel_for_trees, length_of_movie, name_tracks, name_trees)\u001b[0m\n\u001b[1;32m     73\u001b[0m     \u001b[0mmerged_all_tracks\u001b[0m \u001b[0;34m=\u001b[0m \u001b[0mmerge_tools\u001b[0m\u001b[0;34m.\u001b[0m\u001b[0mmerge_experiments\u001b[0m\u001b[0;34m(\u001b[0m\u001b[0mtracks\u001b[0m\u001b[0;34m,\u001b[0m\u001b[0;34m[\u001b[0m\u001b[0mlist\u001b[0m\u001b[0;34m(\u001b[0m\u001b[0mrange\u001b[0m\u001b[0;34m(\u001b[0m\u001b[0mlen\u001b[0m\u001b[0;34m(\u001b[0m\u001b[0mtrack_set\u001b[0m\u001b[0;34m)\u001b[0m\u001b[0;34m)\u001b[0m\u001b[0;34m)\u001b[0m \u001b[0;32mfor\u001b[0m \u001b[0mtrack_set\u001b[0m \u001b[0;32min\u001b[0m \u001b[0mtracks\u001b[0m\u001b[0;34m]\u001b[0m\u001b[0;34m)\u001b[0m\u001b[0;34m\u001b[0m\u001b[0;34m\u001b[0m\u001b[0m\n\u001b[1;32m     74\u001b[0m     \u001b[0mnumber_of_track_splits\u001b[0m \u001b[0;34m=\u001b[0m \u001b[0manalysis_metadata\u001b[0m\u001b[0;34m.\u001b[0m\u001b[0mitem\u001b[0m\u001b[0;34m(\u001b[0m\u001b[0;34m)\u001b[0m\u001b[0;34m.\u001b[0m\u001b[0mget\u001b[0m\u001b[0;34m(\u001b[0m\u001b[0;34m'number_of_track_splits'\u001b[0m\u001b[0;34m)\u001b[0m\u001b[0;34m\u001b[0m\u001b[0;34m\u001b[0m\u001b[0m\n\u001b[0;32m---> 75\u001b[0;31m     \u001b[0msplit_valid_tracks\u001b[0m \u001b[0;34m=\u001b[0m \u001b[0mnp\u001b[0m\u001b[0;34m.\u001b[0m\u001b[0marray_split\u001b[0m\u001b[0;34m(\u001b[0m\u001b[0mnp\u001b[0m\u001b[0;34m.\u001b[0m\u001b[0marray\u001b[0m\u001b[0;34m(\u001b[0m\u001b[0mlist\u001b[0m\u001b[0;34m(\u001b[0m\u001b[0mmerged_all_tracks\u001b[0m\u001b[0;34m)\u001b[0m\u001b[0;34m)\u001b[0m\u001b[0;34m,\u001b[0m \u001b[0mnumber_of_track_splits\u001b[0m\u001b[0;34m)\u001b[0m\u001b[0;34m\u001b[0m\u001b[0;34m\u001b[0m\u001b[0m\n\u001b[0m\u001b[1;32m     76\u001b[0m     \u001b[0;31m# save each track array chunk\u001b[0m\u001b[0;34m\u001b[0m\u001b[0;34m\u001b[0m\u001b[0;34m\u001b[0m\u001b[0m\n\u001b[1;32m     77\u001b[0m     \u001b[0;32mfor\u001b[0m \u001b[0mi\u001b[0m \u001b[0;32min\u001b[0m \u001b[0mrange\u001b[0m\u001b[0;34m(\u001b[0m\u001b[0mlen\u001b[0m\u001b[0;34m(\u001b[0m\u001b[0msplit_valid_tracks\u001b[0m\u001b[0;34m)\u001b[0m\u001b[0;34m)\u001b[0m\u001b[0;34m:\u001b[0m\u001b[0;34m\u001b[0m\u001b[0;34m\u001b[0m\u001b[0m\n",
      "\u001b[0;32m<__array_function__ internals>\u001b[0m in \u001b[0;36marray_split\u001b[0;34m(*args, **kwargs)\u001b[0m\n",
      "\u001b[0;32m~/opt/anaconda3/envs/branched_actin/lib/python3.6/site-packages/numpy/lib/shape_base.py\u001b[0m in \u001b[0;36marray_split\u001b[0;34m(ary, indices_or_sections, axis)\u001b[0m\n\u001b[1;32m    774\u001b[0m     \u001b[0;32mexcept\u001b[0m \u001b[0mTypeError\u001b[0m\u001b[0;34m:\u001b[0m\u001b[0;34m\u001b[0m\u001b[0;34m\u001b[0m\u001b[0m\n\u001b[1;32m    775\u001b[0m         \u001b[0;31m# indices_or_sections is a scalar, not an array.\u001b[0m\u001b[0;34m\u001b[0m\u001b[0;34m\u001b[0m\u001b[0;34m\u001b[0m\u001b[0m\n\u001b[0;32m--> 776\u001b[0;31m         \u001b[0mNsections\u001b[0m \u001b[0;34m=\u001b[0m \u001b[0mint\u001b[0m\u001b[0;34m(\u001b[0m\u001b[0mindices_or_sections\u001b[0m\u001b[0;34m)\u001b[0m\u001b[0;34m\u001b[0m\u001b[0;34m\u001b[0m\u001b[0m\n\u001b[0m\u001b[1;32m    777\u001b[0m         \u001b[0;32mif\u001b[0m \u001b[0mNsections\u001b[0m \u001b[0;34m<=\u001b[0m \u001b[0;36m0\u001b[0m\u001b[0;34m:\u001b[0m\u001b[0;34m\u001b[0m\u001b[0;34m\u001b[0m\u001b[0m\n\u001b[1;32m    778\u001b[0m             \u001b[0;32mraise\u001b[0m \u001b[0mValueError\u001b[0m\u001b[0;34m(\u001b[0m\u001b[0;34m'number sections must be larger than 0.'\u001b[0m\u001b[0;34m)\u001b[0m\u001b[0;34m\u001b[0m\u001b[0;34m\u001b[0m\u001b[0m\n",
      "\u001b[0;31mTypeError\u001b[0m: int() argument must be a string, a bytes-like object or a number, not 'NoneType'"
     ]
    }
   ],
   "source": [
    "separate_tracking_merge_tools.build_trees_from_directory(analysis_metadata.item().get('path_outputs'),\n",
    "                           path_arpc3_separate_tracks,\n",
    "                           ['Cell'],\n",
    "                           [1,2],\n",
    "                           0,\n",
    "                           241,\n",
    "                           'arpc3_wildtype_no-treatment_separate_arpc3_tracking',\n",
    "                           'arpc3_wildtype_no-treatment_separate_arpc3_tracking')\n",
    "\n"
   ]
  },
  {
   "cell_type": "code",
   "execution_count": null,
   "id": "derived-murder",
   "metadata": {},
   "outputs": [],
   "source": []
  }
 ],
 "metadata": {
  "kernelspec": {
   "display_name": "Python 3",
   "language": "python",
   "name": "python3"
  },
  "language_info": {
   "codemirror_mode": {
    "name": "ipython",
    "version": 3
   },
   "file_extension": ".py",
   "mimetype": "text/x-python",
   "name": "python",
   "nbconvert_exporter": "python",
   "pygments_lexer": "ipython3",
   "version": "3.6.12"
  }
 },
 "nbformat": 4,
 "nbformat_minor": 5
}
