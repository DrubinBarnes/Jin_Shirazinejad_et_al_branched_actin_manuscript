{
 "cells": [
  {
   "cell_type": "markdown",
   "id": "younger-municipality",
   "metadata": {},
   "source": [
    "Cyna Shirazinejad, 7/7/21\n",
    "\n",
    "# Notebook 9: create ARPC3 KDTrees\n",
    "\n",
    "outline:\n",
    "\n",
    "* load independently-tracked ARPC3 \n",
    "* create a KDTree of track (x, y) positions for every frame of the movie"
   ]
  },
  {
   "cell_type": "markdown",
   "id": "posted-ceiling",
   "metadata": {},
   "source": [
    "##### import all necessary Python modules"
   ]
  },
  {
   "cell_type": "code",
   "execution_count": 1,
   "id": "nutritional-boards",
   "metadata": {},
   "outputs": [],
   "source": [
    "%load_ext autoreload\n",
    "%autoreload 2\n",
    "%matplotlib inline\n",
    "import numpy as np\n",
    "import pandas as pd\n",
    "import sys\n",
    "unique_user_saved_outputs = str(np.load('unique_user_saved_outputs_simplified.npy'))\n",
    "analysis_metadata = np.load(unique_user_saved_outputs+'/dataframes/analysis_metadata.npy', allow_pickle=True)\n",
    "sys.path.append(analysis_metadata.item().get('path_notebook')+'/cmeAnalysisPostProcessingPythonScripts') # add custom Python scripts to the local path\n",
    "import separate_tracking_merge_tools"
   ]
  },
  {
   "cell_type": "markdown",
   "id": "instant-female",
   "metadata": {},
   "source": [
    "# load separately tracked ARPC3 events"
   ]
  },
  {
   "cell_type": "code",
   "execution_count": 4,
   "id": "republican-internship",
   "metadata": {},
   "outputs": [],
   "source": [
    "path_arpc3_separate_tracks = '/Volumes/Google Drive/My Drive/Drubin Lab/ap2dynm2arcp3_project/tracking_data/ADA_cellline_analysis_formatted_arpc3_tracking'"
   ]
  },
  {
   "cell_type": "code",
   "execution_count": null,
   "id": "finite-oracle",
   "metadata": {},
   "outputs": [
    {
     "name": "stdout",
     "output_type": "stream",
     "text": [
      "\n",
      "folders to mine:\n",
      "200722_ap2-dnm2-arpc3_arpc3_wildtype_no-treatment_Cell001_1s\n",
      "200722_ap2-dnm2-arpc3_arpc3_wildtype_no-treatment_Cell002_1s\n",
      "200722_ap2-dnm2-arpc3_arpc3_wildtype_no-treatment_Cell003_1s\n",
      "200722_ap2-dnm2-arpc3_arpc3_wildtype_no-treatment_Cell004_1s\n",
      "200722_ap2-dnm2-arpc3_arpc3_wildtype_no-treatment_Cell005_1s\n",
      "200804_ap2-dnm2-arpc3_arpc3_wildtype_no-treatment_Cell001_1s\n",
      "200804_ap2-dnm2-arpc3_arpc3_wildtype_no-treatment_Cell002_1s\n",
      "200804_ap2-dnm2-arpc3_arpc3_wildtype_no-treatment_Cell003_1s\n",
      "200804_ap2-dnm2-arpc3_arpc3_wildtype_no-treatment_Cell008_1s\n",
      "200804_ap2-dnm2-arpc3_arpc3_wildtype_no-treatment_Cell009_1s\n",
      "200819_ap2-dnm2-arpc3_arpc3_wildtype_no-treatment_Cell001_1s\n",
      "200819_ap2-dnm2-arpc3_arpc3_wildtype_no-treatment_Cell002_1s\n",
      "200819_ap2-dnm2-arpc3_arpc3_wildtype_no-treatment_Cell003_1s\n",
      "\n",
      "\n",
      "creating trees from tracks\n",
      "experiment: 0\n",
      "The number of tracks returned: 14466\n",
      "\n",
      "experiment: 1\n",
      "The number of tracks returned: 15603\n",
      "\n",
      "experiment: 2\n",
      "The number of tracks returned: 13732\n",
      "\n",
      "experiment: 3\n",
      "The number of tracks returned: 14599\n",
      "\n",
      "experiment: 4\n",
      "The number of tracks returned: 15194\n",
      "\n",
      "experiment: 5\n",
      "The number of tracks returned: 17512\n",
      "\n",
      "experiment: 6\n",
      "The number of tracks returned: 16177\n",
      "\n"
     ]
    }
   ],
   "source": [
    "separate_tracking_merge_tools.build_trees_from_directory(analysis_metadata.item().get('path_outputs'),\n",
    "                           path_arpc3_separate_tracks,\n",
    "                           'Cell',\n",
    "                           [1,2],\n",
    "                           0,\n",
    "                           241,\n",
    "                           'arpc3_wildtype_no-treatment_separate_arpc3_tracking',\n",
    "                           'arpc3_wildtype_no-treatment_separate_arpc3_tracking')\n",
    "\n"
   ]
  },
  {
   "cell_type": "code",
   "execution_count": null,
   "id": "injured-flavor",
   "metadata": {},
   "outputs": [],
   "source": []
  }
 ],
 "metadata": {
  "kernelspec": {
   "display_name": "Python 3",
   "language": "python",
   "name": "python3"
  },
  "language_info": {
   "codemirror_mode": {
    "name": "ipython",
    "version": 3
   },
   "file_extension": ".py",
   "mimetype": "text/x-python",
   "name": "python",
   "nbconvert_exporter": "python",
   "pygments_lexer": "ipython3",
   "version": "3.6.12"
  }
 },
 "nbformat": 4,
 "nbformat_minor": 5
}
