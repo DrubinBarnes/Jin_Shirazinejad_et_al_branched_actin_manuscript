{
 "cells": [
  {
   "cell_type": "markdown",
   "metadata": {},
   "source": [
    "Cyna Shirazinejad, 1/26/22\n",
    "\n",
    "# Notebook 11b: merge AP2 with ARPC3, 'zero' padding\n",
    "\n",
    "outline:\n",
    "* find ARPC3+/- events\n",
    "* measure the effect of CCP motility with ARPC3 recruitment"
   ]
  },
  {
   "cell_type": "markdown",
   "metadata": {},
   "source": [
    "##### import all necessary Python modules"
   ]
  },
  {
   "cell_type": "code",
   "execution_count": 1,
   "metadata": {},
   "outputs": [],
   "source": [
    "%load_ext autoreload\n",
    "%autoreload 2\n",
    "%matplotlib inline\n",
    "import numpy as np\n",
    "import pandas as pd\n",
    "import sys\n",
    "import matplotlib.pyplot as plt\n",
    "import pickle\n",
    "from IPython.display import Image\n",
    "from scipy import signal\n",
    "import scipy.stats as stats\n",
    "import seaborn as sns\n",
    "\n",
    "unique_user_saved_outputs = str(np.load('unique_user_saved_outputs_simplified.npy'))\n",
    "analysis_metadata = np.load(unique_user_saved_outputs+'/dataframes/analysis_metadata.npy', allow_pickle=True)\n",
    "sys.path.append(analysis_metadata.item().get('path_notebook')+'/cmeAnalysisPostProcessingSimplified') # add custom Python scripts to the local path\n",
    "import separate_tracking_merge_tools\n",
    "import merge_tools\n",
    "import generate_index_dictionary\n",
    "import return_track_attributes\n",
    "index_dictionary = generate_index_dictionary.return_index_dictionary()"
   ]
  },
  {
   "cell_type": "code",
   "execution_count": 2,
   "metadata": {
    "scrolled": true
   },
   "outputs": [
    {
     "data": {
      "text/plain": [
       "array({'path_outputs': '/Volumes/GoogleDrive/My Drive/Drubin Lab/ap2dynm2arcp3_project/stable_outputs_simplified_new', 'path_tracks_ad_wildtype': '/Volumes/Google Drive/My Drive/Drubin Lab/ap2dynm2arcp3_project/tracking_data/AD_cellline_analysis_formatted', 'path_notebook': '/Users/cynashirazinejad/Documents/GitHub/Jin_Shirazinejad_et_al_branched_actin_manuscript/analysis/simplified_workflow', 'feature_units': ['seconds', 'a.u. fluorescence', 'a.u. fluorescence', 'pixels', 'pixels', 'pixels', 'pixels', 'pixels', 'seconds', 'seconds', 'seconds', 'seconds', 'seconds', 'a.u. fluorescence', 'a.u. fluorescence', 'a.u. fluorescence', 'a.u. fluorescence', 'a.u. fluorescence', 'unitless', 'a.u. fluorescence', 'a.u. fluorescence', 'a.u. fluorescence**2', 'a.u. fluorescence**2', 'unitless', 'unitless', 'unitless', 'unitless', 'counts', 'counts', 'unitless', 'unitless', 'unitless'], 'possible_track_features': ['lifetime', 'max_int_ch0', 'max_int_ch1', 'dist_traveled_ch0', 'dist_traveled_ch1', 'max_dist_between_ch0-ch1', 'md_ch0', 'md_ch1', 'time_to_peak_ch0', 'time_to_peak_ch1', 'time_after_peak_ch0', 'time_after_peak_ch1', 'time_between_peaks_ch0-ch1', 'avg_int_change_to_peak_ch0', 'avg_int_change_to_peak_ch1', 'avg_int_change_after_peak_ch0', 'avg_int_change_after_peak_ch1', 'peak_int_diff_ch0-ch1', 'ratio_max_int_ch0-ch1', 'mean_ch0', 'mean_ch1', 'variation_ch0', 'variation_ch1', 'skewness_ch0', 'skewness_ch1', 'kurtosis_ch0', 'kurtosis_ch1', 'number_significant_ch1', 'max_consecutive_significant_ch1', 'fraction_significant_ch1', 'fraction_peak_ch0', 'fraction_peak_ch1'], 'possible_track_features_labels': ['lifetime', 'max_int_ap2', 'max_int_dnm2', 'dist_traveled_ap2', 'dist_traveled_dnm2', 'max_dist_between_ap2_dnm2', 'md_ap2', 'md_dnm2', 'time_to_peak_ap2', 'time_to_peak_dnm2', 'time_after_peak_ap2', 'time_after_peak_dnm2', 'time_between_peaks_ap2_dnm2', 'avg_int_change_to_peak_ap2', 'avg_int_change_to_peak_dnm2', 'avg_int_change_after_peak_ap2', 'avg_int_change_after_peak_dnm2', 'peak_int_diff_ap2_dnm2', 'ratio_max_int_ap2_dnm2', 'mean_ap2', 'mean_dnm2', 'variation_ap2', 'variation_dnm2', 'skewness_ap2', 'skewness_dnm2', 'kurtosis_ap2', 'kurtosis_dnm2', 'number_significant_dnm2', 'max_consecutive_significant_dnm2', 'fraction_significant_dnm2', 'fraction_peak_ap2', 'fraction_peak_dnm2'], 'number_of_track_splits_merged_all_valid_tracks': 8, 'index_DNM2positive': 0, 'number_of_clusters': 5, 'distance_best_fit': 17, 'height_best_fit': 125, 'width_best_fit': 5, 'peak_predictions': [0, 0, 0, 1, 0, 0, 0, 0, 0, 0, 0, 0, 1, 0, 0, 1, 1, 0, 1, 0, 0, 0, 1, 1, 0, 1, 0, 0, 1, 0, 0, 1, 0, 0, 0, 0, 0, 1, 0, 0, 0, 1, 0, 1, 1, 1, 1, 1, 0, 1, 0, 1, 0, 1, 0, 0, 0, 1, 1, 0, 1, 0, 0, 0, 1, 0, 0, 0, 0, 1, 0, 0, 0, 1, 1, 1, 0, 0, 1, 1, 1, 1, 1, 0, 0, 0, 1, 1, 0, 0, 1, 0, 0, 1, 0, 1, 0, 0, 1, 0, 1, 1, 1, 1, 1, 0, 0, 1, 1, 1, 0, 1, 0, 1, 1, 1, 1, 0, 0, 1, 1, 1, 1, 1, 1, 0, 1, 0, 1, 1, 0, 0, 0, 0, 1, 0, 1, 1, 0, 1, 1, 1, 0, 1, 0, 0, 0, 1, 1, 0, 1, 0, 1, 1, 1, 0, 1, 0, 1, 0, 1, 1, 1, 0, 1, 0, 0, 0, 1, 1, 0, 0, 1, 1, 1, 1, 0, 0, 0, 1, 0, 1, 1, 1, 1, 0, 1, 1, 1, 1, 1, 1, 1, 1, 0, 1, 1, 0, 1, 1, 1, 1, 1, 1, 1, 0, 0, 1, 1, 1, 1, 0, 1, 1, 1, 0, 1, 1, 1, 1, 0, 1, 1, 0, 0, 1, 1, 1, 0, 1, 0, 1, 1, 1, 0, 1, 1, 1, 0, 1, 0, 0, 1, 1, 1, 1, 1, 1, 1, 1, 1, 0, 1, 0, 1, 0, 1, 1, 1, 1, 1, 0, 1, 1, 0, 0, 0, 0, 0, 1, 1, 1, 1, 1, 1, 0, 0, 1, 1, 1, 1, 1, 1, 1, 1, 0, 0, 1, 1, 0, 0, 0, 1, 0, 0, 1, 0, 0, 1, 0, 1, 1, 1, 1, 0, 0, 1, 1, 1, 1, 1, 0, 1, 0, 1, 0, 1, 0, 0, 1, 1, 0, 0, 1, 1, 0, 1, 1, 1, 0, 0, 1, 1, 0, 1, 1, 0, 1, 0, 1, 0, 0, 1, 1, 1, 1, 1, 1, 1, 0, 1, 0, 0, 0, 0, 0, 0, 1, 0, 0, 1, 1, 1, 1, 1, 1, 0, 1, 1, 1, 1, 1, 0, 1, 1, 0, 1, 0, 1, 1, 0, 1, 0, 1, 0, 0, 0, 1, 0, 0, 1, 1, 0, 1, 1, 0, 0, 0, 0, 0, 1, 1, 0, 0, 0, 0, 1, 1, 1, 1, 1, 1, 1, 1, 0, 0, 0, 0, 0, 0, 0, 0, 1, 0, 0, 1, 0, 0, 0, 0, 1, 1, 0, 1, 1, 0, 1, 0, 0, 0, 1, 1, 0, 0, 1, 0, 0, 0, 0, 1, 0, 0, 1, 0, 1, 0, 0, 1, 1, 1, 1, 0, 0, 0, 0, 0, 0, 0, 0, 0, 1, 0, 0, 1, 0, 0, 0, 0, 0, 0, 0, 0, 0, 0, 0, 1, 1, 1, 1, 0, 0, 1, 0, 0, 0, 0, 0, 0, 1, 1, 0, 0, 1, 0, 1, 0, 0, 0, 0, 0, 1, 1, 0, 1, 0, 0, 0, 0, 0, 0, 0, 0, 0, 0, 0, 0, 0, 0, 0, 0, 0, 1, 0, 0, 0, 0, 0, 0, 0, 0, 0, 0, 0, 0, 0, 0, 0, 1, 1, 0, 0, 0, 0, 0, 0, 0, 0, 0, 0, 0, 0, 0, 1, 0, 0, 0, 0, 0, 0, 0, 0, 0, 0, 0, 0, 0, 0, 0, 0, 1, 0, 0, 1, 0, 0, 0, 0, 0, 0, 0, 0, 0, 0, 0, 0, 1, 0, 1, 0, 0, 0, 0, 0, 1, 0, 0, 0, 1, 0, 0, 0, 0, 1, 0, 0, 1, 0, 0, 1, 0, 0, 1, 0, 1, 0, 1, 0, 0, 0, 0, 0, 0, 0, 0, 0, 0, 0, 0, 0, 0, 0, 0, 0, 0, 0, 1, 0, 0, 0, 0, 0, 0, 0, 0, 0, 0, 0, 0, 0, 0, 0, 0, 0, 0, 0, 0, 0, 0, 1, 1, 0, 0, 0, 0, 1, 1, 1, 0, 0, 0, 0, 0, 1, 0, 0, 1, 1, 0, 0, 0, 0, 0, 0, 0, 1, 1, 0, 0, 1, 1, 1, 0, 1, 0, 0, 0, 0, 0, 1, 1, 1, 1, 0, 0, 1, 1, 0, 1, 1, 0, 0, 1, 0, 1, 1, 0, 1, 1, 0, 0, 1, 1, 1, 1, 1, 0, 1, 1, 0, 0, 0, 0, 1, 1, 1, 1, 1, 0, 1, 0, 1, 0, 1, 0, 0, 0, 0, 1, 1, 1, 1, 1, 1, 0, 0, 1, 0, 0, 1, 0, 1, 1, 1, 1, 0, 0, 0, 0, 1, 0, 1, 1, 0, 0, 0, 1, 0, 1, 1, 1, 1, 1, 0, 1, 0, 1, 0, 0, 0, 0, 1, 1, 1, 1, 1, 0, 0, 1, 0, 0, 1, 0, 0, 1, 1, 1, 1, 0, 1, 0, 1, 0, 1, 1, 1, 1, 1, 1, 1, 0, 1, 1, 0, 1, 1, 0, 0, 1, 1, 0, 1, 1, 0, 0, 0, 1, 0, 1, 0, 1, 0, 1, 1, 0, 1, 0, 1, 1, 0, 1, 1, 1, 1, 1, 1, 0, 0, 0, 1, 0, 0, 1, 0, 1, 0, 1, 1, 0, 1, 0, 1, 1, 1, 0, 0, 1, 0, 0, 0, 1, 0, 0, 1, 1, 1, 1, 1, 1, 0, 0, 1, 0, 0, 0, 0, 0, 1, 0, 0, 0, 1, 1, 0, 1, 1, 1, 0, 0, 1, 1, 1, 1, 1, 1, 1, 0, 1, 0, 1, 1, 1, 0, 1, 1, 0, 1, 0, 0, 1, 1, 1, 1, 0, 1, 1, 1, 1, 0, 0, 0, 1, 1, 0, 0, 1, 1, 0, 0, 0, 0, 0, 1, 0, 0, 0, 0, 0, 0, 1, 0, 0, 0, 0, 0, 0, 1, 0, 1, 0, 0, 1, 1, 1, 0, 0, 1, 0, 1, 0, 0, 1, 0, 0, 1, 1, 1, 1, 1, 0, 1, 0, 0, 1, 0, 1, 0, 1, 1, 1, 0, 0, 0, 1, 1, 0, 0, 0, 1, 0, 1, 0, 0, 0, 1, 0, 1, 0, 0, 0, 1, 0, 0, 0, 0, 0, 0, 0, 0, 0, 1, 1, 0, 1, 0, 0, 1, 0, 1, 1, 0, 0, 1, 0, 1, 0, 0, 0, 0, 1, 0, 1, 0, 1, 0, 0, 1, 1, 0, 0, 0, 1, 0, 0, 0, 0, 0, 1, 0, 1, 1, 0, 1, 0, 0, 0, 0, 0, 1, 0, 1, 0, 0, 0, 0, 1, 0, 0, 0, 1, 1, 0, 0, 0, 0, 0, 0, 1, 1, 0, 0, 0, 0, 0, 0, 0, 0, 1, 0, 1, 0, 0, 0, 0, 0, 0, 0, 0, 0, 0, 0, 1, 0, 0, 0, 0, 1, 0, 0, 0, 0, 0, 0, 0, 0, 0, 0, 1, 0, 0, 0, 0, 0, 0, 0, 0, 1, 0, 0, 0, 0, 0, 0, 0, 0, 0, 1, 1, 0, 0, 0, 0, 0, 0, 0, 1, 0, 0, 0, 0, 0, 0, 0, 0, 0, 0, 0, 0, 1, 0, 0, 0, 1, 0, 1, 1, 0, 1, 0, 1, 0, 0, 0, 0, 1, 1, 1, 0, 0, 1, 0, 0, 0, 0, 0, 0, 0, 0, 0, 0, 0, 0, 1, 0, 0, 0, 1, 0, 1, 0, 0, 0, 0, 0, 0, 0, 0, 0, 0, 0, 0, 0, 0, 0, 0, 0, 0, 0, 0, 0, 0, 0, 0, 0, 0, 0, 0, 1, 0, 0, 0, 0, 0, 0, 0, 0, 0, 0, 0, 0, 0, 0, 0, 0, 0, 0, 0, 0, 0, 1, 0, 1, 0, 1, 0, 0, 0, 0, 0, 0, 0, 0, 0, 0, 0, 0, 0, 0, 0, 0, 0, 0, 0, 0, 0, 0, 0, 0, 0, 0, 0, 0, 0, 0, 0, 0, 0, 0, 0, 0, 0, 0, 0, 0, 1, 0, 0, 0, 1, 0, 0, 1, 0, 0, 1, 0, 1, 0, 0, 0, 0, 1, 1, 0, 0, 0, 0, 1, 0, 0, 0, 1, 0, 1, 1, 0, 0, 0, 1, 0, 0, 1, 1, 1, 0, 0, 0, 1, 1, 0, 0, 1, 1, 1, 1, 1, 0, 0, 1, 0, 1, 0, 0, 1, 0, 0, 1, 0, 1, 1, 1, 1, 1, 0, 0, 0, 1, 1, 0, 1, 1, 1, 1, 0, 1, 1, 1, 1, 0, 1, 0, 0, 1, 1, 1, 0, 0, 0, 1, 1, 0, 1, 1, 1, 0, 0, 0, 0, 0, 0, 1, 1, 1, 0, 1, 1, 0, 0, 1, 1, 0, 1, 1, 1, 1, 1, 1, 0, 1, 0, 1, 0, 1, 1, 1, 1, 1, 1, 0, 0, 1, 0, 0, 1, 1, 1, 0, 1, 1, 1, 0, 1, 1, 0, 1, 0, 0, 1, 0, 1, 1, 1, 1, 1, 0, 1, 1, 0, 1, 0, 1, 1, 1, 1, 1, 1, 0, 0, 1, 1, 0, 1, 1, 0, 0, 1, 1, 1, 0, 1, 1, 1, 1, 1, 1, 0, 1, 1, 0, 1, 0, 0, 0, 1, 0, 0, 1, 1, 0, 1, 1, 1, 1, 1, 0, 0, 0, 0, 1, 1, 0, 0, 0, 0, 0, 0, 0, 1, 1, 1, 0, 0, 1, 0, 0, 1, 0, 0, 1, 1, 0, 0, 0, 0, 1, 0, 1, 0, 0, 1, 0, 0, 0, 0, 0, 0, 1, 1, 1, 0, 0, 0, 1, 0, 1, 1, 1, 1, 1, 1, 0, 1, 1, 0, 0, 1, 0, 1, 1, 1, 0, 1, 0, 1, 1, 0, 0, 1, 0, 1, 0, 1, 0, 0, 0, 1, 0, 1, 1, 0, 1, 0, 0, 1, 0, 1, 1, 1, 1, 1, 0, 0, 1, 1, 0, 1, 0, 1, 0, 1, 1, 1, 1, 0, 0, 0, 1, 0, 1, 1, 1, 1, 1, 1, 0, 0, 0, 1, 0, 0, 0, 0, 0, 0, 1, 0, 0, 0, 1, 1, 1, 1, 1, 0, 0, 0, 1, 0, 0, 1, 1, 0, 1, 0, 0, 0, 0, 1, 0, 1, 0, 0, 0, 0, 1, 1, 0, 1, 0, 1, 1, 0, 1, 1, 1, 0, 0, 1, 0, 1, 0, 0, 1, 0, 1, 1, 0, 0, 0, 1, 1, 0, 0, 1, 1, 0, 1, 0, 1, 0, 0, 0, 1, 1, 0, 1, 0, 0, 0, 0, 0, 0, 1, 1, 1, 0, 1, 1, 0, 0, 1, 1, 0, 0, 0, 1, 1, 1, 0, 1, 1, 1, 1, 1, 1, 0, 1, 0, 0, 0, 1, 0, 0, 0, 0, 1, 0, 0, 0, 1, 0, 0, 1, 0, 0, 0, 0, 1, 1, 1, 0, 1, 1, 0, 0, 0, 0, 0, 1, 1, 0, 1, 1, 0, 1, 1, 1, 1, 0, 0, 0, 0, 0, 1, 1, 0, 0, 0, 0, 1, 0, 1, 0, 1, 0, 0, 1, 1, 0, 0, 1, 1, 1, 1, 0, 1, 1, 1, 0, 1, 0, 1, 1, 1, 1, 0, 0, 0, 1, 1, 1, 0, 0, 0, 0, 0, 0, 0, 0, 1, 0, 1, 0, 0, 1, 1, 0, 1, 0, 1, 1, 0, 0, 0, 0, 0, 0, 0, 1, 1, 0, 0, 1, 1, 0, 0, 1, 0, 0, 0, 1, 0, 0, 0, 0, 1, 0, 1, 1, 1, 0, 0, 1, 1, 0, 0, 1, 0, 0, 0, 0, 0, 0, 0, 0, 1, 0, 0, 0, 0, 0, 1, 0, 0, 0, 0, 0, 1, 0, 0, 1, 0, 0, 0, 1, 1, 0, 0, 1, 0, 0, 0, 0, 0, 1, 0, 0, 0, 0, 0, 0, 0, 0, 0, 0, 0, 0, 0, 1, 0, 0, 1, 1, 0, 0, 0, 1, 1, 0, 0, 0, 0, 0, 1, 0, 0, 0, 1, 0, 1, 0, 0, 0, 0, 0, 0, 0, 0, 0, 0, 0, 0, 1, 0, 0, 0, 0, 0, 0, 0, 0, 0, 0, 0, 1, 0, 0, 0, 1, 0, 0, 0, 0, 0, 0, 0, 1, 0, 0, 0, 1, 0, 0, 0, 1, 0, 0, 0, 1, 1, 0, 0, 0, 0, 0, 1, 0, 0, 0, 0, 0, 0, 0, 0, 1, 0, 0, 0, 1, 0, 0, 0, 1, 0, 0, 0, 0, 0, 0, 0, 0, 0, 0, 0, 0, 0, 0, 0, 0, 0, 0, 0, 0, 0, 0, 1, 0, 0, 0, 0, 0, 0, 0, 0, 0, 0, 0, 0, 0, 0, 0, 0, 0, 0, 0, 0, 0, 0, 0, 0, 0, 0, 0, 0, 0, 0, 0, 0, 0, 0, 0, 0, 0, 0, 0, 0, 0, 1, 0, 1, 0, 0, 1, 0, 0, 1, 0, 1, 0, 0, 0, 1, 0, 0, 1, 1, 1, 0, 1, 1, 0, 0, 1, 1, 1, 1, 0, 1, 1, 0, 1, 0, 1, 1, 0, 0, 1, 0, 0, 1, 0, 1, 1, 1, 0, 0, 0, 0, 0, 0, 0, 1, 0, 0, 0, 1, 1, 0, 0, 1, 1, 1, 1, 1, 0, 1, 1, 0, 1, 1, 1, 0, 0, 0, 0, 1, 1, 1, 0, 1, 0, 1, 1, 0, 1, 1, 0, 1, 1, 0, 1, 1, 0, 1, 1, 0, 0, 1, 1, 1, 1, 1, 1, 1, 1, 1, 0, 1, 0, 1, 1, 1, 0, 1, 0, 1, 0, 1, 1, 1, 0, 1, 0, 1, 1, 1, 1, 1, 0, 1, 1, 0, 1, 0, 0, 1, 1, 1, 1, 0, 0, 1, 1, 1, 1, 1, 1, 0, 1, 1, 1, 1, 1, 0, 1, 0, 1, 1, 0, 0, 1, 0, 0, 0, 1, 1, 1, 0, 0, 0, 1, 0, 1, 0, 1, 0, 0, 1, 1, 0, 1, 1, 0, 1, 0, 1, 1, 1, 0, 0, 1, 0, 1, 0, 1, 1, 1, 1, 1, 0, 0, 0, 1, 1, 1, 1, 1, 1, 0, 0, 1, 1, 0, 1, 1, 0, 1, 0, 1, 1, 1, 0, 1, 0, 1, 1, 0, 1, 1, 0, 1, 1, 1, 1, 0, 1, 1, 1, 1, 1, 0, 1, 1, 1, 0, 0, 0, 0, 0, 0, 1, 1, 0, 1, 0, 1, 1, 0, 0, 0, 1, 1, 1, 0, 1, 1, 0, 1, 0, 1, 0, 1, 1, 1, 1, 1, 1, 0, 1, 1, 1, 1, 1, 0, 1, 1, 0, 1, 1, 1, 1, 1, 1, 1, 1, 0, 1, 1, 0, 0, 1, 1, 0, 1, 1, 1, 0, 1, 1, 1, 1, 0, 0, 0, 0, 1, 1, 0, 1, 0, 0, 0, 1, 1, 0, 0, 0, 1, 1, 1, 1, 0, 1, 1, 0, 0, 1, 0, 0, 0, 0, 1, 1, 1, 1, 1, 0, 1, 0, 0, 0, 0, 1, 0, 0, 1, 0, 0, 1, 1, 0, 0, 1, 1, 0, 0, 0, 0, 0, 0, 1, 0, 1, 1, 0, 1, 1, 0, 0, 1, 0, 0, 0, 0, 0, 0, 0, 0, 0, 1, 0, 0, 1, 1, 0, 0, 0, 1, 0, 1, 1, 0, 1, 0, 0, 1, 0, 0, 0, 0, 0, 1, 1, 1, 0, 0, 0, 0, 1, 1, 1, 0, 1, 1, 1, 0, 0, 0, 1, 0, 0, 0, 0, 0, 0, 1, 1, 0, 0, 1, 1, 1, 0, 0, 0, 0, 1, 1, 1, 1, 1, 0, 0, 0, 0, 0, 0, 0, 0, 0, 1, 0, 0, 0, 1, 1, 1, 1, 0, 1, 0, 1, 0, 1, 1, 0, 1, 0, 0, 1, 0, 1, 0, 0, 0, 0, 0, 0, 0, 0, 0, 1, 0, 0, 0, 0, 0, 0, 0, 1, 0, 1, 0, 0, 1, 0, 0, 0, 0, 1, 0, 0, 0, 0, 1, 0, 0, 1, 0, 0, 0, 0, 1, 0, 0, 1, 0, 0, 0, 1, 0, 0, 0, 0, 0, 0, 1, 1, 0, 1, 0, 0, 1, 1, 1, 1, 1, 1, 0, 0, 0, 0, 0, 0, 0, 1, 0, 0, 0, 0, 0, 0, 0, 1, 0, 1, 0, 1, 0, 1, 0, 0, 0, 0, 0, 1, 0, 0, 0, 0, 0, 1, 0, 0, 0, 0, 0, 0, 0, 0, 0, 0, 1, 0, 0, 0, 0, 0, 0, 0, 0, 0, 0, 1, 0, 0, 0, 0, 0, 0, 0, 0, 1, 0, 0, 0, 0, 0, 0, 0, 0, 1, 0, 0, 0, 0, 0, 0, 0, 0, 0, 1, 0, 0, 0, 0, 0, 0, 0, 0, 0, 0, 0, 0, 0, 0, 0, 0, 1, 0, 0, 0, 0, 0, 0, 0, 1, 0, 0, 0, 0, 0, 1, 0, 0, 0, 0, 0, 0, 0, 0, 0, 0, 0, 0, 0, 0, 0, 0, 0, 0, 0, 0, 0, 0, 0, 0, 0, 0, 0, 0, 0, 0, 0, 0, 0, 0, 0, 0, 0, 0, 0, 0, 0, 0, 0, 0, 0, 0, 0, 1, 0, 0, 0, 1, 0, 0, 0, 0, 1, 0, 0, 0, 1, 0, 0, 0, 0, 0, 1, 0, 0, 1, 0, 1, 1, 0, 0, 0, 1, 1, 0, 1, 1, 0, 1, 0, 0, 0, 0, 0, 0, 1, 1, 1, 0, 0, 1, 1, 1, 0, 0, 1, 1, 0, 1, 0, 1, 1, 1, 1, 1, 0, 0, 1, 1, 1, 1, 0, 1, 0, 1, 0, 1, 0, 1, 1, 0, 1, 1, 0, 1, 1, 0, 1, 0, 1, 0, 1, 0, 1, 1, 0, 1, 1, 0, 1, 1, 1, 1, 1, 1, 0, 1, 1, 0, 1, 0, 0, 0, 0, 1, 1, 1, 1, 0, 1, 1, 1, 0, 0, 0, 1, 1, 0, 1, 1, 0, 0, 1, 1, 0, 1, 1, 1, 1, 1, 0, 0, 0, 1, 0, 0, 0, 1, 1, 0, 1, 1, 1, 1, 1, 0, 1, 1, 0, 0, 0, 0, 0, 1, 0, 1, 1, 0, 1, 1, 1, 0, 0, 0, 1, 1, 1, 1, 0, 1, 1, 1, 1, 1, 1, 1, 0, 0, 1, 1, 1, 1, 1, 0, 0, 0, 1, 1, 1, 1, 1, 1, 1, 0, 0, 1, 1, 0, 1, 1, 1, 1, 0, 1, 1, 1, 1, 1, 0, 0, 1, 1, 0, 1, 1, 1, 1, 0, 1, 1, 1, 1, 1, 1, 1, 1, 0, 1, 1, 0, 0, 0, 1, 0, 1, 0, 1, 1, 0, 1, 1, 0, 0, 0, 0, 1, 0, 1, 1, 1, 1, 1, 1, 1, 1, 1, 1, 1, 1, 1, 0, 1, 0, 1, 0, 0, 1, 0, 1, 1, 0, 0, 0, 1, 0, 0, 1, 0, 1, 1, 0, 0, 1, 1, 0, 1, 1, 0, 0, 0, 1, 0, 0, 1, 1, 1, 0, 1, 1, 1, 0, 1, 1, 0, 1, 1, 0, 1, 0, 1, 0, 0, 1, 1, 0, 1, 0, 1, 1, 1, 0, 0, 0, 1, 1, 0, 1, 0, 0, 1, 1, 1, 1, 1, 1, 0, 0, 1, 0, 0, 0, 0, 0, 1, 1, 0, 1, 1, 0, 0, 0, 0, 1, 0, 0, 0, 1, 1, 0, 0, 1, 1, 1, 1, 1, 0, 1, 0, 0, 0, 1, 1, 0, 0, 0, 0, 0, 0, 0, 1, 1, 1, 0, 1, 1, 1, 0, 1, 0, 0, 1, 1, 0, 0, 0, 0, 0, 1, 1, 0, 0, 0, 0, 1, 1, 1, 0, 1, 0, 0, 0, 1, 1, 0, 0, 0, 0, 1, 1, 0, 1, 1, 0, 1, 0, 0, 0, 1, 0, 0, 0, 0, 0, 1, 0, 0, 0, 0, 1, 0, 1, 0, 0, 0, 1, 0, 0, 0, 0, 0, 1, 0, 1, 0, 1, 0, 0, 0, 0, 0, 0, 1, 0, 1, 1, 1, 0, 0, 0, 0, 0, 1, 0, 0, 1, 1, 1, 1, 1, 1, 0, 0, 1, 0, 0, 0, 0, 0, 0, 0, 1, 1, 0, 1, 0, 0, 0, 0, 0, 0, 0, 1, 1, 0, 0, 0, 0, 1, 0, 0, 1, 1, 0, 0, 1, 0, 0, 1, 1, 1, 0, 0, 1, 0, 0, 0, 1, 0, 0, 0, 1, 1, 1, 0, 0, 0, 0, 1, 0, 0, 0, 0, 1, 0, 0, 0, 0, 0, 0, 1, 0, 0, 1, 0, 0, 0, 1, 0, 0, 0, 0, 0, 0, 0, 1, 0, 0, 0, 0, 0, 0, 0, 0, 0, 0, 0, 0, 0, 0, 0, 1, 0, 0, 0, 1, 0, 0, 0, 0, 0, 0, 0, 0, 0, 0, 0, 0, 0, 0, 0, 0, 0, 0, 0, 0, 0, 0, 0, 0, 0, 0, 1, 0, 0, 0, 0, 0, 0, 0, 0, 0, 0, 0, 0, 0, 0, 0, 0, 0, 0, 0, 0, 0, 0, 0, 0, 0, 0, 0, 0, 0, 0, 0, 0, 0, 0, 0, 0, 0, 0, 0, 0, 0, 0, 0, 0, 0, 0, 0, 0, 0, 0, 0, 0, 1, 0, 1, 1, 0, 0, 1, 1, 0, 0, 0, 0, 0, 1, 0, 0, 0, 1, 0, 1, 0, 1, 1, 0, 0, 0, 0, 0, 1, 0, 0, 0, 1, 1, 0, 0, 0, 0, 1, 1, 0, 1, 1, 0, 0, 0, 0, 1, 0, 1, 0, 0, 0, 1, 0, 0, 0, 0, 0, 0, 0, 1, 1, 0, 0, 1, 1, 0, 0, 0, 1, 1, 0, 0, 1, 0, 0, 0, 0, 0, 1, 1, 1, 0, 0, 0, 1, 1, 1, 0, 1, 0, 1, 0, 0, 0, 1, 1, 1, 1, 1, 1, 1, 0, 1, 0, 1, 1, 0, 0, 1, 1, 0, 0, 1, 1, 1, 1, 0, 0, 1, 0, 0, 1, 0, 1, 0, 1, 1, 1, 1, 0, 1, 0, 1, 1, 0, 1, 0, 1, 1, 1, 1, 0, 1, 1, 1, 1, 0, 1, 0, 1, 1, 1, 1, 1, 1, 1, 1, 1, 1, 1, 1, 1, 1, 1, 1, 0, 0, 1, 0, 0, 1, 1, 1, 1, 1, 1, 1, 1, 0, 0, 1, 0, 1, 1, 1, 1, 1, 1, 1, 1, 1, 1, 0, 0, 1, 1, 0, 1, 1, 1, 1, 1, 1, 1, 1, 1, 1, 1, 1, 1, 0, 1, 1, 1, 0, 0, 1, 1, 0, 0, 1, 1, 1, 1, 1, 1, 0, 0, 1, 0, 1, 0, 1, 0, 1, 0, 1, 0, 0, 1, 1, 0, 1, 1, 1, 1, 1, 1, 0, 1, 0, 1, 1, 0, 1, 1, 1, 1, 1, 1, 1, 1, 1, 0, 1, 1, 0, 0, 1, 0, 0, 0, 1, 1, 0, 0, 1, 1, 1, 1, 1, 1, 1, 1, 1, 1, 1, 1, 1, 1, 1, 1, 1, 0, 0, 0, 0, 1, 1, 1, 1, 1, 1, 0, 0, 1, 0, 1, 1, 0, 0, 1, 0, 1, 0, 1, 1, 0, 1, 0, 1, 0, 1, 1, 0, 1, 1, 1, 1, 1, 1, 1, 1, 0, 1, 1, 1, 1, 1, 1, 1, 1, 1, 1, 1, 1, 1, 0, 1, 1, 0, 0, 1, 0, 1, 1, 1, 1, 0, 1, 1, 1, 1, 1, 1, 0, 0, 1, 1, 0, 1, 0, 1, 1, 1, 1, 1, 1, 0, 1, 1, 1, 1, 0, 1, 0, 1, 1, 1, 1, 1, 0, 0, 0, 1, 1, 1, 1, 0, 0, 1, 0, 0, 1, 1, 1, 0, 1, 0, 1, 0, 1, 1, 1, 1, 0, 0, 1, 1, 0, 1, 0, 1, 1, 1, 0, 0, 1, 0, 0, 1, 1, 0, 1, 0, 0, 1, 0, 1, 1, 0, 1, 1, 0, 0, 1, 0, 1, 1, 1, 0, 1, 0, 1, 0, 1, 1, 1, 1, 1, 1, 1, 1, 0, 1, 1, 1, 1, 0, 1, 0, 1, 0, 0, 1, 0, 0, 0, 0, 1, 0, 1, 1, 1, 0, 0, 1, 1, 1, 1, 0, 1, 1, 0, 0, 0, 0, 0, 0, 0, 0, 0, 0, 1, 0, 0, 0, 1, 0, 0, 1, 0, 1, 1, 1, 1, 1, 0, 0, 1, 1, 0, 0, 1, 0, 0, 1, 0, 1, 0, 0, 1, 0, 1, 1, 0, 0, 1, 1, 1, 0, 1, 1, 1, 1, 1, 1, 1, 1, 1, 0, 0, 1, 1, 1, 1, 0, 0, 0, 0, 1, 0, 0, 0, 1, 0, 1, 1, 1, 1, 0, 0, 1, 1, 0, 0, 0, 0, 0, 0, 0, 0, 1, 1, 1, 0, 0, 1, 1, 1, 0, 0, 0, 1, 0, 0, 1, 0, 0, 1, 0, 0, 0, 0, 0, 0, 1, 1, 0, 0, 1, 0, 1, 1, 0, 1, 0, 1, 1, 0, 0, 1, 0, 1, 1, 0, 1, 0, 1, 1, 1, 0, 1, 0, 1, 0, 0, 0, 1, 0, 0, 0, 0, 1, 1, 0, 1, 1, 1, 1, 1, 0, 0, 0, 0, 0, 0, 0, 0, 1, 0, 0, 0, 1, 1, 1, 0, 0, 1, 0, 0, 0, 0, 1, 0, 0, 0, 0, 1, 0, 0, 1, 1, 0, 0, 0, 1, 0, 1, 0, 0, 1, 1, 1, 0, 0, 0, 0, 0, 0, 0, 0, 0, 0, 0, 0, 1, 0, 0, 1, 0, 1, 0, 0, 0, 0, 0, 0, 0, 0, 0, 1, 1, 0, 0, 0, 0, 1, 0, 0, 0, 0, 0, 1, 0, 0, 0, 0, 0, 1, 0, 0, 0, 1, 0, 0, 0, 0, 0, 0, 0, 0, 0, 0, 0, 0, 0, 1, 0, 0, 1, 0, 0, 0, 0, 0, 1, 0, 0, 0, 0, 0, 0, 0, 0, 0, 0, 0, 0, 1, 0, 0, 0, 1, 0, 0, 0, 0, 0, 0, 0, 0, 0, 0, 0, 0, 0, 0, 0, 0, 0, 0, 0, 0, 0, 0, 0, 0, 0, 0, 0, 0, 0, 0, 0, 0, 0, 0, 0, 0, 0, 0, 0, 0, 0, 0, 0, 0, 0, 0, 0, 0, 0, 0, 0, 0, 0, 0, 0, 0, 0, 0, 0, 0, 0, 0, 0, 0, 0, 0, 0, 0, 0, 0, 0, 0, 0, 0, 0, 0, 0, 0, 0, 0, 0, 1, 0, 0, 0, 0, 0, 1, 0, 0, 0, 1, 0, 0, 0, 0, 1, 1, 0, 1, 0, 1, 0, 0, 0, 0, 1, 1, 0, 1, 0, 0, 0, 1, 1, 1, 0, 1, 0, 1, 1, 1, 0, 1, 1, 1, 0, 1, 1, 0, 0, 1, 0, 1, 0, 1, 1, 1, 0, 1, 0, 0, 1, 0, 1, 1, 1, 1, 1, 0, 0, 1, 1, 0, 1, 1, 1, 1, 0, 1, 0, 0, 0, 1, 0, 0, 0, 0, 0, 0, 1, 1, 1, 0, 1, 1, 1, 0, 1, 1, 1, 1, 0, 1, 1, 1, 0, 1, 0, 1, 1, 1, 0, 1, 0, 0, 0, 1, 1, 1, 1, 1, 0, 0, 0, 0, 1, 1, 1, 0, 1, 0, 0, 1, 1, 1, 1, 1, 0, 1, 1, 0, 1, 1, 1, 1, 1, 0, 1, 1, 0, 1, 0, 1, 1, 1, 0, 0, 1, 1, 1, 1, 0, 0, 1, 1, 1, 1, 0, 1, 1, 1, 1, 1, 1, 1, 1, 1, 1, 1, 1, 1, 1, 1, 1, 1, 1, 0, 0, 1, 1, 1, 1, 0, 1, 0, 1, 0, 1, 1, 1, 1, 1, 1, 1, 1, 1, 1, 1, 0, 1, 1, 1, 0, 1, 0, 1, 0, 1, 0, 1, 1, 0, 0, 0, 1, 0, 1, 0, 0, 1, 1, 1, 0, 0, 1, 0, 1, 0, 0, 0, 1, 1, 1, 1, 0, 0, 0, 1, 0, 1, 1, 1, 0, 1, 1, 0, 0, 0, 1, 1, 0, 1, 1, 1, 1, 1, 0, 1, 1, 1, 1, 0, 1, 1, 0, 0, 0, 1, 1, 1, 1, 0, 0, 1, 1, 0, 0, 0, 1, 0, 1, 1, 1, 0, 1, 0, 1, 0, 0, 1, 1, 1, 0, 1, 0, 1, 1, 1, 0, 1, 0, 1, 1, 1, 0, 0, 1, 0, 1, 1, 0, 1, 0, 0, 1, 0, 1, 1, 0, 1, 0, 0, 1, 0, 0, 0, 1, 1, 1, 1, 1, 1, 1, 1, 0, 0, 0, 0, 1, 1, 1, 0, 1, 0, 0, 1, 1, 1, 0, 1, 0, 0, 1, 0, 0, 0, 0, 0, 1, 1, 1, 1, 1, 1, 0, 0, 1, 1, 0, 1, 0, 1, 0, 0, 1, 0, 1, 0, 1, 1, 1, 1, 0, 1, 0, 0, 0, 1, 0, 1, 0, 1, 1, 1, 1, 1, 1, 0, 1, 1, 1, 0, 1, 1, 0, 1, 0, 1, 0, 0, 1, 0, 1, 0, 1, 1, 1, 0, 0, 0, 0, 1, 1, 0, 0, 0, 0, 0, 0, 0, 1, 1, 0, 0, 0, 1, 0, 0, 1, 1, 0, 0, 1, 0, 0, 1, 0, 1, 0, 0, 0, 0, 1, 1, 1, 1, 0, 1, 0, 1, 0, 0, 0, 1, 0, 0, 0, 0, 1, 1, 1, 1, 0, 0, 1, 0, 0, 0, 1, 1, 1, 1, 1, 0, 0, 1, 1, 0, 1, 1, 0, 1, 1, 1, 0, 1, 0, 0, 0, 0, 0, 0, 0, 0, 0, 0, 0, 1, 0, 0, 0, 0, 1, 0, 1, 0, 1, 0, 0, 0, 0, 0, 1, 0, 0, 0, 1, 0, 0, 1, 0, 0, 0, 1, 0, 0, 0, 0, 1, 0, 0, 0, 0, 0, 0, 1, 0, 0, 0, 1, 0, 0, 0, 0, 0, 1, 1, 1, 0, 0, 0, 1, 0, 1, 0, 0, 0, 0, 0, 0, 0, 0, 0, 1, 0, 0, 1, 0, 0, 0, 0, 0, 1, 0, 0, 0, 0, 1, 1, 0, 0, 0, 0, 0, 0, 0, 0, 0, 0, 0, 1, 0, 0, 0, 0, 0, 0, 0, 0, 1, 0, 0, 0, 0, 0, 0, 0, 0, 0, 0, 0, 0, 0, 0, 0, 0, 0, 0, 0, 0, 0, 1, 0, 1, 0, 1, 0, 1, 0, 0, 0, 0, 0, 0, 0, 0, 0, 0, 0, 0, 1, 0, 0, 0, 1, 1, 0, 0, 1, 0, 0, 0, 0, 0, 0, 0, 0, 1, 0, 0, 0, 1, 0, 1, 0, 0, 0, 0, 0, 1, 0, 0, 0, 0, 0, 0, 0, 0, 0, 0, 1, 0, 0, 1, 0, 0, 0, 0, 1, 0, 0, 0, 0, 0, 0, 0, 0, 0, 0, 0, 0, 0, 0, 0, 0, 0, 0, 0, 0, 0, 0, 0, 0, 0, 0, 0, 0, 0, 0, 0, 0, 0, 1, 0, 0, 1, 0, 0, 0, 1, 1, 0, 0, 0, 0, 0, 0, 0, 0, 0, 1, 0, 0, 1, 0, 1, 0, 1, 1, 0, 0, 0, 0, 0, 1, 0, 1, 0, 0, 1, 0, 0, 1, 1, 1, 1, 1, 0, 1, 0, 1, 1, 1, 1, 1, 0, 0, 0, 1, 1, 0, 1, 1, 0, 0, 1, 1, 1, 1, 1, 0, 0, 1, 1, 1, 0, 1, 1, 1, 0, 1, 1, 0, 1, 0, 0, 1, 0, 1, 1, 1, 1, 0, 1, 1, 0, 1, 1, 1, 1, 0, 0, 0, 1, 1, 1, 1, 1, 1, 0, 0, 1, 1, 1, 1, 1, 0, 1, 0, 0, 0, 0, 1, 1, 1, 0, 1, 1, 1, 1, 0, 0, 1, 1, 0, 1, 1, 1, 1, 1, 1, 0, 1, 1, 1, 1, 0, 1, 1, 1, 1, 0, 0, 0, 0, 1, 1, 1, 1, 1, 1, 0, 1, 1, 1, 0, 0, 0, 1, 0, 0, 1, 1, 0, 1, 1, 0, 1, 1, 1, 0, 1, 1, 1, 0, 1, 0, 1, 0, 1, 0, 1, 0, 1, 1, 1, 1, 0, 1, 1, 1, 1, 0, 1, 0, 1, 1, 0, 0, 1, 0, 1, 1, 1, 0, 0, 1, 1, 1, 0, 1, 0, 1, 0, 1, 0, 1, 0, 1, 0, 1, 0, 1, 1, 1, 1, 1, 1, 0, 1, 1, 1, 0, 0, 1, 1, 1, 1, 1, 0, 0, 0, 1, 1, 0, 1, 0, 1, 1, 1, 0, 1, 1, 0, 0, 0, 1, 1, 0, 1, 1, 0, 0, 0, 1, 1, 1, 0, 1, 0, 0, 1, 1, 1, 0, 1, 1, 0, 1, 0, 1, 1, 1, 1, 1, 1, 1, 0, 1, 0, 1, 0, 0, 1, 1, 0, 1, 0, 0, 0, 1, 0, 0, 0, 1, 1, 1, 1, 0, 1, 0, 0, 1, 1, 0, 1, 0, 0, 0, 1, 1, 0, 0, 0, 1, 0, 1, 0, 1, 1, 0, 1, 1, 1, 1, 1, 0, 0, 0, 1, 0, 1, 0, 1, 1, 1, 0, 0, 0, 1, 1, 1, 0, 1, 0, 1, 1, 1, 0, 0, 1, 1, 0, 0, 1, 1, 1, 0, 1, 0, 0, 1, 0, 1, 0, 1, 1, 1, 1, 0, 1, 1, 1, 1, 1, 0, 0, 0, 0, 0, 1, 1, 1, 1, 0, 0, 1, 1, 0, 1, 0, 1, 0, 0, 1, 0, 1, 0, 0, 1, 1, 1, 0, 0, 0, 1, 0, 1, 1, 1, 0, 1, 0, 1, 1, 0, 1, 0, 1, 1, 0, 1, 1, 1, 0, 1, 1, 1, 0, 1, 0, 1, 1, 1, 0, 0, 1, 0, 0, 0, 0, 1, 0, 0, 0, 1, 1, 0, 0, 0, 1, 1, 0, 1, 0, 0, 0, 1, 0, 0, 1, 1, 1, 0, 1, 1, 1, 1, 0, 0, 1, 0, 1, 1, 1, 0, 0, 1, 0, 0, 0, 1, 0, 0, 0, 0, 1, 0, 1, 1, 0, 0, 1, 0, 0, 0, 0, 1, 0, 0, 0, 0, 0, 0, 0, 0, 0, 1, 0, 1, 0, 0, 1, 0, 0, 0, 0, 1, 1, 1, 1, 1, 0, 1, 1, 1, 0, 0, 0, 0, 0, 0, 0, 1, 1, 0, 0, 1, 0, 1, 0, 1, 1, 1, 1, 0, 1, 0, 0, 0, 0, 0, 1, 0, 0, 1, 0, 0, 0, 0, 1, 0, 0, 1, 0, 0, 0, 0, 1, 0, 1, 1, 1, 1, 1, 0, 0, 0, 0, 0, 1, 0, 0, 0, 0, 0, 0, 0, 1, 0, 0, 0, 1, 1, 0, 1, 1, 0, 0, 1, 1, 0, 1, 0, 0, 0, 0, 0, 1, 1, 0, 1, 1, 0, 1, 1, 0, 0, 0, 0, 0, 1, 0, 1, 1, 1, 0, 1, 1, 0, 0, 0, 1, 0, 0, 1, 0, 0, 0, 0, 1, 0, 0, 0, 0, 1, 0, 0, 1, 0, 0, 1, 1, 0, 0, 0, 1, 1, 0, 0, 0, 0, 1, 1, 0, 0, 0, 1, 1, 0, 0, 0, 0, 1, 1, 0, 0, 1, 0, 1, 0, 0, 0, 0, 0, 0, 0, 0, 0, 0, 1, 0, 0, 0, 0, 0, 0, 0, 0, 0, 0, 0, 0, 1, 1, 0, 1, 1, 0, 0, 0, 0, 0, 0, 0, 0, 0, 0, 0, 1, 1, 0, 0, 0, 1, 0, 0, 1, 0, 0, 0, 0, 0, 1, 0, 1, 0, 0, 0, 0, 0, 0, 0, 0, 0, 0, 0, 1, 0, 0, 0, 0, 0, 0, 0, 1, 0, 0, 0, 0, 0, 0, 0, 0, 0, 0, 0, 1, 0, 0, 0, 1, 1, 1, 0, 0, 0, 0, 1, 0, 0, 0, 0, 0, 0, 0, 0, 0, 0, 0, 0, 0, 0, 0, 0, 0, 0, 0, 0, 0, 0, 0, 0, 0, 0, 0, 0, 0, 0, 0, 0], 'number_of_track_splits_merged_all_valid_ada_tracks': 13, 'number_of_track_splits_merged_all_valid_ada_shock_tracks': 10, 'number_of_track_splits_merged_all_valid_ada_drug_tracks': 30, 'number_of_track_splits_arpc3_wildtype_no-treatment_separate_arpc3_tracking': 13, 'number_of_track_splits_arpc3_hypotonic_separate_arpc3_tracking': 10, 'number_of_track_splits_arpc3_drugs_separate_arpc3_tracking': 30, 'number_of_track_splits_arpc3_hypotonic_before_separate_arpc3_tracking': 5, 'number_of_track_splits_merged_all_valid_ada_before_shock_tracks': 5, 'number_of_track_splits_merged_all_valid_ada_after_shock_tracks': 5, 'number_of_track_splits_merged_all_valid_ada_shock_before_repeat_2tracks': 5, 'number_of_track_splits_merged_all_valid_ada_shock_after_repeat_2tracks': 5, 'number_of_track_splits_arpc3_drugs_no-treatment_separate_arpc3_tracking': 12, 'number_of_track_splits_arpc3_drugs_dmso_separate_arpc3_tracking': 9, 'number_of_track_splits_arpc3_drugs_ck666_separate_arpc3_tracking': 9, 'number_of_track_splits_arpc3_hypotonic_second_repeat_before_separate_arpc3_tracking': 5, 'number_of_track_splits_arpc3_hypotonic_second_repeat_after_separate_arpc3_tracking': 5, 'number_of_track_splits_merged_all_valid_ada_drug_nt_tracks': 12, 'number_of_track_splits_merged_all_valid_ada_drug_dmso_tracks': 9, 'number_of_track_splits_merged_all_valid_ada_drug_ck666_tracks': 9, 'number_of_track_splits_merged_all_valid_ada_shock_before_both_dates_tracks': 10, 'number_of_track_splits_merged_all_valid_ada_shock_after_both_dates_tracks': 10, 'number_of_track_splits_arpc3_hypotonic_merged_before_separate_arpc3_tracking': 10, 'number_of_track_splits_arpc3_hypotonic_merged_after_separate_arpc3_tracking': 10},\n",
       "      dtype=object)"
      ]
     },
     "execution_count": 2,
     "metadata": {},
     "output_type": "execute_result"
    }
   ],
   "source": [
    "analysis_metadata"
   ]
  },
  {
   "cell_type": "markdown",
   "metadata": {},
   "source": [
    "# load dataframe from notebook 3 containing normal-pdf scaled features: PC's and GMM predicted clusters, and dataframe with cmeAnalysis labels"
   ]
  },
  {
   "cell_type": "code",
   "execution_count": 3,
   "metadata": {},
   "outputs": [],
   "source": [
    "# df_pcs_normal_scaled_with_gmm_cluster = pd.read_csv(unique_user_saved_outputs+'/dataframes/df_new_incorporated_data_pcs_gmm_clusters.zip')\n",
    "# df_merged_features = pd.read_csv(unique_user_saved_outputs+'/dataframes/df_new_incorporated_data_merged_features.zip')\n",
    "# index_dnm2positive = np.load(unique_user_saved_outputs+'/dataframes/cluster_dnm2_positive.npy')\n",
    "# number_of_track_splits = np.load(unique_user_saved_outputs+'/dataframes/number_of_track_splits.npy')\n",
    "# number_of_clusters = np.load(unique_user_saved_outputs+\"/dataframes/number_of_clusters.npy\")\n",
    "# ccp_predictions = np.load(unique_user_saved_outputs+'/dataframes/merged_ccp_predictions.npy')"
   ]
  },
  {
   "cell_type": "code",
   "execution_count": 4,
   "metadata": {},
   "outputs": [],
   "source": [
    "# best_fit_peak_params = np.load(unique_user_saved_outputs+'/dataframes/parameters_best_fit_peak_finding.npy')\n",
    "# sos = signal.butter(4, 0.2, 'lp', fs=1, output='sos')"
   ]
  },
  {
   "cell_type": "code",
   "execution_count": 5,
   "metadata": {},
   "outputs": [],
   "source": [
    "# df_merged_features"
   ]
  },
  {
   "cell_type": "markdown",
   "metadata": {},
   "source": [
    "# load all valid arpc3 tracks"
   ]
  },
  {
   "cell_type": "code",
   "execution_count": 6,
   "metadata": {},
   "outputs": [
    {
     "data": {
      "text/plain": [
       "'/Volumes/GoogleDrive/My Drive/Drubin Lab/ap2dynm2arcp3_project/stable_outputs_simplified_new'"
      ]
     },
     "execution_count": 6,
     "metadata": {},
     "output_type": "execute_result"
    }
   ],
   "source": [
    "unique_user_saved_outputs"
   ]
  },
  {
   "cell_type": "code",
   "execution_count": 48,
   "metadata": {},
   "outputs": [
    {
     "name": "stdout",
     "output_type": "stream",
     "text": [
      "13557\n",
      "1\n",
      "12428\n",
      "2\n",
      "14836\n",
      "3\n",
      "13362\n",
      "4\n",
      "14716\n",
      "5\n",
      "15038\n",
      "6\n",
      "16510\n",
      "7\n",
      "14837\n",
      "8\n",
      "13944\n",
      "9\n",
      "13399\n"
     ]
    }
   ],
   "source": [
    "valid_tracks_arpc3 = [np.load(unique_user_saved_outputs+'/dataframes/arpc3_hypotonic_merged_before_separate_arpc3_tracking_0.npy', allow_pickle=True)]\n",
    "print(len(np.load(unique_user_saved_outputs+'/dataframes/arpc3_hypotonic_merged_before_separate_arpc3_tracking_0.npy', allow_pickle=True)))\n",
    "num_arpc3_tracks = 10\n",
    "for i in range(1, num_arpc3_tracks):\n",
    "    print(i)\n",
    "    valid_tracks_arpc3 += [np.load(unique_user_saved_outputs+'/dataframes/arpc3_hypotonic_merged_before_separate_arpc3_tracking_'+str(i)+'.npy', allow_pickle=True)]\n",
    "    print(len(np.load(unique_user_saved_outputs+'/dataframes/arpc3_hypotonic_merged_before_separate_arpc3_tracking_'+str(i)+'.npy', allow_pickle=True)))\n",
    "    \n",
    "    "
   ]
  },
  {
   "cell_type": "code",
   "execution_count": 51,
   "metadata": {},
   "outputs": [
    {
     "data": {
      "text/plain": [
       "13557"
      ]
     },
     "execution_count": 51,
     "metadata": {},
     "output_type": "execute_result"
    }
   ],
   "source": [
    "len(valid_tracks_arpc3[0])"
   ]
  },
  {
   "cell_type": "code",
   "execution_count": 52,
   "metadata": {},
   "outputs": [],
   "source": [
    "merged_valid_tracks_arpc3 = merge_tools.merge_experiments(valid_tracks_arpc3,[list(range(len(track_set))) for track_set in valid_tracks_arpc3])"
   ]
  },
  {
   "cell_type": "markdown",
   "metadata": {},
   "source": [
    "# load all valid tracks ap2/dnm2 tracks from arpc3 line"
   ]
  },
  {
   "cell_type": "code",
   "execution_count": 53,
   "metadata": {},
   "outputs": [
    {
     "name": "stdout",
     "output_type": "stream",
     "text": [
      "1\n",
      "2\n",
      "3\n",
      "4\n",
      "5\n",
      "6\n",
      "7\n",
      "8\n",
      "9\n"
     ]
    }
   ],
   "source": [
    "merged_all_valid_tracks = np.load(unique_user_saved_outputs+'/dataframes/merged_all_valid_ada_shock_before_both_dates_tracks_0.npy', allow_pickle=True)\n",
    "\n",
    "for i in range(1,10):\n",
    "    print(i)\n",
    "    merged_all_valid_tracks = np.concatenate((merged_all_valid_tracks,\n",
    "                                              np.load(unique_user_saved_outputs+'/dataframes/merged_all_valid_ada_shock_before_both_dates_tracks_'+str(i)+'.npy', allow_pickle=True)))\n",
    "    "
   ]
  },
  {
   "cell_type": "code",
   "execution_count": 11,
   "metadata": {},
   "outputs": [
    {
     "data": {
      "text/plain": [
       "(74292,)"
      ]
     },
     "execution_count": 11,
     "metadata": {},
     "output_type": "execute_result"
    }
   ],
   "source": [
    "merged_all_valid_tracks.shape"
   ]
  },
  {
   "cell_type": "markdown",
   "metadata": {},
   "source": [
    "# sort DNM2+ events"
   ]
  },
  {
   "cell_type": "code",
   "execution_count": 12,
   "metadata": {},
   "outputs": [],
   "source": [
    "number_of_clusters = analysis_metadata.item().get('number_of_clusters')\n",
    "\n",
    "num_gmm_clusters = number_of_clusters # optimal number of clusters of PCA data\n",
    "\n",
    "\n",
    "gmm_classes = []\n",
    "\n",
    "df = pd.read_csv(unique_user_saved_outputs+'/dataframes/df_ada_shock_before_both_dates_merged_features.zip')\n",
    "\n",
    "for i in range(num_gmm_clusters):\n",
    "\n",
    "    gmm_classes.append(df[df['gmm_predictions']==i].index.values)    "
   ]
  },
  {
   "cell_type": "code",
   "execution_count": 13,
   "metadata": {},
   "outputs": [
    {
     "data": {
      "text/plain": [
       "0        22.0\n",
       "1        22.0\n",
       "2        22.0\n",
       "3        22.0\n",
       "4        22.0\n",
       "         ... \n",
       "74287    70.0\n",
       "74288    70.0\n",
       "74289    70.0\n",
       "74290    70.0\n",
       "74291    70.0\n",
       "Name: experiment_number, Length: 74292, dtype: float64"
      ]
     },
     "execution_count": 13,
     "metadata": {},
     "output_type": "execute_result"
    }
   ],
   "source": [
    "df['experiment_number']"
   ]
  },
  {
   "cell_type": "code",
   "execution_count": 14,
   "metadata": {},
   "outputs": [],
   "source": [
    "index_dnm2positive = analysis_metadata.item().get('index_DNM2positive')"
   ]
  },
  {
   "cell_type": "code",
   "execution_count": 15,
   "metadata": {},
   "outputs": [
    {
     "data": {
      "text/plain": [
       "5593"
      ]
     },
     "execution_count": 15,
     "metadata": {},
     "output_type": "execute_result"
    }
   ],
   "source": [
    "len(gmm_classes[index_dnm2positive])"
   ]
  },
  {
   "cell_type": "code",
   "execution_count": 16,
   "metadata": {},
   "outputs": [],
   "source": [
    "tracks_authentic_ccps_gmm = merged_all_valid_tracks[gmm_classes[index_dnm2positive]] #dnm2 positive events, mixed CCPS and hot-spots"
   ]
  },
  {
   "cell_type": "code",
   "execution_count": 17,
   "metadata": {},
   "outputs": [
    {
     "data": {
      "text/plain": [
       "5593"
      ]
     },
     "execution_count": 17,
     "metadata": {},
     "output_type": "execute_result"
    }
   ],
   "source": [
    "len(tracks_authentic_ccps_gmm)"
   ]
  },
  {
   "cell_type": "markdown",
   "metadata": {},
   "source": [
    "# separate single-CCP events by experiment"
   ]
  },
  {
   "cell_type": "code",
   "execution_count": 18,
   "metadata": {},
   "outputs": [
    {
     "data": {
      "text/plain": [
       "1978"
      ]
     },
     "execution_count": 18,
     "metadata": {},
     "output_type": "execute_result"
    }
   ],
   "source": [
    "len(np.where(df['ccp_status']==1)[0])"
   ]
  },
  {
   "cell_type": "code",
   "execution_count": 30,
   "metadata": {},
   "outputs": [],
   "source": [
    "experiment_numbers = list(range(22, 31, 2)) + list(range(62, 71, 2))"
   ]
  },
  {
   "cell_type": "code",
   "execution_count": 31,
   "metadata": {},
   "outputs": [
    {
     "data": {
      "text/plain": [
       "[22, 24, 26, 28, 30, 62, 64, 66, 68, 70]"
      ]
     },
     "execution_count": 31,
     "metadata": {},
     "output_type": "execute_result"
    }
   ],
   "source": [
    "experiment_numbers"
   ]
  },
  {
   "cell_type": "code",
   "execution_count": 36,
   "metadata": {},
   "outputs": [
    {
     "name": "stdout",
     "output_type": "stream",
     "text": [
      "22\n",
      "24\n",
      "26\n",
      "28\n",
      "30\n",
      "62\n",
      "64\n",
      "66\n",
      "68\n",
      "70\n"
     ]
    }
   ],
   "source": [
    "merged_all_valid_tracks_per_experiment = [] # each entry is a list for each experiment of tracks corresponding to predicted ccps \n",
    "\n",
    "ccp_events_per_experiment = []\n",
    "\n",
    "for experiment_number in experiment_numbers: # only look at 3-color movies\n",
    "    print(experiment_number)\n",
    "    tracks_exp_idx = df[df['experiment_number']==experiment_number].index.values\n",
    "    tracks_exp = merged_all_valid_tracks[tracks_exp_idx]\n",
    "    \n",
    "    ccp_preds_exp = df['ccp_status'].values[tracks_exp_idx]\n",
    "    idx_ccp_exp = np.where(ccp_preds_exp==1)[0]\n",
    "    \n",
    "    ccp_events_per_experiment.append(tracks_exp[idx_ccp_exp])"
   ]
  },
  {
   "cell_type": "markdown",
   "metadata": {},
   "source": [
    "<!-- # measure ap2 initiation to dnm2 peak lifetime, comparing 2 cell lines -->"
   ]
  },
  {
   "cell_type": "markdown",
   "metadata": {},
   "source": [
    "# merge all CCPs"
   ]
  },
  {
   "cell_type": "code",
   "execution_count": 37,
   "metadata": {},
   "outputs": [],
   "source": [
    "merged_ccps = merge_tools.merge_experiments(ccp_events_per_experiment, [list(range(len(track_set))) for track_set in ccp_events_per_experiment])"
   ]
  },
  {
   "cell_type": "code",
   "execution_count": 38,
   "metadata": {},
   "outputs": [
    {
     "data": {
      "text/plain": [
       "1978"
      ]
     },
     "execution_count": 38,
     "metadata": {},
     "output_type": "execute_result"
    }
   ],
   "source": [
    "len(merged_ccps)"
   ]
  },
  {
   "cell_type": "markdown",
   "metadata": {},
   "source": [
    "# reload (or load) trees "
   ]
  },
  {
   "cell_type": "code",
   "execution_count": 54,
   "metadata": {},
   "outputs": [
    {
     "name": "stdout",
     "output_type": "stream",
     "text": [
      "0\n",
      "1\n",
      "2\n",
      "3\n",
      "4\n",
      "5\n",
      "6\n",
      "7\n",
      "8\n",
      "9\n"
     ]
    }
   ],
   "source": [
    "arpc3_trees = []\n",
    "\n",
    "string_index_matrix = 'arpc3_hypotonic_merged_before_separate_arpc3_tracking_kdtree_index_matrix_'\n",
    "\n",
    "string_tree = 'arpc3_hypotonic_merged_before_separate_arpc3_tracking_kdtree_'\n",
    "\n",
    "for i in range(0,10):\n",
    "    print(i)\n",
    "    with open(unique_user_saved_outputs+'/dataframes/'+string_tree+str(i), 'rb') as f:\n",
    "        tree = pickle.load(f)\n",
    "        \n",
    "    index_matrix = np.load(unique_user_saved_outputs+'/dataframes/'+string_index_matrix+str(i)+'.npy', allow_pickle=True)\n",
    "\n",
    "    arpc3_trees.append([tree, index_matrix])"
   ]
  },
  {
   "cell_type": "code",
   "execution_count": 55,
   "metadata": {},
   "outputs": [],
   "source": [
    "sos = signal.butter(4, 0.2, 'lp', fs=1, output='sos')"
   ]
  },
  {
   "cell_type": "code",
   "execution_count": 56,
   "metadata": {},
   "outputs": [],
   "source": [
    "dist_fit = analysis_metadata.item().get('distance_best_fit')\n",
    "height_fit = analysis_metadata.item().get('height_best_fit')\n",
    "width_fit = analysis_metadata.item().get('width_best_fit')\n",
    "\n",
    "best_fit_peak_params = [dist_fit,\n",
    "                        height_fit,\n",
    "                        width_fit]"
   ]
  },
  {
   "cell_type": "code",
   "execution_count": 58,
   "metadata": {
    "scrolled": true
   },
   "outputs": [
    {
     "name": "stdout",
     "output_type": "stream",
     "text": [
      "current experiment number: 22\n",
      "number of ap2 tracks: 212\n",
      "number of arpc3 tracks: 13557\n",
      "iterating through tracks in experiment\n"
     ]
    },
    {
     "name": "stderr",
     "output_type": "stream",
     "text": [
      "Mean of empty slice\n",
      "Mean of empty slice\n",
      "Mean of empty slice\n",
      "Mean of empty slice\n",
      "Mean of empty slice\n"
     ]
    },
    {
     "name": "stdout",
     "output_type": "stream",
     "text": [
      "fraction of events with arpc3 0.7393617021276596\n",
      "current experiment number: 24\n",
      "number of ap2 tracks: 210\n",
      "number of arpc3 tracks: 12428\n",
      "iterating through tracks in experiment\n"
     ]
    },
    {
     "name": "stderr",
     "output_type": "stream",
     "text": [
      "Mean of empty slice\n",
      "Mean of empty slice\n",
      "Mean of empty slice\n",
      "Mean of empty slice\n",
      "Mean of empty slice\n",
      "Mean of empty slice\n",
      "Mean of empty slice\n",
      "Mean of empty slice\n",
      "Mean of empty slice\n",
      "Mean of empty slice\n"
     ]
    },
    {
     "name": "stdout",
     "output_type": "stream",
     "text": [
      "fraction of events with arpc3 0.7608695652173914\n",
      "current experiment number: 26\n",
      "number of ap2 tracks: 197\n",
      "number of arpc3 tracks: 14836\n",
      "iterating through tracks in experiment\n"
     ]
    },
    {
     "name": "stderr",
     "output_type": "stream",
     "text": [
      "Mean of empty slice\n",
      "Mean of empty slice\n",
      "Mean of empty slice\n",
      "Mean of empty slice\n",
      "Mean of empty slice\n",
      "Mean of empty slice\n",
      "Mean of empty slice\n"
     ]
    },
    {
     "name": "stdout",
     "output_type": "stream",
     "text": [
      "fraction of events with arpc3 0.7094972067039106\n",
      "current experiment number: 28\n",
      "number of ap2 tracks: 230\n",
      "number of arpc3 tracks: 13362\n",
      "iterating through tracks in experiment\n"
     ]
    },
    {
     "name": "stderr",
     "output_type": "stream",
     "text": [
      "Mean of empty slice\n",
      "Mean of empty slice\n",
      "Mean of empty slice\n",
      "Mean of empty slice\n",
      "Mean of empty slice\n",
      "Mean of empty slice\n",
      "Mean of empty slice\n",
      "Mean of empty slice\n",
      "Mean of empty slice\n",
      "Mean of empty slice\n",
      "Mean of empty slice\n",
      "Mean of empty slice\n"
     ]
    },
    {
     "name": "stdout",
     "output_type": "stream",
     "text": [
      "fraction of events with arpc3 0.6834170854271356\n",
      "current experiment number: 30\n",
      "number of ap2 tracks: 259\n",
      "number of arpc3 tracks: 14716\n",
      "iterating through tracks in experiment\n"
     ]
    },
    {
     "name": "stderr",
     "output_type": "stream",
     "text": [
      "Mean of empty slice\n",
      "Mean of empty slice\n",
      "Mean of empty slice\n",
      "Mean of empty slice\n",
      "Mean of empty slice\n",
      "Mean of empty slice\n",
      "Mean of empty slice\n",
      "Mean of empty slice\n",
      "Mean of empty slice\n",
      "Mean of empty slice\n",
      "Mean of empty slice\n",
      "Mean of empty slice\n"
     ]
    },
    {
     "name": "stdout",
     "output_type": "stream",
     "text": [
      "fraction of events with arpc3 0.7955555555555556\n",
      "current experiment number: 62\n",
      "number of ap2 tracks: 209\n",
      "number of arpc3 tracks: 15038\n",
      "iterating through tracks in experiment\n"
     ]
    },
    {
     "name": "stderr",
     "output_type": "stream",
     "text": [
      "Mean of empty slice\n",
      "Mean of empty slice\n",
      "Mean of empty slice\n",
      "Mean of empty slice\n",
      "Mean of empty slice\n"
     ]
    },
    {
     "name": "stdout",
     "output_type": "stream",
     "text": [
      "fraction of events with arpc3 0.6629213483146067\n",
      "current experiment number: 64\n",
      "number of ap2 tracks: 130\n",
      "number of arpc3 tracks: 16510\n",
      "iterating through tracks in experiment\n"
     ]
    },
    {
     "name": "stderr",
     "output_type": "stream",
     "text": [
      "Mean of empty slice\n",
      "Mean of empty slice\n",
      "Mean of empty slice\n"
     ]
    },
    {
     "name": "stdout",
     "output_type": "stream",
     "text": [
      "fraction of events with arpc3 0.8\n",
      "current experiment number: 66\n",
      "number of ap2 tracks: 169\n",
      "number of arpc3 tracks: 14837\n",
      "iterating through tracks in experiment\n"
     ]
    },
    {
     "name": "stderr",
     "output_type": "stream",
     "text": [
      "Mean of empty slice\n",
      "Mean of empty slice\n",
      "Mean of empty slice\n"
     ]
    },
    {
     "name": "stdout",
     "output_type": "stream",
     "text": [
      "fraction of events with arpc3 0.7697368421052632\n",
      "current experiment number: 68\n",
      "number of ap2 tracks: 208\n",
      "number of arpc3 tracks: 13944\n",
      "iterating through tracks in experiment\n"
     ]
    },
    {
     "name": "stderr",
     "output_type": "stream",
     "text": [
      "Mean of empty slice\n",
      "Mean of empty slice\n",
      "Mean of empty slice\n",
      "Mean of empty slice\n",
      "Mean of empty slice\n",
      "Mean of empty slice\n"
     ]
    },
    {
     "name": "stdout",
     "output_type": "stream",
     "text": [
      "fraction of events with arpc3 0.8021390374331551\n",
      "current experiment number: 70\n",
      "number of ap2 tracks: 154\n",
      "number of arpc3 tracks: 13399\n",
      "iterating through tracks in experiment\n"
     ]
    },
    {
     "name": "stderr",
     "output_type": "stream",
     "text": [
      "Mean of empty slice\n"
     ]
    },
    {
     "name": "stdout",
     "output_type": "stream",
     "text": [
      "fraction of events with arpc3 0.7591240875912408\n"
     ]
    }
   ],
   "source": [
    "distance_query = 2 # pixel search radius for associating ap2 and arpc3 from separate tracking\n",
    "\n",
    "# arpc3 positive events, padded in non-overlapping frames\n",
    "ch0_vectors_arpc3_positive = [] # amplitudes #\n",
    "ch1_vectors_arpc3_positive = [] #\n",
    "ch2_vectors_arpc3_positive = [] #\n",
    "channel_0_1_separations_arpc3_positive = [] # distance in microns between ap2 and dnm2\n",
    "channel_0_2_separations_arpc3_positive = [] # distance in microns between ap2 and arpc3\n",
    "channel_1_2_separations_arpc3_positive = []\n",
    "final_separations_ap2arpc3_arpc3_positive = [] # ap2 and arpc3 final separation in last overlapping frame of ap2 and arpc3\n",
    "initial_separations_ap2arpc3_arpc3_positive = [] # ap2 and arpc3 initial separation in first overlapping frame of ap2 and arpc3\n",
    "ap2_arpc3_separation_at_dnm2_peak_arpc3_positive = [] # ap2 and arpc3 separation at peak of dnm2 signal\n",
    "ap2_arpc3_separation_at_arpc3_peak_arpc3_positive = []\n",
    "ap2_arpc3_separation_at_ap2_peak_arpc3_positive = []\n",
    "ap2_lifetime_arpc3_positive = [] # ap2 lifetime\n",
    "arpc3_lifetime_arpc3_positive = []\n",
    "max_separation_ap2_arpc3_arpc3_positive = [] # maximum separation between ap2 and arpc3\n",
    "max_separation_ap2_dnm2_arpc3_positive = []\n",
    "max_separation_dnm2_arpc3_arpc3_positive = []\n",
    "num_frames_associated_arpc3_positive = [] # number of frames shared between ap2 and arpc3 in movie that are below the query radius in KDTree search\n",
    "time_ap2_appearance_to_dnm2_peak_arpc3_positive = []\n",
    "maximum_ap2_intensity_arpc3_positive = []\n",
    "maximum_dnm2_intensity_arpc3_positive = []\n",
    "maximum_arpc3_intensity_arpc3_positive = []\n",
    "pval_arpc3_ccps_arpc3_positive = []\n",
    "time_arpc3_appearance_to_dnm2_peak_arpc3_positive = []\n",
    "fraction_arpc3_positive = []\n",
    "ccps_arpc3_positive = []\n",
    "average_ap2_movement_before_dnm2_peak_arpc3_positive = []\n",
    "average_ap2_movement_after_dnm2_peak_arpc3_positive = []\n",
    "\n",
    "ap2_arpc3_separation_average_arpc3_positive = []\n",
    "experiment_number_arpc3_positive = []\n",
    "dnm2_arpc3_peak_time_difference_arpc3_positive = []\n",
    "\n",
    "\n",
    "# arpc3 negative events\n",
    "ch0_vectors_arpc3_negative = []\n",
    "ch1_vectors_arpc3_negative = []\n",
    "channel_0_1_separations_arpc3_negative = []\n",
    "ccps_arpc3_negative = []\n",
    "time_ap2_appearance_to_dnm2_peak_arpc3_negative = []\n",
    "ap2_lifetime_arpc3_negative = []\n",
    "experiment_number_arpc3_negative = []\n",
    "average_ap2_movement_before_dnm2_peak_arpc3_negative = []\n",
    "average_ap2_movement_after_dnm2_peak_arpc3_negative = []\n",
    "\n",
    "\n",
    "num_frames_associated = []\n",
    "\n",
    "\n",
    "significant_arpc3_at_dnm2_peak_arpc3_positive = []\n",
    "\n",
    "num_no_neighbors = 0\n",
    "\n",
    "for exp_idx , experiment_number in enumerate(experiment_numbers):  # iterate over all experiments\n",
    "\n",
    "    \n",
    "    num_with_mode = 0 # count number of events with and without arpc3\n",
    "    num_without_mode = 0    \n",
    "    num_no_neighbors=0\n",
    "    print('current experiment number: ' + str(experiment_number))\n",
    "    ap2dmn2_tracks_in_experiment = ccp_events_per_experiment[exp_idx] # filtered tracks\n",
    "    print('number of ap2 tracks: ' + str(len(ap2dmn2_tracks_in_experiment)))\n",
    "    arpc3_experiment=valid_tracks_arpc3[exp_idx] # cat 1 and 2 arpc3 events in experiment\n",
    "    print('number of arpc3 tracks: ' + str(len(arpc3_experiment)))\n",
    "\n",
    "    \n",
    "    # select a tree for each frame containing all events in each frame\n",
    "    kd_tree_arpc3_experiment, vals_tree = arpc3_trees[exp_idx]\n",
    "    \n",
    "    print('iterating through tracks in experiment')\n",
    "    \n",
    "    for track_num in range(len(ap2dmn2_tracks_in_experiment)): # iterate through all ap2 tracks in experiment\n",
    "\n",
    "        \n",
    "        frames_in_track_first_channel = list(return_track_attributes.return_frames_in_track_no_buffer(ap2dmn2_tracks_in_experiment, track_num)-1) # frames of ap2 and dnm2\n",
    "        ch0_x = return_track_attributes.return_puncta_x_position_no_buffer_one_channel(ap2dmn2_tracks_in_experiment, track_num, 0) # positions of ap2 and dnm2\n",
    "        ch0_y = return_track_attributes.return_puncta_y_position_no_buffer_one_channel(ap2dmn2_tracks_in_experiment, track_num, 0)\n",
    "        ch1_x = return_track_attributes.return_puncta_x_position_no_buffer_one_channel(ap2dmn2_tracks_in_experiment, track_num, 1)\n",
    "        ch1_y = return_track_attributes.return_puncta_y_position_no_buffer_one_channel(ap2dmn2_tracks_in_experiment, track_num, 1)\n",
    "        ap2_int = return_track_attributes.return_track_amplitude_no_buffer_channel(ap2dmn2_tracks_in_experiment, track_num, 0) # ap2 and dnm2 intensities\n",
    "        dnm2_int = return_track_attributes.return_track_amplitude_no_buffer_channel(ap2dmn2_tracks_in_experiment, track_num, 1)\n",
    "        \n",
    "        filtered_dnm2_signal = list(list(signal.sosfilt(sos, dnm2_int)) + [0, 0, 0, 0, 0])\n",
    "    \n",
    "        dnm2_peak = signal.find_peaks(filtered_dnm2_signal, \n",
    "                                      distance=best_fit_peak_params[0], \n",
    "                                      height=best_fit_peak_params[1],\n",
    "                                      width=best_fit_peak_params[2])[0][0]\n",
    "        \n",
    "        frame_dnm2_peak = frames_in_track_first_channel[dnm2_peak] # the movie frame (indexed starting from 0) that dnm2 peaks     \n",
    "        candidate_arpc3_neighbors = [] # indices of arpc3 events that take place near ap2\n",
    "        no_neighbors=True # no neighbors found yet\n",
    "        \n",
    "        # search for candidate arpc3 neighbors in each ap2 track's frame\n",
    "        for frame in frames_in_track_first_channel:\n",
    "            \n",
    "            frame_ch0 = frames_in_track_first_channel.index(frame)\n",
    "            # frame's tree\n",
    "            current_tree = kd_tree_arpc3_experiment[frame]\n",
    "            \n",
    "            # ap2 fitted position at current frame\n",
    "            current_ap2_position = np.array([ch0_x[frame_ch0], ch0_y[frame_ch0]]).reshape(1, -1)\n",
    "            \n",
    "            # indices of arpc3 events within the query radius\n",
    "            ind = current_tree.query_radius(current_ap2_position,\n",
    "                                            r=distance_query)\n",
    "\n",
    "            if len(ind[0])>0:\n",
    "                no_neighbors = False # if there is a neighbor\n",
    "                \n",
    "            # check if each arpc3 neighbor originated before or after the ap2 event\n",
    "            for candidate in ind[0]:\n",
    "\n",
    "                candidate_index = int(vals_tree[frame][candidate][0]) # get the index of the arpc3 event\n",
    "                \n",
    "                frames_in_track_candidate_neighbor = list(return_track_attributes.return_frames_in_track_no_buffer(arpc3_experiment, candidate_index)-1)\n",
    "                \n",
    "                # consider the arpc3 event if it originated after the ap2 event and before the dnm2 peak\n",
    "                if frames_in_track_candidate_neighbor[0]>frames_in_track_first_channel[0] and frames_in_track_candidate_neighbor[0]<frame_dnm2_peak:\n",
    "\n",
    "                    candidate_arpc3_neighbors.append(candidate_index)\n",
    "        \n",
    "            \n",
    "        if no_neighbors==True: # if there are absolutely no neighbors present, the CCP is arpc3 negative\n",
    "            \n",
    "            num_no_neighbors+=1\n",
    "            \n",
    "        # get mode(s) of candidates\n",
    "        mode=stats.mode(candidate_arpc3_neighbors)\n",
    "        \n",
    "        # if there is a unique candidate:\n",
    "        if mode[0].size == 1:\n",
    "\n",
    "            num_frames_associated.append(mode[1][0])\n",
    "            \n",
    "            num_with_mode+=1 # count this track as arpc3 positive\n",
    "\n",
    "            pval_arpc3_detection = []\n",
    "            \n",
    "        \n",
    "            associated_track_second_channel = mode[0][0] # index of arpc3 track associated with current ap2 track\n",
    "            \n",
    "            frames_in_track_second_channel = list(return_track_attributes.return_frames_in_track_no_buffer(arpc3_experiment, associated_track_second_channel)-1) # frames of arpc3 track\n",
    "            \n",
    "            frames_intersection = list(set(frames_in_track_first_channel) & set(frames_in_track_second_channel)) # find all frames ap2 and arpc3 overlap during movie\n",
    "            frames_intersection.sort() # sort the frames in ascending order\n",
    "\n",
    "            # amplitudes of all channels\n",
    "            ch0_amplitudes = ap2_int # ap2, dnm2, arpc3 intensities\n",
    "            ch1_amplitudes = dnm2_int\n",
    "            ch2_amplitudes = return_track_attributes.return_track_amplitude_no_buffer_channel(arpc3_experiment, associated_track_second_channel, 0)\n",
    "\n",
    "            # position of arpc3\n",
    "            ch2_x = return_track_attributes.return_puncta_x_position_no_buffer_one_channel(arpc3_experiment, associated_track_second_channel, 0)\n",
    "            ch2_y = return_track_attributes.return_puncta_y_position_no_buffer_one_channel(arpc3_experiment, associated_track_second_channel, 0)\n",
    "\n",
    "            # correct intensities and positions for missing frames where ap2 and arpc3 are non-overlapping\n",
    "            new_ch0_vector = []\n",
    "            new_ch1_vector = []\n",
    "            new_ch2_vector = []\n",
    "            new_ch0_x = []\n",
    "            new_ch0_y = []\n",
    "            new_ch1_x = []\n",
    "            new_ch1_y = []\n",
    "            new_ch2_x = []\n",
    "            new_ch2_y = []\n",
    "            \n",
    "            # first/last frame either ap2 or arpc3 shows up\n",
    "            min_frame = np.nanmin([np.nanmin(frames_in_track_first_channel),np.nanmin(frames_in_track_second_channel)]) #nan to account for gaps\n",
    "            max_frame = np.nanmax([np.nanmax(frames_in_track_first_channel),np.nanmax(frames_in_track_second_channel)])\n",
    "\n",
    "            # all frames shared between ap2 and arpc3\n",
    "            frames_all = [i for i in range(int(min_frame),int(max_frame)+1)]\n",
    "\n",
    "            channel_0_2_separation_track = [] # ap2 and arpc3 separation\n",
    "            channel_0_2_angle_track = [] # ap2 and arpc3 angle \n",
    "            channel_0_1_separation_track = [] # ap2 and dnm2 separation\n",
    "            channel_1_2_separation_track = []\n",
    "\n",
    "            for frame in frames_all: # iterate over all frames\n",
    "\n",
    "                # if frames of ap2 and arpc3 are non-overlapping, do not measure their separation\n",
    "                if (frame in frames_in_track_first_channel and frame not in frames_in_track_second_channel) or (frame in frames_in_track_second_channel and frame not in frames_in_track_first_channel):\n",
    "                    channel_0_2_separation_track.append(0)\n",
    "                    channel_0_2_angle_track.append(0)\n",
    "                    channel_1_2_separation_track.append(0)\n",
    "                # if only ap2 is present\n",
    "                if frame in frames_in_track_first_channel and frame not in frames_in_track_second_channel:\n",
    "                    \n",
    "                    channel_0_index = frames_in_track_first_channel.index(frame) # get relative index of ap2 in this frame \n",
    "\n",
    "                    new_ch0_vector.append(ch0_amplitudes[channel_0_index]) # add ap2 and dnm2 amplitudes\n",
    "                    new_ch1_vector.append(ch1_amplitudes[channel_0_index]) \n",
    "                    new_ch0_x.append(ch0_x[channel_0_index]) # ap2 and dnm2 positions\n",
    "                    new_ch0_y.append(ch0_y[channel_0_index])\n",
    "                    new_ch1_x.append(ch1_x[channel_0_index])\n",
    "                    new_ch1_y.append(ch1_y[channel_0_index])\n",
    "\n",
    "                    new_ch2_vector.append(0) # no arpc3\n",
    "                    new_ch2_x.append(0) # arpc3 position off grid\n",
    "                    new_ch2_y.append(0)\n",
    "                    pval_arpc3_detection.append(np.NaN)\n",
    "                    \n",
    "                    channel_0_1_separation_track.append(np.sqrt((0.108*(ch0_x[channel_0_index]-ch1_x[channel_0_index]))**2 + (0.108*(ch0_y[channel_0_index]-ch1_y[channel_0_index]))**2)) # ap2-dnm2 separation\n",
    "\n",
    "                # if only arpc3 is present\n",
    "                elif frame in frames_in_track_second_channel and frame not in frames_in_track_first_channel: \n",
    "\n",
    "                    channel_2_index = frames_in_track_second_channel.index(frame) # get relative index of arpc3 in this frame \n",
    "\n",
    "                    new_ch2_vector.append(ch2_amplitudes[channel_2_index]) # add arpc3 amplitudes and positions\n",
    "                    new_ch2_x.append(ch2_x[channel_2_index]) \n",
    "                    new_ch2_y.append(ch2_y[channel_2_index])\n",
    "                    \n",
    "                    new_ch0_vector.append(0) # no ap2 or dnm2\n",
    "                    new_ch1_vector.append(0)    \n",
    "                    new_ch0_x.append(0) # ap2 and dnm2 position off grid\n",
    "                    new_ch0_y.append(0)\n",
    "                    new_ch1_x.append(0)\n",
    "                    new_ch1_y.append(0)\n",
    "           \n",
    "                    channel_0_1_separation_track.append(0) # no separation between ap2 and dnm2 \n",
    "                    \n",
    "                    pval_arpc3_detection.append(return_track_attributes.return_pvals_detection_no_buffer(arpc3_experiment, associated_track_second_channel, 0)[channel_2_index])\n",
    "                \n",
    "                # if both ap2 and arpc3 in frame\n",
    "                elif frame in frames_in_track_first_channel and frame in frames_in_track_second_channel:  \n",
    "\n",
    "                    channel_0_index = frames_in_track_first_channel.index(frame) # get relative indices\n",
    "                    channel_2_index = frames_in_track_second_channel.index(frame)\n",
    "\n",
    "                    new_ch0_vector.append(ch0_amplitudes[channel_0_index]) # add amplitudes and positionsfor all channels\n",
    "                    new_ch1_vector.append(ch1_amplitudes[channel_0_index])\n",
    "                    new_ch2_vector.append(ch2_amplitudes[channel_2_index])\n",
    "                    new_ch0_x.append(ch0_x[channel_0_index]) # ap2 and dnm2 positions\n",
    "                    new_ch0_y.append(ch0_y[channel_0_index])\n",
    "                    new_ch1_x.append(ch1_x[channel_0_index])\n",
    "                    new_ch1_y.append(ch1_y[channel_0_index])\n",
    "                    new_ch2_x.append(ch2_x[channel_2_index]) \n",
    "                    new_ch2_y.append(ch2_y[channel_2_index])\n",
    "\n",
    "                    channel_0_1_separation_track.append(np.sqrt((0.108*(ch0_x[channel_0_index]-ch1_x[channel_0_index]))**2 + (0.108*(ch0_y[channel_0_index]-ch1_y[channel_0_index]))**2)) # ap2-dnm2 separation\n",
    "                    \n",
    "                    # ap2 and arpc3 separation\n",
    "                    channel_0_2_separation_track.append(np.sqrt((0.108*(ch0_x[channel_0_index]-ch2_x[channel_2_index]))**2 + (0.108*(ch0_y[channel_0_index]-ch2_y[channel_2_index]))**2))\n",
    "#                     channel_0_2_angle_track.append(angle_between((0,0),((ch0_x[channel_0_index]-ch2_x[channel_2_index]),(ch0_y[channel_0_index]-ch2_y[channel_2_index]))))              \n",
    "                    channel_1_2_separation_track.append(np.sqrt((0.108*(ch1_x[channel_0_index]-ch2_x[channel_2_index]))**2 + (0.108*(ch1_y[channel_0_index]-ch2_y[channel_2_index]))**2))\n",
    "\n",
    "                    pval_arpc3_detection.append(return_track_attributes.return_pvals_detection_no_buffer(arpc3_experiment,associated_track_second_channel,0)[channel_2_index])\n",
    " \n",
    "            filtered_dnm2_signal = list(list(signal.sosfilt(sos, dnm2_int)) + [0, 0, 0, 0, 0])\n",
    "    \n",
    "            dnm2_peak = signal.find_peaks(filtered_dnm2_signal, \n",
    "                                          distance=best_fit_peak_params[0], \n",
    "                                          height=best_fit_peak_params[1],\n",
    "                                          width=best_fit_peak_params[2])[0][0]\n",
    "        \n",
    "            if pval_arpc3_detection[dnm2_peak]<0.01 and pval_arpc3_detection[dnm2_peak]!=np.NaN:\n",
    "            \n",
    "                significant_arpc3_at_dnm2_peak_arpc3_positive.append(1)\n",
    "            \n",
    "            else:\n",
    "                \n",
    "                significant_arpc3_at_dnm2_peak_arpc3_positive.append(0)\n",
    "    \n",
    "            ccps_arpc3_positive.append(ap2dmn2_tracks_in_experiment[track_num])\n",
    "            ap2_lifetime_arpc3_positive.append(len(frames_in_track_first_channel))\n",
    "            arpc3_lifetime_arpc3_positive.append(len(frames_in_track_second_channel))\n",
    "            # measure ap2 and arpc3 separation at dnm2 peak\n",
    "\n",
    "            ap2_arpc3_separation_at_dnm2_peak_arpc3_positive.append(channel_0_2_separation_track[dnm2_peak])\n",
    "            ap2_arpc3_separation_at_arpc3_peak_arpc3_positive.append(channel_0_2_separation_track[np.nanargmax(new_ch2_vector)])\n",
    "            ap2_arpc3_separation_at_ap2_peak_arpc3_positive.append(channel_0_2_separation_track[np.nanargmax(new_ch0_vector)])\n",
    "            ap2_arpc3_separation_average_arpc3_positive.append(np.nanmean(channel_0_2_separation_track))\n",
    "            # store measurements\n",
    "            ch0_vectors_arpc3_positive.append(new_ch0_vector)\n",
    "            ch1_vectors_arpc3_positive.append(new_ch1_vector)\n",
    "            ch2_vectors_arpc3_positive.append(new_ch2_vector)\n",
    "#             print(new_ch2_vector)\n",
    "            channel_0_2_separations_arpc3_positive.append(channel_0_2_separation_track)\n",
    "            channel_0_1_separations_arpc3_positive.append(channel_0_1_separation_track)  \n",
    "            channel_1_2_separations_arpc3_positive.append(channel_1_2_separation_track)  \n",
    "            channel_0_2_separation_track = np.array(channel_0_2_separation_track)\n",
    "            channel_0_1_separation_track = np.array(channel_0_1_separation_track)\n",
    "            channel_1_2_separation_track = np.array(channel_1_2_separation_track)\n",
    "            final_separations_ap2arpc3_arpc3_positive.append(channel_0_2_separation_track[~np.isnan(channel_0_2_separation_track)][-1])      \n",
    "            initial_separations_ap2arpc3_arpc3_positive.append(channel_0_2_separation_track[~np.isnan(channel_0_2_separation_track)][0])   \n",
    "            max_separation_ap2_arpc3_arpc3_positive.append(np.nanmax(channel_0_2_separation_track))\n",
    "            max_separation_ap2_dnm2_arpc3_positive.append(np.nanmax(channel_0_1_separation_track))\n",
    "            max_separation_dnm2_arpc3_arpc3_positive.append(np.nanmax(channel_1_2_separation_track))\n",
    "            num_frames_associated_arpc3_positive.append(mode[1][0])\n",
    "            pval_arpc3_ccps_arpc3_positive.append(pval_arpc3_detection)\n",
    "            maximum_ap2_intensity_arpc3_positive.append(np.nanmax(new_ch0_vector))\n",
    "            maximum_dnm2_intensity_arpc3_positive.append(np.nanmax(new_ch1_vector))\n",
    "            maximum_arpc3_intensity_arpc3_positive.append(np.nanmax(new_ch2_vector))      \n",
    "            time_ap2_appearance_to_dnm2_peak_arpc3_positive.append(dnm2_peak)\n",
    "            time_arpc3_appearance_to_dnm2_peak_arpc3_positive.append(int(frames_in_track_first_channel[dnm2_peak]) - int(frames_in_track_second_channel[0]))\n",
    "            experiment_number_arpc3_positive.append(experiment_number)\n",
    "            \n",
    "            dnm2_arpc3_peak_time_difference_arpc3_positive.append(np.nanargmax(ch1_amplitudes)-np.nanargmax(ch2_amplitudes))\n",
    "            \n",
    "            # concatenate all track positions and amplitudes\n",
    "            track_x_positions = [new_ch0_x, new_ch1_x, new_ch2_x]\n",
    "            track_y_positions = [new_ch0_y, new_ch1_y, new_ch2_y]\n",
    "            channel_intensity_vectors = [new_ch0_vector, new_ch1_vector, new_ch2_vector]   \n",
    "             \n",
    "            ap2_x_positions = new_ch0_x\n",
    "            ap2_y_positions = new_ch0_y     \n",
    "            \n",
    "            num_before=5\n",
    "            ap2movement = []\n",
    "            for dnm2_index in range(dnm2_peak-num_before,dnm2_peak):\n",
    "\n",
    "                try: \n",
    "                    \n",
    "                    if ap2_x_positions[dnm2_index] != 0 and ap2_x_positions[dnm2_index+1] != 0:\n",
    "                        \n",
    "                        ap2temp = np.sqrt((0.108*(ap2_x_positions[dnm2_index+1]-ap2_x_positions[dnm2_index]))**2 + (0.108*(ap2_y_positions[dnm2_index+1]-ap2_y_positions[dnm2_index]))**2)\n",
    "\n",
    "                        ap2movement.append(ap2temp)\n",
    "                        \n",
    "                    else:\n",
    "                        \n",
    "                        ap2movement.append(np.NaN)\n",
    "\n",
    "                except Exception:\n",
    "\n",
    "                    ap2movement.append(np.NaN)\n",
    "\n",
    "            average_ap2_movement_before_dnm2_peak_arpc3_positive.append(np.nanmean(ap2movement))            \n",
    "\n",
    "            num_after=5\n",
    "            ap2movement = []\n",
    "            for dnm2_index in range(dnm2_peak,dnm2_peak+num_after):\n",
    "\n",
    "                try: \n",
    "                    \n",
    "                    if ap2_x_positions[dnm2_index] != 0 and ap2_x_positions[dnm2_index+1] != 0:\n",
    "                        \n",
    "                        ap2temp = np.sqrt((0.108*(ap2_x_positions[dnm2_index+1]-ap2_x_positions[dnm2_index]))**2 + (0.108*(ap2_y_positions[dnm2_index+1]-ap2_y_positions[dnm2_index]))**2)\n",
    "\n",
    "                        ap2movement.append(ap2temp)\n",
    "                        \n",
    "                    else:\n",
    "                        \n",
    "                        ap2movement.append(np.NaN)\n",
    "\n",
    "                except Exception:\n",
    "\n",
    "                    ap2movement.append(np.NaN)\n",
    "\n",
    "            average_ap2_movement_after_dnm2_peak_arpc3_positive.append(np.nanmean(ap2movement)) \n",
    "            \n",
    "        elif no_neighbors==True: # if there is no mode then the event is arpc3 negative\n",
    "\n",
    "            num_without_mode += 1 \n",
    "            experiment_number_arpc3_negative.append(experiment_number)\n",
    "            ccps_arpc3_negative.append(ap2dmn2_tracks_in_experiment[track_num])\n",
    "            ap2_lifetime_arpc3_negative.append(len(ap2_int))\n",
    "\n",
    "            ch0_vectors_arpc3_negative.append(ap2_int)\n",
    "            ch1_vectors_arpc3_negative.append(dnm2_int)\n",
    "\n",
    "            filtered_dnm2_signal = list(list(signal.sosfilt(sos, dnm2_int)) + [0, 0, 0, 0, 0])\n",
    "    \n",
    "            dnm2_peak = signal.find_peaks(filtered_dnm2_signal, \n",
    "                                          distance=best_fit_peak_params[0], \n",
    "                                          height=best_fit_peak_params[1],\n",
    "                                          width=best_fit_peak_params[2])[0][0]\n",
    "            \n",
    "            time_ap2_appearance_to_dnm2_peak_arpc3_negative.append(dnm2_peak)\n",
    "            \n",
    "                        \n",
    "            channel_0_1_separation_track = []\n",
    "            \n",
    "            for frame in range(len(ch0_x)):\n",
    "                \n",
    "                channel_0_1_separation_track.append(np.sqrt((0.108*(ch0_x[frame]-ch1_x[frame]))**2 + (0.108*(ch0_y[frame]-ch1_y[frame]))**2)) # ap2-dnm2 separation\n",
    "\n",
    "            channel_0_1_separations_arpc3_negative.append(channel_0_1_separation_track)\n",
    "         \n",
    "            ap2_x_positions = ch0_x\n",
    "            ap2_y_positions = ch0_y     \n",
    "        \n",
    "            num_before=5\n",
    "            ap2movement = []\n",
    "            for dnm2_index in range(dnm2_peak-num_before,dnm2_peak):\n",
    "\n",
    "                try: \n",
    "\n",
    "                    ap2temp = np.sqrt((0.108*(ap2_x_positions[dnm2_index+1]-ap2_x_positions[dnm2_index]))**2 + (0.108*(ap2_y_positions[dnm2_index+1]-ap2_y_positions[dnm2_index]))**2)\n",
    "\n",
    "                    ap2movement.append(ap2temp)\n",
    "\n",
    "                except Exception:\n",
    "\n",
    "                    ap2movement.append(np.NaN)\n",
    "\n",
    "            average_ap2_movement_before_dnm2_peak_arpc3_negative.append(np.nanmean(ap2movement))            \n",
    "\n",
    "            num_after=5\n",
    "            ap2movement = []\n",
    "            for dnm2_index in range(dnm2_peak,dnm2_peak+num_after):\n",
    "\n",
    "                try: \n",
    "\n",
    "                    ap2temp = np.sqrt((0.108*(ap2_x_positions[dnm2_index+1]-ap2_x_positions[dnm2_index]))**2 + (0.108*(ap2_y_positions[dnm2_index+1]-ap2_y_positions[dnm2_index]))**2)\n",
    "\n",
    "                    ap2movement.append(ap2temp)\n",
    "\n",
    "                except Exception:\n",
    "\n",
    "                    ap2movement.append(np.NaN)\n",
    "\n",
    "            average_ap2_movement_after_dnm2_peak_arpc3_negative.append(np.nanmean(ap2movement))             \n",
    "          \n",
    "    print('fraction of events with arpc3', str(num_with_mode/(num_with_mode+num_no_neighbors)))\n",
    "    fraction_arpc3_positive.append(num_with_mode/(num_with_mode+num_no_neighbors))   "
   ]
  },
  {
   "cell_type": "markdown",
   "metadata": {},
   "source": [
    "# save all results"
   ]
  },
  {
   "cell_type": "code",
   "execution_count": 60,
   "metadata": {},
   "outputs": [
    {
     "data": {
      "text/plain": [
       "[0.7393617021276596,\n",
       " 0.7608695652173914,\n",
       " 0.7094972067039106,\n",
       " 0.6834170854271356,\n",
       " 0.7955555555555556,\n",
       " 0.6629213483146067,\n",
       " 0.8,\n",
       " 0.7697368421052632,\n",
       " 0.8021390374331551,\n",
       " 0.7591240875912408]"
      ]
     },
     "execution_count": 60,
     "metadata": {},
     "output_type": "execute_result"
    }
   ],
   "source": [
    "fraction_arpc3_positive"
   ]
  },
  {
   "cell_type": "code",
   "execution_count": 61,
   "metadata": {},
   "outputs": [],
   "source": [
    "arrays_to_save = ['ch0_vectors_arpc3_positive',\n",
    "                  'ch1_vectors_arpc3_positive',\n",
    "                  'ch2_vectors_arpc3_positive',\n",
    "                  'channel_0_1_separations_arpc3_positive',\n",
    "                  'channel_0_2_separations_arpc3_positive',\n",
    "                  'channel_1_2_separations_arpc3_positive',\n",
    "                  'final_separations_ap2arpc3_arpc3_positive',\n",
    "                  'initial_separations_ap2arpc3_arpc3_positive',\n",
    "                  'ap2_arpc3_separation_at_dnm2_peak_arpc3_positive',\n",
    "                  'ap2_arpc3_separation_at_arpc3_peak_arpc3_positive',\n",
    "                  'ap2_arpc3_separation_at_ap2_peak_arpc3_positive',\n",
    "                  'ap2_lifetime_arpc3_positive',\n",
    "                  'arpc3_lifetime_arpc3_positive',\n",
    "                  'max_separation_ap2_arpc3_arpc3_positive',\n",
    "                  'max_separation_ap2_dnm2_arpc3_positive',\n",
    "                  'max_separation_dnm2_arpc3_arpc3_positive',\n",
    "                  'num_frames_associated_arpc3_positive',\n",
    "                  'time_ap2_appearance_to_dnm2_peak_arpc3_positive',\n",
    "                  'maximum_ap2_intensity_arpc3_positive',\n",
    "                  'maximum_dnm2_intensity_arpc3_positive',\n",
    "                  'maximum_arpc3_intensity_arpc3_positive',\n",
    "                  'pval_arpc3_ccps_arpc3_positive',\n",
    "                  'time_arpc3_appearance_to_dnm2_peak_arpc3_positive',\n",
    "                  'fraction_arpc3_positive',\n",
    "                  'ccps_arpc3_positive',\n",
    "                  'experiment_number_arpc3_positive',\n",
    "                  'average_ap2_movement_before_dnm2_peak_arpc3_positive',\n",
    "                  'average_ap2_movement_after_dnm2_peak_arpc3_positive',\n",
    "                  'average_ap2_movement_before_dnm2_peak_arpc3_negative',\n",
    "                  'average_ap2_movement_after_dnm2_peak_arpc3_negative',\n",
    "                  'ap2_arpc3_separation_average_arpc3_positive',\n",
    "                  'ch0_vectors_arpc3_negative',\n",
    "                  'ch1_vectors_arpc3_negative',\n",
    "                  'channel_0_1_separations_arpc3_negative',\n",
    "                  'ccps_arpc3_negative',\n",
    "                  'time_ap2_appearance_to_dnm2_peak_arpc3_negative',\n",
    "                  'ap2_lifetime_arpc3_negative',\n",
    "                  'experiment_number_arpc3_negative',\n",
    "                  'significant_arpc3_at_dnm2_peak_arpc3_positive']\n",
    "\n",
    "merged_results = {}\n",
    "for array in arrays_to_save:\n",
    "    \n",
    "    merged_results[array] = locals()[array]   "
   ]
  },
  {
   "cell_type": "code",
   "execution_count": 62,
   "metadata": {},
   "outputs": [
    {
     "data": {
      "text/plain": [
       "(1298, 441)"
      ]
     },
     "execution_count": 62,
     "metadata": {},
     "output_type": "execute_result"
    }
   ],
   "source": [
    "len(ccps_arpc3_positive), len(ccps_arpc3_negative)"
   ]
  },
  {
   "cell_type": "code",
   "execution_count": 63,
   "metadata": {},
   "outputs": [
    {
     "data": {
      "text/plain": [
       "(1298, 1298, 1298)"
      ]
     },
     "execution_count": 63,
     "metadata": {},
     "output_type": "execute_result"
    }
   ],
   "source": [
    "len(num_frames_associated_arpc3_positive), len(ap2_arpc3_separation_at_dnm2_peak_arpc3_positive), len(significant_arpc3_at_dnm2_peak_arpc3_positive)"
   ]
  },
  {
   "cell_type": "code",
   "execution_count": 64,
   "metadata": {},
   "outputs": [],
   "source": [
    "with open(unique_user_saved_outputs+'/dataframes/merged_ap2arpc3_shock_merged_before_data_zeropadding', 'wb') as f:\n",
    "    pickle.dump(merged_results, f)   \n",
    "    \n",
    "np.save(unique_user_saved_outputs+'/dataframes/ccps_arpc3_shock_merge_before_negative_zeropadding', ccps_arpc3_negative)\n",
    "    \n",
    "np.save(unique_user_saved_outputs+'/dataframes/ccps_arpc3_shock_merge_before_positive_zeropadding', ccps_arpc3_positive)"
   ]
  },
  {
   "cell_type": "code",
   "execution_count": null,
   "metadata": {},
   "outputs": [],
   "source": []
  }
 ],
 "metadata": {
  "kernelspec": {
   "display_name": "Python 3",
   "language": "python",
   "name": "python3"
  },
  "language_info": {
   "codemirror_mode": {
    "name": "ipython",
    "version": 3
   },
   "file_extension": ".py",
   "mimetype": "text/x-python",
   "name": "python",
   "nbconvert_exporter": "python",
   "pygments_lexer": "ipython3",
   "version": "3.6.12"
  }
 },
 "nbformat": 4,
 "nbformat_minor": 4
}
