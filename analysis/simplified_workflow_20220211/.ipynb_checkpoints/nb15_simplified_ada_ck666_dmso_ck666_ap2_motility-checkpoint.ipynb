{
 "cells": [
  {
   "cell_type": "markdown",
   "metadata": {},
   "source": [
    "##### import all necessary Python modules"
   ]
  },
  {
   "cell_type": "code",
   "execution_count": 1,
   "metadata": {},
   "outputs": [],
   "source": [
    "%load_ext autoreload\n",
    "%autoreload 2\n",
    "%matplotlib inline\n",
    "import numpy as np\n",
    "import pandas as pd\n",
    "import sys\n",
    "import matplotlib.pyplot as plt\n",
    "import pickle\n",
    "from IPython.display import Image\n",
    "from scipy import signal\n",
    "import scipy.stats as stats\n",
    "import seaborn as sns\n",
    "\n",
    "analysis_metadata = np.load('analysis_metadata.npy', allow_pickle=True)\n",
    "sys.path.append(analysis_metadata.item().get('path_notebook')+'/cmeAnalysisPostProcessingSimplified') # add custom Python scripts to the local path\n",
    "import generate_index_dictionary\n",
    "import return_track_attributes\n",
    "import display_tracks\n",
    "index_dictionary = generate_index_dictionary.return_index_dictionary()"
   ]
  },
  {
   "cell_type": "markdown",
   "metadata": {},
   "source": [
    "# load files"
   ]
  },
  {
   "cell_type": "code",
   "execution_count": 23,
   "metadata": {},
   "outputs": [],
   "source": [
    "experiment = 'ada_ck666_dmso'\n",
    "\n",
    "path_outputs = analysis_metadata.item().get('path_outputs')\n",
    "\n",
    "with open(path_outputs+'/dataframes/'+experiment+'_merged_ccp_attributes', 'rb') as f:\n",
    "    merged_results = pickle.load(f)  \n",
    "    \n",
    "sig_arpc3_dnm2_peak = merged_results['significant_arpc3_at_dnm2_peak_arpc3_positive']\n",
    "indices_sig_arpc3_dnm2_peak = np.where(np.array(sig_arpc3_dnm2_peak)==1)[0]\n",
    "\n",
    "ap2_mvt_neg_before = merged_results['average_ap2_movement_before_dnm2_peak_arpc3_negative']\n",
    "ap2_mvt_neg_after = merged_results['average_ap2_movement_after_dnm2_peak_arpc3_negative']\n",
    "ap2_mvt_pos_before = np.array(merged_results['average_ap2_movement_before_dnm2_peak_arpc3_positive'])[indices_sig_arpc3_dnm2_peak]\n",
    "ap2_mvt_pos_after = np.array(merged_results['average_ap2_movement_after_dnm2_peak_arpc3_positive'])[indices_sig_arpc3_dnm2_peak]\n",
    "\n",
    "merged_motility = ap2_mvt_neg_before\n",
    "merged_motility = np.concatenate((merged_motility, ap2_mvt_neg_after))\n",
    "merged_motility = np.concatenate((merged_motility, ap2_mvt_pos_before.flatten()))\n",
    "merged_motility = np.concatenate((merged_motility, ap2_mvt_pos_after.flatten()))\n",
    "\n",
    "labels = [0 for _ in range(len(ap2_mvt_neg_before))]\n",
    "labels += [1 for _ in range(len(ap2_mvt_neg_after))]\n",
    "labels += [2 for _ in range(len(ap2_mvt_pos_before))]\n",
    "labels += [3 for _ in range(len(ap2_mvt_pos_after))]\n",
    "\n",
    "condition = [0 for _ in range(len(labels))]\n",
    "\n",
    "merged_data_motility_dmso = np.array((merged_motility, labels, condition)).T"
   ]
  },
  {
   "cell_type": "code",
   "execution_count": 24,
   "metadata": {},
   "outputs": [],
   "source": [
    "experiment = 'ada_ck666_ck666'\n",
    "\n",
    "path_outputs = analysis_metadata.item().get('path_outputs')\n",
    "\n",
    "with open(path_outputs+'/dataframes/'+experiment+'_merged_ccp_attributes', 'rb') as f:\n",
    "    merged_results = pickle.load(f)  \n",
    "    \n",
    "sig_arpc3_dnm2_peak = merged_results['significant_arpc3_at_dnm2_peak_arpc3_positive']\n",
    "indices_sig_arpc3_dnm2_peak = np.where(np.array(sig_arpc3_dnm2_peak)==1)[0]\n",
    "\n",
    "ap2_mvt_neg_before = merged_results['average_ap2_movement_before_dnm2_peak_arpc3_negative']\n",
    "ap2_mvt_neg_after = merged_results['average_ap2_movement_after_dnm2_peak_arpc3_negative']\n",
    "ap2_mvt_pos_before = np.array(merged_results['average_ap2_movement_before_dnm2_peak_arpc3_positive'])[indices_sig_arpc3_dnm2_peak]\n",
    "ap2_mvt_pos_after = np.array(merged_results['average_ap2_movement_after_dnm2_peak_arpc3_positive'])[indices_sig_arpc3_dnm2_peak]\n",
    "\n",
    "merged_motility = ap2_mvt_neg_before\n",
    "merged_motility = np.concatenate((merged_motility, ap2_mvt_neg_after))\n",
    "merged_motility = np.concatenate((merged_motility, ap2_mvt_pos_before.flatten()))\n",
    "merged_motility = np.concatenate((merged_motility, ap2_mvt_pos_after.flatten()))\n",
    "\n",
    "labels = [0 for _ in range(len(ap2_mvt_neg_before))]\n",
    "labels += [1 for _ in range(len(ap2_mvt_neg_after))]\n",
    "labels += [2 for _ in range(len(ap2_mvt_pos_before))]\n",
    "labels += [3 for _ in range(len(ap2_mvt_pos_after))]\n",
    "\n",
    "condition = [1 for _ in range(len(labels))]\n",
    "\n",
    "merged_data_motility_ck666 = np.array((merged_motility, labels, condition)).T"
   ]
  },
  {
   "cell_type": "code",
   "execution_count": 25,
   "metadata": {},
   "outputs": [],
   "source": [
    "merged_data_motility = np.concatenate((merged_data_motility_dmso, merged_data_motility_ck666))"
   ]
  },
  {
   "cell_type": "code",
   "execution_count": 28,
   "metadata": {},
   "outputs": [],
   "source": [
    "df_motility = pd.DataFrame(data=merged_data_motility, columns=['motility', 'position', 'condition'])"
   ]
  },
  {
   "cell_type": "code",
   "execution_count": 29,
   "metadata": {},
   "outputs": [
    {
     "data": {
      "text/plain": [
       "(0.0, 0.2)"
      ]
     },
     "execution_count": 29,
     "metadata": {},
     "output_type": "execute_result"
    },
    {
     "data": {
      "image/png": "[encoded data removed]",
      "text/plain": [
       "<Figure size 432x288 with 1 Axes>"
      ]
     },
     "metadata": {
      "needs_background": "light"
     },
     "output_type": "display_data"
    }
   ],
   "source": [
    "ax = sns.boxplot(data=df_motility, \n",
    "                 x='position', \n",
    "                 y='motility',\n",
    "                 hue='condition',\n",
    "                 dodge=True)\n",
    "plt.ylim([0,0.2])\n"
   ]
  },
  {
   "cell_type": "code",
   "execution_count": 35,
   "metadata": {},
   "outputs": [],
   "source": [
    "%%capture\n",
    "plt.rcParams['figure.dpi'] = 500\n",
    "ax = sns.boxplot(data=df_motility, x='position', y='motility')\n",
    "box0 = ax.artists[0]\n",
    "box0.set_facecolor('blue')\n",
    "box1 = ax.artists[1]\n",
    "box1.set_facecolor('blue')\n",
    "box2 = ax.artists[2]\n",
    "box2.set_facecolor('orange')\n",
    "box3 = ax.artists[3]\n",
    "box3.set_facecolor('orange')\n",
    "\n",
    "ax.set_xticklabels(['ARPC3-\\nbefore',\n",
    "                    'ARPC3-\\nafter',\n",
    "                    'ARPC3+\\nbefore',\n",
    "                    'ARPC3+\\nafter']);\n",
    "ax.set_xlabel('ARPC3 recruitment +/-, timing relative to scission')\n",
    "plt.ylabel('average movement (microns)')\n",
    "plt.ylim([0,0.2])\n",
    "plt.tight_layout()\n",
    "plt.savefig(unique_user_saved_outputs+'/plots/fig_4c_boxplot_motility_sig_arpc3_at_scission.png')"
   ]
  }
 ],
 "metadata": {
  "kernelspec": {
   "display_name": "Python 3",
   "language": "python",
   "name": "python3"
  },
  "language_info": {
   "codemirror_mode": {
    "name": "ipython",
    "version": 3
   },
   "file_extension": ".py",
   "mimetype": "text/x-python",
   "name": "python",
   "nbconvert_exporter": "python",
   "pygments_lexer": "ipython3",
   "version": "3.6.12"
  }
 },
 "nbformat": 4,
 "nbformat_minor": 4
}
