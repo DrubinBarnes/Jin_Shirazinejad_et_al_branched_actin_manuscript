{
 "cells": [
  {
   "cell_type": "markdown",
   "metadata": {},
   "source": [
    "Cyna Shirazinejad, 1/17/22\n",
    "\n",
    "# Notebook 8: compare cell lines\n",
    "\n",
    "outline:\n",
    "\n",
    "* compare the following attributes:\n",
    "* * principal component distributions\n",
    "* * maximum intensities\n",
    "* * lifetimes\n",
    "* * initiation rates of events"
   ]
  },
  {
   "cell_type": "code",
   "execution_count": 55,
   "metadata": {},
   "outputs": [
    {
     "name": "stdout",
     "output_type": "stream",
     "text": [
      "The autoreload extension is already loaded. To reload it, use:\n",
      "  %reload_ext autoreload\n"
     ]
    }
   ],
   "source": [
    "%load_ext autoreload\n",
    "%autoreload 2\n",
    "%matplotlib inline\n",
    "import numpy as np\n",
    "import pandas as pd\n",
    "import sys\n",
    "import matplotlib.pyplot as plt\n",
    "import seaborn as sns\n",
    "from scipy import signal\n",
    "\n",
    "analysis_metadata = np.load('analysis_metadata.npy', allow_pickle=True)\n",
    "sys.path.append(analysis_metadata.item().get('path_notebook')+'/cmeAnalysisPostProcessingSimplified') # add custom Python scripts to the local path\n",
    "import compare_tracks\n",
    "import return_track_attributes"
   ]
  },
  {
   "cell_type": "code",
   "execution_count": 2,
   "metadata": {},
   "outputs": [
    {
     "data": {
      "text/plain": [
       "array({'path_outputs': '/Volumes/GoogleDrive/My Drive/Drubin Lab/ap2dynm2arcp3_project/stable_outputs_20220211', 'path_notebook': '/Users/cynashirazinejad/Documents/GitHub/Jin_Shirazinejad_et_al_branched_actin_manuscript/analysis/simplified_workflow_20220211', 'feature_units': ['seconds', 'a.u. fluorescence', 'a.u. fluorescence', 'pixels', 'pixels', 'pixels', 'pixels', 'pixels', 'seconds', 'seconds', 'seconds', 'seconds', 'seconds', 'a.u. fluorescence', 'a.u. fluorescence', 'a.u. fluorescence', 'a.u. fluorescence', 'a.u. fluorescence', 'unitless', 'a.u. fluorescence', 'a.u. fluorescence', 'a.u. fluorescence**2', 'a.u. fluorescence**2', 'unitless', 'unitless', 'unitless', 'unitless', 'counts', 'counts', 'unitless', 'unitless', 'unitless'], 'possible_track_features': ['lifetime', 'max_int_ch0', 'max_int_ch1', 'dist_traveled_ch0', 'dist_traveled_ch1', 'max_dist_between_ch0-ch1', 'md_ch0', 'md_ch1', 'time_to_peak_ch0', 'time_to_peak_ch1', 'time_after_peak_ch0', 'time_after_peak_ch1', 'time_between_peaks_ch0-ch1', 'avg_int_change_to_peak_ch0', 'avg_int_change_to_peak_ch1', 'avg_int_change_after_peak_ch0', 'avg_int_change_after_peak_ch1', 'peak_int_diff_ch0-ch1', 'ratio_max_int_ch0-ch1', 'mean_ch0', 'mean_ch1', 'variation_ch0', 'variation_ch1', 'skewness_ch0', 'skewness_ch1', 'kurtosis_ch0', 'kurtosis_ch1', 'number_significant_ch1', 'max_consecutive_significant_ch1', 'fraction_significant_ch1', 'fraction_peak_ch0', 'fraction_peak_ch1'], 'possible_track_features_labels': ['lifetime', 'max_int_ap2', 'max_int_dnm2', 'dist_traveled_ap2', 'dist_traveled_dnm2', 'max_dist_between_ap2_dnm2', 'md_ap2', 'md_dnm2', 'time_to_peak_ap2', 'time_to_peak_dnm2', 'time_after_peak_ap2', 'time_after_peak_dnm2', 'time_between_peaks_ap2_dnm2', 'avg_int_change_to_peak_ap2', 'avg_int_change_to_peak_dnm2', 'avg_int_change_after_peak_ap2', 'avg_int_change_after_peak_dnm2', 'peak_int_diff_ap2_dnm2', 'ratio_max_int_ap2_dnm2', 'mean_ap2', 'mean_dnm2', 'variation_ap2', 'variation_dnm2', 'skewness_ap2', 'skewness_dnm2', 'kurtosis_ap2', 'kurtosis_dnm2', 'number_significant_dnm2', 'max_consecutive_significant_dnm2', 'fraction_significant_dnm2', 'fraction_peak_ap2', 'fraction_peak_dnm2'], 'experiment_groups': {'ad_wildtype': {'path': '/Volumes/Google Drive/My Drive/Drubin Lab/ap2dynm2arcp3_project/tracking_data/AD_cellline_analysis_formatted', 'df': 'df_ad_wildtype_merged_features', 'tracks': 'merged_ad_wildtype_valid_tracks', 'number_of_track_splits': 8}, 'ada_wildtype': {'path': '/Volumes/Google Drive/My Drive/Drubin Lab/ap2dynm2arcp3_project/tracking_data/ADA_cellline_analysis_formatted_temp/', 'df': 'df_ada_wildtype_merged_features', 'tracks': 'merged_ada_wildtype_valid_tracks', 'number_of_track_splits': 13, 'tracks_secondary': '/Volumes/Google Drive/My Drive/Drubin Lab/ap2dynm2arcp3_project/tracking_data/ADA_cellline_analysis_formatted_arpc3_tracking', 'name_secondary_structures': 'arpc3_wildtype_no-treatment_separate_arpc3_tracking'}, 'ada_ck666_nt': {'path': '/Volumes/Google Drive/My Drive/Drubin Lab/ap2dynm2arcp3_project/revision_tracking/ck666_tracking_data_ap2dnm2', 'df': 'df_ada_ck666_nt_merged_features', 'tracks': 'merged_ada_ck666_nt_valid_tracks', 'number_of_track_splits': 12, 'tracks_secondary': '/Volumes/Google Drive/My Drive/Drubin Lab/ap2dynm2arcp3_project/revision_tracking/ck666_tracking_data_arpc3', 'name_secondary_structures': 'arpc3_drugs_no-treatment_separate_arpc3_tracking'}, 'ada_ck666_dmso': {'path': '/Volumes/Google Drive/My Drive/Drubin Lab/ap2dynm2arcp3_project/revision_tracking/ck666_tracking_data_ap2dnm2', 'df': 'df_ada_ck666_dmso_merged_features', 'tracks': 'merged_ada_ck666_dmso_valid_tracks', 'number_of_track_splits': 9, 'tracks_secondary': '/Volumes/Google Drive/My Drive/Drubin Lab/ap2dynm2arcp3_project/revision_tracking/ck666_tracking_data_arpc3', 'name_secondary_structures': 'arpc3_drugs_dmso_separate_arpc3_tracking'}, 'ada_ck666_ck666': {'path': '/Volumes/Google Drive/My Drive/Drubin Lab/ap2dynm2arcp3_project/revision_tracking/ck666_tracking_data_ap2dnm2', 'df': 'df_ada_ck666_ck666_merged_features', 'tracks': 'merged_ada_ck666_ck666_valid_tracks', 'number_of_track_splits': 9, 'tracks_secondary': '/Volumes/Google Drive/My Drive/Drubin Lab/ap2dynm2arcp3_project/revision_tracking/ck666_tracking_data_arpc3', 'name_secondary_structures': 'arpc3_drugs_ck666_separate_arpc3_tracking'}, 'ada_hypotonic_before': {'path': '/Volumes/Google Drive/My Drive/Drubin Lab/ap2dynm2arcp3_project/revision_tracking/hypotonic_tracking_data_merged_211203_211208_ap2dnm2/', 'df': 'df_ada_hypotonic_before_merged_features', 'tracks': 'merged_ada_hypotonic_before_valid_tracks', 'number_of_track_splits': 10, 'tracks_secondary': '/Volumes/Google Drive/My Drive/Drubin Lab/ap2dynm2arcp3_project/revision_tracking/hypotonic_tracking_data_merged_211203_211208_arpc3/', 'name_secondary_structures': 'arpc3_hypotonic_before_separate_arpc3_tracking'}, 'ada_hypotonic_after': {'path': '/Volumes/Google Drive/My Drive/Drubin Lab/ap2dynm2arcp3_project/revision_tracking/hypotonic_tracking_data_merged_211203_211208_ap2dnm2/', 'df': 'df_ada_hypotonic_after_merged_features', 'tracks': 'merged_ada_hypotonic_after_valid_tracks', 'number_of_track_splits': 10, 'tracks_secondary': '/Volumes/Google Drive/My Drive/Drubin Lab/ap2dynm2arcp3_project/revision_tracking/hypotonic_tracking_data_merged_211203_211208_arpc3/', 'name_secondary_structures': 'arpc3_hypotonic_after_separate_arpc3_tracking'}}, 'index_DNM2positive': 0, 'number_of_clusters': 5, 'distance_best_fit': 17, 'height_best_fit': 125, 'width_best_fit': 5},\n",
       "      dtype=object)"
      ]
     },
     "execution_count": 2,
     "metadata": {},
     "output_type": "execute_result"
    }
   ],
   "source": [
    "analysis_metadata"
   ]
  },
  {
   "cell_type": "markdown",
   "metadata": {},
   "source": [
    "# load all valid ap2/dnm2 tracks"
   ]
  },
  {
   "cell_type": "code",
   "execution_count": 34,
   "metadata": {},
   "outputs": [],
   "source": [
    "distance_best_fit = analysis_metadata.item().get('distance_best_fit')\n",
    "height_best_fit = analysis_metadata.item().get('height_best_fit')\n",
    "width_best_fit = analysis_metadata.item().get('width_best_fit')\n",
    "index_dnm2positive = analysis_metadata.item().get('index_DNM2positive')\n",
    "path_outputs = analysis_metadata.item().get('path_outputs')"
   ]
  },
  {
   "cell_type": "code",
   "execution_count": 57,
   "metadata": {},
   "outputs": [],
   "source": [
    "sos = signal.butter(4, 0.2, 'lp', fs=1, output='sos')"
   ]
  },
  {
   "cell_type": "code",
   "execution_count": 46,
   "metadata": {},
   "outputs": [],
   "source": [
    "exp_paths_ordered = ['ad_wildtype', \n",
    "                     'ada_wildtype', \n",
    "                     'ada_hypotonic_before', \n",
    "                     'ada_hypotonic_after',\n",
    "                     'ada_ck666_nt', \n",
    "                     'ada_ck666_dmso', \n",
    "                     'ada_ck666_ck666']"
   ]
  },
  {
   "cell_type": "code",
   "execution_count": 76,
   "metadata": {
    "scrolled": true
   },
   "outputs": [
    {
     "name": "stdout",
     "output_type": "stream",
     "text": [
      "running experiment ad_wildtype\n",
      "loading experiment tracks\n",
      "experiment 0\n",
      "experiment 1\n",
      "experiment 2\n",
      "experiment 3\n",
      "experiment 4\n",
      "experiment 5\n",
      "experiment 6\n",
      "experiment 7\n",
      "global experiment numbers: [0, 1, 2, 3, 4, 5, 6, 7]\n",
      "running experiment ada_wildtype\n",
      "loading experiment tracks\n",
      "experiment 0\n",
      "experiment 1\n",
      "experiment 2\n",
      "experiment 3\n",
      "experiment 4\n",
      "experiment 5\n",
      "experiment 6\n",
      "experiment 7\n",
      "experiment 8\n",
      "experiment 9\n",
      "experiment 10\n",
      "experiment 11\n",
      "experiment 12\n",
      "global experiment numbers: [8, 9, 10, 11, 12, 13, 14, 15, 16, 17, 18, 19, 20]\n",
      "running experiment ada_hypotonic_before\n",
      "loading experiment tracks\n",
      "experiment 0\n",
      "experiment 1\n",
      "experiment 2\n",
      "experiment 3\n",
      "experiment 4\n",
      "experiment 5\n",
      "experiment 6\n",
      "experiment 7\n",
      "experiment 8\n",
      "experiment 9\n",
      "global experiment numbers: [22, 24, 26, 28, 30, 62, 64, 66, 68, 70]\n",
      "running experiment ada_hypotonic_after\n",
      "loading experiment tracks\n",
      "experiment 0\n",
      "experiment 1\n",
      "experiment 2\n",
      "experiment 3\n",
      "experiment 4\n",
      "experiment 5\n",
      "experiment 6\n",
      "experiment 7\n",
      "experiment 8\n",
      "experiment 9\n",
      "global experiment numbers: [21, 23, 25, 27, 29, 61, 63, 65, 67, 69]\n",
      "running experiment ada_ck666_nt\n",
      "loading experiment tracks\n",
      "experiment 0\n",
      "experiment 1\n",
      "experiment 2\n",
      "experiment 3\n",
      "experiment 4\n",
      "experiment 5\n",
      "experiment 6\n",
      "experiment 7\n",
      "experiment 8\n",
      "experiment 9\n",
      "experiment 10\n",
      "experiment 11\n",
      "global experiment numbers: [43, 44, 45, 46, 47, 48, 55, 56, 57, 58, 59, 60]\n",
      "running experiment ada_ck666_dmso\n",
      "loading experiment tracks\n",
      "experiment 0\n",
      "experiment 1\n",
      "experiment 2\n",
      "experiment 3\n",
      "experiment 4\n",
      "experiment 5\n",
      "experiment 6\n",
      "experiment 7\n",
      "experiment 8\n",
      "global experiment numbers: [34, 35, 36, 40, 41, 42, 52, 53, 54]\n",
      "running experiment ada_ck666_ck666\n",
      "loading experiment tracks\n",
      "experiment 0\n",
      "experiment 1\n",
      "experiment 2\n",
      "experiment 3\n",
      "experiment 4\n",
      "experiment 5\n",
      "experiment 6\n",
      "experiment 7\n",
      "experiment 8\n",
      "global experiment numbers: [31, 32, 33, 37, 38, 39, 49, 50, 51]\n"
     ]
    }
   ],
   "source": [
    "number_of_peaks = [] # count the number of peaks\n",
    "experiment_number = []\n",
    "condition_number = []\n",
    "fraction_one_peak = []\n",
    "fraction_zero_peak = []\n",
    "fraction_multiple_peak = []\n",
    "\n",
    "for condition_num, exp_type in enumerate(exp_paths_ordered):\n",
    "    \n",
    "    print('running experiment', exp_type)\n",
    "    \n",
    "    experiment = exp_type\n",
    "    \n",
    "    experiment_metadata = analysis_metadata.item().get('experiment_groups')[experiment]\n",
    "    num_tracks = experiment_metadata['number_of_track_splits']\n",
    "    name_tracks = experiment_metadata['tracks']\n",
    "    df_experiment = experiment_metadata['df']\n",
    "    df_experiment = pd.read_csv(path_outputs+'/dataframes/'+df_experiment+'.zip')\n",
    "    print('loading experiment tracks')\n",
    "    print('experiment', 0)\n",
    "    merged_all_valid_tracks = np.load(path_outputs+\n",
    "                              '/dataframes/'+\n",
    "                              name_tracks+\n",
    "                              '_0.npy', allow_pickle=True)\n",
    "    \n",
    "    for i in range(1, num_tracks):\n",
    "        \n",
    "        print('experiment', i)\n",
    "        \n",
    "        merged_all_valid_tracks = np.concatenate((merged_all_valid_tracks,\n",
    "                                                 np.load(path_outputs+\n",
    "                                                 '/dataframes/'+\n",
    "                                                 name_tracks+\n",
    "                                                 '_'+\n",
    "                                                 str(i)+\n",
    "                                                 '.npy', allow_pickle=True)))\n",
    "        \n",
    "    number_of_clusters = analysis_metadata.item().get('number_of_clusters')\n",
    "\n",
    "    num_gmm_clusters = number_of_clusters # optimal number of clusters of PCA data\n",
    "\n",
    "\n",
    "    gmm_classes = []\n",
    "\n",
    "    df = df_experiment\n",
    "\n",
    "    for i in range(num_gmm_clusters):\n",
    "\n",
    "        gmm_classes.append(df[df['gmm_predictions']==i].index.values)    \n",
    "    \n",
    "    tracks_authentic_ccps_gmm = merged_all_valid_tracks[gmm_classes[index_dnm2positive]] #dnm2 positive events, mixed CCPS and hot-spots\n",
    "    \n",
    "    experiment_numbers = list(np.sort(list(set(df_experiment['experiment_number']))))\n",
    "    \n",
    "    experiment_numbers = [int(exp) for exp in experiment_numbers]\n",
    "    \n",
    "#     merged_all_valid_tracks_per_experiment = [] # each entry is a list for each experiment of tracks corresponding to predicted ccps \n",
    "\n",
    "    dnm2_events_per_exp = []\n",
    "\n",
    "    print('global experiment numbers:', experiment_numbers)\n",
    "    for exp in experiment_numbers: # only look at 3-color movies\n",
    "#         print(exp)\n",
    "        tracks_exp_idx = df[df['experiment_number']==exp].index.values\n",
    "        tracks_exp = merged_all_valid_tracks[tracks_exp_idx]\n",
    "\n",
    "        dnm2_preds_exp = df['gmm_predictions'].values[tracks_exp_idx]\n",
    "        idx_dnm2_exp = np.where(dnm2_preds_exp==index_dnm2positive)[0]\n",
    "\n",
    "        dnm2_events_per_exp.append(tracks_exp[idx_dnm2_exp])\n",
    "        \n",
    "    \n",
    "    for exp_index, exp_num in enumerate(experiment_numbers):\n",
    "\n",
    "        tracks_in_exp = dnm2_events_per_exp[exp_index]\n",
    "        filtered_amplitudes = []\n",
    "        num_peaks_temp = []\n",
    "        \n",
    "        for i in range(len(tracks_in_exp)):\n",
    "\n",
    "            raw_intensity = return_track_attributes.return_track_amplitude_no_buffer_channel(tracks_in_exp,i,1)\n",
    "\n",
    "            # add zeros to end to account for phase shift of near-track-end peaks\n",
    "            filtered_amplitude = list(list(signal.sosfilt(sos, raw_intensity)) + [0, 0, 0, 0, 0])\n",
    "\n",
    "            num_peaks_event = len(signal.find_peaks(filtered_amplitude, \n",
    "                                     distance=distance_best_fit, \n",
    "                                     height=height_best_fit,\n",
    "                                     width=width_best_fit)[0])\n",
    "            \n",
    "            num_peaks_temp.append(num_peaks_event)\n",
    "        \n",
    "        num_peaks_temp = np.array(num_peaks_temp)\n",
    "        \n",
    "        fraction_zero_peak.append(len(np.where(num_peaks_temp==0)[0])/len(num_peaks_temp))\n",
    "        fraction_one_peak.append(len(np.where(num_peaks_temp==1)[0])/len(num_peaks_temp))\n",
    "        fraction_multiple_peak.append(len(np.where(num_peaks_temp>1)[0])/len(num_peaks_temp))\n",
    "        \n",
    "        experiment_number.append(exp_num)\n",
    "        condition_number.append(condition_num)\n",
    "            "
   ]
  },
  {
   "cell_type": "code",
   "execution_count": 73,
   "metadata": {},
   "outputs": [
    {
     "data": {
      "text/plain": [
       "(72, 72, 71)"
      ]
     },
     "execution_count": 73,
     "metadata": {},
     "output_type": "execute_result"
    }
   ],
   "source": [
    "len(fraction_zero_peak), len(fraction_one_peak), len(fraction_multiple_peak)"
   ]
  },
  {
   "cell_type": "code",
   "execution_count": null,
   "metadata": {},
   "outputs": [],
   "source": [
    "# number_of_peaks.append(num_peaks_temp)\n",
    "#             experiment_number.append(exp_num)\n",
    "#             condition_number.append(condition_num)\n",
    "            "
   ]
  },
  {
   "cell_type": "code",
   "execution_count": 77,
   "metadata": {},
   "outputs": [],
   "source": [
    "# number_of_peaks = np.array(number_of_peaks).reshape(len(number_of_peaks), -1).astype(np.float)\n",
    "fraction_one_peak = np.array(fraction_one_peak).reshape(len(fraction_one_peak), -1).astype(np.float)\n",
    "fraction_zero_peak = np.array(fraction_zero_peak).reshape(len(fraction_zero_peak), -1).astype(np.float)\n",
    "fraction_multiple_peak = np.array(fraction_multiple_peak).reshape(len(fraction_multiple_peak), -1).astype(np.float)\n",
    "experiment_number = np.array(experiment_number).reshape(len(experiment_number), -1).astype(np.float)\n",
    "condition_number = np.array(condition_number).reshape(len(condition_number), -1).astype(np.float)\n",
    "\n",
    "data_df = np.hstack((fraction_zero_peak,\n",
    "                     fraction_one_peak,\n",
    "                     fraction_multiple_peak, \n",
    "                     experiment_number, \n",
    "                     condition_number))\n",
    "\n",
    "df_num_peaks = pd.DataFrame(data=data_df, columns=['fraction_zero_peak',\n",
    "                                                   'fraction_one_peak', \n",
    "                                                   'fraction_multiple_peak',\n",
    "                                                   'exp_num', \n",
    "                                                   'condition_num'])        \n"
   ]
  },
  {
   "cell_type": "code",
   "execution_count": 78,
   "metadata": {},
   "outputs": [
    {
     "data": {
      "text/html": [
       "<div>\n",
       "<style scoped>\n",
       "    .dataframe tbody tr th:only-of-type {\n",
       "        vertical-align: middle;\n",
       "    }\n",
       "\n",
       "    .dataframe tbody tr th {\n",
       "        vertical-align: top;\n",
       "    }\n",
       "\n",
       "    .dataframe thead th {\n",
       "        text-align: right;\n",
       "    }\n",
       "</style>\n",
       "<table border=\"1\" class=\"dataframe\">\n",
       "  <thead>\n",
       "    <tr style=\"text-align: right;\">\n",
       "      <th></th>\n",
       "      <th>fraction_zero_peak</th>\n",
       "      <th>fraction_one_peak</th>\n",
       "      <th>fraction_multiple_peak</th>\n",
       "      <th>exp_num</th>\n",
       "      <th>condition_num</th>\n",
       "    </tr>\n",
       "  </thead>\n",
       "  <tbody>\n",
       "    <tr>\n",
       "      <th>0</th>\n",
       "      <td>0.449102</td>\n",
       "      <td>0.425150</td>\n",
       "      <td>0.125749</td>\n",
       "      <td>0.0</td>\n",
       "      <td>0.0</td>\n",
       "    </tr>\n",
       "    <tr>\n",
       "      <th>1</th>\n",
       "      <td>0.531587</td>\n",
       "      <td>0.363636</td>\n",
       "      <td>0.104777</td>\n",
       "      <td>1.0</td>\n",
       "      <td>0.0</td>\n",
       "    </tr>\n",
       "    <tr>\n",
       "      <th>2</th>\n",
       "      <td>0.485897</td>\n",
       "      <td>0.408974</td>\n",
       "      <td>0.105128</td>\n",
       "      <td>2.0</td>\n",
       "      <td>0.0</td>\n",
       "    </tr>\n",
       "    <tr>\n",
       "      <th>3</th>\n",
       "      <td>0.490278</td>\n",
       "      <td>0.413889</td>\n",
       "      <td>0.095833</td>\n",
       "      <td>3.0</td>\n",
       "      <td>0.0</td>\n",
       "    </tr>\n",
       "    <tr>\n",
       "      <th>4</th>\n",
       "      <td>0.453195</td>\n",
       "      <td>0.423477</td>\n",
       "      <td>0.123328</td>\n",
       "      <td>4.0</td>\n",
       "      <td>0.0</td>\n",
       "    </tr>\n",
       "    <tr>\n",
       "      <th>...</th>\n",
       "      <td>...</td>\n",
       "      <td>...</td>\n",
       "      <td>...</td>\n",
       "      <td>...</td>\n",
       "      <td>...</td>\n",
       "    </tr>\n",
       "    <tr>\n",
       "      <th>66</th>\n",
       "      <td>0.606516</td>\n",
       "      <td>0.295739</td>\n",
       "      <td>0.097744</td>\n",
       "      <td>38.0</td>\n",
       "      <td>6.0</td>\n",
       "    </tr>\n",
       "    <tr>\n",
       "      <th>67</th>\n",
       "      <td>0.631184</td>\n",
       "      <td>0.302849</td>\n",
       "      <td>0.065967</td>\n",
       "      <td>39.0</td>\n",
       "      <td>6.0</td>\n",
       "    </tr>\n",
       "    <tr>\n",
       "      <th>68</th>\n",
       "      <td>0.580827</td>\n",
       "      <td>0.317669</td>\n",
       "      <td>0.101504</td>\n",
       "      <td>49.0</td>\n",
       "      <td>6.0</td>\n",
       "    </tr>\n",
       "    <tr>\n",
       "      <th>69</th>\n",
       "      <td>0.567696</td>\n",
       "      <td>0.334917</td>\n",
       "      <td>0.097387</td>\n",
       "      <td>50.0</td>\n",
       "      <td>6.0</td>\n",
       "    </tr>\n",
       "    <tr>\n",
       "      <th>70</th>\n",
       "      <td>0.576017</td>\n",
       "      <td>0.319058</td>\n",
       "      <td>0.104925</td>\n",
       "      <td>51.0</td>\n",
       "      <td>6.0</td>\n",
       "    </tr>\n",
       "  </tbody>\n",
       "</table>\n",
       "<p>71 rows × 5 columns</p>\n",
       "</div>"
      ],
      "text/plain": [
       "    fraction_zero_peak  fraction_one_peak  fraction_multiple_peak  exp_num  \\\n",
       "0             0.449102           0.425150                0.125749      0.0   \n",
       "1             0.531587           0.363636                0.104777      1.0   \n",
       "2             0.485897           0.408974                0.105128      2.0   \n",
       "3             0.490278           0.413889                0.095833      3.0   \n",
       "4             0.453195           0.423477                0.123328      4.0   \n",
       "..                 ...                ...                     ...      ...   \n",
       "66            0.606516           0.295739                0.097744     38.0   \n",
       "67            0.631184           0.302849                0.065967     39.0   \n",
       "68            0.580827           0.317669                0.101504     49.0   \n",
       "69            0.567696           0.334917                0.097387     50.0   \n",
       "70            0.576017           0.319058                0.104925     51.0   \n",
       "\n",
       "    condition_num  \n",
       "0             0.0  \n",
       "1             0.0  \n",
       "2             0.0  \n",
       "3             0.0  \n",
       "4             0.0  \n",
       "..            ...  \n",
       "66            6.0  \n",
       "67            6.0  \n",
       "68            6.0  \n",
       "69            6.0  \n",
       "70            6.0  \n",
       "\n",
       "[71 rows x 5 columns]"
      ]
     },
     "execution_count": 78,
     "metadata": {},
     "output_type": "execute_result"
    }
   ],
   "source": [
    "df_num_peaks"
   ]
  },
  {
   "cell_type": "code",
   "execution_count": 86,
   "metadata": {},
   "outputs": [
    {
     "data": {
      "text/plain": [
       "(0.0, 1.0)"
      ]
     },
     "execution_count": 86,
     "metadata": {},
     "output_type": "execute_result"
    },
    {
     "data": {
      "image/png": "[encoded data removed]",
      "text/plain": [
       "<Figure size 432x288 with 1 Axes>"
      ]
     },
     "metadata": {
      "needs_background": "light"
     },
     "output_type": "display_data"
    }
   ],
   "source": [
    "sns.stripplot(data=df_num_peaks,\n",
    "              x='condition_num',\n",
    "              y='fraction_zero_peak',\n",
    "              dodge=True)\n",
    "plt.ylim([0,1])"
   ]
  },
  {
   "cell_type": "code",
   "execution_count": 88,
   "metadata": {},
   "outputs": [
    {
     "data": {
      "text/plain": [
       "(0.0, 1.0)"
      ]
     },
     "execution_count": 88,
     "metadata": {},
     "output_type": "execute_result"
    },
    {
     "data": {
      "image/png": "[encoded data removed]",
      "text/plain": [
       "<Figure size 432x288 with 1 Axes>"
      ]
     },
     "metadata": {
      "needs_background": "light"
     },
     "output_type": "display_data"
    }
   ],
   "source": [
    "sns.stripplot(data=df_num_peaks,\n",
    "              x='condition_num',\n",
    "              y='fraction_one_peak',\n",
    "              dodge=True)\n",
    "plt.ylim([0,1])"
   ]
  },
  {
   "cell_type": "code",
   "execution_count": 89,
   "metadata": {},
   "outputs": [
    {
     "data": {
      "text/plain": [
       "(0.0, 1.0)"
      ]
     },
     "execution_count": 89,
     "metadata": {},
     "output_type": "execute_result"
    },
    {
     "data": {
      "image/png": "[encoded data removed]",
      "text/plain": [
       "<Figure size 432x288 with 1 Axes>"
      ]
     },
     "metadata": {
      "needs_background": "light"
     },
     "output_type": "display_data"
    }
   ],
   "source": [
    "sns.stripplot(data=df_num_peaks,\n",
    "              x='condition_num',\n",
    "              y='fraction_multiple_peak',\n",
    "              dodge=True)\n",
    "plt.ylim([0,1])"
   ]
  },
  {
   "cell_type": "code",
   "execution_count": 85,
   "metadata": {},
   "outputs": [],
   "source": [
    "# plt.figure(dpi=100, figsize=(15,5))\n",
    "\n",
    "# sns.stripplot(data=df_num_peaks,\n",
    "#               x='condition_num',\n",
    "#               y='fraction_zero_peak',\n",
    "#               dodge=True,\n",
    "#               jitter=False,\n",
    "#               hue='exp_num')"
   ]
  },
  {
   "cell_type": "code",
   "execution_count": 35,
   "metadata": {},
   "outputs": [],
   "source": [
    "# merged_all_valid_tracks_ada_wildtype = np.load(path_outputs+\n",
    "#                               '/dataframes/'+\n",
    "#                               name_tracks+\n",
    "#                           `    '_0.npy', allow_pickle=True)\n",
    "# for i in range(1, num_tracks):\n",
    "#     print(i)\n",
    "#     merged_all_valid_tracks_ada_wildtype = np.concatenate((merged_all_valid_tracks_ada_wildtype,\n",
    "#                                              np.load(path_outputs+\n",
    "#                                              '/dataframes/'+\n",
    "#                                              name_tracks+\n",
    "#                                              '_'+\n",
    "#                                              str(i)+\n",
    "#                                              '.npy', allow_pickle=True)))"
   ]
  },
  {
   "cell_type": "markdown",
   "metadata": {},
   "source": [
    "<!-- # sort DNM2+ events -->"
   ]
  },
  {
   "cell_type": "code",
   "execution_count": 36,
   "metadata": {},
   "outputs": [],
   "source": [
    "# number_of_clusters = analysis_metadata.item().get('number_of_clusters')\n",
    "\n",
    "# num_gmm_clusters = number_of_clusters # optimal number of clusters of PCA data\n",
    "\n",
    "\n",
    "# gmm_classes = []\n",
    "\n",
    "# df = df_experiment\n",
    "\n",
    "# for i in range(num_gmm_clusters):\n",
    "\n",
    "#     gmm_classes.append(df[df['gmm_predictions']==i].index.values)    "
   ]
  },
  {
   "cell_type": "markdown",
   "metadata": {},
   "source": [
    "<!-- # separate single-CCP events by experiment -->"
   ]
  },
  {
   "cell_type": "code",
   "execution_count": 38,
   "metadata": {},
   "outputs": [],
   "source": [
    "# experiment_numbers = list(np.sort(list(set(df_experiment['experiment_number']))))"
   ]
  },
  {
   "cell_type": "code",
   "execution_count": 39,
   "metadata": {},
   "outputs": [],
   "source": [
    "# merged_all_valid_tracks_per_experiment = [] # each entry is a list for each experiment of tracks corresponding to predicted ccps \n",
    "\n",
    "# dnm2_events_per_exp = []\n",
    "\n",
    "\n",
    "# for experiment_number in experiment_numbers: # only look at 3-color movies\n",
    "#     print(experiment_number)\n",
    "#     tracks_exp_idx = df[df['experiment_number']==experiment_number].index.values\n",
    "#     tracks_exp = merged_all_valid_tracks_ada_wildtype[tracks_exp_idx]\n",
    "    \n",
    "#     dnm2_preds_exp = df['gmm_predictions'].values[tracks_exp_idx]\n",
    "#     idx_dnm2_exp = np.where(dnm2_preds_exp==index_dnm2positive)[0]\n",
    "    \n",
    "#     dnm2_events_per_exp.append(tracks_exp[idx_dnm2_exp])"
   ]
  },
  {
   "cell_type": "code",
   "execution_count": 40,
   "metadata": {},
   "outputs": [],
   "source": [
    "# len(dnm2_events_per_exp)"
   ]
  },
  {
   "cell_type": "code",
   "execution_count": 42,
   "metadata": {},
   "outputs": [],
   "source": [
    "# num_dnm2 = np.sum([len(dnm2_events_per_exp[i]) for i in range(len(dnm2_events_per_exp))])"
   ]
  },
  {
   "cell_type": "code",
   "execution_count": null,
   "metadata": {},
   "outputs": [],
   "source": [
    "num_peaks = [] # count the number of peaks\n",
    "exp_number = []\n",
    "\n",
    "for exp_index, exp_num in experiment_numbers:\n",
    "    \n",
    "    tracks_in_exp = dnm2_events_per_exp[exp_index]\n",
    "    filtered_amplitudes = []\n",
    "    \n",
    "    for i in range(len(tracks_in_exp)):\n",
    "            \n",
    "        raw_intensity = return_track_attributes.return_track_amplitude_no_buffer_channel(tracks_in_exp,i,1)\n",
    "\n",
    "        # add zeros to end to account for phase shift of near-track-end peaks\n",
    "        filtered_amplitude = list(list(signal.sosfilt(sos, raw_intensity)) + [0, 0, 0, 0, 0])\n",
    "\n",
    "        num_peaks_temp = len(signal.find_peaks(filtered_amplitude, \n",
    "                                 distance=distance_best_fit, \n",
    "                                 height=height_best_fit,\n",
    "                                 width=width_best_fit)[0])\n"
   ]
  }
 ],
 "metadata": {
  "kernelspec": {
   "display_name": "Python 3",
   "language": "python",
   "name": "python3"
  },
  "language_info": {
   "codemirror_mode": {
    "name": "ipython",
    "version": 3
   },
   "file_extension": ".py",
   "mimetype": "text/x-python",
   "name": "python",
   "nbconvert_exporter": "python",
   "pygments_lexer": "ipython3",
   "version": "3.6.12"
  }
 },
 "nbformat": 4,
 "nbformat_minor": 4
}
