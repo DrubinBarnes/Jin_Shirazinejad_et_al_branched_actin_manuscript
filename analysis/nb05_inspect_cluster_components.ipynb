{
 "cells": [
  {
   "cell_type": "markdown",
   "metadata": {},
   "source": [
    "Cyna Shirazinejad, 7/7/21\n",
    "\n",
    "# Notebook 5: visualize clustering results\n",
    "\n",
    "outline:\n",
    "\n",
    "* visualize lifetime cohorts of cmeDNM2+ events\n",
    "* visualize the lifetime distribution of cmeAnalysisDNM2+ events\n",
    "* compare the features of events between different model clusters\n",
    "* * repeat for events within clusters that are cmeDNM2+ events \n",
    "* visualize lifetime cohorts of clustered events \n",
    "* visualize examples of events within each cluster\n",
    "* * repeat for examples of events within each cluster that are cmeAnalysisDNM2+\n",
    "* attempt to predict the identity of events with supervised classifiers for:\n",
    "* * events that are within the DNM2+ cluster vs. other clusters\n",
    "* * events within their respective 5 clusters"
   ]
  },
  {
   "cell_type": "markdown",
   "metadata": {},
   "source": [
    "# import all necessary Python modules"
   ]
  },
  {
   "cell_type": "code",
   "execution_count": null,
   "metadata": {},
   "outputs": [],
   "source": [
    "%load_ext autoreload\n",
    "%autoreload 2\n",
    "import sys\n",
    "import pandas as pd\n",
    "import numpy as np\n",
    "from scipy import stats\n",
    "from IPython.display import Image, display\n",
    "import matplotlib.pyplot as plt\n",
    "import random\n",
    "import pickle\n",
    "from sklearn.metrics import confusion_matrix, ConfusionMatrixDisplay\n",
    "from sklearn.model_selection import train_test_split\n",
    "from sklearn.svm import SVC\n",
    "import sklearn.preprocessing as preprocessing\n",
    "from sklearn.ensemble import RandomForestClassifier\n",
    "unique_user_path_notebook = str(np.load('unique_user_path_notebook.npy'))\n",
    "unique_user_saved_outputs = str(np.load('unique_user_saved_outputs.npy'))\n",
    "sys.path.append(unique_user_path_notebook+'/cmeAnalysisPostProcessingPythonScripts') # add custom Python scripts to the local path\n",
    "import display_tracks\n",
    "import return_track_attributes"
   ]
  },
  {
   "cell_type": "markdown",
   "metadata": {},
   "source": [
    "# load pertinent dataframes from previous notebooks"
   ]
  },
  {
   "cell_type": "code",
   "execution_count": null,
   "metadata": {},
   "outputs": [],
   "source": [
    "# load dataframes\n",
    "df_pcs_normal_scaled_with_gmm_cluster = pd.read_csv(unique_user_saved_outputs+'/dataframes/df_pcs_normal_scaled_with_gmm_cluster.zip')\n",
    "df_merged_features = pd.read_csv(unique_user_saved_outputs+'/dataframes/df_merged_features.zip')\n",
    "feature_units = np.load(unique_user_saved_outputs+'/dataframes/feature_units.npy')\n",
    "number_of_track_splits = np.load(unique_user_saved_outputs+'/dataframes/number_of_track_splits.npy')\n",
    "number_of_clusters = np.load(unique_user_saved_outputs+\"/dataframes/number_of_clusters.npy\")\n",
    "index_DNM2positive = np.load(unique_user_saved_outputs+'/dataframes/cluster_dnm2_positive.npy')"
   ]
  },
  {
   "cell_type": "code",
   "execution_count": null,
   "metadata": {},
   "outputs": [],
   "source": [
    "index_DNM2positive"
   ]
  },
  {
   "cell_type": "markdown",
   "metadata": {},
   "source": [
    "# load all valid tracks"
   ]
  },
  {
   "cell_type": "code",
   "execution_count": null,
   "metadata": {},
   "outputs": [],
   "source": [
    "# load all valid tracks\n",
    "merged_all_valid_tracks = np.load(unique_user_saved_outputs+'/dataframes/merged_all_valid_tracks_0.npy', allow_pickle=True)\n",
    "\n",
    "for i in range(1,number_of_track_splits):\n",
    "\n",
    "    merged_all_valid_tracks = np.concatenate((merged_all_valid_tracks,\n",
    "                                             np.load(unique_user_saved_outputs+'/dataframes/merged_all_valid_tracks_'+str(i)+'.npy', allow_pickle=True)))"
   ]
  },
  {
   "cell_type": "markdown",
   "metadata": {},
   "source": [
    "# get indices of all valid tracks marked by +/- DNM2 as marked by cmeAnalysis"
   ]
  },
  {
   "cell_type": "code",
   "execution_count": null,
   "metadata": {},
   "outputs": [],
   "source": [
    "track_indices_cmeAnalysis_dnm2_negative = df_merged_features[df_merged_features['cmeAnalysis_dynamin2_prediction']==0.0].index.values\n",
    "track_indices_cmeAnalysis_dnm2_positive = df_merged_features[df_merged_features['cmeAnalysis_dynamin2_prediction']==1.0].index.values"
   ]
  },
  {
   "cell_type": "markdown",
   "metadata": {},
   "source": [
    "# cohort plots of cmeAnalyis +/- DNM2, binned in cohorts defined above"
   ]
  },
  {
   "cell_type": "code",
   "execution_count": null,
   "metadata": {},
   "outputs": [],
   "source": [
    "cohort_groups = [[[0,40]],[[40,60]],[[60,80]],[[80,int(max(df_merged_features['lifetime']))]]]\n",
    "np.save(unique_user_saved_outputs+\"/dataframes/cohort_groups\", cohort_groups)"
   ]
  },
  {
   "cell_type": "code",
   "execution_count": null,
   "metadata": {},
   "outputs": [],
   "source": [
    "cohort_groups"
   ]
  },
  {
   "cell_type": "code",
   "execution_count": null,
   "metadata": {},
   "outputs": [],
   "source": [
    "%%capture\n",
    "labels = [track_indices_cmeAnalysis_dnm2_negative,track_indices_cmeAnalysis_dnm2_positive]\n",
    "\n",
    "for cohorts in cohort_groups:\n",
    "\n",
    "    display_tracks.fit_cohorts(merged_all_valid_tracks, labels, (20,10*len(labels)), (len(labels),1),\n",
    "                              filename=unique_user_saved_outputs+'/plots/cmeAnalysis_dynamin2_significance_'+str(cohorts)+'.png',\n",
    "                              cohorts=cohorts)"
   ]
  },
  {
   "cell_type": "code",
   "execution_count": null,
   "metadata": {
    "scrolled": true
   },
   "outputs": [],
   "source": [
    "for cohorts in cohort_groups:\n",
    "\n",
    "    display(Image(filename=unique_user_saved_outputs+'/plots/cmeAnalysis_dynamin2_significance_'+str(cohorts)+'.png', height=500, width=500))"
   ]
  },
  {
   "cell_type": "markdown",
   "metadata": {},
   "source": [
    "# fit of cmeAnalysis DNM2+ events to Rayleigh distribution"
   ]
  },
  {
   "cell_type": "code",
   "execution_count": null,
   "metadata": {},
   "outputs": [],
   "source": [
    "%%capture\n",
    "\n",
    "plt.style.use('default')\n",
    "\n",
    "lifetimes = [] # extract lifetimes of all cmeAnalysis DNM2 positive events\n",
    "\n",
    "cmeAnalysisDNM2positive_tracks = np.array(list(merged_all_valid_tracks))[track_indices_cmeAnalysis_dnm2_positive]\n",
    "\n",
    "for i in range(len(cmeAnalysisDNM2positive_tracks)):\n",
    "\n",
    "    lifetimes.append(return_track_attributes.return_track_lifetime(cmeAnalysisDNM2positive_tracks,i))\n",
    "\n",
    "ray = stats.rayleigh # fit lifetimes to a Rayleigh distribution\n",
    "param = ray.fit(lifetimes)\n",
    "\n",
    "ks_pvals = stats.kstest(lifetimes,stats.rayleigh(*param).cdf)[1] # measure the goodness-of-fit to Rayleigh distribution\n",
    "\n",
    "x = np.linspace(np.min(lifetimes), np.max(lifetimes), 100)\n",
    "pdf_fitted = ray.pdf(x, loc=param[0], scale=param[1])\n",
    "\n",
    "percentiles = np.linspace(0,100,51)\n",
    "percentile_lifetime_thresholds = np.percentile(lifetimes, percentiles)\n",
    "obs_freq, bins = np.histogram(lifetimes, percentile_lifetime_thresholds);\n",
    "cum_obs_freq = np.cumsum(obs_freq)\n",
    "\n",
    "cdf_fitted = stats.rayleigh.cdf(percentile_lifetime_thresholds, loc=param[-2], scale=param[-1]);\n",
    "\n",
    "expected_frequency = []\n",
    "\n",
    "for bin_ in range(len(percentiles)-1):\n",
    "\n",
    "    expected_cdf_area = cdf_fitted[bin_+1] - cdf_fitted[bin_]\n",
    "    expected_frequency.append(expected_cdf_area * len(lifetimes))\n",
    "\n",
    "cum_expected_frequency = np.cumsum(np.array(expected_frequency))\n",
    "\n",
    "chi_sq_stat, chi_sq_pval = stats.chisquare(cum_obs_freq, cum_expected_frequency);\n",
    "\n",
    "obs_freq, bins = np.histogram(lifetimes, percentile_lifetime_thresholds, density=True)\n",
    "pdf = stats.rayleigh.pdf(bins[1:], *param)\n",
    "sse = np.sum(np.power(obs_freq - pdf, 2.0))    \n",
    "\n",
    "plt.figure(figsize=(8,8),dpi=500)\n",
    "\n",
    "plt.hist(lifetimes, density=1, label='raw lifetimes', bins='auto')\n",
    "\n",
    "plt.plot(x,pdf_fitted, label='fitted lifetimes')\n",
    "\n",
    "plt.xlabel('lifetime (s)', fontsize=20)\n",
    "plt.ylabel('frequency density', fontsize=20)\n",
    "plt.title('lifetimes of all cmeAnalysis determined DNM2 positive events'+\n",
    "          '\\np-value of Kolmogorov-Smirnov test: ' + str(ks_pvals)+\n",
    "          '\\np-value of Chi-squared test: ' + str(chi_sq_pval)+\n",
    "          '\\nSSE: ' + str(sse), fontsize=10)\n",
    "plt.savefig(unique_user_saved_outputs+'/plots/cmeAnalyis_dnm2_positive_events_fit_rayleigh.png', bbox_inches='tight')"
   ]
  },
  {
   "cell_type": "code",
   "execution_count": null,
   "metadata": {},
   "outputs": [],
   "source": [
    "Image(filename=unique_user_saved_outputs+'/plots/cmeAnalyis_dnm2_positive_events_fit_rayleigh.png', height=500, width=500)"
   ]
  },
  {
   "cell_type": "markdown",
   "metadata": {},
   "source": [
    "# get indices of tracks in 5 GMM clusters"
   ]
  },
  {
   "cell_type": "code",
   "execution_count": null,
   "metadata": {},
   "outputs": [],
   "source": [
    "gmm_class_indices = []\n",
    "\n",
    "for i in range(number_of_clusters):\n",
    "\n",
    "    gmm_class_indices.append(df_pcs_normal_scaled_with_gmm_cluster[df_pcs_normal_scaled_with_gmm_cluster['gmm_predictions']==i].index.values)    \n",
    "\n",
    "\n",
    "cme_positive_total = 0\n",
    "\n",
    "for i,labels_list in enumerate(gmm_class_indices):\n",
    "\n",
    "    cme_negative = len(set(labels_list).intersection(track_indices_cmeAnalysis_dnm2_negative))\n",
    "    cme_positive = len(set(labels_list).intersection(track_indices_cmeAnalysis_dnm2_positive))\n",
    "\n",
    "    print('the number of members in class {}: {}'.format(i,len(labels_list)))    \n",
    "    print('the number of members of class {} in dynamin2-negative predicted by cmeAnalysis: {}'.format(i,cme_negative))\n",
    "    print('the number of members of class {} in dynamin2-positive predicted by cmeAnalysis: {}'.format(i,cme_positive))"
   ]
  },
  {
   "cell_type": "markdown",
   "metadata": {},
   "source": [
    "# feature comparison between model clusters"
   ]
  },
  {
   "cell_type": "code",
   "execution_count": null,
   "metadata": {},
   "outputs": [],
   "source": [
    "%%capture\n",
    "\n",
    "plt.style.use('default')\n",
    "\n",
    "num_columns = 5\n",
    "num_rows = np.ceil(len(feature_units)/num_columns)\n",
    "\n",
    "plot_position = 1 \n",
    "\n",
    "f = plt.figure(dpi=500, figsize=(30,30))\n",
    "\n",
    "df = df_pcs_normal_scaled_with_gmm_cluster\n",
    "\n",
    "\n",
    "for i in range(len(feature_units)):\n",
    "\n",
    "    ax = f.add_subplot(num_rows, num_columns, plot_position)\n",
    "    plot_position+=1\n",
    "    \n",
    "    all_feature_values = df_merged_features[df_merged_features.columns[i]].values\n",
    "    \n",
    "    for cluster_num in range(number_of_clusters):\n",
    "        \n",
    "        cluster_features_indices = gmm_class_indices[cluster_num]\n",
    "        cluster_features = df_merged_features[df_merged_features.columns[i]].values[cluster_features_indices]\n",
    "\n",
    "        ax.hist(cluster_features, label=cluster_num, bins=len(cluster_features), density=True, histtype='step', cumulative=True)\n",
    "\n",
    "    ax.set_xlabel(df_merged_features.columns[i]+' ('+feature_units[i]+')',fontsize=5)\n",
    "    ax.set_ylabel('cumulative frequency',fontsize=5)\n",
    "    ax.set_xlim([np.max((np.min(all_feature_values),np.min(all_feature_values))),\n",
    "                 np.min((np.max(all_feature_values),np.max(all_feature_values)))])\n",
    "    ax.tick_params(axis='both', which='major', labelsize=3)\n",
    "    ax.tick_params(axis='both', which='minor', labelsize=3)\n",
    "    plt.legend(loc='best')\n",
    "    plt.grid()\n",
    "    \n",
    "f.suptitle('track features, comparing GMM components')\n",
    "f.savefig(unique_user_saved_outputs+'/plots/all_features_compared_between_classes.png', bbox_inches='tight')"
   ]
  },
  {
   "cell_type": "code",
   "execution_count": null,
   "metadata": {},
   "outputs": [],
   "source": [
    "Image(filename=unique_user_saved_outputs+'/plots/all_features_compared_between_classes.png', height=500, width=500)"
   ]
  },
  {
   "cell_type": "markdown",
   "metadata": {},
   "source": [
    "# feature comparison between DNM2+ events between experiments"
   ]
  },
  {
   "cell_type": "code",
   "execution_count": null,
   "metadata": {},
   "outputs": [],
   "source": [
    "%%capture\n",
    "\n",
    "plt.style.use('default')\n",
    "\n",
    "plot_position = 1 \n",
    "\n",
    "f = plt.figure(dpi=500, figsize=(30,30))\n",
    "\n",
    "df = df_pcs_normal_scaled_with_gmm_cluster\n",
    "colors = ['blue', 'orange', 'green', 'red', 'purple', 'brown', 'magenta', 'grey']\n",
    "\n",
    "indices_dnm2_positive = gmm_class_indices[index_DNM2positive]\n",
    "for i in range(len(feature_units)):\n",
    "\n",
    "    ax = f.add_subplot(num_rows, num_columns, plot_position)\n",
    "    plot_position+=1\n",
    "    \n",
    "    all_feature_values = df_merged_features[df_merged_features.columns[i]].values\n",
    "    \n",
    "    for exp_number in range(0,len(set(df_merged_features['experiment_number']))):\n",
    "        \n",
    "        indices_experiment = np.where(df_merged_features['experiment_number'].values==exp_number)[0]\n",
    "        indices_dnm2_positive_experiment = np.array(list(set(indices_dnm2_positive).intersection(set(indices_experiment))))\n",
    "        features_in_experiment = all_feature_values[indices_dnm2_positive_experiment]\n",
    "\n",
    "        ax.hist(features_in_experiment, label=exp_number, bins='auto', density=True, histtype='step', cumulative=True, color=colors[exp_number])\n",
    "\n",
    "    ax.set_xlabel(df_merged_features.columns[i]+' ('+feature_units[i]+')',fontsize=5)\n",
    "    ax.set_ylabel('cumulative frequency',fontsize=5)\n",
    "    ax.set_xlim([np.max((np.min(all_feature_values),np.min(all_feature_values))),\n",
    "                 np.min((np.max(all_feature_values),np.max(all_feature_values)))])\n",
    "    ax.tick_params(axis='both', which='major', labelsize=3)\n",
    "    ax.tick_params(axis='both', which='minor', labelsize=3)\n",
    "    plt.legend(loc='best')\n",
    "    plt.grid()\n",
    "    \n",
    "f.suptitle('track features, comparing DNM2+ across experiments')\n",
    "f.savefig(unique_user_saved_outputs+'/plots/all_features_comparing_dnm2_pos_across_experiments.png', bbox_inches='tight')"
   ]
  },
  {
   "cell_type": "code",
   "execution_count": null,
   "metadata": {},
   "outputs": [],
   "source": [
    "Image(filename=unique_user_saved_outputs+'/plots/all_features_comparing_dnm2_pos_across_experiments.png', height=500, width=500)"
   ]
  },
  {
   "cell_type": "markdown",
   "metadata": {},
   "source": [
    "# feature comparison between model clusters for members that overlap with cmeAnalysis' DNM2 positive prediction"
   ]
  },
  {
   "cell_type": "code",
   "execution_count": null,
   "metadata": {},
   "outputs": [],
   "source": [
    "%%capture\n",
    "\n",
    "plt.style.use('default')\n",
    "\n",
    "plot_position = 1 \n",
    "\n",
    "f = plt.figure(dpi=500, figsize=(30,30))\n",
    "\n",
    "df = df_pcs_normal_scaled_with_gmm_cluster\n",
    "\n",
    "\n",
    "for i in range(len(feature_units)):\n",
    "\n",
    "    ax = f.add_subplot(num_rows, num_columns, plot_position)\n",
    "    plot_position+=1\n",
    "    \n",
    "    all_feature_values = df_merged_features[df_merged_features.columns[i]].values\n",
    "    \n",
    "    for cluster_num in range(number_of_clusters):\n",
    "        \n",
    "        labels_list = gmm_class_indices[cluster_num]\n",
    "        cme_positive_overlap = list(set(labels_list).intersection(track_indices_cmeAnalysis_dnm2_positive))\n",
    "        cluster_features = df_merged_features[df_merged_features.columns[i]].values[cme_positive_overlap]\n",
    "\n",
    "        ax.hist(cluster_features, label=cluster_num, bins=len(cluster_features), density=True, histtype='step', cumulative=True)\n",
    "\n",
    "    ax.set_xlabel(df_merged_features.columns[i]+' ('+feature_units[i]+')',fontsize=5)\n",
    "    ax.set_ylabel('cumulative frequency',fontsize=5)\n",
    "    ax.set_xlim([np.max((np.min(all_feature_values),np.min(all_feature_values))),\n",
    "                 np.min((np.max(all_feature_values),np.max(all_feature_values)))])\n",
    "    ax.tick_params(axis='both', which='major', labelsize=3)\n",
    "    ax.tick_params(axis='both', which='minor', labelsize=3)\n",
    "    plt.legend(loc='best')\n",
    "    plt.grid()\n",
    "    \n",
    "f.suptitle('track features, comparing GMM components')\n",
    "f.savefig(unique_user_saved_outputs+'/plots/all_features_compared_between_classes_overlap_cmeAnalysis_dnm2_positive.png', bbox_inches='tight')"
   ]
  },
  {
   "cell_type": "code",
   "execution_count": null,
   "metadata": {},
   "outputs": [],
   "source": [
    "Image(filename=unique_user_saved_outputs+'/plots/all_features_compared_between_classes_overlap_cmeAnalysis_dnm2_positive.png', height=500, width=500)"
   ]
  },
  {
   "cell_type": "markdown",
   "metadata": {},
   "source": [
    "# feature comparison between model clusters, separating DNM2+ cluster and rest"
   ]
  },
  {
   "cell_type": "code",
   "execution_count": null,
   "metadata": {},
   "outputs": [],
   "source": [
    "%%capture\n",
    "\n",
    "plt.style.use('default')\n",
    "\n",
    "plot_position = 1 \n",
    "\n",
    "f = plt.figure(dpi=500, figsize=(30,30))\n",
    "\n",
    "df = df_pcs_normal_scaled_with_gmm_cluster\n",
    "\n",
    "clusters = list(range(number_of_clusters))\n",
    "clusters.pop(index_DNM2positive)\n",
    "random_not_dnm2positive_cluster = random.choice(clusters)\n",
    "\n",
    "for i in range(len(feature_units)):\n",
    "\n",
    "    ax = f.add_subplot(num_rows, num_columns, plot_position)\n",
    "    plot_position+=1\n",
    "    \n",
    "    all_feature_values = df_merged_features[df_merged_features.columns[i]].values\n",
    "    \n",
    "    for cluster_num in range(number_of_clusters):\n",
    "        \n",
    "        cluster_features_indices = gmm_class_indices[cluster_num]\n",
    "        cluster_features = df_merged_features[df_merged_features.columns[i]].values[cluster_features_indices]\n",
    "\n",
    "        if cluster_num==index_DNM2positive:\n",
    "            \n",
    "            ax.hist(cluster_features, bins=len(cluster_features), density=True, histtype='step', cumulative=True, color='black', label='DNM2 positive')\n",
    "            \n",
    "        elif cluster_num==random_not_dnm2positive_cluster:\n",
    "            \n",
    "            ax.hist(cluster_features, bins=len(cluster_features), density=True, histtype='step', cumulative=True, color='red', label='DNM2 negative')\n",
    "        \n",
    "        else:\n",
    "            \n",
    "            ax.hist(cluster_features, bins=len(cluster_features), density=True, histtype='step', cumulative=True, color='red')\n",
    "            \n",
    "    ax.set_xlabel(df_merged_features.columns[i]+' ('+feature_units[i]+')',fontsize=5)\n",
    "    ax.set_ylabel('cumulative frequency',fontsize=5)\n",
    "    ax.set_xlim([np.max((np.min(all_feature_values),np.min(all_feature_values))),\n",
    "                 np.min((np.max(all_feature_values),np.max(all_feature_values)))])\n",
    "    ax.tick_params(axis='both', which='major', labelsize=3)\n",
    "    ax.tick_params(axis='both', which='minor', labelsize=3)\n",
    "    plt.legend(loc='best')\n",
    "    plt.grid()\n",
    "    \n",
    "f.suptitle('track features, comparing GMM components')\n",
    "f.savefig(unique_user_saved_outputs+'/plots/all_features_compared_between_classes_highlighting_dnm2positive.png', bbox_inches='tight')"
   ]
  },
  {
   "cell_type": "code",
   "execution_count": null,
   "metadata": {},
   "outputs": [],
   "source": [
    "Image(filename=unique_user_saved_outputs+'/plots/all_features_compared_between_classes_highlighting_dnm2positive.png', height=500, width=500)"
   ]
  },
  {
   "cell_type": "markdown",
   "metadata": {},
   "source": [
    "# cohort plots of GMM class, binned in cohorts defined above"
   ]
  },
  {
   "cell_type": "code",
   "execution_count": null,
   "metadata": {},
   "outputs": [],
   "source": [
    "%%capture\n",
    "\n",
    "plt.style.use('default')\n",
    "\n",
    "labels = gmm_class_indices\n",
    "\n",
    "for cohorts in cohort_groups:\n",
    "\n",
    "    display_tracks.fit_cohorts(merged_all_valid_tracks, labels, (20,10*len(labels)), (len(labels),1),\n",
    "                               filename=unique_user_saved_outputs+'/plots/gmm_'+str(number_of_clusters)+'_clusters_cohorts_'+str(cohorts)+'.png',\n",
    "                               cohorts=cohorts)"
   ]
  },
  {
   "cell_type": "code",
   "execution_count": null,
   "metadata": {
    "scrolled": true
   },
   "outputs": [],
   "source": [
    "for cohorts in cohort_groups:\n",
    " \n",
    "    display(Image(filename=unique_user_saved_outputs+'/plots/gmm_'+str(number_of_clusters)+'_clusters_cohorts_'+str(cohorts)+'.png', height=500, width=500))"
   ]
  },
  {
   "cell_type": "markdown",
   "metadata": {},
   "source": [
    "# cohort plots of GMM class, fix axes for each cohort to compare clusters"
   ]
  },
  {
   "cell_type": "code",
   "execution_count": null,
   "metadata": {},
   "outputs": [],
   "source": [
    "%%capture\n",
    "plt.style.use('default')\n",
    "upperbounds = [180, 350, 500, 700]\n",
    "\n",
    "for i in range(len(cohort_groups)):\n",
    "\n",
    "    display_tracks.fit_cohorts_fixed_axes(merged_all_valid_tracks, gmm_class_indices, upperbounds[i], (20,50), (5,1),\n",
    "                                   filename=unique_user_saved_outputs+'/plots/gmm_fixed_axis_cohort_'+str(number_of_clusters)+'_clusters_cohorts_'+str(cohort_groups[i])+'.png',\n",
    "                                   cohorts=cohort_groups[i])"
   ]
  },
  {
   "cell_type": "code",
   "execution_count": null,
   "metadata": {
    "scrolled": true
   },
   "outputs": [],
   "source": [
    "for i in range(len(cohort_groups)):\n",
    "    \n",
    "    display(Image(filename=unique_user_saved_outputs+'/plots/gmm_fixed_axis_cohort_'+str(number_of_clusters)+'_clusters_cohorts_'+str(cohort_groups[i])+'.png', height=500, width=500))"
   ]
  },
  {
   "cell_type": "markdown",
   "metadata": {},
   "source": [
    "# plot examples of random samples from each GMM class"
   ]
  },
  {
   "cell_type": "code",
   "execution_count": null,
   "metadata": {},
   "outputs": [],
   "source": [
    "%%capture\n",
    "\n",
    "plt.style.use('default')\n",
    "\n",
    "for i in range(len(gmm_class_indices)):\n",
    "\n",
    "    display_tracks.plot_subplots_of_labels(merged_all_valid_tracks, \n",
    "                                           2, \n",
    "                                           ['m','g'],\n",
    "                                           [0, 1],\n",
    "                                           gmm_class_indices[i], \n",
    "                                           int(number_of_clusters), \n",
    "                                           50, \n",
    "                                           filename=unique_user_saved_outputs+'/plots/gmm_'+str(number_of_clusters)+'_clusters_class_'+str(i)+'.png')"
   ]
  },
  {
   "cell_type": "code",
   "execution_count": null,
   "metadata": {
    "scrolled": true
   },
   "outputs": [],
   "source": [
    "for i in range(len(gmm_class_indices)):\n",
    "    print('gmm cluster: ' + str(i))\n",
    "    display(Image(filename=unique_user_saved_outputs+'/plots/gmm_'+str(number_of_clusters)+'_clusters_class_'+str(i)+'.png', height=500, width=500))"
   ]
  },
  {
   "cell_type": "markdown",
   "metadata": {},
   "source": [
    "# include background significance thresholds"
   ]
  },
  {
   "cell_type": "code",
   "execution_count": null,
   "metadata": {},
   "outputs": [],
   "source": [
    "%%capture\n",
    "\n",
    "plt.style.use('default')\n",
    "\n",
    "for i in range(len(gmm_class_indices)):\n",
    "\n",
    "    display_tracks.plot_subplots_of_labels(merged_all_valid_tracks, \n",
    "                                           2, \n",
    "                                           ['m','g'],\n",
    "                                           [0, 1],\n",
    "                                           gmm_class_indices[i], \n",
    "                                           int(number_of_clusters), \n",
    "                                           50, \n",
    "                                           filename=unique_user_saved_outputs+'/plots/gmm_'+str(number_of_clusters)+'_clusters_class_'+str(i)+'_including_background.png',\n",
    "                                           include_background=True)"
   ]
  },
  {
   "cell_type": "code",
   "execution_count": null,
   "metadata": {
    "scrolled": true
   },
   "outputs": [],
   "source": [
    "for i in range(len(gmm_class_indices)):\n",
    "    print('gmm cluster: ' + str(i))\n",
    "    display(Image(filename=unique_user_saved_outputs+'/plots/gmm_'+str(number_of_clusters)+'_clusters_class_'+str(i)+'_including_background.png', height=500, width=500))"
   ]
  },
  {
   "cell_type": "markdown",
   "metadata": {},
   "source": [
    "# plot examples of random samples from each GMM class that also overlaps with DNM2 positive from cmeAnalysis"
   ]
  },
  {
   "cell_type": "code",
   "execution_count": null,
   "metadata": {},
   "outputs": [],
   "source": [
    "%%capture\n",
    "\n",
    "plt.style.use('default')\n",
    "\n",
    "for i,labels_list in enumerate(gmm_class_indices):\n",
    "\n",
    "    cme_positive_overlap = list(set(labels_list).intersection(track_indices_cmeAnalysis_dnm2_positive))\n",
    "    \n",
    "    display_tracks.plot_subplots_of_labels(merged_all_valid_tracks, \n",
    "                                           2, \n",
    "                                           ['m', 'g'],\n",
    "                                           [0, 1],\n",
    "                                           cme_positive_overlap, \n",
    "                                           int(number_of_clusters), \n",
    "                                           50, \n",
    "                                           filename=unique_user_saved_outputs+'/plots/gmm_'+str(number_of_clusters)+'_clusters_overlap_cmeDNM2positive_class_'+str(i)+'.png')"
   ]
  },
  {
   "cell_type": "code",
   "execution_count": null,
   "metadata": {
    "scrolled": true
   },
   "outputs": [],
   "source": [
    "for i in range(len(gmm_class_indices)):\n",
    "    print('gmm cluster: ' + str(i))\n",
    "    display(Image(filename=unique_user_saved_outputs+'/plots/gmm_'+str(number_of_clusters)+'_clusters_overlap_cmeDNM2positive_class_'+str(i)+'.png', height=500, width=500))"
   ]
  },
  {
   "cell_type": "markdown",
   "metadata": {},
   "source": [
    "# classifier between all classes using principal components"
   ]
  },
  {
   "cell_type": "code",
   "execution_count": null,
   "metadata": {},
   "outputs": [],
   "source": [
    "labels = df_pcs_normal_scaled_with_gmm_cluster['gmm_predictions']\n",
    "values = df_pcs_normal_scaled_with_gmm_cluster.values[:,:2]\n",
    "\n",
    "X_train, X_test, y_train, y_test = train_test_split(values, labels, random_state=713, test_size=0.5)\n",
    "clf = SVC()\n",
    "clf.fit(X_train, y_train)\n",
    "\n",
    "print(\"Accuracy on test data: {:.4f}\".format(clf.score(X_test, y_test)))\n",
    "\n",
    "fig, axes = plt.subplots(dpi=500)\n",
    "y_pred = clf.predict(X_test)\n",
    "\n",
    "cm = confusion_matrix(y_test, y_pred)\n",
    "\n",
    "cm_display = ConfusionMatrixDisplay(cm).plot(ax=axes)\n",
    "plt.show()\n",
    "indices_true_dnm2 = np.where(y_test==index_DNM2positive)[0]\n",
    "\n",
    "indices_pred_other = np.where(y_pred!=0)[0]\n",
    "\n",
    "indices_false_other_true_dnm2 = list(set(indices_true_dnm2) & set(indices_pred_other))\n",
    "\n",
    "indices_true_class_other = np.where(y_test!=0)[0]\n",
    "\n",
    "indices_pred_class_0 = np.where(y_pred==0)[0]\n",
    "\n",
    "indices_false_dnm2_true_class_other = list(set(indices_true_class_other) & set(indices_pred_class_0))\n",
    "plt.style.use('default')\n",
    "plt.figure(dpi=500, figsize=(5,5))\n",
    "plt.scatter(df_pcs_normal_scaled_with_gmm_cluster['PC-0'],\n",
    "            df_pcs_normal_scaled_with_gmm_cluster['PC-1'], \n",
    "            alpha=0.1, \n",
    "            s=0.5, \n",
    "            c='blue')\n",
    "plt.scatter(X_test[:,0][indices_false_other_true_dnm2],\n",
    "            X_test[:,1][indices_false_other_true_dnm2], \n",
    "            alpha=1, \n",
    "            s=3, \n",
    "            c='pink',\n",
    "            label='DNM2+ false negative')\n",
    "plt.scatter(X_test[:,0][indices_false_dnm2_true_class_other],\n",
    "            X_test[:,1][indices_false_dnm2_true_class_other], \n",
    "            alpha=1, \n",
    "            s=3, \n",
    "            c='red',\n",
    "            label='DNM2+ false positive')\n",
    "plt.xlabel('PC-0')\n",
    "plt.ylabel('PC-1')\n",
    "plt.ylim([-7, 11])\n",
    "plt.xlim([-9, 13])\n",
    "plt.xticks([-5, 0, 5, 10], labels=[-5, 0, 5, 10])\n",
    "plt.yticks([-5, 0, 5, 10], labels=[-5, 0, 5, 10])\n",
    "plt.legend()\n",
    "plt.title('principal components of valid tracks\\nmapped to feature-space')\n",
    "plt.tight_layout()"
   ]
  },
  {
   "cell_type": "markdown",
   "metadata": {},
   "source": [
    "# classifier between all classes using raw features"
   ]
  },
  {
   "cell_type": "markdown",
   "metadata": {},
   "source": [
    "# with SVC"
   ]
  },
  {
   "cell_type": "code",
   "execution_count": null,
   "metadata": {},
   "outputs": [],
   "source": [
    "labels = df_pcs_normal_scaled_with_gmm_cluster['gmm_predictions']\n",
    "values = df_merged_features.values[:,:len(feature_units)]\n",
    "values = preprocessing.StandardScaler().fit_transform(values)\n",
    "X_train, X_test, y_train, y_test = train_test_split(values, labels, random_state=713, test_size=0.2)\n",
    "clf = SVC()\n",
    "clf.fit(X_train, y_train)\n",
    "\n",
    "print(\"Accuracy on test data: {:.4f}\".format(clf.score(X_test, y_test)))\n",
    "\n",
    "fig, axes = plt.subplots(dpi=500)\n",
    "y_pred = clf.predict(X_test)\n",
    "\n",
    "cm = confusion_matrix(y_test, y_pred)\n",
    "\n",
    "cm_display = ConfusionMatrixDisplay(cm).plot(ax=axes)"
   ]
  },
  {
   "cell_type": "markdown",
   "metadata": {},
   "source": [
    "# with Random Forest"
   ]
  },
  {
   "cell_type": "code",
   "execution_count": null,
   "metadata": {},
   "outputs": [],
   "source": [
    "labels = df_pcs_normal_scaled_with_gmm_cluster['gmm_predictions']\n",
    "values = df_merged_features.values[:,:len(feature_units)]\n",
    "values = preprocessing.StandardScaler().fit_transform(values)\n",
    "X_train, X_test, y_train, y_test = train_test_split(values, labels, random_state=713, test_size=0.2)\n",
    "clf = RandomForestClassifier()\n",
    "clf.fit(X_train, y_train)\n",
    "\n",
    "print(\"Accuracy on test data: {:.4f}\".format(clf.score(X_test, y_test)))\n",
    "\n",
    "fig, axes = plt.subplots(dpi=500)\n",
    "y_pred = clf.predict(X_test)\n",
    "\n",
    "cm = confusion_matrix(y_test, y_pred)\n",
    "\n",
    "cm_display = ConfusionMatrixDisplay(cm).plot(ax=axes)"
   ]
  },
  {
   "cell_type": "markdown",
   "metadata": {},
   "source": [
    "# classifier between all classes using raw features and zero-ing out DNM2 features"
   ]
  },
  {
   "cell_type": "markdown",
   "metadata": {},
   "source": [
    "# with SVC"
   ]
  },
  {
   "cell_type": "code",
   "execution_count": null,
   "metadata": {},
   "outputs": [],
   "source": [
    "labels = df_pcs_normal_scaled_with_gmm_cluster['gmm_predictions']\n",
    "values = df_merged_features.values[:,:len(feature_units)]\n",
    "feature_names = df_merged_features.columns.values\n",
    "for i in range(len(feature_units)):\n",
    "    if 'dnm2' in feature_names[i]:\n",
    "        values[:,i] = 0\n",
    "values = preprocessing.StandardScaler().fit_transform(values)\n",
    "X_train, X_test, y_train, y_test = train_test_split(values, labels, random_state=713, test_size=0.5)\n",
    "clf = SVC()\n",
    "clf.fit(X_train, y_train)\n",
    "\n",
    "print(\"Accuracy on test data: {:.4f}\".format(clf.score(X_test, y_test)))\n",
    "\n",
    "fig, axes = plt.subplots(dpi=500)\n",
    "y_pred = clf.predict(X_test)\n",
    "\n",
    "cm = confusion_matrix(y_test, y_pred)\n",
    "\n",
    "cm_display = ConfusionMatrixDisplay(cm).plot(ax=axes)"
   ]
  },
  {
   "cell_type": "markdown",
   "metadata": {},
   "source": [
    "# with Random Forest"
   ]
  },
  {
   "cell_type": "code",
   "execution_count": null,
   "metadata": {},
   "outputs": [],
   "source": [
    "labels = df_pcs_normal_scaled_with_gmm_cluster['gmm_predictions']\n",
    "values = df_merged_features.values[:,:len(feature_units)]\n",
    "feature_names = df_merged_features.columns.values\n",
    "for i in range(len(feature_units)):\n",
    "    if 'dnm2' in feature_names[i]:\n",
    "        values[:,i] = 0\n",
    "X_train, X_test, y_train, y_test = train_test_split(values, labels, random_state=713, test_size=0.5)\n",
    "clf = RandomForestClassifier()\n",
    "clf.fit(X_train, y_train)\n",
    "\n",
    "print(\"Accuracy on test data: {:.4f}\".format(clf.score(X_test, y_test)))\n",
    "\n",
    "fig, axes = plt.subplots(dpi=500)\n",
    "y_pred = clf.predict(X_test)\n",
    "\n",
    "cm = confusion_matrix(y_test, y_pred)\n",
    "\n",
    "cm_display = ConfusionMatrixDisplay(cm).plot(ax=axes)"
   ]
  },
  {
   "cell_type": "markdown",
   "metadata": {},
   "source": [
    "# classifier between all classes using raw features and zero-ing out AP2 features"
   ]
  },
  {
   "cell_type": "markdown",
   "metadata": {},
   "source": [
    "# with SVC"
   ]
  },
  {
   "cell_type": "code",
   "execution_count": null,
   "metadata": {},
   "outputs": [],
   "source": [
    "from sklearn.model_selection import ShuffleSplit"
   ]
  },
  {
   "cell_type": "code",
   "execution_count": null,
   "metadata": {},
   "outputs": [],
   "source": [
    "labels = df_pcs_normal_scaled_with_gmm_cluster['gmm_predictions']\n",
    "values = df_merged_features.values[:,:len(feature_units)]\n",
    "feature_names = df_merged_features.columns.values\n",
    "for i in range(len(feature_units)):\n",
    "    if 'ap2' in feature_names[i]:\n",
    "        values[:,i] = 0\n",
    "values = preprocessing.StandardScaler().fit_transform(values)\n",
    "X_train, X_test, y_train, y_test = train_test_split(values, labels, random_state=713, test_size=0.5)\n",
    "clf = SVC()\n",
    "clf.fit(X_train, y_train)\n",
    "\n",
    "print(\"Accuracy on test data: {:.4f}\".format(clf.score(X_test, y_test)))\n",
    "\n",
    "fig, axes = plt.subplots(dpi=500)\n",
    "y_pred = clf.predict(X_test)\n",
    "\n",
    "cm = confusion_matrix(y_test, y_pred)\n",
    "\n",
    "cm_display = ConfusionMatrixDisplay(cm).plot(ax=axes)"
   ]
  },
  {
   "cell_type": "markdown",
   "metadata": {},
   "source": [
    "# with Random Forest"
   ]
  },
  {
   "cell_type": "code",
   "execution_count": null,
   "metadata": {},
   "outputs": [],
   "source": [
    "labels = df_pcs_normal_scaled_with_gmm_cluster['gmm_predictions']\n",
    "values = df_merged_features.values[:,:len(feature_units)]\n",
    "feature_names = df_merged_features.columns.values\n",
    "for i in range(len(feature_units)):\n",
    "    if 'ap2' in feature_names[i]:\n",
    "        values[:,i] = np.random.rand(values[:,i].shape[0])\n",
    "X_train, X_test, y_train, y_test = train_test_split(values, labels, random_state=713, test_size=0.5)\n",
    "clf = RandomForestClassifier()\n",
    "clf.fit(X_train, y_train)\n",
    "\n",
    "print(\"Accuracy on test data: {:.4f}\".format(clf.score(X_test, y_test)))\n",
    "\n",
    "fig, axes = plt.subplots(dpi=500)\n",
    "y_pred = clf.predict(X_test)\n",
    "\n",
    "cm = confusion_matrix(y_test, y_pred)\n",
    "\n",
    "cm_display = ConfusionMatrixDisplay(cm).plot(ax=axes)"
   ]
  },
  {
   "cell_type": "markdown",
   "metadata": {},
   "source": [
    "# classifier between DNM2+ and other classes using raw features and zero-ing out DNM2 features"
   ]
  },
  {
   "cell_type": "markdown",
   "metadata": {},
   "source": [
    "# with SVC"
   ]
  },
  {
   "cell_type": "code",
   "execution_count": null,
   "metadata": {},
   "outputs": [],
   "source": [
    "import numpy as np\n",
    "from sklearn.model_selection import ShuffleSplit\n",
    "X = np.array([[1, 2], [3, 4], [5, 6], [7, 8], [3, 4], [5, 6]])\n",
    "y = np.array([1, 2, 1, 2, 1, 2])\n",
    "rs = ShuffleSplit(n_splits=1, test_size=.25, random_state=0)\n",
    "print(rs)\n",
    "rs.get_n_splits(X)\n",
    "print(rs)\n",
    "# print(rs)\n",
    "\n",
    "for train_index, test_index in rs.split(X):\n",
    "    print(\"TRAIN:\", train_index, \"TEST:\", test_index)\n",
    "\n",
    "\n",
    "\n",
    "\n",
    "\n",
    "# rs = ShuffleSplit(n_splits=5, train_size=0.5, test_size=.25,\n",
    "#                   random_state=0)\n",
    "# for train_index, test_index in rs.split(X):\n",
    "#     print(\"TRAIN:\", train_index, \"TEST:\", test_index)"
   ]
  },
  {
   "cell_type": "code",
   "execution_count": null,
   "metadata": {},
   "outputs": [],
   "source": [
    "len(feature_units)"
   ]
  },
  {
   "cell_type": "code",
   "execution_count": null,
   "metadata": {},
   "outputs": [],
   "source": [
    "labels_temp = df_pcs_normal_scaled_with_gmm_cluster['gmm_predictions']\n",
    "labels=[]\n",
    "for i in range(len(labels_temp)):\n",
    "    if labels_temp[i]==index_DNM2positive:\n",
    "        labels.append(1)\n",
    "    else:\n",
    "        labels.append(0)\n",
    "values = df_merged_features.values[:,:len(feature_units)]\n",
    "feature_names = df_merged_features.columns.values\n",
    "for i in range(len(feature_units)):\n",
    "    if 'dnm2' in feature_names[i]:\n",
    "        values[:,i] = 0\n",
    "values = preprocessing.StandardScaler().fit_transform(values)\n",
    "rs = ShuffleSplit(n_splits=5, test_size=.5)\n",
    "rs.get_n_splits(values)\n",
    "labels = np.array(labels)\n",
    "for train_idx, test_idx in rs.split(values):\n",
    "    X_train, X_test, y_train, y_test = values[train_idx], values[test_idx], labels[train_idx], labels[test_idx]\n",
    "    clf = SVC()\n",
    "    clf.fit(X_train, y_train)\n",
    "\n",
    "    print(\"Accuracy on test data: {:.4f}\".format(clf.score(X_test, y_test)))"
   ]
  },
  {
   "cell_type": "markdown",
   "metadata": {},
   "source": [
    "# with Random Forest"
   ]
  },
  {
   "cell_type": "code",
   "execution_count": null,
   "metadata": {},
   "outputs": [],
   "source": [
    "labels_temp = df_pcs_normal_scaled_with_gmm_cluster['gmm_predictions']\n",
    "labels=[]\n",
    "for i in range(len(labels_temp)):\n",
    "    if labels_temp[i]==index_DNM2positive:\n",
    "        labels.append(1)\n",
    "    else:\n",
    "        labels.append(0)\n",
    "values = df_merged_features.values[:,:len(feature_units)]\n",
    "feature_names = df_merged_features.columns.values\n",
    "for i in range(len(feature_units)):\n",
    "    if 'dnm2' in feature_names[i]:\n",
    "        values[:,i] = 0\n",
    "values = preprocessing.StandardScaler().fit_transform(values)\n",
    "rs = ShuffleSplit(n_splits=5, test_size=.5)\n",
    "rs.get_n_splits(values)\n",
    "labels = np.array(labels)\n",
    "for train_idx, test_idx in rs.split(values):\n",
    "    X_train, X_test, y_train, y_test = values[train_idx], values[test_idx], labels[train_idx], labels[test_idx]\n",
    "    clf = RandomForestClassifier()\n",
    "    clf.fit(X_train, y_train)\n",
    "\n",
    "    print(\"Accuracy on test data: {:.4f}\".format(clf.score(X_test, y_test)))"
   ]
  },
  {
   "cell_type": "markdown",
   "metadata": {},
   "source": [
    "# classifier between DNM2+ and other classes using raw features and zero-ing out AP2 features"
   ]
  },
  {
   "cell_type": "markdown",
   "metadata": {},
   "source": [
    "# with SVC"
   ]
  },
  {
   "cell_type": "code",
   "execution_count": null,
   "metadata": {},
   "outputs": [],
   "source": [
    "labels_temp = df_pcs_normal_scaled_with_gmm_cluster['gmm_predictions']\n",
    "labels=[]\n",
    "for i in range(len(labels_temp)):\n",
    "    if labels_temp[i]==index_DNM2positive:\n",
    "        labels.append(1)\n",
    "    else:\n",
    "        labels.append(0)\n",
    "values = df_merged_features.values[:,:len(feature_units)]\n",
    "feature_names = df_merged_features.columns.values\n",
    "for i in range(len(feature_units)):\n",
    "    if 'ap2' in feature_names[i]:\n",
    "        values[:,i] = 0\n",
    "values = preprocessing.StandardScaler().fit_transform(values)\n",
    "rs = ShuffleSplit(n_splits=5, test_size=.5)\n",
    "rs.get_n_splits(values)\n",
    "labels = np.array(labels)\n",
    "for train_idx, test_idx in rs.split(values):\n",
    "    X_train, X_test, y_train, y_test = values[train_idx], values[test_idx], labels[train_idx], labels[test_idx]\n",
    "    clf = SVC()\n",
    "    clf.fit(X_train, y_train)\n",
    "\n",
    "    print(\"Accuracy on test data: {:.4f}\".format(clf.score(X_test, y_test)))"
   ]
  },
  {
   "cell_type": "markdown",
   "metadata": {},
   "source": [
    "# with Random Forest"
   ]
  },
  {
   "cell_type": "code",
   "execution_count": null,
   "metadata": {},
   "outputs": [],
   "source": [
    "labels_temp = df_pcs_normal_scaled_with_gmm_cluster['gmm_predictions']\n",
    "labels=[]\n",
    "for i in range(len(labels_temp)):\n",
    "    if labels_temp[i]==index_DNM2positive:\n",
    "        labels.append(1)\n",
    "    else:\n",
    "        labels.append(0)\n",
    "values = df_merged_features.values[:,:len(feature_units)]\n",
    "feature_names = df_merged_features.columns.values\n",
    "for i in range(len(feature_units)):\n",
    "    if 'ap2' in feature_names[i]:\n",
    "        values[:,i] = 0\n",
    "values = preprocessing.StandardScaler().fit_transform(values)\n",
    "rs = ShuffleSplit(n_splits=5, test_size=.5)\n",
    "rs.get_n_splits(values)\n",
    "labels = np.array(labels)\n",
    "for train_idx, test_idx in rs.split(values):\n",
    "    X_train, X_test, y_train, y_test = values[train_idx], values[test_idx], labels[train_idx], labels[test_idx]\n",
    "    clf = RandomForestClassifier()\n",
    "    clf.fit(X_train, y_train)\n",
    "\n",
    "    print(\"Accuracy on test data: {:.4f}\".format(clf.score(X_test, y_test)))"
   ]
  }
 ],
 "metadata": {
  "kernelspec": {
   "display_name": "Python 3",
   "language": "python",
   "name": "python3"
  },
  "language_info": {
   "codemirror_mode": {
    "name": "ipython",
    "version": 3
   },
   "file_extension": ".py",
   "mimetype": "text/x-python",
   "name": "python",
   "nbconvert_exporter": "python",
   "pygments_lexer": "ipython3",
   "version": "3.6.12"
  }
 },
 "nbformat": 4,
 "nbformat_minor": 4
}
