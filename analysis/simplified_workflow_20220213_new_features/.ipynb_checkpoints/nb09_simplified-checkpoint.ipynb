{
 "cells": [
  {
   "cell_type": "markdown",
   "id": "surgical-contribution",
   "metadata": {},
   "source": [
    "Cyna Shirazinejad, 7/7/21\n",
    "\n",
    "# Notebook 9: create ARPC3 KDTrees\n",
    "\n",
    "outline:\n",
    "\n",
    "* load independently-tracked ARPC3 \n",
    "* create a KDTree of track (x, y) positions for every frame of the movie"
   ]
  },
  {
   "cell_type": "markdown",
   "id": "metropolitan-stand",
   "metadata": {},
   "source": [
    "##### import all necessary Python modules"
   ]
  },
  {
   "cell_type": "code",
   "execution_count": 2,
   "id": "current-parent",
   "metadata": {},
   "outputs": [
    {
     "name": "stdout",
     "output_type": "stream",
     "text": [
      "The autoreload extension is already loaded. To reload it, use:\n",
      "  %reload_ext autoreload\n"
     ]
    }
   ],
   "source": [
    "%load_ext autoreload\n",
    "%autoreload 2\n",
    "%matplotlib inline\n",
    "import numpy as np\n",
    "import pandas as pd\n",
    "import sys\n",
    "unique_user_saved_outputs = str(np.load('unique_user_saved_outputs_simplified.npy'))\n",
    "analysis_metadata = np.load(unique_user_saved_outputs+'/dataframes/analysis_metadata.npy', allow_pickle=True)\n",
    "sys.path.append(analysis_metadata.item().get('path_notebook')+'/cmeAnalysisPostProcessingSimplified') # add custom Python scripts to the local path\n",
    "import separate_tracking_merge_tools"
   ]
  },
  {
   "cell_type": "markdown",
   "id": "adjacent-utility",
   "metadata": {},
   "source": [
    "# load separately tracked ARPC3 events"
   ]
  },
  {
   "cell_type": "code",
   "execution_count": 7,
   "id": "italic-brake",
   "metadata": {},
   "outputs": [],
   "source": [
    "path_arpc3_separate_tracks = '/Volumes/Google Drive/My Drive/Drubin Lab/ap2dynm2arcp3_project/tracking_data/ADA_cellline_analysis_formatted_arpc3_tracking'"
   ]
  },
  {
   "cell_type": "code",
   "execution_count": 17,
   "id": "critical-nelson",
   "metadata": {},
   "outputs": [
    {
     "name": "stdout",
     "output_type": "stream",
     "text": [
      "\n",
      "folders to mine:\n",
      "0_200804_ap2-dnm2-arpc3_arpc3_wildtype_no-treatment_Cell001_1s\n",
      "9_200804_ap2-dnm2-arpc3_arpc3_wildtype_no-treatment_Cell002_1s\n",
      "10_200804_ap2-dnm2-arpc3_arpc3_wildtype_no-treatment_Cell003_1s\n",
      "11_200804_ap2-dnm2-arpc3_arpc3_wildtype_no-treatment_Cell008_1s\n",
      "12_200804_ap2-dnm2-arpc3_arpc3_wildtype_no-treatment_Cell009_1s\n",
      "13_200819_ap2-dnm2-arpc3_arpc3_wildtype_no-treatment_Cell001_1s\n",
      "14_200819_ap2-dnm2-arpc3_arpc3_wildtype_no-treatment_Cell002_1s\n",
      "15_200819_ap2-dnm2-arpc3_arpc3_wildtype_no-treatment_Cell003_1s\n",
      "16_200722_ap2-dnm2-arpc3_arpc3_wildtype_no-treatment_Cell001_1s\n",
      "17_200722_ap2-dnm2-arpc3_arpc3_wildtype_no-treatment_Cell002_1s\n",
      "18_200722_ap2-dnm2-arpc3_arpc3_wildtype_no-treatment_Cell003_1s\n",
      "19_200722_ap2-dnm2-arpc3_arpc3_wildtype_no-treatment_Cell004_1s\n",
      "20_200722_ap2-dnm2-arpc3_arpc3_wildtype_no-treatment_Cell005_1s\n",
      "\n",
      "\n",
      "creating trees from tracks\n",
      "experiment: 0\n",
      "The number of tracks returned: 17512\n",
      "\n",
      "experiment: 1\n",
      "The number of tracks returned: 16177\n",
      "\n",
      "experiment: 2\n",
      "The number of tracks returned: 15491\n",
      "\n",
      "experiment: 3\n",
      "The number of tracks returned: 17968\n",
      "\n",
      "experiment: 4\n",
      "The number of tracks returned: 18152\n",
      "\n",
      "experiment: 5\n",
      "The number of tracks returned: 17762\n",
      "\n",
      "experiment: 6\n",
      "The number of tracks returned: 17611\n",
      "\n",
      "experiment: 7\n",
      "The number of tracks returned: 15483\n",
      "\n",
      "experiment: 8\n",
      "The number of tracks returned: 14466\n",
      "\n",
      "experiment: 9\n",
      "The number of tracks returned: 15603\n",
      "\n",
      "experiment: 10\n",
      "The number of tracks returned: 13732\n",
      "\n",
      "experiment: 11\n",
      "The number of tracks returned: 14599\n",
      "\n",
      "experiment: 12\n",
      "The number of tracks returned: 15194\n",
      "\n",
      "saving tracks...\n",
      "\n",
      "saving tracks...\n",
      "\n",
      "done\n"
     ]
    }
   ],
   "source": [
    "separate_tracking_merge_tools.build_trees_from_directory(analysis_metadata.item().get('path_outputs'),\n",
    "                           path_arpc3_separate_tracks,\n",
    "                           ['Cell'],\n",
    "                           [1,2],\n",
    "                           0,\n",
    "                           241,\n",
    "                           'arpc3_wildtype_no-treatment_separate_arpc3_tracking',\n",
    "                           'arpc3_wildtype_no-treatment_separate_arpc3_tracking')\n",
    "\n"
   ]
  },
  {
   "cell_type": "code",
   "execution_count": 18,
   "id": "inner-duplicate",
   "metadata": {},
   "outputs": [],
   "source": [
    "path_hypotonic = '/Volumes/Google Drive/My Drive/Drubin Lab/ap2dynm2arcp3_project/revision_tracking/hypotonic_tracking_data_arpc3'"
   ]
  },
  {
   "cell_type": "code",
   "execution_count": 20,
   "id": "steady-israeli",
   "metadata": {},
   "outputs": [
    {
     "name": "stdout",
     "output_type": "stream",
     "text": [
      "\n",
      "folders to mine:\n",
      "21_211203_ap2-dnm2-arpc3_arpc3_hypotonic_after_Cell1_1s\n",
      "22_211203_ap2-dnm2-arpc3_arpc3_hypotonic_before_Cell1_1s\n",
      "23_211203_ap2-dnm2-arpc3_arpc3_hypotonic_after_Cell2_1s\n",
      "24_211203_ap2-dnm2-arpc3_arpc3_hypotonic_before_Cell2_1s\n",
      "25_211203_ap2-dnm2-arpc3_arpc3_hypotonic_after_Cell3_1s\n",
      "26_211203_ap2-dnm2-arpc3_arpc3_hypotonic_before_Cell3_1s\n",
      "27_211203_ap2-dnm2-arpc3_arpc3_hypotonic_after_Cell4_1s\n",
      "28_211203_ap2-dnm2-arpc3_arpc3_hypotonic_before_Cell4_1s\n",
      "29_211203_ap2-dnm2-arpc3_arpc3_hypotonic_after_Cell5_1s\n",
      "30_211203_ap2-dnm2-arpc3_arpc3_hypotonic_before_Cell5_1s\n",
      "\n",
      "\n",
      "creating trees from tracks\n",
      "experiment: 0\n",
      "The number of tracks returned: 13620\n",
      "\n",
      "experiment: 1\n",
      "The number of tracks returned: 13557\n",
      "\n",
      "experiment: 2\n",
      "The number of tracks returned: 12045\n",
      "\n",
      "experiment: 3\n",
      "The number of tracks returned: 12428\n",
      "\n",
      "experiment: 4\n",
      "The number of tracks returned: 13909\n",
      "\n",
      "experiment: 5\n",
      "The number of tracks returned: 14836\n",
      "\n",
      "experiment: 6\n",
      "The number of tracks returned: 13719\n",
      "\n",
      "experiment: 7\n",
      "The number of tracks returned: 13362\n",
      "\n",
      "experiment: 8\n",
      "The number of tracks returned: 14416\n",
      "\n",
      "experiment: 9\n",
      "The number of tracks returned: 14716\n",
      "\n",
      "saving tracks...\n",
      "\n",
      "saving tracks...\n",
      "\n",
      "done\n"
     ]
    }
   ],
   "source": [
    "separate_tracking_merge_tools.build_trees_from_directory(analysis_metadata.item().get('path_outputs'),\n",
    "                           path_hypotonic,\n",
    "                           ['Cell'],\n",
    "                           [1,2],\n",
    "                           0,\n",
    "                           241,\n",
    "                           'arpc3_hypotonic_separate_arpc3_tracking',\n",
    "                           'arpc3_hypotonic_separate_arpc3_tracking')"
   ]
  },
  {
   "cell_type": "code",
   "execution_count": 21,
   "id": "blocked-fusion",
   "metadata": {},
   "outputs": [],
   "source": [
    "path_drugs = '/Volumes/Google Drive/My Drive/Drubin Lab/ap2dynm2arcp3_project/revision_tracking/ck666_tracking_data_arpc3'"
   ]
  },
  {
   "cell_type": "code",
   "execution_count": null,
   "id": "motivated-technician",
   "metadata": {},
   "outputs": [
    {
     "name": "stdout",
     "output_type": "stream",
     "text": [
      "\n",
      "folders to mine:\n",
      "31_211210_ap2-dnm2-arpc3_arpc3_drug_ck666_Cell1_1s\n",
      "32_211210_ap2-dnm2-arpc3_arpc3_drug_ck666_Cell2_1s\n",
      "33_211210_ap2-dnm2-arpc3_arpc3_drug_ck666_Cell3_1s\n",
      "34_211210_ap2-dnm2-arpc3_arpc3_drug_dmso_Cell1_1s\n",
      "35_211210_ap2-dnm2-arpc3_arpc3_drug_dmso_Cell2_1s\n",
      "36_211210_ap2-dnm2-arpc3_arpc3_drug_dmso_Cell3_1s\n",
      "37_211214_ap2-dnm2-arpc3_arpc3_drug_ck666_Cell1_1s\n",
      "38_211214_ap2-dnm2-arpc3_arpc3_drug_ck666_Cell2_1s\n",
      "39_211214_ap2-dnm2-arpc3_arpc3_drug_ck666_Cell3_1s\n",
      "40_211214_ap2-dnm2-arpc3_arpc3_drug_dmso_Cell1_1s\n",
      "41_211214_ap2-dnm2-arpc3_arpc3_drug_dmso_Cell2_1s\n",
      "42_211214_ap2-dnm2-arpc3_arpc3_drug_dmso_Cell3_1s\n",
      "43_211214_ap2-dnm2-arpc3_arpc3_drug_no-treatment_Cell1_1s\n",
      "44_211214_ap2-dnm2-arpc3_arpc3_drug_no-treatment_Cell2_1s\n",
      "45_211214_ap2-dnm2-arpc3_arpc3_drug_no-treatment_Cell3_1s\n",
      "46_211214_ap2-dnm2-arpc3_arpc3_drug_no-treatment_Cell4_1s\n",
      "47_211214_ap2-dnm2-arpc3_arpc3_drug_no-treatment_Cell5_1s\n",
      "48_211214_ap2-dnm2-arpc3_arpc3_drug_no-treatment_Cell6_1s\n",
      "49_211221_ap2-dnm2-arpc3_arpc3_drug_ck666_Cell1_1s\n",
      "50_211221_ap2-dnm2-arpc3_arpc3_drug_ck666_Cell2_1s\n",
      "51_211221_ap2-dnm2-arpc3_arpc3_drug_ck666_Cell3_1s\n",
      "52_211221_ap2-dnm2-arpc3_arpc3_drug_dmso_Cell1_1s\n",
      "53_211221_ap2-dnm2-arpc3_arpc3_drug_dmso_Cell2_1s\n",
      "54_211221_ap2-dnm2-arpc3_arpc3_drug_dmso_Cell3_1s\n",
      "55_211221_ap2-dnm2-arpc3_arpc3_drug_no-treatment_Cell1_1s\n",
      "56_211221_ap2-dnm2-arpc3_arpc3_drug_no-treatment_Cell2_1s\n",
      "57_211221_ap2-dnm2-arpc3_arpc3_drug_no-treatment_Cell3_1s\n",
      "58_211221_ap2-dnm2-arpc3_arpc3_drug_no-treatment_Cell4_1s\n",
      "59_211221_ap2-dnm2-arpc3_arpc3_drug_no-treatment_Cell5_1s\n",
      "60_211221_ap2-dnm2-arpc3_arpc3_drug_no-treatment_Cell6_1s\n",
      "\n",
      "\n",
      "creating trees from tracks\n",
      "experiment: 0\n"
     ]
    }
   ],
   "source": [
    "separate_tracking_merge_tools.build_trees_from_directory(analysis_metadata.item().get('path_outputs'),\n",
    "                           path_drugs,\n",
    "                           ['Cell'],\n",
    "                           [1,2],\n",
    "                           0,\n",
    "                           241,\n",
    "                           'arpc3_drugs_separate_arpc3_tracking',\n",
    "                           'arpc3_drugs_separate_arpc3_tracking')"
   ]
  },
  {
   "cell_type": "code",
   "execution_count": null,
   "id": "harmful-philadelphia",
   "metadata": {},
   "outputs": [],
   "source": []
  }
 ],
 "metadata": {
  "kernelspec": {
   "display_name": "Python 3",
   "language": "python",
   "name": "python3"
  },
  "language_info": {
   "codemirror_mode": {
    "name": "ipython",
    "version": 3
   },
   "file_extension": ".py",
   "mimetype": "text/x-python",
   "name": "python",
   "nbconvert_exporter": "python",
   "pygments_lexer": "ipython3",
   "version": "3.6.12"
  }
 },
 "nbformat": 4,
 "nbformat_minor": 5
}
