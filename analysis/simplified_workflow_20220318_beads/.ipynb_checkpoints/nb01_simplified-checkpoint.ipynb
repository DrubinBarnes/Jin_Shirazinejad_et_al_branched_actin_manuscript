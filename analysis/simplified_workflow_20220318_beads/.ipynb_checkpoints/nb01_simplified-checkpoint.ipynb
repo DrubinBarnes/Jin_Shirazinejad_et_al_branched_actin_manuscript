{
 "cells": [
  {
   "cell_type": "markdown",
   "metadata": {},
   "source": [
    "Cyna Shirazinejad, 02/11/2022\n",
    "# Notebook 1: loading data for model generation\n",
    "\n",
    "outline:\n",
    "\n",
    "* load all data, including:\n",
    "    * movies from AP2-tagRFP-T, DNM2-tagGFP2 cell lines\n",
    "* filter out 'valid' tracks\n",
    "    * valid' tracks are tracks which consist of tracks that appear and disappear \n",
    "      in the bounds of the movie with no more than 2 consecutive gaps\n",
    "    * this is characterized when using AP2 as the primary channel for tracking\n",
    "* creating dataframes of features from tracked events from fitted amplitude and position space to target feature space\n",
    "    * each track will be decomposed into features, described in the notebook\n",
    "    * the number of cell line tags will be included as a label (2 or 3)\n",
    "    * the experiment number will be included as a label (1-8)\n",
    "    * the date of the experiment\n",
    "    * the cmeAnalysis classification as \"DNM2-positive\" (cmeAnalysisDNM2+) \n",
    "      or \"DNM2-negative\" will be included as a label (1 or 0)\n",
    "* save dataframes and tracks for future notebooks"
   ]
  },
  {
   "cell_type": "markdown",
   "metadata": {},
   "source": [
    "# user parameters to toggle plot-generation and/or dataframe construction and corresponding calculations"
   ]
  },
  {
   "cell_type": "code",
   "execution_count": 1,
   "metadata": {},
   "outputs": [],
   "source": [
    "# set a path to the prefix of the pooled working directory with all of the data \n",
    "# the folder that contains all data for this analysis is 'ap2dynm2arcp3_project'\n",
    "# (this folder, containing all raw and tracking data, is available on GitHub)\n",
    "unique_user_path_tracks_beads = '/Volumes/Google Drive/My Drive/Drubin Lab/ap2dynm2arcp3_project/20220316_tirf_beads/split_tracking' # needs to be set for each user\n",
    "unique_user_path_notebook = '/Users/cynashirazinejad/Documents/GitHub/Jin_Shirazinejad_et_al_branched_actin_manuscript/analysis/simplified_workflow_20220318_beads'\n",
    "unique_user_saved_outputs = '/Volumes/GoogleDrive/My Drive/Drubin Lab/ap2dynm2arcp3_project/stable_outputs_beads'"
   ]
  },
  {
   "cell_type": "markdown",
   "metadata": {},
   "source": [
    "# import all necessary Python modules"
   ]
  },
  {
   "cell_type": "code",
   "execution_count": 48,
   "metadata": {},
   "outputs": [
    {
     "name": "stdout",
     "output_type": "stream",
     "text": [
      "The autoreload extension is already loaded. To reload it, use:\n",
      "  %reload_ext autoreload\n"
     ]
    }
   ],
   "source": [
    "%load_ext autoreload\n",
    "%autoreload 2\n",
    "import os\n",
    "import sys\n",
    "import numpy as np\n",
    "import pandas as pd\n",
    "import matplotlib.pyplot as plt\n",
    "from IPython.display import Image\n",
    "import seaborn as sns\n",
    "sys.path.append(unique_user_path_notebook+'/cmeAnalysisPostProcessingSimplified') # add custom Python scripts to the local path\n",
    "import import_tracks\n",
    "import feature_extraction_modular\n",
    "import compare_tracks\n",
    "import return_track_attributes"
   ]
  },
  {
   "cell_type": "markdown",
   "metadata": {},
   "source": [
    "# auto directory adding for notebooks"
   ]
  },
  {
   "cell_type": "code",
   "execution_count": 3,
   "metadata": {},
   "outputs": [
    {
     "data": {
      "text/plain": [
       "'/Volumes/GoogleDrive/My Drive/Drubin Lab/ap2dynm2arcp3_project/stable_outputs_beads'"
      ]
     },
     "execution_count": 3,
     "metadata": {},
     "output_type": "execute_result"
    }
   ],
   "source": [
    "unique_user_saved_outputs"
   ]
  },
  {
   "cell_type": "code",
   "execution_count": 4,
   "metadata": {},
   "outputs": [],
   "source": [
    "if 'plots' not in os.listdir(unique_user_saved_outputs):\n",
    "    os.mkdir(unique_user_saved_outputs+'/plots/')\n",
    "if 'dataframes' not in os.listdir(unique_user_saved_outputs):\n",
    "    os.mkdir(unique_user_saved_outputs+'/dataframes/')"
   ]
  },
  {
   "cell_type": "code",
   "execution_count": 5,
   "metadata": {},
   "outputs": [],
   "source": [
    "# np.save(unique_user_path_notebook+'/unique_user_saved_outputs_simplified', unique_user_saved_outputs)"
   ]
  },
  {
   "cell_type": "code",
   "execution_count": 6,
   "metadata": {},
   "outputs": [],
   "source": [
    "# unique_user_saved_outputs = str(np.load('unique_user_saved_outputs_simplified.npy'))"
   ]
  },
  {
   "cell_type": "code",
   "execution_count": 7,
   "metadata": {},
   "outputs": [
    {
     "data": {
      "text/plain": [
       "'/Volumes/GoogleDrive/My Drive/Drubin Lab/ap2dynm2arcp3_project/stable_outputs_beads'"
      ]
     },
     "execution_count": 7,
     "metadata": {},
     "output_type": "execute_result"
    }
   ],
   "source": [
    "unique_user_saved_outputs"
   ]
  },
  {
   "cell_type": "code",
   "execution_count": 8,
   "metadata": {},
   "outputs": [],
   "source": [
    "analysis_metadata = {}\n",
    "analysis_metadata['path_outputs'] = unique_user_saved_outputs\n",
    "np.save('analysis_metadata', analysis_metadata)"
   ]
  },
  {
   "cell_type": "code",
   "execution_count": 9,
   "metadata": {},
   "outputs": [],
   "source": [
    "analysis_metadata = np.load('analysis_metadata.npy', allow_pickle=True)"
   ]
  },
  {
   "cell_type": "code",
   "execution_count": 10,
   "metadata": {},
   "outputs": [
    {
     "data": {
      "text/plain": [
       "dtype('O')"
      ]
     },
     "execution_count": 10,
     "metadata": {},
     "output_type": "execute_result"
    }
   ],
   "source": [
    "analysis_metadata.dtype"
   ]
  },
  {
   "cell_type": "code",
   "execution_count": 11,
   "metadata": {},
   "outputs": [],
   "source": [
    "# analysis_metadata.item()['path_tracks_ad_wildtype'] = unique_user_path_tracks_ad_wildtype\n",
    "analysis_metadata.item()['path_notebook'] = unique_user_path_notebook\n",
    "np.save('analysis_metadata', analysis_metadata)"
   ]
  },
  {
   "cell_type": "code",
   "execution_count": 12,
   "metadata": {},
   "outputs": [
    {
     "data": {
      "text/plain": [
       "array({'path_outputs': '/Volumes/GoogleDrive/My Drive/Drubin Lab/ap2dynm2arcp3_project/stable_outputs_beads', 'path_notebook': '/Users/cynashirazinejad/Documents/GitHub/Jin_Shirazinejad_et_al_branched_actin_manuscript/analysis/simplified_workflow_20220318_beads'},\n",
       "      dtype=object)"
      ]
     },
     "execution_count": 12,
     "metadata": {},
     "output_type": "execute_result"
    }
   ],
   "source": [
    "analysis_metadata"
   ]
  },
  {
   "cell_type": "markdown",
   "metadata": {},
   "source": [
    "# all track feature options:"
   ]
  },
  {
   "cell_type": "markdown",
   "metadata": {},
   "source": [
    "conventions:\n",
    "1. intensities: fitted amplitude of fluorescence (excluding fitted local background)\n",
    "2. positions: fitted positions (x,y) of two dimensional point-spread-functions per frame in track\n",
    "3. voxel-width = 108 nm\n",
    "\n",
    "features:\n",
    "\n",
    "1. 'lifetime': time between the first and last frame of detected AP2 (seconds)\n",
    "2. 'max_int_ap2': maximum intensity (a.u. fluorescence)\n",
    "3. 'max_int_dnm2': maximum intensity (a.u. fluorescence)\n",
    "4. 'dist_traveled_ap2': track start-to-finish net movement (pixels)\n",
    "5. 'dist_traveled_dnm2': track start-to-finish net movement (pixels)\n",
    "6. 'max_dist_between_ap2_dnm2': the maximum frame-to-frame separation between AP2 and DNM2 (pixels)\n",
    "7. 'md_ap2': mean displacement (pixels)\n",
    "8. 'md_dnm2': mean displacement (pixels)\n",
    "9. 'time_to_peak_ap2': time for the intensity to reach its peak (seconds) [0 if peak is first frame]\n",
    "10. 'time_to_peak_dnm2': time for the intensity to reach its peak (seconds) [0 if peak is first frame]\n",
    "11. 'time_after_peak_ap2': time for intensity to decay from its peak (seconds) [0 if peak is last frame]\n",
    "12. 'time_after_peak_dnm2': time for intensity to decay from its peak (seconds) [0 if peak is last frame]\n",
    "13. 'time_between_peaks_ap2_dnm2': time between peaks of two channels (seconds)\n",
    "14. 'avg_int_change_to_peak_ap2': average change in intensity to the peak (a.u. fluorescence) [0 if peak is first frame]\n",
    "15. 'avg_int_change_to_peak_dnm2': average change in intensity to the peak (a.u. fluorescence) [0 if peak is first frame]\n",
    "16. 'avg_int_change_after_peak_ap2': average change in intensity after the peak (a.u. fluorescence) [0 if peak is last frame]\n",
    "17. 'avg_int_change_after_peak_dnm2': average change in intensity after the peak (a.u. fluorescence) [0 if peak is last frame]\n",
    "18. 'peak_int_diff_ap2_dnm2': difference between maximum intensity of channel 0 and channel 1 (a.u. fluorescence)\n",
    "19. 'ratio_max_int_ap2_dnm2': ratio between maximum intensity of channel 0 and channel 1 (unitless)\n",
    "20. 'mean_ap2': average of fluorescence (a.u. fluorescence)\n",
    "21. 'mean_dnm2': average of fluorescence (a.u. fluorescence)\n",
    "22. 'variation_ap2': variation of fluorescence (a.u. fluorescence^2)\n",
    "23. 'variation_dnm2': variation of fluorescence (a.u. fluorescence^2)\n",
    "24. 'skewness_ap2': skewness of fluorescence (unitless)\n",
    "25. 'skewness_dnm2': skewness of fluorescence (unitless)\n",
    "26. 'kurtosis_ap2': kurtosis of fluorescence (unitless)\n",
    "27. 'kurtosis_dnm2': kurtosis of fluorescence (unitless)\n",
    "28. 'number_significant_dnm2': number of significant detections with p-val lower than provided threshold (counts) [p-val < 0.01]\n",
    "29. 'max_consecutive_significant_dnm2': maximum number of consecutive significant detections with p-val lower than provided threshold (counts) [p-val < 0.01]\n",
    "30. 'fraction_significant_dnm2': fraction of event with significant detections with p-val lower than provided threshold (unitless) [p-val < 0.01]\n",
    "31. 'fraction_peak_ap2': fraction of the event where the peak is located (unitless)\n",
    "32. 'fraction_peak_dnm2': fraction of the event where the peak is located (unitless)"
   ]
  },
  {
   "cell_type": "code",
   "execution_count": 13,
   "metadata": {},
   "outputs": [],
   "source": [
    "# the physical units of each track feature\n",
    "feature_units = ['seconds',\n",
    "                 'a.u. fluorescence',\n",
    "                 'a.u. fluorescence',\n",
    "                 'pixels',\n",
    "                 'pixels',\n",
    "                 'pixels',\n",
    "                 'pixels',\n",
    "                 'pixels',\n",
    "                 'seconds',\n",
    "                 'seconds',\n",
    "                 'seconds',\n",
    "                 'seconds',\n",
    "                 'seconds',\n",
    "                 'a.u. fluorescence',\n",
    "                 'a.u. fluorescence',\n",
    "                 'a.u. fluorescence',\n",
    "                 'a.u. fluorescence',\n",
    "                 'a.u. fluorescence',\n",
    "                 'unitless',\n",
    "                 'a.u. fluorescence',\n",
    "                 'a.u. fluorescence',\n",
    "                 'a.u. fluorescence**2',\n",
    "                 'a.u. fluorescence**2',\n",
    "                 'unitless',\n",
    "                 'unitless',\n",
    "                 'unitless',\n",
    "                 'unitless',\n",
    "                 'counts',\n",
    "                 'counts',\n",
    "                 'unitless',\n",
    "                 'unitless',\n",
    "                 'unitless']"
   ]
  },
  {
   "cell_type": "code",
   "execution_count": 14,
   "metadata": {},
   "outputs": [],
   "source": [
    "possible_track_features_labels = ['lifetime',\n",
    "                                 'max_int_ap2',\n",
    "                                 'max_int_dnm2',\n",
    "                                 'dist_traveled_ap2',\n",
    "                                 'dist_traveled_dnm2',\n",
    "                                 'max_dist_between_ap2_dnm2',\n",
    "                                 'md_ap2',\n",
    "                                 'md_dnm2',\n",
    "                                 'time_to_peak_ap2',\n",
    "                                 'time_to_peak_dnm2',\n",
    "                                 'time_after_peak_ap2',\n",
    "                                 'time_after_peak_dnm2',\n",
    "                                 'time_between_peaks_ap2_dnm2',\n",
    "                                 'avg_int_change_to_peak_ap2',\n",
    "                                 'avg_int_change_to_peak_dnm2',\n",
    "                                 'avg_int_change_after_peak_ap2',\n",
    "                                 'avg_int_change_after_peak_dnm2',\n",
    "                                 'peak_int_diff_ap2_dnm2',\n",
    "                                 'ratio_max_int_ap2_dnm2',\n",
    "                                 'mean_ap2',\n",
    "                                 'mean_dnm2',\n",
    "                                 'variation_ap2',\n",
    "                                 'variation_dnm2',\n",
    "                                 'skewness_ap2',\n",
    "                                 'skewness_dnm2',\n",
    "                                 'kurtosis_ap2',\n",
    "                                 'kurtosis_dnm2',\n",
    "                                 'number_significant_dnm2',\n",
    "                                 'max_consecutive_significant_dnm2',\n",
    "                                 'fraction_significant_dnm2',\n",
    "                                 'fraction_peak_ap2',\n",
    "                                 'fraction_peak_dnm2']"
   ]
  },
  {
   "cell_type": "code",
   "execution_count": 15,
   "metadata": {},
   "outputs": [],
   "source": [
    "possible_track_features = ['lifetime',\n",
    "                            'max_int_ch0',\n",
    "                            'max_int_ch1',\n",
    "                            'dist_traveled_ch0',\n",
    "                            'dist_traveled_ch1',\n",
    "                            'max_dist_between_ch0-ch1',\n",
    "                            'md_ch0',\n",
    "                            'md_ch1',\n",
    "                            'time_to_peak_ch0',\n",
    "                            'time_to_peak_ch1',\n",
    "                            'time_after_peak_ch0',\n",
    "                            'time_after_peak_ch1',\n",
    "                            'time_between_peaks_ch0-ch1',\n",
    "                            'avg_int_change_to_peak_ch0',\n",
    "                            'avg_int_change_to_peak_ch1',\n",
    "                            'avg_int_change_after_peak_ch0',\n",
    "                            'avg_int_change_after_peak_ch1',\n",
    "                            'peak_int_diff_ch0-ch1',\n",
    "                            'ratio_max_int_ch0-ch1',\n",
    "                            'mean_ch0',\n",
    "                            'mean_ch1',\n",
    "                            'variation_ch0',\n",
    "                            'variation_ch1',\n",
    "                            'skewness_ch0',\n",
    "                            'skewness_ch1',\n",
    "                            'kurtosis_ch0',\n",
    "                            'kurtosis_ch1',\n",
    "                            'number_significant_ch1',\n",
    "                            'max_consecutive_significant_ch1',\n",
    "                            'fraction_significant_ch1',\n",
    "                            'fraction_peak_ch0',\n",
    "                            'fraction_peak_ch1']"
   ]
  },
  {
   "cell_type": "code",
   "execution_count": 16,
   "metadata": {},
   "outputs": [],
   "source": [
    "analysis_metadata.item()['feature_units'] = feature_units\n",
    "analysis_metadata.item()['possible_track_features'] = possible_track_features\n",
    "analysis_metadata.item()['possible_track_features_labels'] = possible_track_features_labels"
   ]
  },
  {
   "cell_type": "markdown",
   "metadata": {},
   "source": [
    "# compare categories"
   ]
  },
  {
   "cell_type": "code",
   "execution_count": 25,
   "metadata": {},
   "outputs": [],
   "source": [
    "cfatc = compare_tracks.compare_frequencies_all_track_categories"
   ]
  },
  {
   "cell_type": "code",
   "execution_count": 30,
   "metadata": {
    "scrolled": true
   },
   "outputs": [
    {
     "name": "stdout",
     "output_type": "stream",
     "text": [
      "tests\n",
      "\n",
      "folders to mine for track set 1:\n",
      "71_200722_ap2-dnm2-arpc3_ap2-dnm2_arpc3_beads_wildtype_Cell12_1s\n",
      "72_200722_ap2-dnm2-arpc3_ap2-dnm2_arpc3_beads_wildtype_Cell13_1s\n",
      "\n",
      "\n",
      "loading tracks in set..\n",
      "tracks in set 1 of 2\n",
      "tracks in set 2 of 2\n",
      "\n",
      "\n",
      "\n",
      "\n"
     ]
    }
   ],
   "source": [
    "df_bead_categories = cfatc([unique_user_path_tracks_beads],\n",
    "                                  [['Cell']])"
   ]
  },
  {
   "cell_type": "code",
   "execution_count": 33,
   "metadata": {},
   "outputs": [
    {
     "data": {
      "text/plain": [
       "<matplotlib.axes._subplots.AxesSubplot at 0x7fb9ef0c24e0>"
      ]
     },
     "execution_count": 33,
     "metadata": {},
     "output_type": "execute_result"
    },
    {
     "data": {
      "image/png": "[encoded data removed]",
      "text/plain": [
       "<Figure size 1000x400 with 1 Axes>"
      ]
     },
     "metadata": {
      "needs_background": "light"
     },
     "output_type": "display_data"
    }
   ],
   "source": [
    "plt.figure(dpi=200, figsize=(5,2))\n",
    "sns.stripplot(data=df_bead_categories,\n",
    "                  x='category',\n",
    "                  y='counts',\n",
    "                  hue='condition',\n",
    "                  dodge=True)\n"
   ]
  },
  {
   "cell_type": "markdown",
   "metadata": {},
   "source": [
    "# extract features from all tracks, labeled by experiment (0-7), number of imaging channels/labels, and date of experiment"
   ]
  },
  {
   "cell_type": "code",
   "execution_count": 18,
   "metadata": {},
   "outputs": [],
   "source": [
    "experiment_groups = {}\n",
    "\n",
    "beads_group = {}\n",
    "beads_group['path'] = unique_user_path_tracks_beads\n",
    "beads_group['df'] = 'df_beads'\n",
    "beads_group['tracks'] = 'merged_beads'\n",
    "\n",
    "experiment_groups['beads_group'] = beads_group"
   ]
  },
  {
   "cell_type": "code",
   "execution_count": 19,
   "metadata": {},
   "outputs": [],
   "source": [
    "analysis_metadata.item()['experiment_groups'] = experiment_groups"
   ]
  },
  {
   "cell_type": "code",
   "execution_count": 20,
   "metadata": {},
   "outputs": [],
   "source": [
    "np.save('analysis_metadata', analysis_metadata)"
   ]
  },
  {
   "cell_type": "code",
   "execution_count": 34,
   "metadata": {},
   "outputs": [
    {
     "name": "stdout",
     "output_type": "stream",
     "text": [
      "\n",
      "folders to mine:\n",
      "71_200722_ap2-dnm2-arpc3_ap2-dnm2_arpc3_beads_wildtype_Cell12_1s\n",
      "72_200722_ap2-dnm2-arpc3_ap2-dnm2_arpc3_beads_wildtype_Cell13_1s\n",
      "\n",
      "\n",
      "uploading and saving tracks...\n",
      "\n",
      "\n",
      "finished uploading tracks\n",
      "\n",
      "extracting features...\n",
      "\n",
      "completed feature extraction\n",
      "\n",
      "creating dataframe...\n",
      "\n",
      "saving dataframe...\n",
      "\n",
      "saving tracks...\n",
      "\n",
      "done\n"
     ]
    }
   ],
   "source": [
    "import_tracks.upload_tracks_and_metadata(analysis_metadata,\n",
    "                                         'beads_group',\n",
    "                                         [4],\n",
    "                                         ['Cell'],\n",
    "                                         possible_track_features,\n",
    "                                         possible_track_features_labels)"
   ]
  },
  {
   "cell_type": "code",
   "execution_count": 41,
   "metadata": {},
   "outputs": [],
   "source": [
    "analysis_metadata = np.load('analysis_metadata.npy', allow_pickle=True)"
   ]
  },
  {
   "cell_type": "code",
   "execution_count": 42,
   "metadata": {},
   "outputs": [
    {
     "data": {
      "text/plain": [
       "array({'path_outputs': '/Volumes/GoogleDrive/My Drive/Drubin Lab/ap2dynm2arcp3_project/stable_outputs_20220211', 'path_notebook': '/Users/cynashirazinejad/Documents/GitHub/Jin_Shirazinejad_et_al_branched_actin_manuscript/analysis/simplified_workflow_20220211', 'feature_units': ['seconds', 'a.u. fluorescence', 'a.u. fluorescence', 'pixels', 'pixels', 'pixels', 'pixels', 'pixels', 'seconds', 'seconds', 'seconds', 'seconds', 'seconds', 'a.u. fluorescence', 'a.u. fluorescence', 'a.u. fluorescence', 'a.u. fluorescence', 'a.u. fluorescence', 'unitless', 'a.u. fluorescence', 'a.u. fluorescence', 'a.u. fluorescence**2', 'a.u. fluorescence**2', 'unitless', 'unitless', 'unitless', 'unitless', 'counts', 'counts', 'unitless', 'unitless', 'unitless'], 'possible_track_features': ['lifetime', 'max_int_ch0', 'max_int_ch1', 'dist_traveled_ch0', 'dist_traveled_ch1', 'max_dist_between_ch0-ch1', 'md_ch0', 'md_ch1', 'time_to_peak_ch0', 'time_to_peak_ch1', 'time_after_peak_ch0', 'time_after_peak_ch1', 'time_between_peaks_ch0-ch1', 'avg_int_change_to_peak_ch0', 'avg_int_change_to_peak_ch1', 'avg_int_change_after_peak_ch0', 'avg_int_change_after_peak_ch1', 'peak_int_diff_ch0-ch1', 'ratio_max_int_ch0-ch1', 'mean_ch0', 'mean_ch1', 'variation_ch0', 'variation_ch1', 'skewness_ch0', 'skewness_ch1', 'kurtosis_ch0', 'kurtosis_ch1', 'number_significant_ch1', 'max_consecutive_significant_ch1', 'fraction_significant_ch1', 'fraction_peak_ch0', 'fraction_peak_ch1'], 'possible_track_features_labels': ['lifetime', 'max_int_ap2', 'max_int_dnm2', 'dist_traveled_ap2', 'dist_traveled_dnm2', 'max_dist_between_ap2_dnm2', 'md_ap2', 'md_dnm2', 'time_to_peak_ap2', 'time_to_peak_dnm2', 'time_after_peak_ap2', 'time_after_peak_dnm2', 'time_between_peaks_ap2_dnm2', 'avg_int_change_to_peak_ap2', 'avg_int_change_to_peak_dnm2', 'avg_int_change_after_peak_ap2', 'avg_int_change_after_peak_dnm2', 'peak_int_diff_ap2_dnm2', 'ratio_max_int_ap2_dnm2', 'mean_ap2', 'mean_dnm2', 'variation_ap2', 'variation_dnm2', 'skewness_ap2', 'skewness_dnm2', 'kurtosis_ap2', 'kurtosis_dnm2', 'number_significant_dnm2', 'max_consecutive_significant_dnm2', 'fraction_significant_dnm2', 'fraction_peak_ap2', 'fraction_peak_dnm2'], 'experiment_groups': {'ad_wildtype': {'path': '/Volumes/Google Drive/My Drive/Drubin Lab/ap2dynm2arcp3_project/tracking_data/AD_cellline_analysis_formatted', 'df': 'df_ad_wildtype_merged_features', 'tracks': 'merged_ad_wildtype_valid_tracks', 'number_of_track_splits': 8}}},\n",
       "      dtype=object)"
      ]
     },
     "execution_count": 42,
     "metadata": {},
     "output_type": "execute_result"
    }
   ],
   "source": [
    "analysis_metadata"
   ]
  },
  {
   "cell_type": "code",
   "execution_count": 43,
   "metadata": {},
   "outputs": [],
   "source": [
    "df_merged_features = output[0]"
   ]
  },
  {
   "cell_type": "code",
   "execution_count": 44,
   "metadata": {},
   "outputs": [
    {
     "data": {
      "text/html": [
       "<div>\n",
       "<style scoped>\n",
       "    .dataframe tbody tr th:only-of-type {\n",
       "        vertical-align: middle;\n",
       "    }\n",
       "\n",
       "    .dataframe tbody tr th {\n",
       "        vertical-align: top;\n",
       "    }\n",
       "\n",
       "    .dataframe thead th {\n",
       "        text-align: right;\n",
       "    }\n",
       "</style>\n",
       "<table border=\"1\" class=\"dataframe\">\n",
       "  <thead>\n",
       "    <tr style=\"text-align: right;\">\n",
       "      <th></th>\n",
       "      <th>lifetime</th>\n",
       "      <th>max_int_ap2</th>\n",
       "      <th>max_int_dnm2</th>\n",
       "      <th>dist_traveled_ap2</th>\n",
       "      <th>dist_traveled_dnm2</th>\n",
       "      <th>max_dist_between_ap2_dnm2</th>\n",
       "      <th>md_ap2</th>\n",
       "      <th>md_dnm2</th>\n",
       "      <th>time_to_peak_ap2</th>\n",
       "      <th>time_to_peak_dnm2</th>\n",
       "      <th>...</th>\n",
       "      <th>fraction_peak_dnm2</th>\n",
       "      <th>cmeAnalysis_dynamin2_prediction</th>\n",
       "      <th>experiment_number</th>\n",
       "      <th>number_of_tags</th>\n",
       "      <th>cell_line_tags</th>\n",
       "      <th>current_tracked_channels</th>\n",
       "      <th>experiment_type</th>\n",
       "      <th>cell_condition</th>\n",
       "      <th>framerate</th>\n",
       "      <th>date</th>\n",
       "    </tr>\n",
       "  </thead>\n",
       "  <tbody>\n",
       "    <tr>\n",
       "      <th>0</th>\n",
       "      <td>216.0</td>\n",
       "      <td>1796.284550322625</td>\n",
       "      <td>740.5167555488542</td>\n",
       "      <td>7.203811618034117</td>\n",
       "      <td>7.203811618034117</td>\n",
       "      <td>2.6306555388877793</td>\n",
       "      <td>0.5662615075017282</td>\n",
       "      <td>0.7259134903726635</td>\n",
       "      <td>159.0</td>\n",
       "      <td>186.0</td>\n",
       "      <td>...</td>\n",
       "      <td>0.8230088495575221</td>\n",
       "      <td>1.0</td>\n",
       "      <td>0.0</td>\n",
       "      <td>2.0</td>\n",
       "      <td>ap2-dnm2</td>\n",
       "      <td>ap2-dnm2</td>\n",
       "      <td>wildtype</td>\n",
       "      <td>no-treatment</td>\n",
       "      <td>1s</td>\n",
       "      <td>200804</td>\n",
       "    </tr>\n",
       "    <tr>\n",
       "      <th>1</th>\n",
       "      <td>201.0</td>\n",
       "      <td>2215.53269478876</td>\n",
       "      <td>1505.4332733213157</td>\n",
       "      <td>17.220725894550196</td>\n",
       "      <td>14.507134678864624</td>\n",
       "      <td>3.79752603297003</td>\n",
       "      <td>0.42457356996667195</td>\n",
       "      <td>0.9126711550232961</td>\n",
       "      <td>111.0</td>\n",
       "      <td>107.0</td>\n",
       "      <td>...</td>\n",
       "      <td>0.5071090047393365</td>\n",
       "      <td>1.0</td>\n",
       "      <td>0.0</td>\n",
       "      <td>2.0</td>\n",
       "      <td>ap2-dnm2</td>\n",
       "      <td>ap2-dnm2</td>\n",
       "      <td>wildtype</td>\n",
       "      <td>no-treatment</td>\n",
       "      <td>1s</td>\n",
       "      <td>200804</td>\n",
       "    </tr>\n",
       "    <tr>\n",
       "      <th>2</th>\n",
       "      <td>201.0</td>\n",
       "      <td>864.9760871693655</td>\n",
       "      <td>421.40569093332397</td>\n",
       "      <td>17.621865760603715</td>\n",
       "      <td>17.130473203716313</td>\n",
       "      <td>3.472331504351925</td>\n",
       "      <td>0.5665883248115021</td>\n",
       "      <td>0.7764040384690212</td>\n",
       "      <td>42.0</td>\n",
       "      <td>44.0</td>\n",
       "      <td>...</td>\n",
       "      <td>0.20853080568720378</td>\n",
       "      <td>1.0</td>\n",
       "      <td>0.0</td>\n",
       "      <td>2.0</td>\n",
       "      <td>ap2-dnm2</td>\n",
       "      <td>ap2-dnm2</td>\n",
       "      <td>wildtype</td>\n",
       "      <td>no-treatment</td>\n",
       "      <td>1s</td>\n",
       "      <td>200804</td>\n",
       "    </tr>\n",
       "    <tr>\n",
       "      <th>3</th>\n",
       "      <td>192.0</td>\n",
       "      <td>509.7951655896294</td>\n",
       "      <td>356.30252072661403</td>\n",
       "      <td>10.804210974044102</td>\n",
       "      <td>13.29284212911614</td>\n",
       "      <td>5.888568784172939</td>\n",
       "      <td>0.4287357708278232</td>\n",
       "      <td>1.0581767956988943</td>\n",
       "      <td>44.0</td>\n",
       "      <td>190.0</td>\n",
       "      <td>...</td>\n",
       "      <td>0.9405940594059405</td>\n",
       "      <td>1.0</td>\n",
       "      <td>0.0</td>\n",
       "      <td>2.0</td>\n",
       "      <td>ap2-dnm2</td>\n",
       "      <td>ap2-dnm2</td>\n",
       "      <td>wildtype</td>\n",
       "      <td>no-treatment</td>\n",
       "      <td>1s</td>\n",
       "      <td>200804</td>\n",
       "    </tr>\n",
       "    <tr>\n",
       "      <th>4</th>\n",
       "      <td>188.0</td>\n",
       "      <td>1636.4223863360899</td>\n",
       "      <td>883.606435993711</td>\n",
       "      <td>11.255090440377664</td>\n",
       "      <td>7.793073957870642</td>\n",
       "      <td>5.53100638637804</td>\n",
       "      <td>0.41579163122869783</td>\n",
       "      <td>0.753372444487746</td>\n",
       "      <td>174.0</td>\n",
       "      <td>169.0</td>\n",
       "      <td>...</td>\n",
       "      <td>0.8535353535353535</td>\n",
       "      <td>1.0</td>\n",
       "      <td>0.0</td>\n",
       "      <td>2.0</td>\n",
       "      <td>ap2-dnm2</td>\n",
       "      <td>ap2-dnm2</td>\n",
       "      <td>wildtype</td>\n",
       "      <td>no-treatment</td>\n",
       "      <td>1s</td>\n",
       "      <td>200804</td>\n",
       "    </tr>\n",
       "    <tr>\n",
       "      <th>...</th>\n",
       "      <td>...</td>\n",
       "      <td>...</td>\n",
       "      <td>...</td>\n",
       "      <td>...</td>\n",
       "      <td>...</td>\n",
       "      <td>...</td>\n",
       "      <td>...</td>\n",
       "      <td>...</td>\n",
       "      <td>...</td>\n",
       "      <td>...</td>\n",
       "      <td>...</td>\n",
       "      <td>...</td>\n",
       "      <td>...</td>\n",
       "      <td>...</td>\n",
       "      <td>...</td>\n",
       "      <td>...</td>\n",
       "      <td>...</td>\n",
       "      <td>...</td>\n",
       "      <td>...</td>\n",
       "      <td>...</td>\n",
       "      <td>...</td>\n",
       "    </tr>\n",
       "    <tr>\n",
       "      <th>59234</th>\n",
       "      <td>2.0</td>\n",
       "      <td>28.623953094644072</td>\n",
       "      <td>19.04267536740483</td>\n",
       "      <td>1.8796908488080917</td>\n",
       "      <td>2.915253367017944</td>\n",
       "      <td>2.389665408897578</td>\n",
       "      <td>1.0923364294023667</td>\n",
       "      <td>1.3549845245985959</td>\n",
       "      <td>6.0</td>\n",
       "      <td>0.0</td>\n",
       "      <td>...</td>\n",
       "      <td>0.0</td>\n",
       "      <td>0.0</td>\n",
       "      <td>7.0</td>\n",
       "      <td>2.0</td>\n",
       "      <td>ap2-dnm2</td>\n",
       "      <td>ap2-dnm2</td>\n",
       "      <td>wildtype</td>\n",
       "      <td>no-treatment</td>\n",
       "      <td>1s</td>\n",
       "      <td>200819</td>\n",
       "    </tr>\n",
       "    <tr>\n",
       "      <th>59235</th>\n",
       "      <td>2.0</td>\n",
       "      <td>15.16406513256624</td>\n",
       "      <td>14.946216236886015</td>\n",
       "      <td>7.447355313813243</td>\n",
       "      <td>2.6664318562049107</td>\n",
       "      <td>6.454258735272825</td>\n",
       "      <td>2.453557868995878</td>\n",
       "      <td>1.923303689919584</td>\n",
       "      <td>6.0</td>\n",
       "      <td>3.0</td>\n",
       "      <td>...</td>\n",
       "      <td>0.25</td>\n",
       "      <td>0.0</td>\n",
       "      <td>7.0</td>\n",
       "      <td>2.0</td>\n",
       "      <td>ap2-dnm2</td>\n",
       "      <td>ap2-dnm2</td>\n",
       "      <td>wildtype</td>\n",
       "      <td>no-treatment</td>\n",
       "      <td>1s</td>\n",
       "      <td>200819</td>\n",
       "    </tr>\n",
       "    <tr>\n",
       "      <th>59236</th>\n",
       "      <td>2.0</td>\n",
       "      <td>21.87979204779379</td>\n",
       "      <td>26.215771722354116</td>\n",
       "      <td>4.384565199592009</td>\n",
       "      <td>1.665403908980792</td>\n",
       "      <td>4.318207296451148</td>\n",
       "      <td>1.8737702023929197</td>\n",
       "      <td>2.4187978088233795</td>\n",
       "      <td>6.0</td>\n",
       "      <td>6.0</td>\n",
       "      <td>...</td>\n",
       "      <td>0.5</td>\n",
       "      <td>0.0</td>\n",
       "      <td>7.0</td>\n",
       "      <td>2.0</td>\n",
       "      <td>ap2-dnm2</td>\n",
       "      <td>ap2-dnm2</td>\n",
       "      <td>wildtype</td>\n",
       "      <td>no-treatment</td>\n",
       "      <td>1s</td>\n",
       "      <td>200819</td>\n",
       "    </tr>\n",
       "    <tr>\n",
       "      <th>59237</th>\n",
       "      <td>2.0</td>\n",
       "      <td>20.236622704590612</td>\n",
       "      <td>13.95459467883471</td>\n",
       "      <td>1.0793876124245154</td>\n",
       "      <td>2.8886438427430146</td>\n",
       "      <td>3.897008864376748</td>\n",
       "      <td>0.843483102219812</td>\n",
       "      <td>2.105213983074413</td>\n",
       "      <td>6.0</td>\n",
       "      <td>11.0</td>\n",
       "      <td>...</td>\n",
       "      <td>0.9166666666666666</td>\n",
       "      <td>0.0</td>\n",
       "      <td>7.0</td>\n",
       "      <td>2.0</td>\n",
       "      <td>ap2-dnm2</td>\n",
       "      <td>ap2-dnm2</td>\n",
       "      <td>wildtype</td>\n",
       "      <td>no-treatment</td>\n",
       "      <td>1s</td>\n",
       "      <td>200819</td>\n",
       "    </tr>\n",
       "    <tr>\n",
       "      <th>59238</th>\n",
       "      <td>2.0</td>\n",
       "      <td>31.736902796068794</td>\n",
       "      <td>27.212506684962563</td>\n",
       "      <td>2.3796348306794624</td>\n",
       "      <td>4.10843988776149</td>\n",
       "      <td>5.030971872615037</td>\n",
       "      <td>1.3910663449157312</td>\n",
       "      <td>1.3820332415638072</td>\n",
       "      <td>5.0</td>\n",
       "      <td>10.0</td>\n",
       "      <td>...</td>\n",
       "      <td>0.8333333333333334</td>\n",
       "      <td>0.0</td>\n",
       "      <td>7.0</td>\n",
       "      <td>2.0</td>\n",
       "      <td>ap2-dnm2</td>\n",
       "      <td>ap2-dnm2</td>\n",
       "      <td>wildtype</td>\n",
       "      <td>no-treatment</td>\n",
       "      <td>1s</td>\n",
       "      <td>200819</td>\n",
       "    </tr>\n",
       "  </tbody>\n",
       "</table>\n",
       "<p>59239 rows × 41 columns</p>\n",
       "</div>"
      ],
      "text/plain": [
       "      lifetime         max_int_ap2        max_int_dnm2   dist_traveled_ap2  \\\n",
       "0        216.0   1796.284550322625   740.5167555488542   7.203811618034117   \n",
       "1        201.0    2215.53269478876  1505.4332733213157  17.220725894550196   \n",
       "2        201.0   864.9760871693655  421.40569093332397  17.621865760603715   \n",
       "3        192.0   509.7951655896294  356.30252072661403  10.804210974044102   \n",
       "4        188.0  1636.4223863360899    883.606435993711  11.255090440377664   \n",
       "...        ...                 ...                 ...                 ...   \n",
       "59234      2.0  28.623953094644072   19.04267536740483  1.8796908488080917   \n",
       "59235      2.0   15.16406513256624  14.946216236886015   7.447355313813243   \n",
       "59236      2.0   21.87979204779379  26.215771722354116   4.384565199592009   \n",
       "59237      2.0  20.236622704590612   13.95459467883471  1.0793876124245154   \n",
       "59238      2.0  31.736902796068794  27.212506684962563  2.3796348306794624   \n",
       "\n",
       "       dist_traveled_dnm2 max_dist_between_ap2_dnm2               md_ap2  \\\n",
       "0       7.203811618034117        2.6306555388877793   0.5662615075017282   \n",
       "1      14.507134678864624          3.79752603297003  0.42457356996667195   \n",
       "2      17.130473203716313         3.472331504351925   0.5665883248115021   \n",
       "3       13.29284212911614         5.888568784172939   0.4287357708278232   \n",
       "4       7.793073957870642          5.53100638637804  0.41579163122869783   \n",
       "...                   ...                       ...                  ...   \n",
       "59234   2.915253367017944         2.389665408897578   1.0923364294023667   \n",
       "59235  2.6664318562049107         6.454258735272825    2.453557868995878   \n",
       "59236   1.665403908980792         4.318207296451148   1.8737702023929197   \n",
       "59237  2.8886438427430146         3.897008864376748    0.843483102219812   \n",
       "59238    4.10843988776149         5.030971872615037   1.3910663449157312   \n",
       "\n",
       "                  md_dnm2 time_to_peak_ap2 time_to_peak_dnm2  ...  \\\n",
       "0      0.7259134903726635            159.0             186.0  ...   \n",
       "1      0.9126711550232961            111.0             107.0  ...   \n",
       "2      0.7764040384690212             42.0              44.0  ...   \n",
       "3      1.0581767956988943             44.0             190.0  ...   \n",
       "4       0.753372444487746            174.0             169.0  ...   \n",
       "...                   ...              ...               ...  ...   \n",
       "59234  1.3549845245985959              6.0               0.0  ...   \n",
       "59235   1.923303689919584              6.0               3.0  ...   \n",
       "59236  2.4187978088233795              6.0               6.0  ...   \n",
       "59237   2.105213983074413              6.0              11.0  ...   \n",
       "59238  1.3820332415638072              5.0              10.0  ...   \n",
       "\n",
       "        fraction_peak_dnm2 cmeAnalysis_dynamin2_prediction experiment_number  \\\n",
       "0       0.8230088495575221                             1.0               0.0   \n",
       "1       0.5071090047393365                             1.0               0.0   \n",
       "2      0.20853080568720378                             1.0               0.0   \n",
       "3       0.9405940594059405                             1.0               0.0   \n",
       "4       0.8535353535353535                             1.0               0.0   \n",
       "...                    ...                             ...               ...   \n",
       "59234                  0.0                             0.0               7.0   \n",
       "59235                 0.25                             0.0               7.0   \n",
       "59236                  0.5                             0.0               7.0   \n",
       "59237   0.9166666666666666                             0.0               7.0   \n",
       "59238   0.8333333333333334                             0.0               7.0   \n",
       "\n",
       "      number_of_tags cell_line_tags current_tracked_channels experiment_type  \\\n",
       "0                2.0       ap2-dnm2                 ap2-dnm2        wildtype   \n",
       "1                2.0       ap2-dnm2                 ap2-dnm2        wildtype   \n",
       "2                2.0       ap2-dnm2                 ap2-dnm2        wildtype   \n",
       "3                2.0       ap2-dnm2                 ap2-dnm2        wildtype   \n",
       "4                2.0       ap2-dnm2                 ap2-dnm2        wildtype   \n",
       "...              ...            ...                      ...             ...   \n",
       "59234            2.0       ap2-dnm2                 ap2-dnm2        wildtype   \n",
       "59235            2.0       ap2-dnm2                 ap2-dnm2        wildtype   \n",
       "59236            2.0       ap2-dnm2                 ap2-dnm2        wildtype   \n",
       "59237            2.0       ap2-dnm2                 ap2-dnm2        wildtype   \n",
       "59238            2.0       ap2-dnm2                 ap2-dnm2        wildtype   \n",
       "\n",
       "      cell_condition framerate    date  \n",
       "0       no-treatment        1s  200804  \n",
       "1       no-treatment        1s  200804  \n",
       "2       no-treatment        1s  200804  \n",
       "3       no-treatment        1s  200804  \n",
       "4       no-treatment        1s  200804  \n",
       "...              ...       ...     ...  \n",
       "59234   no-treatment        1s  200819  \n",
       "59235   no-treatment        1s  200819  \n",
       "59236   no-treatment        1s  200819  \n",
       "59237   no-treatment        1s  200819  \n",
       "59238   no-treatment        1s  200819  \n",
       "\n",
       "[59239 rows x 41 columns]"
      ]
     },
     "execution_count": 44,
     "metadata": {},
     "output_type": "execute_result"
    }
   ],
   "source": [
    "df_merged_features"
   ]
  },
  {
   "cell_type": "code",
   "execution_count": 39,
   "metadata": {},
   "outputs": [],
   "source": [
    "beads_0 = np.load('/Volumes/Google Drive/My Drive/Drubin Lab/ap2dynm2arcp3_project/stable_outputs_beads/dataframes/merged_beads_0.npy', allow_pickle=True)\n",
    "beads_1 = np.load('/Volumes/Google Drive/My Drive/Drubin Lab/ap2dynm2arcp3_project/stable_outputs_beads/dataframes/merged_beads_1.npy', allow_pickle=True)"
   ]
  },
  {
   "cell_type": "code",
   "execution_count": 43,
   "metadata": {},
   "outputs": [
    {
     "data": {
      "text/plain": [
       "(1560, 1572)"
      ]
     },
     "execution_count": 43,
     "metadata": {},
     "output_type": "execute_result"
    }
   ],
   "source": [
    "len(beads_0), len(beads_1)"
   ]
  },
  {
   "cell_type": "code",
   "execution_count": 46,
   "metadata": {},
   "outputs": [],
   "source": [
    "beads_merged = list(beads_0) + list(beads_1)"
   ]
  },
  {
   "cell_type": "code",
   "execution_count": 47,
   "metadata": {},
   "outputs": [
    {
     "data": {
      "text/plain": [
       "3132"
      ]
     },
     "execution_count": 47,
     "metadata": {},
     "output_type": "execute_result"
    }
   ],
   "source": [
    "len(beads_merged)"
   ]
  },
  {
   "cell_type": "code",
   "execution_count": 54,
   "metadata": {},
   "outputs": [],
   "source": [
    "avg_ch0_1_sep = []\n",
    "avg_ch0_2_sep = []\n",
    "\n",
    "absolute_x_pos_ch0 = []\n",
    "absolute_y_pos_ch0 = []\n",
    "\n",
    "absolute_x_pos_ch1 = []\n",
    "absolute_y_pos_ch1 = []\n",
    "\n",
    "absolute_x_pos_ch2 = []\n",
    "absolute_y_pos_ch2 = []\n",
    "\n",
    "for i in range(len(beads_merged)):\n",
    "    \n",
    "    x_positions_ch0 = return_track_attributes.return_puncta_x_position_whole_track(beads_merged, i, 0)\n",
    "    y_positions_ch0 = return_track_attributes.return_puncta_y_position_whole_track(beads_merged, i, 0)\n",
    "\n",
    "    x_positions_ch1 = return_track_attributes.return_puncta_x_position_whole_track(beads_merged, i, 1)\n",
    "    y_positions_ch1 = return_track_attributes.return_puncta_y_position_whole_track(beads_merged, i, 1)\n",
    "    \n",
    "    x_positions_ch2 = return_track_attributes.return_puncta_x_position_whole_track(beads_merged, i, 2)\n",
    "    y_positions_ch2 = return_track_attributes.return_puncta_y_position_whole_track(beads_merged, i, 2)\n",
    "\n",
    "    absolute_x_pos_ch0.append(x_positions_ch0)\n",
    "    absolute_y_pos_ch0.append(y_positions_ch0)\n",
    "\n",
    "    absolute_x_pos_ch1.append(x_positions_ch1)\n",
    "    absolute_y_pos_ch1.append(y_positions_ch1)\n",
    "\n",
    "    absolute_x_pos_ch2.append(x_positions_ch2)\n",
    "    absolute_y_pos_ch2.append(y_positions_ch2)\n",
    "    \n",
    "    distance_between_ch0nnels_0_1=[]\n",
    "    distance_between_ch0nnels_0_2=[]\n",
    "\n",
    "    for j in range(len(x_positions_ch0)):\n",
    "\n",
    "        distance_between_ch0nnels_0_1.append(np.sqrt((x_positions_ch0[j]-x_positions_ch1[j])**2 + (y_positions_ch0[j]-y_positions_ch1[j])**2))\n",
    "        distance_between_ch0nnels_0_2.append(np.sqrt((x_positions_ch0[j]-x_positions_ch2[j])**2 + (y_positions_ch0[j]-y_positions_ch2[j])**2))\n",
    "        \n",
    "    avg_ch0_1_sep.append(np.mean(distance_between_ch0nnels_0_1))\n",
    "    avg_ch0_2_sep.append(np.mean(distance_between_ch0nnels_0_2))"
   ]
  },
  {
   "cell_type": "code",
   "execution_count": 55,
   "metadata": {},
   "outputs": [
    {
     "data": {
      "text/plain": [
       "(array([1233., 1695.,  131.,   26.,    8.,    5.,   11.,    9.,    8.,\n",
       "           6.]),\n",
       " array([0.        , 0.30593964, 0.61187929, 0.91781893, 1.22375858,\n",
       "        1.52969822, 1.83563787, 2.14157751, 2.44751716, 2.7534568 ,\n",
       "        3.05939645]),\n",
       " <a list of 10 Patch objects>)"
      ]
     },
     "execution_count": 55,
     "metadata": {},
     "output_type": "execute_result"
    },
    {
     "data": {
      "image/png": "[encoded data removed]",
      "text/plain": [
       "<Figure size 432x288 with 1 Axes>"
      ]
     },
     "metadata": {
      "needs_background": "light"
     },
     "output_type": "display_data"
    }
   ],
   "source": [
    "plt.hist(avg_ch0_1_sep)\n",
    "plt.hist(avg_ch0_2_sep)"
   ]
  },
  {
   "cell_type": "code",
   "execution_count": 56,
   "metadata": {},
   "outputs": [],
   "source": [
    "image_size = 512\n",
    "center_offset = 50\n",
    "spacing = 5\n",
    "min_x = np.arange(image_size/2-center_offset, 0, -spacing)\n",
    "min_y = np.arange(image_size/2-center_offset, 0, -spacing)\n",
    "max_x = np.arange(image_size/2+center_offset, image_size, spacing)\n",
    "max_y = np.arange(image_size/2+center_offset, image_size, spacing)"
   ]
  },
  {
   "cell_type": "code",
   "execution_count": 61,
   "metadata": {},
   "outputs": [],
   "source": [
    "events_in_boundary = []\n",
    "boundary_condition = []\n",
    "separation_ch0_1 = []\n",
    "separation_ch0_2 = []\n",
    "\n",
    "for i in range(len(min_x)):\n",
    "    \n",
    "    events_temp = []\n",
    "    \n",
    "    current_boundaries = (min_x[i], \n",
    "                          min_y[i],\n",
    "                          max_x[i],\n",
    "                          max_y[i])\n",
    "    \n",
    "    for j in range(len(absolute_x_pos_ch0)):\n",
    "        \n",
    "        in_bounds = True\n",
    "        \n",
    "        x_pos_temp = absolute_x_pos_ch0[j]\n",
    "        \n",
    "        for x_pos in x_pos_temp:\n",
    "            \n",
    "            if x_pos<current_boundaries[0] or x_pos>current_boundaries[2]:\n",
    "                \n",
    "                in_bounds = False\n",
    "            \n",
    "        y_pos_temp = absolute_y_pos_ch0[j]\n",
    "        \n",
    "        for y_pos in y_pos_temp:\n",
    "            \n",
    "            if y_pos<current_boundaries[1] or y_pos>current_boundaries[3]:\n",
    "                \n",
    "                in_bounds = False\n",
    "        \n",
    "        if in_bounds:\n",
    "            \n",
    "            boundary_condition.append(i)\n",
    "            separation_ch0_1.append(avg_ch0_1_sep[j])\n",
    "            separation_ch0_2.append(avg_ch0_2_sep[j])\n",
    "\n",
    "            events_temp.append(separation_merged[j])\n",
    "            \n",
    "    events_in_boundary.append(events_temp)"
   ]
  },
  {
   "cell_type": "code",
   "execution_count": 67,
   "metadata": {},
   "outputs": [],
   "source": [
    "avg_sep = []\n",
    "std_sep = []\n",
    "num_events = []\n",
    "for i in range(len(events_in_boundary)):\n",
    "    num_events.append(len(events_in_boundary[i]))\n",
    "    avg_sep.append(np.mean(events_in_boundary[i]))\n",
    "    std_sep.append(np.std(events_in_boundary[i]))"
   ]
  },
  {
   "cell_type": "code",
   "execution_count": 68,
   "metadata": {},
   "outputs": [
    {
     "data": {
      "text/plain": [
       "[<matplotlib.lines.Line2D at 0x7fb9ecfb3940>]"
      ]
     },
     "execution_count": 68,
     "metadata": {},
     "output_type": "execute_result"
    },
    {
     "data": {
      "image/png": "[encoded data removed]",
      "text/plain": [
       "<Figure size 432x288 with 1 Axes>"
      ]
     },
     "metadata": {
      "needs_background": "light"
     },
     "output_type": "display_data"
    }
   ],
   "source": [
    "plt.plot(num_events, '.')"
   ]
  },
  {
   "cell_type": "code",
   "execution_count": 107,
   "metadata": {},
   "outputs": [
    {
     "data": {
      "text/plain": [
       "[<matplotlib.lines.Line2D at 0x7fe3bbf6fc50>]"
      ]
     },
     "execution_count": 107,
     "metadata": {},
     "output_type": "execute_result"
    },
    {
     "data": {
      "image/png": "[encoded data removed]",
      "text/plain": [
       "<Figure size 640x480 with 1 Axes>"
      ]
     },
     "metadata": {},
     "output_type": "display_data"
    }
   ],
   "source": [
    "plt.plot(avg_sep)\n",
    "plt.plot(std_sep)"
   ]
  },
  {
   "cell_type": "code",
   "execution_count": null,
   "metadata": {},
   "outputs": [],
   "source": []
  }
 ],
 "metadata": {
  "kernelspec": {
   "display_name": "Python 3",
   "language": "python",
   "name": "python3"
  },
  "language_info": {
   "codemirror_mode": {
    "name": "ipython",
    "version": 3
   },
   "file_extension": ".py",
   "mimetype": "text/x-python",
   "name": "python",
   "nbconvert_exporter": "python",
   "pygments_lexer": "ipython3",
   "version": "3.6.12"
  }
 },
 "nbformat": 4,
 "nbformat_minor": 4
}
