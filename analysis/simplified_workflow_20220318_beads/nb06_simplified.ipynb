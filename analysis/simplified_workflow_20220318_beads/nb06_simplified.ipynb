{
 "cells": [
  {
   "cell_type": "markdown",
   "metadata": {},
   "source": [
    "Cyna Shirazinejad, 7/7/21\n",
    "\n",
    "# Notebook 6: detect single DNM2 peaks\n",
    "\n",
    "outline:\n",
    "\n",
    "* visualize the lifetime distribution of model's DNM2 positive events (DNM2+)\n",
    "* visualize the frequency decomposition over DNM2 intensity through time measurements\n",
    "* find the optimal peak-characteristic parameters for a single DNM2 burst\n",
    "* confirm the model's selection with alternative statistics for goodness-of-fit\n",
    "* visualize the effects of alternative peak-constraints in the parameter sweep\n",
    "* visualize the lifetime distribution of single-peaked DNM2+ events or clathrin-coated pits (CCPs)\n",
    "* visualize examples of CCPs, hotspots, or non-peaking DNM2+ events\n",
    "* determine the boundaries of clusters and the overlap of cmeAnalysisDNM2+ and members of clusters\n",
    "* plots AP2 lifetime cohorts of CCPs aligned to DNM2 peaks"
   ]
  },
  {
   "cell_type": "markdown",
   "metadata": {},
   "source": [
    "# import all necessary Python modules"
   ]
  },
  {
   "cell_type": "code",
   "execution_count": 5,
   "metadata": {},
   "outputs": [
    {
     "name": "stdout",
     "output_type": "stream",
     "text": [
      "The autoreload extension is already loaded. To reload it, use:\n",
      "  %reload_ext autoreload\n"
     ]
    }
   ],
   "source": [
    "%load_ext autoreload\n",
    "%autoreload 2\n",
    "%matplotlib inline\n",
    "import numpy as np\n",
    "import sys\n",
    "\n",
    "analysis_metadata = np.load('analysis_metadata.npy', allow_pickle=True)\n",
    "sys.path.append(analysis_metadata.item().get('path_notebook')+'/cmeAnalysisPostProcessingSimplified') # add custom Python scripts to the local path\n",
    "import detect_peaks"
   ]
  },
  {
   "cell_type": "code",
   "execution_count": 6,
   "metadata": {},
   "outputs": [
    {
     "data": {
      "text/plain": [
       "array({'path_outputs': '/Volumes/GoogleDrive/My Drive/Drubin Lab/ap2dynm2arcp3_project/stable_outputs_20220211', 'path_notebook': '/Users/cynashirazinejad/Documents/GitHub/Jin_Shirazinejad_et_al_branched_actin_manuscript/analysis/simplified_workflow_20220211', 'feature_units': ['seconds', 'a.u. fluorescence', 'a.u. fluorescence', 'pixels', 'pixels', 'pixels', 'pixels', 'pixels', 'seconds', 'seconds', 'seconds', 'seconds', 'seconds', 'a.u. fluorescence', 'a.u. fluorescence', 'a.u. fluorescence', 'a.u. fluorescence', 'a.u. fluorescence', 'unitless', 'a.u. fluorescence', 'a.u. fluorescence', 'a.u. fluorescence**2', 'a.u. fluorescence**2', 'unitless', 'unitless', 'unitless', 'unitless', 'counts', 'counts', 'unitless', 'unitless', 'unitless'], 'possible_track_features': ['lifetime', 'max_int_ch0', 'max_int_ch1', 'dist_traveled_ch0', 'dist_traveled_ch1', 'max_dist_between_ch0-ch1', 'md_ch0', 'md_ch1', 'time_to_peak_ch0', 'time_to_peak_ch1', 'time_after_peak_ch0', 'time_after_peak_ch1', 'time_between_peaks_ch0-ch1', 'avg_int_change_to_peak_ch0', 'avg_int_change_to_peak_ch1', 'avg_int_change_after_peak_ch0', 'avg_int_change_after_peak_ch1', 'peak_int_diff_ch0-ch1', 'ratio_max_int_ch0-ch1', 'mean_ch0', 'mean_ch1', 'variation_ch0', 'variation_ch1', 'skewness_ch0', 'skewness_ch1', 'kurtosis_ch0', 'kurtosis_ch1', 'number_significant_ch1', 'max_consecutive_significant_ch1', 'fraction_significant_ch1', 'fraction_peak_ch0', 'fraction_peak_ch1'], 'possible_track_features_labels': ['lifetime', 'max_int_ap2', 'max_int_dnm2', 'dist_traveled_ap2', 'dist_traveled_dnm2', 'max_dist_between_ap2_dnm2', 'md_ap2', 'md_dnm2', 'time_to_peak_ap2', 'time_to_peak_dnm2', 'time_after_peak_ap2', 'time_after_peak_dnm2', 'time_between_peaks_ap2_dnm2', 'avg_int_change_to_peak_ap2', 'avg_int_change_to_peak_dnm2', 'avg_int_change_after_peak_ap2', 'avg_int_change_after_peak_dnm2', 'peak_int_diff_ap2_dnm2', 'ratio_max_int_ap2_dnm2', 'mean_ap2', 'mean_dnm2', 'variation_ap2', 'variation_dnm2', 'skewness_ap2', 'skewness_dnm2', 'kurtosis_ap2', 'kurtosis_dnm2', 'number_significant_dnm2', 'max_consecutive_significant_dnm2', 'fraction_significant_dnm2', 'fraction_peak_ap2', 'fraction_peak_dnm2'], 'experiment_groups': {'ad_wildtype': {'path': '/Volumes/Google Drive/My Drive/Drubin Lab/ap2dynm2arcp3_project/tracking_data/AD_cellline_analysis_formatted', 'df': 'df_ad_wildtype_merged_features', 'tracks': 'merged_ad_wildtype_valid_tracks', 'number_of_track_splits': 8}, 'ada_wildtype': {'path': '/Volumes/Google Drive/My Drive/Drubin Lab/ap2dynm2arcp3_project/tracking_data/ADA_cellline_analysis_formatted_temp/', 'df': 'df_ada_wildtype_merged_features', 'tracks': 'merged_ada_wildtype_valid_tracks', 'number_of_track_splits': 13}, 'ada_ck666_nt': {'path': '/Volumes/Google Drive/My Drive/Drubin Lab/ap2dynm2arcp3_project/revision_tracking/ck666_tracking_data_ap2dnm2', 'df': 'df_ada_ck666_nt_merged_features', 'tracks': 'merged_ada_ck666_nt_valid_tracks', 'number_of_track_splits': 12}, 'ada_ck666_dmso': {'path': '/Volumes/Google Drive/My Drive/Drubin Lab/ap2dynm2arcp3_project/revision_tracking/ck666_tracking_data_ap2dnm2', 'df': 'df_ada_ck666_dmso_merged_features', 'tracks': 'merged_ada_ck666_dmso_valid_tracks', 'number_of_track_splits': 9}, 'ada_ck666_ck666': {'path': '/Volumes/Google Drive/My Drive/Drubin Lab/ap2dynm2arcp3_project/revision_tracking/ck666_tracking_data_ap2dnm2', 'df': 'df_ada_ck666_ck666_merged_features', 'tracks': 'merged_ada_ck666_ck666_valid_tracks', 'number_of_track_splits': 9}, 'ada_hypotonic_before': {'path': '/Volumes/Google Drive/My Drive/Drubin Lab/ap2dynm2arcp3_project/revision_tracking/hypotonic_tracking_data_merged_211203_211208_ap2dnm2/', 'df': 'df_ada_hypotonic_before_merged_features', 'tracks': 'merged_ada_hypotonic_before_valid_tracks', 'number_of_track_splits': 10}, 'ada_hypotonic_after': {'path': '/Volumes/Google Drive/My Drive/Drubin Lab/ap2dynm2arcp3_project/revision_tracking/hypotonic_tracking_data_merged_211203_211208_ap2dnm2/', 'df': 'df_ada_hypotonic_after_merged_features', 'tracks': 'merged_ada_hypotonic_after_valid_tracks', 'number_of_track_splits': 10}}, 'index_DNM2positive': 0, 'number_of_clusters': 5, 'distance_best_fit': 17, 'height_best_fit': 125, 'width_best_fit': 5},\n",
       "      dtype=object)"
      ]
     },
     "execution_count": 6,
     "metadata": {},
     "output_type": "execute_result"
    }
   ],
   "source": [
    "analysis_metadata"
   ]
  },
  {
   "cell_type": "code",
   "execution_count": 7,
   "metadata": {},
   "outputs": [
    {
     "data": {
      "text/plain": [
       "{'path': '/Volumes/Google Drive/My Drive/Drubin Lab/ap2dynm2arcp3_project/tracking_data/AD_cellline_analysis_formatted',\n",
       " 'df': 'df_ad_wildtype_merged_features',\n",
       " 'tracks': 'merged_ad_wildtype_valid_tracks',\n",
       " 'number_of_track_splits': 8}"
      ]
     },
     "execution_count": 7,
     "metadata": {},
     "output_type": "execute_result"
    }
   ],
   "source": [
    "analysis_metadata.item().get('experiment_groups')['ad_wildtype']"
   ]
  },
  {
   "cell_type": "code",
   "execution_count": 4,
   "metadata": {},
   "outputs": [
    {
     "name": "stdout",
     "output_type": "stream",
     "text": [
      "checking parameter combo: distance - 17 height -  125 width -  5\n",
      "[0.00293051 0.00293051 0.00293051 ... 0.99970429 0.99990781 0.9999782 ]\n",
      "checking parameter combo: distance - 17 height -  125 width -  5\n",
      "[0.00293051 0.00293051 0.00293051 ... 0.99970429 0.99990781 0.9999782 ]\n",
      "saving dataframe...\n",
      "\n",
      "done\n",
      "\n"
     ]
    }
   ],
   "source": [
    "test=detect_peaks.identify_single_peaked_dnm2_events(analysis_metadata,\n",
    "                                                     'ad_wildtype',\n",
    "                                                     distances_sweep = np.arange(17,18,1),\n",
    "                                                     heights_sweep = np.arange(125,150,25),\n",
    "                                                     widths_sweep = np.arange(5,6,1))"
   ]
  },
  {
   "cell_type": "code",
   "execution_count": null,
   "metadata": {},
   "outputs": [],
   "source": []
  }
 ],
 "metadata": {
  "kernelspec": {
   "display_name": "Python 3",
   "language": "python",
   "name": "python3"
  },
  "language_info": {
   "codemirror_mode": {
    "name": "ipython",
    "version": 3
   },
   "file_extension": ".py",
   "mimetype": "text/x-python",
   "name": "python",
   "nbconvert_exporter": "python",
   "pygments_lexer": "ipython3",
   "version": "3.6.12"
  }
 },
 "nbformat": 4,
 "nbformat_minor": 4
}
