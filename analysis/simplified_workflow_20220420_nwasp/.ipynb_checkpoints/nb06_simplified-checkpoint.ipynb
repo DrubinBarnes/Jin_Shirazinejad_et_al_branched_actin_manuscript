{
 "cells": [
  {
   "cell_type": "markdown",
   "metadata": {},
   "source": [
    "Cyna Shirazinejad, 7/7/21\n",
    "\n",
    "# Notebook 6: detect single DNM2 peaks\n",
    "\n",
    "outline:\n",
    "\n",
    "* visualize the lifetime distribution of model's DNM2 positive events (DNM2+)\n",
    "* visualize the frequency decomposition over DNM2 intensity through time measurements\n",
    "* find the optimal peak-characteristic parameters for a single DNM2 burst\n",
    "* confirm the model's selection with alternative statistics for goodness-of-fit\n",
    "* visualize the effects of alternative peak-constraints in the parameter sweep\n",
    "* visualize the lifetime distribution of single-peaked DNM2+ events or clathrin-coated pits (CCPs)\n",
    "* visualize examples of CCPs, hotspots, or non-peaking DNM2+ events\n",
    "* determine the boundaries of clusters and the overlap of cmeAnalysisDNM2+ and members of clusters\n",
    "* plots AP2 lifetime cohorts of CCPs aligned to DNM2 peaks"
   ]
  },
  {
   "cell_type": "markdown",
   "metadata": {},
   "source": [
    "# import all necessary Python modules"
   ]
  },
  {
   "cell_type": "code",
   "execution_count": 7,
   "metadata": {},
   "outputs": [
    {
     "name": "stdout",
     "output_type": "stream",
     "text": [
      "The autoreload extension is already loaded. To reload it, use:\n",
      "  %reload_ext autoreload\n"
     ]
    }
   ],
   "source": [
    "%load_ext autoreload\n",
    "%autoreload 2\n",
    "%matplotlib inline\n",
    "import numpy as np\n",
    "import sys\n",
    "unique_user_saved_outputs = str(np.load('unique_user_saved_outputs_simplified.npy'))\n",
    "analysis_metadata = np.load(unique_user_saved_outputs+'/dataframes/analysis_metadata.npy', allow_pickle=True)\n",
    "sys.path.append(analysis_metadata.item().get('path_notebook')+'/cmeAnalysisPostProcessingSimplified') # add custom Python scripts to the local path\n",
    "import detect_peaks"
   ]
  },
  {
   "cell_type": "code",
   "execution_count": null,
   "metadata": {
    "scrolled": true
   },
   "outputs": [],
   "source": [
    "test=detect_peaks.identify_single_peaked_dnm2_events(unique_user_saved_outputs,\n",
    "                                                     'merged_all_valid_tracks',\n",
    "                                                     distances_sweep = np.arange(17,18,1),\n",
    "                                                     heights_sweep = np.arange(125,150,25),\n",
    "                                                     widths_sweep = np.arange(5,6,1))"
   ]
  },
  {
   "cell_type": "code",
   "execution_count": null,
   "metadata": {},
   "outputs": [],
   "source": []
  }
 ],
 "metadata": {
  "kernelspec": {
   "display_name": "Python 3",
   "language": "python",
   "name": "python3"
  },
  "language_info": {
   "codemirror_mode": {
    "name": "ipython",
    "version": 3
   },
   "file_extension": ".py",
   "mimetype": "text/x-python",
   "name": "python",
   "nbconvert_exporter": "python",
   "pygments_lexer": "ipython3",
   "version": "3.6.12"
  }
 },
 "nbformat": 4,
 "nbformat_minor": 4
}
