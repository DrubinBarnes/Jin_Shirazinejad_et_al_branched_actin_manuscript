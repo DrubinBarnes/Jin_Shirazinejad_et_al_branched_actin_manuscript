{
 "cells": [
  {
   "cell_type": "markdown",
   "id": "frozen-accountability",
   "metadata": {},
   "source": [
    "Cyna Shirazinejad, 7/7/21\n",
    "\n",
    "# Notebook 9: create ARPC3 KDTrees\n",
    "\n",
    "outline:\n",
    "\n",
    "* load independently-tracked ARPC3 \n",
    "* create a KDTree of track (x, y) positions for every frame of the movie"
   ]
  },
  {
   "cell_type": "markdown",
   "id": "major-ordinance",
   "metadata": {},
   "source": [
    "##### import all necessary Python modules"
   ]
  },
  {
   "cell_type": "code",
   "execution_count": 3,
   "id": "communist-regression",
   "metadata": {},
   "outputs": [
    {
     "name": "stdout",
     "output_type": "stream",
     "text": [
      "The autoreload extension is already loaded. To reload it, use:\n",
      "  %reload_ext autoreload\n"
     ]
    }
   ],
   "source": [
    "%load_ext autoreload\n",
    "%autoreload 2\n",
    "%matplotlib inline\n",
    "import numpy as np\n",
    "import pandas as pd\n",
    "import sys\n",
    "analysis_metadata = np.load('analysis_metadata.npy', allow_pickle=True)\n",
    "sys.path.append(analysis_metadata.item().get('path_notebook')+'/cmeAnalysisPostProcessingSimplified') # add custom Python scripts to the local path\n",
    "import separate_tracking_merge_tools"
   ]
  },
  {
   "cell_type": "code",
   "execution_count": 4,
   "id": "parallel-shade",
   "metadata": {},
   "outputs": [],
   "source": [
    "btfd = separate_tracking_merge_tools.build_trees_from_directory"
   ]
  },
  {
   "cell_type": "markdown",
   "id": "individual-korean",
   "metadata": {},
   "source": [
    "# load separately tracked ARPC3 events for WT experiments"
   ]
  },
  {
   "cell_type": "code",
   "execution_count": 5,
   "id": "perfect-honolulu",
   "metadata": {},
   "outputs": [],
   "source": [
    "path_nwasp_separate_tracks = '/Volumes/GoogleDrive/My Drive/Drubin Lab/ap2dynm2arcp3_project/revision_tracking/adw_nwasp'\n",
    "analysis_metadata.item().get('experiment_groups')['adw_wildtype']['tracks_secondary'] = path_nwasp_separate_tracks"
   ]
  },
  {
   "cell_type": "code",
   "execution_count": 6,
   "id": "amateur-keyboard",
   "metadata": {},
   "outputs": [
    {
     "name": "stdout",
     "output_type": "stream",
     "text": [
      "\n",
      "folders to mine:\n",
      "71_180803_ap2-dnm2-nwasp_nwasp_wildtype_no-treatment_Cell1_1s\n",
      "72_180803_ap2-dnm2-nwasp_nwasp_wildtype_no-treatment_Cell2_1s\n",
      "73_180803_ap2-dnm2-nwasp_nwasp_wildtype_no-treatment_Cell3_1s\n",
      "74_180803_ap2-dnm2-nwasp_nwasp_wildtype_no-treatment_Cell4_1s\n",
      "75_180803_ap2-dnm2-nwasp_nwasp_wildtype_no-treatment_Cell5_1s\n",
      "76_180803_ap2-dnm2-nwasp_nwasp_wildtype_no-treatment_Cell6_1s\n",
      "77_180718_ap2-dnm2-nwasp_nwasp_wildtype_no-treatment_Cell1_1s\n",
      "78_180718_ap2-dnm2-nwasp_nwasp_wildtype_no-treatment_Cell2_1s\n",
      "79_180718_ap2-dnm2-nwasp_nwasp_wildtype_no-treatment_Cell3_1s\n",
      "\n",
      "\n",
      "creating trees from tracks\n",
      "experiment: 0\n",
      "The number of tracks returned: 15439\n",
      "\n"
     ]
    },
    {
     "name": "stderr",
     "output_type": "stream",
     "text": [
      "Creating an ndarray from ragged nested sequences (which is a list-or-tuple of lists-or-tuples-or ndarrays with different lengths or shapes) is deprecated. If you meant to do this, you must specify 'dtype=object' when creating the ndarray\n"
     ]
    },
    {
     "name": "stdout",
     "output_type": "stream",
     "text": [
      "experiment: 1\n",
      "The number of tracks returned: 15105\n",
      "\n",
      "experiment: 2\n",
      "The number of tracks returned: 17045\n",
      "\n",
      "experiment: 3\n",
      "The number of tracks returned: 20243\n",
      "\n",
      "experiment: 4\n",
      "The number of tracks returned: 16113\n",
      "\n",
      "experiment: 5\n",
      "The number of tracks returned: 21321\n",
      "\n",
      "experiment: 6\n",
      "The number of tracks returned: 17018\n",
      "\n",
      "experiment: 7\n",
      "The number of tracks returned: 13686\n",
      "\n",
      "experiment: 8\n",
      "The number of tracks returned: 11493\n",
      "\n",
      "saving tracks...\n",
      "\n",
      "done\n"
     ]
    }
   ],
   "source": [
    "btfd(analysis_metadata,\n",
    "     'adw_wildtype',\n",
    "     ['Cell'],\n",
    "     [1,2],\n",
    "     0,\n",
    "     1,\n",
    "     241,\n",
    "     'nwasp_wildtype_no-treatment_separate_nwasp_tracking')\n",
    "\n"
   ]
  }
 ],
 "metadata": {
  "kernelspec": {
   "display_name": "Python 3",
   "language": "python",
   "name": "python3"
  },
  "language_info": {
   "codemirror_mode": {
    "name": "ipython",
    "version": 3
   },
   "file_extension": ".py",
   "mimetype": "text/x-python",
   "name": "python",
   "nbconvert_exporter": "python",
   "pygments_lexer": "ipython3",
   "version": "3.6.12"
  }
 },
 "nbformat": 4,
 "nbformat_minor": 5
}
