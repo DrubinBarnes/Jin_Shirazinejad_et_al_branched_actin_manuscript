{
 "cells": [
  {
   "cell_type": "markdown",
   "metadata": {},
   "source": [
    "Cyna Shirazinejad, 02/11/2022\n",
    "# Notebook 1: loading data for model generation\n",
    "\n",
    "outline:\n",
    "\n",
    "* load all data, including:\n",
    "    * movies from AP2-tagRFP-T, DNM2-tagGFP2 cell lines\n",
    "* filter out 'valid' tracks\n",
    "    * valid' tracks are tracks which consist of tracks that appear and disappear \n",
    "      in the bounds of the movie with no more than 2 consecutive gaps\n",
    "    * this is characterized when using AP2 as the primary channel for tracking\n",
    "* creating dataframes of features from tracked events from fitted amplitude and position space to target feature space\n",
    "    * each track will be decomposed into features, described in the notebook\n",
    "    * the number of cell line tags will be included as a label (2 or 3)\n",
    "    * the experiment number will be included as a label (1-8)\n",
    "    * the date of the experiment\n",
    "    * the cmeAnalysis classification as \"DNM2-positive\" (cmeAnalysisDNM2+) \n",
    "      or \"DNM2-negative\" will be included as a label (1 or 0)\n",
    "* save dataframes and tracks for future notebooks"
   ]
  },
  {
   "cell_type": "markdown",
   "metadata": {},
   "source": [
    "# user parameters to toggle plot-generation and/or dataframe construction and corresponding calculations"
   ]
  },
  {
   "cell_type": "code",
   "execution_count": 2,
   "metadata": {},
   "outputs": [],
   "source": [
    "# set a path to the prefix of the pooled working directory with all of the data \n",
    "# the folder that contains all data for this analysis is 'ap2dynm2arcp3_project'\n",
    "# (this folder, containing all raw and tracking data, is available on GitHub)\n",
    "unique_user_path_tracks_ada_wildtype = '/Volumes/Google Drive/My Drive/Drubin Lab/ap2dynm2arcp3_project/ARPC3 manuscript/raw_data/airyscan/tracked_data_merged_for_analysis' # needs to be set for each user\n",
    "unique_user_path_notebook = '/Users/cynashirazinejad/Documents/GitHub/Jin_Shirazinejad_et_al_branched_actin_manuscript/analysis/simplified_workflow_airyscan'\n",
    "unique_user_saved_outputs = '/Volumes/GoogleDrive/My Drive/Drubin Lab/ap2dynm2arcp3_project/stable_outputs_airyscan'"
   ]
  },
  {
   "cell_type": "markdown",
   "metadata": {},
   "source": [
    "# import all necessary Python modules"
   ]
  },
  {
   "cell_type": "code",
   "execution_count": 3,
   "metadata": {},
   "outputs": [],
   "source": [
    "%load_ext autoreload\n",
    "%autoreload 2\n",
    "import os\n",
    "import sys\n",
    "import numpy as np\n",
    "import pandas as pd\n",
    "import matplotlib.pyplot as plt\n",
    "from IPython.display import Image\n",
    "sys.path.append(unique_user_path_notebook+'/cmeAnalysisPostProcessingSimplified') # add custom Python scripts to the local path\n",
    "import import_tracks\n",
    "import feature_extraction_modular"
   ]
  },
  {
   "cell_type": "markdown",
   "metadata": {},
   "source": [
    "# auto directory adding for notebooks"
   ]
  },
  {
   "cell_type": "code",
   "execution_count": 4,
   "metadata": {},
   "outputs": [
    {
     "data": {
      "text/plain": [
       "'/Volumes/GoogleDrive/My Drive/Drubin Lab/ap2dynm2arcp3_project/stable_outputs_airyscan'"
      ]
     },
     "execution_count": 4,
     "metadata": {},
     "output_type": "execute_result"
    }
   ],
   "source": [
    "unique_user_saved_outputs"
   ]
  },
  {
   "cell_type": "code",
   "execution_count": 5,
   "metadata": {},
   "outputs": [],
   "source": [
    "if 'plots' not in os.listdir(unique_user_saved_outputs):\n",
    "    os.mkdir(unique_user_saved_outputs+'/plots/')\n",
    "if 'dataframes' not in os.listdir(unique_user_saved_outputs):\n",
    "    os.mkdir(unique_user_saved_outputs+'/dataframes/')"
   ]
  },
  {
   "cell_type": "code",
   "execution_count": 6,
   "metadata": {},
   "outputs": [],
   "source": [
    "# np.save(unique_user_path_notebook+'/unique_user_saved_outputs_simplified', unique_user_saved_outputs)"
   ]
  },
  {
   "cell_type": "code",
   "execution_count": 7,
   "metadata": {},
   "outputs": [],
   "source": [
    "# unique_user_saved_outputs = str(np.load('unique_user_saved_outputs_simplified.npy'))"
   ]
  },
  {
   "cell_type": "code",
   "execution_count": 8,
   "metadata": {},
   "outputs": [
    {
     "data": {
      "text/plain": [
       "'/Volumes/GoogleDrive/My Drive/Drubin Lab/ap2dynm2arcp3_project/stable_outputs_airyscan'"
      ]
     },
     "execution_count": 8,
     "metadata": {},
     "output_type": "execute_result"
    }
   ],
   "source": [
    "unique_user_saved_outputs"
   ]
  },
  {
   "cell_type": "code",
   "execution_count": 9,
   "metadata": {},
   "outputs": [],
   "source": [
    "analysis_metadata = {}\n",
    "analysis_metadata['path_outputs'] = unique_user_saved_outputs\n",
    "np.save('analysis_metadata', analysis_metadata)"
   ]
  },
  {
   "cell_type": "code",
   "execution_count": 10,
   "metadata": {},
   "outputs": [],
   "source": [
    "analysis_metadata = np.load('analysis_metadata.npy', allow_pickle=True)"
   ]
  },
  {
   "cell_type": "code",
   "execution_count": 11,
   "metadata": {},
   "outputs": [
    {
     "data": {
      "text/plain": [
       "dtype('O')"
      ]
     },
     "execution_count": 11,
     "metadata": {},
     "output_type": "execute_result"
    }
   ],
   "source": [
    "analysis_metadata.dtype"
   ]
  },
  {
   "cell_type": "code",
   "execution_count": 12,
   "metadata": {},
   "outputs": [],
   "source": [
    "# analysis_metadata.item()['path_tracks_ad_wildtype'] = unique_user_path_tracks_ad_wildtype\n",
    "analysis_metadata.item()['path_notebook'] = unique_user_path_notebook\n",
    "np.save('analysis_metadata', analysis_metadata)"
   ]
  },
  {
   "cell_type": "code",
   "execution_count": 13,
   "metadata": {},
   "outputs": [
    {
     "data": {
      "text/plain": [
       "array({'path_outputs': '/Volumes/GoogleDrive/My Drive/Drubin Lab/ap2dynm2arcp3_project/stable_outputs_airyscan', 'path_notebook': '/Users/cynashirazinejad/Documents/GitHub/Jin_Shirazinejad_et_al_branched_actin_manuscript/analysis/simplified_workflow_airyscan'},\n",
       "      dtype=object)"
      ]
     },
     "execution_count": 13,
     "metadata": {},
     "output_type": "execute_result"
    }
   ],
   "source": [
    "analysis_metadata"
   ]
  },
  {
   "cell_type": "markdown",
   "metadata": {},
   "source": [
    "# all track feature options:"
   ]
  },
  {
   "cell_type": "markdown",
   "metadata": {},
   "source": [
    "conventions:\n",
    "1. intensities: fitted amplitude of fluorescence (excluding fitted local background)\n",
    "2. positions: fitted positions (x,y) of two dimensional point-spread-functions per frame in track\n",
    "3. voxel-width = 108 nm\n",
    "\n",
    "features:\n",
    "\n",
    "1. 'lifetime': time between the first and last frame of detected AP2 (seconds)\n",
    "2. 'max_int_ap2': maximum intensity (a.u. fluorescence)\n",
    "3. 'max_int_dnm2': maximum intensity (a.u. fluorescence)\n",
    "4. 'dist_traveled_ap2': track start-to-finish net movement (pixels)\n",
    "5. 'dist_traveled_dnm2': track start-to-finish net movement (pixels)\n",
    "6. 'max_dist_between_ap2_dnm2': the maximum frame-to-frame separation between AP2 and DNM2 (pixels)\n",
    "7. 'md_ap2': mean displacement (pixels)\n",
    "8. 'md_dnm2': mean displacement (pixels)\n",
    "9. 'time_to_peak_ap2': time for the intensity to reach its peak (seconds) [0 if peak is first frame]\n",
    "10. 'time_to_peak_dnm2': time for the intensity to reach its peak (seconds) [0 if peak is first frame]\n",
    "11. 'time_after_peak_ap2': time for intensity to decay from its peak (seconds) [0 if peak is last frame]\n",
    "12. 'time_after_peak_dnm2': time for intensity to decay from its peak (seconds) [0 if peak is last frame]\n",
    "13. 'time_between_peaks_ap2_dnm2': time between peaks of two channels (seconds)\n",
    "14. 'avg_int_change_to_peak_ap2': average change in intensity to the peak (a.u. fluorescence) [0 if peak is first frame]\n",
    "15. 'avg_int_change_to_peak_dnm2': average change in intensity to the peak (a.u. fluorescence) [0 if peak is first frame]\n",
    "16. 'avg_int_change_after_peak_ap2': average change in intensity after the peak (a.u. fluorescence) [0 if peak is last frame]\n",
    "17. 'avg_int_change_after_peak_dnm2': average change in intensity after the peak (a.u. fluorescence) [0 if peak is last frame]\n",
    "18. 'peak_int_diff_ap2_dnm2': difference between maximum intensity of channel 0 and channel 1 (a.u. fluorescence)\n",
    "19. 'ratio_max_int_ap2_dnm2': ratio between maximum intensity of channel 0 and channel 1 (unitless)\n",
    "20. 'mean_ap2': average of fluorescence (a.u. fluorescence)\n",
    "21. 'mean_dnm2': average of fluorescence (a.u. fluorescence)\n",
    "22. 'variation_ap2': variation of fluorescence (a.u. fluorescence^2)\n",
    "23. 'variation_dnm2': variation of fluorescence (a.u. fluorescence^2)\n",
    "24. 'skewness_ap2': skewness of fluorescence (unitless)\n",
    "25. 'skewness_dnm2': skewness of fluorescence (unitless)\n",
    "26. 'kurtosis_ap2': kurtosis of fluorescence (unitless)\n",
    "27. 'kurtosis_dnm2': kurtosis of fluorescence (unitless)\n",
    "28. 'number_significant_dnm2': number of significant detections with p-val lower than provided threshold (counts) [p-val < 0.01]\n",
    "29. 'max_consecutive_significant_dnm2': maximum number of consecutive significant detections with p-val lower than provided threshold (counts) [p-val < 0.01]\n",
    "30. 'fraction_significant_dnm2': fraction of event with significant detections with p-val lower than provided threshold (unitless) [p-val < 0.01]\n",
    "31. 'fraction_peak_ap2': fraction of the event where the peak is located (unitless)\n",
    "32. 'fraction_peak_dnm2': fraction of the event where the peak is located (unitless)"
   ]
  },
  {
   "cell_type": "code",
   "execution_count": 14,
   "metadata": {},
   "outputs": [],
   "source": [
    "# the physical units of each track feature\n",
    "feature_units = ['seconds',\n",
    "                 'a.u. fluorescence',\n",
    "                 'a.u. fluorescence',\n",
    "                 'pixels',\n",
    "                 'pixels',\n",
    "                 'pixels',\n",
    "                 'pixels',\n",
    "                 'pixels',\n",
    "                 'seconds',\n",
    "                 'seconds',\n",
    "                 'seconds',\n",
    "                 'seconds',\n",
    "                 'seconds',\n",
    "                 'a.u. fluorescence',\n",
    "                 'a.u. fluorescence',\n",
    "                 'a.u. fluorescence',\n",
    "                 'a.u. fluorescence',\n",
    "                 'a.u. fluorescence',\n",
    "                 'unitless',\n",
    "                 'a.u. fluorescence',\n",
    "                 'a.u. fluorescence',\n",
    "                 'a.u. fluorescence**2',\n",
    "                 'a.u. fluorescence**2',\n",
    "                 'unitless',\n",
    "                 'unitless',\n",
    "                 'unitless',\n",
    "                 'unitless',\n",
    "                 'counts',\n",
    "                 'counts',\n",
    "                 'unitless',\n",
    "                 'unitless',\n",
    "                 'unitless']"
   ]
  },
  {
   "cell_type": "code",
   "execution_count": 15,
   "metadata": {},
   "outputs": [],
   "source": [
    "possible_track_features_labels = ['lifetime',\n",
    "                                 'max_int_dnm2',\n",
    "                                 'max_int_arpc3',\n",
    "                                 'dist_traveled_dnm2',\n",
    "                                 'dist_traveled_arpc3',\n",
    "                                 'max_dist_between_dnm2_arpc3',\n",
    "                                 'md_dnm2',\n",
    "                                 'md_arpc3',\n",
    "                                 'time_to_peak_dnm2',\n",
    "                                 'time_to_peak_arpc3',\n",
    "                                 'time_after_peak_dnm2',\n",
    "                                 'time_after_peak_arpc3',\n",
    "                                 'time_between_peaks_dnm2_arpc3',\n",
    "                                 'avg_int_change_to_peak_dnm2',\n",
    "                                 'avg_int_change_to_peak_arpc3',\n",
    "                                 'avg_int_change_after_peak_dnm2',\n",
    "                                 'avg_int_change_after_peak_arpc3',\n",
    "                                 'peak_int_diff_dnm2_arpc3',\n",
    "                                 'ratio_max_int_dnm2_arpc3',\n",
    "                                 'mean_dnm2',\n",
    "                                 'mean_arpc3',\n",
    "                                 'variation_dnm2',\n",
    "                                 'variation_arpc3',\n",
    "                                 'skewness_dnm2',\n",
    "                                 'skewness_arpc3',\n",
    "                                 'kurtosis_dnm2',\n",
    "                                 'kurtosis_arpc3',\n",
    "                                 'number_significant_arpc3',\n",
    "                                 'max_consecutive_significant_arpc3',\n",
    "                                 'fraction_significant_arpc3',\n",
    "                                 'fraction_peak_dnm2',\n",
    "                                 'fraction_peak_arpc3']"
   ]
  },
  {
   "cell_type": "code",
   "execution_count": 16,
   "metadata": {},
   "outputs": [],
   "source": [
    "features_to_keep = list((possible_track_features_labels.index('lifetime'),\n",
    "possible_track_features_labels.index('max_int_dnm2'),\n",
    "possible_track_features_labels.index('max_int_arpc3'),\n",
    "possible_track_features_labels.index('md_dnm2'),\n",
    "possible_track_features_labels.index('fraction_significant_arpc3')))"
   ]
  },
  {
   "cell_type": "code",
   "execution_count": 17,
   "metadata": {},
   "outputs": [
    {
     "data": {
      "text/plain": [
       "[0, 1, 2, 6, 29]"
      ]
     },
     "execution_count": 17,
     "metadata": {},
     "output_type": "execute_result"
    }
   ],
   "source": [
    "features_to_keep"
   ]
  },
  {
   "cell_type": "code",
   "execution_count": 18,
   "metadata": {},
   "outputs": [],
   "source": [
    "possible_track_features = ['lifetime',\n",
    "                            'max_int_ch0',\n",
    "                            'max_int_ch1',\n",
    "                            'dist_traveled_ch0',\n",
    "                            'dist_traveled_ch1',\n",
    "                            'max_dist_between_ch0-ch1',\n",
    "                            'md_ch0',\n",
    "                            'md_ch1',\n",
    "                            'time_to_peak_ch0',\n",
    "                            'time_to_peak_ch1',\n",
    "                            'time_after_peak_ch0',\n",
    "                            'time_after_peak_ch1',\n",
    "                            'time_between_peaks_ch0-ch1',\n",
    "                            'avg_int_change_to_peak_ch0',\n",
    "                            'avg_int_change_to_peak_ch1',\n",
    "                            'avg_int_change_after_peak_ch0',\n",
    "                            'avg_int_change_after_peak_ch1',\n",
    "                            'peak_int_diff_ch0-ch1',\n",
    "                            'ratio_max_int_ch0-ch1',\n",
    "                            'mean_ch0',\n",
    "                            'mean_ch1',\n",
    "                            'variation_ch0',\n",
    "                            'variation_ch1',\n",
    "                            'skewness_ch0',\n",
    "                            'skewness_ch1',\n",
    "                            'kurtosis_ch0',\n",
    "                            'kurtosis_ch1',\n",
    "                            'number_significant_ch1',\n",
    "                            'max_consecutive_significant_ch1',\n",
    "                            'fraction_significant_ch1',\n",
    "                            'fraction_peak_ch0',\n",
    "                            'fraction_peak_ch1']"
   ]
  },
  {
   "cell_type": "code",
   "execution_count": 19,
   "metadata": {},
   "outputs": [],
   "source": [
    "analysis_metadata.item()['feature_units'] = feature_units\n",
    "analysis_metadata.item()['possible_track_features'] = possible_track_features\n",
    "analysis_metadata.item()['possible_track_features_labels'] = possible_track_features_labels"
   ]
  },
  {
   "cell_type": "code",
   "execution_count": 20,
   "metadata": {},
   "outputs": [],
   "source": [
    "# analysis_metadata.item()['feature_units'] = [feature_units[idx] for idx in features_to_keep]\n",
    "# analysis_metadata.item()['possible_track_features'] = [possible_track_features[idx] for idx in features_to_keep]\n",
    "# analysis_metadata.item()['possible_track_features_labels'] = [possible_track_features_labels[idx] for idx in features_to_keep]"
   ]
  },
  {
   "cell_type": "markdown",
   "metadata": {},
   "source": [
    "# extract features from all tracks, labeled by experiment (0-7), number of imaging channels/labels, and date of experiment"
   ]
  },
  {
   "cell_type": "code",
   "execution_count": 21,
   "metadata": {},
   "outputs": [],
   "source": [
    "experiment_groups = {}\n",
    "\n",
    "ad_wildtype_group = {}\n",
    "ad_wildtype_group['path'] = unique_user_path_tracks_ada_wildtype\n",
    "ad_wildtype_group['df'] = 'df_ada_wildtype_merged_features'\n",
    "ad_wildtype_group['tracks'] = 'merged_ada_wildtype_valid_tracks'\n",
    "\n",
    "experiment_groups['ada_wildtype'] = ad_wildtype_group"
   ]
  },
  {
   "cell_type": "code",
   "execution_count": 22,
   "metadata": {},
   "outputs": [],
   "source": [
    "analysis_metadata.item()['experiment_groups'] = experiment_groups"
   ]
  },
  {
   "cell_type": "code",
   "execution_count": 23,
   "metadata": {},
   "outputs": [],
   "source": [
    "np.save('analysis_metadata', analysis_metadata)"
   ]
  },
  {
   "cell_type": "code",
   "execution_count": 24,
   "metadata": {},
   "outputs": [
    {
     "name": "stdout",
     "output_type": "stream",
     "text": [
      "\n",
      "folders to mine:\n",
      "61_20211208_ap2-dnm2-arpc3_dnm2-arpc3_wildtype-airyscan_no-treatment_Cell1_0.2s\n",
      "62_20211208_ap2-dnm2-arpc3_dnm2-arpc3_wildtype-airyscan_no-treatment_Cell2_0.2s\n",
      "63_20211208_ap2-dnm2-arpc3_dnm2-arpc3_wildtype-airyscan_no-treatment_Cell3_0.2s\n",
      "64_20211214_ap2-dnm2-arpc3_dnm2-arpc3_wildtype-airyscan_no-treatment_Cell1_0.2s\n",
      "65_20211214_ap2-dnm2-arpc3_dnm2-arpc3_wildtype-airyscan_no-treatment_Cell2_0.2s\n",
      "66_20211214_ap2-dnm2-arpc3_dnm2-arpc3_wildtype-airyscan_no-treatment_Cell3_0.2s\n",
      "67_20211214_ap2-dnm2-arpc3_dnm2-arpc3_wildtype-airyscan_no-treatment_Cell4_0.2s\n",
      "68_20211214_ap2-dnm2-arpc3_dnm2-arpc3_wildtype-airyscan_no-treatment_Cell5_0.2s\n",
      "69_20211222_ap2-dnm2-arpc3_dnm2-arpc3_wildtype-airyscan_no-treatment_Cell1_0.2s\n",
      "70_20211222_ap2-dnm2-arpc3_dnm2-arpc3_wildtype-airyscan_no-treatment_Cell2_0.2s\n",
      "71_20211222_ap2-dnm2-arpc3_dnm2-arpc3_wildtype-airyscan_no-treatment_Cell3_0.2s\n",
      "72_20211222_ap2-dnm2-arpc3_dnm2-arpc3_wildtype-airyscan_no-treatment_Cell4_0.2s\n",
      "73_20211222_ap2-dnm2-arpc3_dnm2-arpc3_wildtype-airyscan_no-treatment_Cell5_0.2s\n",
      "\n",
      "\n",
      "uploading and saving tracks...\n",
      "\n",
      "\n",
      "finished uploading tracks\n",
      "\n",
      "extracting features...\n",
      "\n",
      "completed feature extraction\n",
      "\n",
      "creating dataframe...\n",
      "\n",
      "saving dataframe...\n",
      "\n",
      "saving tracks...\n",
      "\n",
      "done\n"
     ]
    }
   ],
   "source": [
    "import_tracks.upload_tracks_and_metadata(analysis_metadata,\n",
    "                                         'ada_wildtype',\n",
    "                                         [1],\n",
    "                                         ['Cell'],\n",
    "                                         possible_track_features,\n",
    "                                         possible_track_features_labels)"
   ]
  },
  {
   "cell_type": "code",
   "execution_count": 25,
   "metadata": {},
   "outputs": [],
   "source": [
    "analysis_metadata = np.load('analysis_metadata.npy', allow_pickle=True)"
   ]
  },
  {
   "cell_type": "code",
   "execution_count": 26,
   "metadata": {},
   "outputs": [
    {
     "data": {
      "text/plain": [
       "array({'path_outputs': '/Volumes/GoogleDrive/My Drive/Drubin Lab/ap2dynm2arcp3_project/stable_outputs_airyscan', 'path_notebook': '/Users/cynashirazinejad/Documents/GitHub/Jin_Shirazinejad_et_al_branched_actin_manuscript/analysis/simplified_workflow_airyscan', 'feature_units': ['seconds', 'a.u. fluorescence', 'a.u. fluorescence', 'pixels', 'pixels', 'pixels', 'pixels', 'pixels', 'seconds', 'seconds', 'seconds', 'seconds', 'seconds', 'a.u. fluorescence', 'a.u. fluorescence', 'a.u. fluorescence', 'a.u. fluorescence', 'a.u. fluorescence', 'unitless', 'a.u. fluorescence', 'a.u. fluorescence', 'a.u. fluorescence**2', 'a.u. fluorescence**2', 'unitless', 'unitless', 'unitless', 'unitless', 'counts', 'counts', 'unitless', 'unitless', 'unitless'], 'possible_track_features': ['lifetime', 'max_int_ch0', 'max_int_ch1', 'dist_traveled_ch0', 'dist_traveled_ch1', 'max_dist_between_ch0-ch1', 'md_ch0', 'md_ch1', 'time_to_peak_ch0', 'time_to_peak_ch1', 'time_after_peak_ch0', 'time_after_peak_ch1', 'time_between_peaks_ch0-ch1', 'avg_int_change_to_peak_ch0', 'avg_int_change_to_peak_ch1', 'avg_int_change_after_peak_ch0', 'avg_int_change_after_peak_ch1', 'peak_int_diff_ch0-ch1', 'ratio_max_int_ch0-ch1', 'mean_ch0', 'mean_ch1', 'variation_ch0', 'variation_ch1', 'skewness_ch0', 'skewness_ch1', 'kurtosis_ch0', 'kurtosis_ch1', 'number_significant_ch1', 'max_consecutive_significant_ch1', 'fraction_significant_ch1', 'fraction_peak_ch0', 'fraction_peak_ch1'], 'possible_track_features_labels': ['lifetime', 'max_int_dnm2', 'max_int_arpc3', 'dist_traveled_dnm2', 'dist_traveled_arpc3', 'max_dist_between_dnm2_arpc3', 'md_dnm2', 'md_arpc3', 'time_to_peak_dnm2', 'time_to_peak_arpc3', 'time_after_peak_dnm2', 'time_after_peak_arpc3', 'time_between_peaks_dnm2_arpc3', 'avg_int_change_to_peak_dnm2', 'avg_int_change_to_peak_arpc3', 'avg_int_change_after_peak_dnm2', 'avg_int_change_after_peak_arpc3', 'peak_int_diff_dnm2_arpc3', 'ratio_max_int_dnm2_arpc3', 'mean_dnm2', 'mean_arpc3', 'variation_dnm2', 'variation_arpc3', 'skewness_dnm2', 'skewness_arpc3', 'kurtosis_dnm2', 'kurtosis_arpc3', 'number_significant_arpc3', 'max_consecutive_significant_arpc3', 'fraction_significant_arpc3', 'fraction_peak_dnm2', 'fraction_peak_arpc3'], 'experiment_groups': {'ada_wildtype': {'path': '/Volumes/Google Drive/My Drive/Drubin Lab/ap2dynm2arcp3_project/ARPC3 manuscript/raw_data/airyscan/tracked_data_merged_for_analysis', 'df': 'df_ada_wildtype_merged_features', 'tracks': 'merged_ada_wildtype_valid_tracks', 'number_of_track_splits': 13}}, 'index_DNM2positive': 0, 'number_of_clusters': 2},\n",
       "      dtype=object)"
      ]
     },
     "execution_count": 26,
     "metadata": {},
     "output_type": "execute_result"
    }
   ],
   "source": [
    "analysis_metadata"
   ]
  }
 ],
 "metadata": {
  "kernelspec": {
   "display_name": "Python 3",
   "language": "python",
   "name": "python3"
  },
  "language_info": {
   "codemirror_mode": {
    "name": "ipython",
    "version": 3
   },
   "file_extension": ".py",
   "mimetype": "text/x-python",
   "name": "python",
   "nbconvert_exporter": "python",
   "pygments_lexer": "ipython3",
   "version": "3.6.12"
  }
 },
 "nbformat": 4,
 "nbformat_minor": 4
}
