{
 "cells": [
  {
   "cell_type": "markdown",
   "metadata": {},
   "source": [
    "Cyna Shirazinejad, 7/7/21\n",
    "\n",
    "# outline of notebook 7:\n",
    "\n",
    "* load data from cell lines:\n",
    "* * AP2-tagRFP-T, tagGFP2-DNM2, ARPC3-HaloTag \n",
    "* * AP2-tagRFP-T, tagGFP2-DNM2, N-WASP-HaloTag \n",
    "* extract features from tracks\n",
    "* * use existing feature scaler, decomposition axes, and mixture model to predict the identity of each new event\n",
    "* merge the new data with existing tracks, features, and model cluster identities"
   ]
  },
  {
   "cell_type": "markdown",
   "metadata": {},
   "source": [
    "# import all necessary Python modules"
   ]
  },
  {
   "cell_type": "code",
   "execution_count": 1,
   "metadata": {},
   "outputs": [],
   "source": [
    "%load_ext autoreload\n",
    "%autoreload 2\n",
    "import sys\n",
    "import pandas as pd\n",
    "import numpy as np\n",
    "import sklearn.preprocessing as preprocessing\n",
    "from sklearn.decomposition import PCA\n",
    "import pickle\n",
    "from scipy.fft import rfft, rfftfreq\n",
    "from scipy import signal\n",
    "unique_user_path_notebook = str(np.load('unique_user_path_notebook.npy'))\n",
    "unique_user_saved_outputs = str(np.load('unique_user_saved_outputs.npy'))\n",
    "unique_user_path_tracks = str(np.load('unique_user_path_tracks.npy'))\n",
    "sys.path.append(unique_user_path_notebook+'/cmeAnalysisPostProcessingPythonScripts') # add custom Python scripts to the local path\n",
    "import display_tracks\n",
    "import merge_tools\n",
    "import return_track_attributes\n",
    "import generate_index_dictionary\n",
    "import feature_extraction_with_buffer"
   ]
  },
  {
   "cell_type": "markdown",
   "metadata": {},
   "source": [
    "# load dataframe from notebook 3 containing normal-pdf scaled features: PC's and GMM predicted clusters, and dataframe with cmeAnalysis labels"
   ]
  },
  {
   "cell_type": "code",
   "execution_count": 2,
   "metadata": {},
   "outputs": [],
   "source": [
    "df_pcs_normal_scaled_with_gmm_cluster = pd.read_csv(unique_user_saved_outputs+'/dataframes/df_pcs_normal_scaled_with_gmm_cluster.zip')\n",
    "df_merged_features = pd.read_csv(unique_user_saved_outputs+'/dataframes/df_merged_features.zip')\n",
    "feature_units = np.load(unique_user_saved_outputs+'/dataframes/feature_units.npy')\n",
    "index_DNM2positive = np.load(unique_user_saved_outputs+'/dataframes/cluster_dnm2_positive.npy')\n",
    "number_of_track_splits = np.load(unique_user_saved_outputs+'/dataframes/number_of_track_splits.npy')\n",
    "number_of_clusters = np.load(unique_user_saved_outputs+\"/dataframes/number_of_clusters.npy\")\n",
    "best_fit_peak_params = np.load(unique_user_saved_outputs+'/dataframes/parameters_best_fit_peak_finding.npy')\n",
    "ccp_predictions = np.load(unique_user_saved_outputs+'/dataframes/indices_ccp_predictions_' + \\\n",
    "                              'min_dist_'+str(best_fit_peak_params[0])+'_min_height_'+str(best_fit_peak_params[1])+ \\\n",
    "                              '_min_width_'+str(best_fit_peak_params[2])+ '.npy')"
   ]
  },
  {
   "cell_type": "code",
   "execution_count": 3,
   "metadata": {},
   "outputs": [
    {
     "data": {
      "text/html": [
       "<div>\n",
       "<style scoped>\n",
       "    .dataframe tbody tr th:only-of-type {\n",
       "        vertical-align: middle;\n",
       "    }\n",
       "\n",
       "    .dataframe tbody tr th {\n",
       "        vertical-align: top;\n",
       "    }\n",
       "\n",
       "    .dataframe thead th {\n",
       "        text-align: right;\n",
       "    }\n",
       "</style>\n",
       "<table border=\"1\" class=\"dataframe\">\n",
       "  <thead>\n",
       "    <tr style=\"text-align: right;\">\n",
       "      <th></th>\n",
       "      <th>lifetime</th>\n",
       "      <th>max_int_ap2</th>\n",
       "      <th>max_int_dnm2</th>\n",
       "      <th>dist_traveled_ap2</th>\n",
       "      <th>dist_traveled_dnm2</th>\n",
       "      <th>max_dist_between_ap2_dnm2</th>\n",
       "      <th>md_ap2</th>\n",
       "      <th>md_dnm2</th>\n",
       "      <th>time_to_peak_ap2</th>\n",
       "      <th>time_to_peak_dnm2</th>\n",
       "      <th>...</th>\n",
       "      <th>number_significant_dnm2</th>\n",
       "      <th>max_consecutive_significant_dnm2</th>\n",
       "      <th>fraction_significant_dnm2</th>\n",
       "      <th>fraction_peak_ap2</th>\n",
       "      <th>fraction_peak_dnm2</th>\n",
       "      <th>experiment_number</th>\n",
       "      <th>number_of_channels</th>\n",
       "      <th>date</th>\n",
       "      <th>cell_condition</th>\n",
       "      <th>cmeAnalysis_dynamin2_prediction</th>\n",
       "    </tr>\n",
       "  </thead>\n",
       "  <tbody>\n",
       "    <tr>\n",
       "      <th>0</th>\n",
       "      <td>216.0</td>\n",
       "      <td>1796.284550</td>\n",
       "      <td>740.516756</td>\n",
       "      <td>7.203812</td>\n",
       "      <td>7.203812</td>\n",
       "      <td>2.630656</td>\n",
       "      <td>0.566262</td>\n",
       "      <td>0.725913</td>\n",
       "      <td>159.0</td>\n",
       "      <td>186.0</td>\n",
       "      <td>...</td>\n",
       "      <td>167.0</td>\n",
       "      <td>43.0</td>\n",
       "      <td>0.738938</td>\n",
       "      <td>0.703540</td>\n",
       "      <td>0.823009</td>\n",
       "      <td>0.0</td>\n",
       "      <td>2.0</td>\n",
       "      <td>200804.0</td>\n",
       "      <td>no-treatment</td>\n",
       "      <td>1.0</td>\n",
       "    </tr>\n",
       "    <tr>\n",
       "      <th>1</th>\n",
       "      <td>201.0</td>\n",
       "      <td>2215.532695</td>\n",
       "      <td>1505.433273</td>\n",
       "      <td>17.220726</td>\n",
       "      <td>14.507135</td>\n",
       "      <td>3.797526</td>\n",
       "      <td>0.424574</td>\n",
       "      <td>0.912671</td>\n",
       "      <td>111.0</td>\n",
       "      <td>107.0</td>\n",
       "      <td>...</td>\n",
       "      <td>115.0</td>\n",
       "      <td>89.0</td>\n",
       "      <td>0.545024</td>\n",
       "      <td>0.526066</td>\n",
       "      <td>0.507109</td>\n",
       "      <td>0.0</td>\n",
       "      <td>2.0</td>\n",
       "      <td>200804.0</td>\n",
       "      <td>no-treatment</td>\n",
       "      <td>1.0</td>\n",
       "    </tr>\n",
       "    <tr>\n",
       "      <th>2</th>\n",
       "      <td>201.0</td>\n",
       "      <td>864.976087</td>\n",
       "      <td>421.405691</td>\n",
       "      <td>17.621866</td>\n",
       "      <td>17.130473</td>\n",
       "      <td>3.472332</td>\n",
       "      <td>0.566588</td>\n",
       "      <td>0.776404</td>\n",
       "      <td>42.0</td>\n",
       "      <td>44.0</td>\n",
       "      <td>...</td>\n",
       "      <td>167.0</td>\n",
       "      <td>70.0</td>\n",
       "      <td>0.791469</td>\n",
       "      <td>0.199052</td>\n",
       "      <td>0.208531</td>\n",
       "      <td>0.0</td>\n",
       "      <td>2.0</td>\n",
       "      <td>200804.0</td>\n",
       "      <td>no-treatment</td>\n",
       "      <td>1.0</td>\n",
       "    </tr>\n",
       "    <tr>\n",
       "      <th>3</th>\n",
       "      <td>192.0</td>\n",
       "      <td>509.795166</td>\n",
       "      <td>356.302521</td>\n",
       "      <td>10.804211</td>\n",
       "      <td>13.292842</td>\n",
       "      <td>5.888569</td>\n",
       "      <td>0.428736</td>\n",
       "      <td>1.058177</td>\n",
       "      <td>44.0</td>\n",
       "      <td>190.0</td>\n",
       "      <td>...</td>\n",
       "      <td>112.0</td>\n",
       "      <td>57.0</td>\n",
       "      <td>0.554455</td>\n",
       "      <td>0.217822</td>\n",
       "      <td>0.940594</td>\n",
       "      <td>0.0</td>\n",
       "      <td>2.0</td>\n",
       "      <td>200804.0</td>\n",
       "      <td>no-treatment</td>\n",
       "      <td>1.0</td>\n",
       "    </tr>\n",
       "    <tr>\n",
       "      <th>4</th>\n",
       "      <td>188.0</td>\n",
       "      <td>1636.422386</td>\n",
       "      <td>883.606436</td>\n",
       "      <td>11.255090</td>\n",
       "      <td>7.793074</td>\n",
       "      <td>5.531006</td>\n",
       "      <td>0.415792</td>\n",
       "      <td>0.753372</td>\n",
       "      <td>174.0</td>\n",
       "      <td>169.0</td>\n",
       "      <td>...</td>\n",
       "      <td>169.0</td>\n",
       "      <td>80.0</td>\n",
       "      <td>0.853535</td>\n",
       "      <td>0.878788</td>\n",
       "      <td>0.853535</td>\n",
       "      <td>0.0</td>\n",
       "      <td>2.0</td>\n",
       "      <td>200804.0</td>\n",
       "      <td>no-treatment</td>\n",
       "      <td>1.0</td>\n",
       "    </tr>\n",
       "    <tr>\n",
       "      <th>...</th>\n",
       "      <td>...</td>\n",
       "      <td>...</td>\n",
       "      <td>...</td>\n",
       "      <td>...</td>\n",
       "      <td>...</td>\n",
       "      <td>...</td>\n",
       "      <td>...</td>\n",
       "      <td>...</td>\n",
       "      <td>...</td>\n",
       "      <td>...</td>\n",
       "      <td>...</td>\n",
       "      <td>...</td>\n",
       "      <td>...</td>\n",
       "      <td>...</td>\n",
       "      <td>...</td>\n",
       "      <td>...</td>\n",
       "      <td>...</td>\n",
       "      <td>...</td>\n",
       "      <td>...</td>\n",
       "      <td>...</td>\n",
       "      <td>...</td>\n",
       "    </tr>\n",
       "    <tr>\n",
       "      <th>59234</th>\n",
       "      <td>2.0</td>\n",
       "      <td>28.623953</td>\n",
       "      <td>19.042675</td>\n",
       "      <td>1.879691</td>\n",
       "      <td>2.915253</td>\n",
       "      <td>2.389665</td>\n",
       "      <td>1.092336</td>\n",
       "      <td>1.354985</td>\n",
       "      <td>6.0</td>\n",
       "      <td>0.0</td>\n",
       "      <td>...</td>\n",
       "      <td>0.0</td>\n",
       "      <td>0.0</td>\n",
       "      <td>0.000000</td>\n",
       "      <td>0.500000</td>\n",
       "      <td>0.000000</td>\n",
       "      <td>7.0</td>\n",
       "      <td>2.0</td>\n",
       "      <td>200819.0</td>\n",
       "      <td>no-treatment</td>\n",
       "      <td>0.0</td>\n",
       "    </tr>\n",
       "    <tr>\n",
       "      <th>59235</th>\n",
       "      <td>2.0</td>\n",
       "      <td>15.164065</td>\n",
       "      <td>14.946216</td>\n",
       "      <td>7.447355</td>\n",
       "      <td>2.666432</td>\n",
       "      <td>6.454259</td>\n",
       "      <td>2.453558</td>\n",
       "      <td>1.923304</td>\n",
       "      <td>6.0</td>\n",
       "      <td>3.0</td>\n",
       "      <td>...</td>\n",
       "      <td>0.0</td>\n",
       "      <td>0.0</td>\n",
       "      <td>0.000000</td>\n",
       "      <td>0.500000</td>\n",
       "      <td>0.250000</td>\n",
       "      <td>7.0</td>\n",
       "      <td>2.0</td>\n",
       "      <td>200819.0</td>\n",
       "      <td>no-treatment</td>\n",
       "      <td>0.0</td>\n",
       "    </tr>\n",
       "    <tr>\n",
       "      <th>59236</th>\n",
       "      <td>2.0</td>\n",
       "      <td>21.879792</td>\n",
       "      <td>26.215772</td>\n",
       "      <td>4.384565</td>\n",
       "      <td>1.665404</td>\n",
       "      <td>4.318207</td>\n",
       "      <td>1.873770</td>\n",
       "      <td>2.418798</td>\n",
       "      <td>6.0</td>\n",
       "      <td>6.0</td>\n",
       "      <td>...</td>\n",
       "      <td>1.0</td>\n",
       "      <td>1.0</td>\n",
       "      <td>0.083333</td>\n",
       "      <td>0.500000</td>\n",
       "      <td>0.500000</td>\n",
       "      <td>7.0</td>\n",
       "      <td>2.0</td>\n",
       "      <td>200819.0</td>\n",
       "      <td>no-treatment</td>\n",
       "      <td>0.0</td>\n",
       "    </tr>\n",
       "    <tr>\n",
       "      <th>59237</th>\n",
       "      <td>2.0</td>\n",
       "      <td>20.236623</td>\n",
       "      <td>13.954595</td>\n",
       "      <td>1.079388</td>\n",
       "      <td>2.888644</td>\n",
       "      <td>3.897009</td>\n",
       "      <td>0.843483</td>\n",
       "      <td>2.105214</td>\n",
       "      <td>6.0</td>\n",
       "      <td>11.0</td>\n",
       "      <td>...</td>\n",
       "      <td>0.0</td>\n",
       "      <td>0.0</td>\n",
       "      <td>0.000000</td>\n",
       "      <td>0.500000</td>\n",
       "      <td>0.916667</td>\n",
       "      <td>7.0</td>\n",
       "      <td>2.0</td>\n",
       "      <td>200819.0</td>\n",
       "      <td>no-treatment</td>\n",
       "      <td>0.0</td>\n",
       "    </tr>\n",
       "    <tr>\n",
       "      <th>59238</th>\n",
       "      <td>2.0</td>\n",
       "      <td>31.736903</td>\n",
       "      <td>27.212507</td>\n",
       "      <td>2.379635</td>\n",
       "      <td>4.108440</td>\n",
       "      <td>5.030972</td>\n",
       "      <td>1.391066</td>\n",
       "      <td>1.382033</td>\n",
       "      <td>5.0</td>\n",
       "      <td>10.0</td>\n",
       "      <td>...</td>\n",
       "      <td>0.0</td>\n",
       "      <td>0.0</td>\n",
       "      <td>0.000000</td>\n",
       "      <td>0.416667</td>\n",
       "      <td>0.833333</td>\n",
       "      <td>7.0</td>\n",
       "      <td>2.0</td>\n",
       "      <td>200819.0</td>\n",
       "      <td>no-treatment</td>\n",
       "      <td>0.0</td>\n",
       "    </tr>\n",
       "  </tbody>\n",
       "</table>\n",
       "<p>59239 rows × 37 columns</p>\n",
       "</div>"
      ],
      "text/plain": [
       "       lifetime  max_int_ap2  max_int_dnm2  dist_traveled_ap2  \\\n",
       "0         216.0  1796.284550    740.516756           7.203812   \n",
       "1         201.0  2215.532695   1505.433273          17.220726   \n",
       "2         201.0   864.976087    421.405691          17.621866   \n",
       "3         192.0   509.795166    356.302521          10.804211   \n",
       "4         188.0  1636.422386    883.606436          11.255090   \n",
       "...         ...          ...           ...                ...   \n",
       "59234       2.0    28.623953     19.042675           1.879691   \n",
       "59235       2.0    15.164065     14.946216           7.447355   \n",
       "59236       2.0    21.879792     26.215772           4.384565   \n",
       "59237       2.0    20.236623     13.954595           1.079388   \n",
       "59238       2.0    31.736903     27.212507           2.379635   \n",
       "\n",
       "       dist_traveled_dnm2  max_dist_between_ap2_dnm2    md_ap2   md_dnm2  \\\n",
       "0                7.203812                   2.630656  0.566262  0.725913   \n",
       "1               14.507135                   3.797526  0.424574  0.912671   \n",
       "2               17.130473                   3.472332  0.566588  0.776404   \n",
       "3               13.292842                   5.888569  0.428736  1.058177   \n",
       "4                7.793074                   5.531006  0.415792  0.753372   \n",
       "...                   ...                        ...       ...       ...   \n",
       "59234            2.915253                   2.389665  1.092336  1.354985   \n",
       "59235            2.666432                   6.454259  2.453558  1.923304   \n",
       "59236            1.665404                   4.318207  1.873770  2.418798   \n",
       "59237            2.888644                   3.897009  0.843483  2.105214   \n",
       "59238            4.108440                   5.030972  1.391066  1.382033   \n",
       "\n",
       "       time_to_peak_ap2  time_to_peak_dnm2  ...  number_significant_dnm2  \\\n",
       "0                 159.0              186.0  ...                    167.0   \n",
       "1                 111.0              107.0  ...                    115.0   \n",
       "2                  42.0               44.0  ...                    167.0   \n",
       "3                  44.0              190.0  ...                    112.0   \n",
       "4                 174.0              169.0  ...                    169.0   \n",
       "...                 ...                ...  ...                      ...   \n",
       "59234               6.0                0.0  ...                      0.0   \n",
       "59235               6.0                3.0  ...                      0.0   \n",
       "59236               6.0                6.0  ...                      1.0   \n",
       "59237               6.0               11.0  ...                      0.0   \n",
       "59238               5.0               10.0  ...                      0.0   \n",
       "\n",
       "       max_consecutive_significant_dnm2  fraction_significant_dnm2  \\\n",
       "0                                  43.0                   0.738938   \n",
       "1                                  89.0                   0.545024   \n",
       "2                                  70.0                   0.791469   \n",
       "3                                  57.0                   0.554455   \n",
       "4                                  80.0                   0.853535   \n",
       "...                                 ...                        ...   \n",
       "59234                               0.0                   0.000000   \n",
       "59235                               0.0                   0.000000   \n",
       "59236                               1.0                   0.083333   \n",
       "59237                               0.0                   0.000000   \n",
       "59238                               0.0                   0.000000   \n",
       "\n",
       "       fraction_peak_ap2  fraction_peak_dnm2  experiment_number  \\\n",
       "0               0.703540            0.823009                0.0   \n",
       "1               0.526066            0.507109                0.0   \n",
       "2               0.199052            0.208531                0.0   \n",
       "3               0.217822            0.940594                0.0   \n",
       "4               0.878788            0.853535                0.0   \n",
       "...                  ...                 ...                ...   \n",
       "59234           0.500000            0.000000                7.0   \n",
       "59235           0.500000            0.250000                7.0   \n",
       "59236           0.500000            0.500000                7.0   \n",
       "59237           0.500000            0.916667                7.0   \n",
       "59238           0.416667            0.833333                7.0   \n",
       "\n",
       "       number_of_channels      date  cell_condition  \\\n",
       "0                     2.0  200804.0    no-treatment   \n",
       "1                     2.0  200804.0    no-treatment   \n",
       "2                     2.0  200804.0    no-treatment   \n",
       "3                     2.0  200804.0    no-treatment   \n",
       "4                     2.0  200804.0    no-treatment   \n",
       "...                   ...       ...             ...   \n",
       "59234                 2.0  200819.0    no-treatment   \n",
       "59235                 2.0  200819.0    no-treatment   \n",
       "59236                 2.0  200819.0    no-treatment   \n",
       "59237                 2.0  200819.0    no-treatment   \n",
       "59238                 2.0  200819.0    no-treatment   \n",
       "\n",
       "       cmeAnalysis_dynamin2_prediction  \n",
       "0                                  1.0  \n",
       "1                                  1.0  \n",
       "2                                  1.0  \n",
       "3                                  1.0  \n",
       "4                                  1.0  \n",
       "...                                ...  \n",
       "59234                              0.0  \n",
       "59235                              0.0  \n",
       "59236                              0.0  \n",
       "59237                              0.0  \n",
       "59238                              0.0  \n",
       "\n",
       "[59239 rows x 37 columns]"
      ]
     },
     "execution_count": 3,
     "metadata": {},
     "output_type": "execute_result"
    }
   ],
   "source": [
    "df_merged_features"
   ]
  },
  {
   "cell_type": "markdown",
   "metadata": {},
   "source": [
    "# load all valid tracks"
   ]
  },
  {
   "cell_type": "code",
   "execution_count": 4,
   "metadata": {},
   "outputs": [
    {
     "data": {
      "text/plain": [
       "8"
      ]
     },
     "execution_count": 4,
     "metadata": {},
     "output_type": "execute_result"
    }
   ],
   "source": [
    "len(set(df_merged_features['experiment_number']))"
   ]
  },
  {
   "cell_type": "code",
   "execution_count": 5,
   "metadata": {},
   "outputs": [],
   "source": [
    "# load all valid tracks\n",
    "merged_all_valid_tracks = np.load(unique_user_saved_outputs+'/dataframes/merged_all_valid_tracks_0.npy', allow_pickle=True)\n",
    "\n",
    "for i in range(1,number_of_track_splits):\n",
    "\n",
    "    merged_all_valid_tracks = np.concatenate((merged_all_valid_tracks,\n",
    "                                             np.load(unique_user_saved_outputs+'/dataframes/merged_all_valid_tracks_'+str(i)+'.npy', allow_pickle=True)))"
   ]
  },
  {
   "cell_type": "markdown",
   "metadata": {},
   "source": [
    "# load new ARPC3 imaging data, create a dataframe of merged features"
   ]
  },
  {
   "cell_type": "code",
   "execution_count": 6,
   "metadata": {},
   "outputs": [],
   "source": [
    "# upload only AP2 and DNM2 data for now\n",
    "all_tracks = [] # a list of all the track objects; each value is one experiment\n",
    "\n",
    "# this cell is for the following experiment set: 200804_ADA3\n",
    "tracks_200804ADA3Cell001_1s=display_tracks.load_tracks(unique_user_path_tracks + '/ap2dynm2arcp3_project/TIRF movies revised/tracking_data_test_cyna/200804_ADA3/split_channel_data/200804_ADA3_001/tracking_settings_gaussian_psf_model_trackinggaplength_2_trackingradius_3_6/200804ADA3Cell001AP2DNMN2_1s/Ch1/Tracking/ProcessedTracks.mat')\n",
    "tracks_200804ADA3Cell002_1s=display_tracks.load_tracks(unique_user_path_tracks + '/ap2dynm2arcp3_project/TIRF movies revised/tracking_data_test_cyna/200804_ADA3/split_channel_data/200804_ADA3_002/tracking_settings_gaussian_psf_model_trackinggaplength_2_trackingradius_3_6/200804ADA3Cell002AP2DNMN2_1s/Ch1/Tracking/ProcessedTracks.mat')\n",
    "tracks_200804ADA3Cell003_1s=display_tracks.load_tracks(unique_user_path_tracks + '/ap2dynm2arcp3_project/TIRF movies revised/tracking_data_test_cyna/200804_ADA3/split_channel_data/200804_ADA3_003/tracking_settings_gaussian_psf_model_trackinggaplength_2_trackingradius_3_6/200804ADA3Cell003AP2DNMN2_1s/Ch1/Tracking/ProcessedTracks.mat')\n",
    "tracks_200804ADA3Cell008_1s=display_tracks.load_tracks(unique_user_path_tracks + '/ap2dynm2arcp3_project/TIRF movies revised/tracking_data_test_cyna/200804_ADA3/split_channel_data/200804_ADA3_008/tracking_settings_gaussian_psf_model_trackinggaplength_2_trackingradius_3_6/200804ADA3Cell008AP2DNMN2_1s/Ch1/Tracking/ProcessedTracks.mat')\n",
    "tracks_200804ADA3Cell009_1s=display_tracks.load_tracks(unique_user_path_tracks + '/ap2dynm2arcp3_project/TIRF movies revised/tracking_data_test_cyna/200804_ADA3/split_channel_data/200804_ADA3_009/tracking_settings_gaussian_psf_model_trackinggaplength_2_trackingradius_3_6/200804ADA3Cell009AP2DNMN2_1s/Ch1/Tracking/ProcessedTracks.mat')\n",
    "\n",
    "all_tracks.append(tracks_200804ADA3Cell001_1s)\n",
    "all_tracks.append(tracks_200804ADA3Cell002_1s)\n",
    "all_tracks.append(tracks_200804ADA3Cell003_1s)\n",
    "all_tracks.append(tracks_200804ADA3Cell008_1s)\n",
    "all_tracks.append(tracks_200804ADA3Cell009_1s)\n",
    "\n",
    "# this cell is for the following experiment set: 200819_ADA3\n",
    "tracks_200819ADA3Cell001_1s=display_tracks.load_tracks(unique_user_path_tracks + '/ap2dynm2arcp3_project/TIRF movies revised/tracking_data_test_cyna/200819_ADA3/split_channel_data/200819_ADA3_001/tracking_settings_gaussian_psf_model_trackinggaplength_2_trackingradius_3_6/200819ADA3Cell001AP2DNMN2_1s/Ch1/Tracking/ProcessedTracks.mat')\n",
    "tracks_200819ADA3Cell002_1s=display_tracks.load_tracks(unique_user_path_tracks + '/ap2dynm2arcp3_project/TIRF movies revised/tracking_data_test_cyna/200819_ADA3/split_channel_data/200819_ADA3_002/tracking_settings_gaussian_psf_model_trackinggaplength_2_trackingradius_3_6/200819ADA3Cell002AP2DNMN2_1s/Ch1/Tracking/ProcessedTracks.mat')\n",
    "tracks_200819ADA3Cell003_1s=display_tracks.load_tracks(unique_user_path_tracks + '/ap2dynm2arcp3_project/TIRF movies revised/tracking_data_test_cyna/200819_ADA3/split_channel_data/200819_ADA3_003/tracking_settings_gaussian_psf_model_trackinggaplength_2_trackingradius_3_6/200819ADA3Cell003AP2DNMN2_1s/Ch1/Tracking/ProcessedTracks.mat')\n",
    "\n",
    "all_tracks.append(tracks_200819ADA3Cell001_1s)\n",
    "all_tracks.append(tracks_200819ADA3Cell002_1s)\n",
    "all_tracks.append(tracks_200819ADA3Cell003_1s)\n",
    "\n",
    "# using previous imaging data (7/22) that did not have AP2/DNM2 cell line imaged at the same time\n",
    "\n",
    "tracks_200722ADCell001_1s=display_tracks.load_tracks(unique_user_path_tracks + '/ap2dynm2arcp3_project/TIRF movies revised/tracking_data_test_cyna/200722_ADA3/split_channel_data/200722_ADA3_001/tracking_settings_gaussian_psf_model_trackinggaplength_2_trackingradius_3_6/200722ADA3Cell001AP2DNMN2_1s/Ch1/Tracking/ProcessedTracks.mat')\n",
    "tracks_200722ADCell002_1s=display_tracks.load_tracks(unique_user_path_tracks + '/ap2dynm2arcp3_project/TIRF movies revised/tracking_data_test_cyna/200722_ADA3/split_channel_data/200722_ADA3_002/tracking_settings_gaussian_psf_model_trackinggaplength_2_trackingradius_3_6/200722ADA3Cell002AP2DNMN2_1s/Ch1/Tracking/ProcessedTracks.mat')\n",
    "tracks_200722ADCell003_1s=display_tracks.load_tracks(unique_user_path_tracks + '/ap2dynm2arcp3_project/TIRF movies revised/tracking_data_test_cyna/200722_ADA3/split_channel_data/200722_ADA3_003/tracking_settings_gaussian_psf_model_trackinggaplength_2_trackingradius_3_6/200722ADA3Cell003AP2DNMN2_1s/Ch1/Tracking/ProcessedTracks.mat')\n",
    "tracks_200722ADCell004_1s=display_tracks.load_tracks(unique_user_path_tracks + '/ap2dynm2arcp3_project/TIRF movies revised/tracking_data_test_cyna/200722_ADA3/split_channel_data/200722_ADA3_004/tracking_settings_gaussian_psf_model_trackinggaplength_2_trackingradius_3_6/200722ADA3Cell004AP2DNMN2_1s/Ch1/Tracking/ProcessedTracks.mat')\n",
    "tracks_200722ADCell005_1s=display_tracks.load_tracks(unique_user_path_tracks + '/ap2dynm2arcp3_project/TIRF movies revised/tracking_data_test_cyna/200722_ADA3/split_channel_data/200722_ADA3_005/tracking_settings_gaussian_psf_model_trackinggaplength_2_trackingradius_3_6/200722ADA3Cell005AP2DNMN2_1s/Ch1/Tracking/ProcessedTracks.mat')\n",
    "\n",
    "all_tracks.append(tracks_200722ADCell001_1s)\n",
    "all_tracks.append(tracks_200722ADCell002_1s)\n",
    "all_tracks.append(tracks_200722ADCell003_1s)\n",
    "all_tracks.append(tracks_200722ADCell004_1s)\n",
    "all_tracks.append(tracks_200722ADCell005_1s)"
   ]
  },
  {
   "cell_type": "code",
   "execution_count": 7,
   "metadata": {},
   "outputs": [
    {
     "data": {
      "text/plain": [
       "13"
      ]
     },
     "execution_count": 7,
     "metadata": {},
     "output_type": "execute_result"
    }
   ],
   "source": [
    "len(all_tracks)"
   ]
  },
  {
   "cell_type": "code",
   "execution_count": 8,
   "metadata": {},
   "outputs": [
    {
     "name": "stdout",
     "output_type": "stream",
     "text": [
      "The number of tracks returned: 6265\n",
      "\n",
      "The number of tracks returned: 7621\n",
      "\n",
      "The number of tracks returned: 8396\n",
      "\n",
      "The number of tracks returned: 7452\n",
      "\n",
      "The number of tracks returned: 7724\n",
      "\n",
      "The number of tracks returned: 7918\n",
      "\n",
      "The number of tracks returned: 6663\n",
      "\n",
      "The number of tracks returned: 6637\n",
      "\n",
      "The number of tracks returned: 7668\n",
      "\n",
      "The number of tracks returned: 7709\n",
      "\n",
      "The number of tracks returned: 7431\n",
      "\n",
      "The number of tracks returned: 7366\n",
      "\n",
      "The number of tracks returned: 6275\n",
      "\n"
     ]
    }
   ],
   "source": [
    "# extract valid tracks from 3 color cell line movies\n",
    "valid_tracks_separate_experiments_3_color = [display_tracks.remove_tracks_by_criteria(track_set, track_category=[1]) for track_set in all_tracks]\n",
    "# merge all valid tracks into one tracks array\n",
    "merged_all_valid_tracks_3_color = merge_tools.merge_experiments(valid_tracks_separate_experiments_3_color,[list(range(len(track_set))) for track_set in valid_tracks_separate_experiments_3_color])\n",
    "experiment_number_3_channel_label = [i \n",
    "                                     for i in range(len(set(df_merged_features['experiment_number'])), \n",
    "                                                    len(set(df_merged_features['experiment_number']))+len(valid_tracks_separate_experiments_3_color)) \n",
    "                                     for _ in range(len(valid_tracks_separate_experiments_3_color[i-len(set(df_merged_features['experiment_number']))]))]\n",
    "# labels for the two days of imaging\n",
    "date_of_experiment_3_channel = []\n",
    "for i in range(len(experiment_number_3_channel_label)):\n",
    "    \n",
    "    if i < 5:\n",
    "        \n",
    "        date_of_experiment_3_channel.append(200804)\n",
    "        \n",
    "    elif i>=5 and i<8:\n",
    "        \n",
    "        date_of_experiment_3_channel.append(200819)\n",
    "        \n",
    "    else:\n",
    "        \n",
    "        date_of_experiment_3_channel.append(200722)\n",
    "\n",
    "# labels for the number of total imaging channels for each event, but not actually including arpc3 data until later\n",
    "# this is the number of fluorescently-edited genes in the cell line (AP2/DNM2 and now ARPC3)\n",
    "number_of_channels_label = [3 for _ in range(len(experiment_number_3_channel_label))]\n",
    "\n",
    "cell_condition = ['no_treatment' for i in range(len(experiment_number_3_channel_label))]"
   ]
  },
  {
   "cell_type": "markdown",
   "metadata": {},
   "source": [
    "# save all valid arpc3 tracks"
   ]
  },
  {
   "cell_type": "code",
   "execution_count": 9,
   "metadata": {},
   "outputs": [
    {
     "ename": "KeyboardInterrupt",
     "evalue": "",
     "output_type": "error",
     "traceback": [
      "\u001b[0;31m---------------------------------------------------------------------------\u001b[0m",
      "\u001b[0;31mKeyboardInterrupt\u001b[0m                         Traceback (most recent call last)",
      "\u001b[0;32m<ipython-input-9-505f291f4c1d>\u001b[0m in \u001b[0;36m<module>\u001b[0;34m\u001b[0m\n\u001b[1;32m      1\u001b[0m \u001b[0;32mfor\u001b[0m \u001b[0mi\u001b[0m \u001b[0;32min\u001b[0m \u001b[0mrange\u001b[0m\u001b[0;34m(\u001b[0m\u001b[0mlen\u001b[0m\u001b[0;34m(\u001b[0m\u001b[0mvalid_tracks_separate_experiments_3_color\u001b[0m\u001b[0;34m)\u001b[0m\u001b[0;34m)\u001b[0m\u001b[0;34m:\u001b[0m\u001b[0;34m\u001b[0m\u001b[0;34m\u001b[0m\u001b[0m\n\u001b[1;32m      2\u001b[0m \u001b[0;34m\u001b[0m\u001b[0m\n\u001b[0;32m----> 3\u001b[0;31m     \u001b[0mnp\u001b[0m\u001b[0;34m.\u001b[0m\u001b[0msave\u001b[0m\u001b[0;34m(\u001b[0m\u001b[0munique_user_saved_outputs\u001b[0m\u001b[0;34m+\u001b[0m\u001b[0;34m\"/dataframes/valid_arpc3_tracks_\"\u001b[0m\u001b[0;34m+\u001b[0m\u001b[0mstr\u001b[0m\u001b[0;34m(\u001b[0m\u001b[0mi\u001b[0m\u001b[0;34m)\u001b[0m\u001b[0;34m,\u001b[0m \u001b[0mnp\u001b[0m\u001b[0;34m.\u001b[0m\u001b[0marray\u001b[0m\u001b[0;34m(\u001b[0m\u001b[0mlist\u001b[0m\u001b[0;34m(\u001b[0m\u001b[0mvalid_tracks_separate_experiments_3_color\u001b[0m\u001b[0;34m[\u001b[0m\u001b[0mi\u001b[0m\u001b[0;34m]\u001b[0m\u001b[0;34m)\u001b[0m\u001b[0;34m)\u001b[0m\u001b[0;34m)\u001b[0m\u001b[0;34m\u001b[0m\u001b[0;34m\u001b[0m\u001b[0m\n\u001b[0m",
      "\u001b[0;32m<__array_function__ internals>\u001b[0m in \u001b[0;36msave\u001b[0;34m(*args, **kwargs)\u001b[0m\n",
      "\u001b[0;32m~/opt/anaconda3/envs/branched_actin/lib/python3.6/site-packages/numpy/lib/npyio.py\u001b[0m in \u001b[0;36msave\u001b[0;34m(file, arr, allow_pickle, fix_imports)\u001b[0m\n\u001b[1;32m    527\u001b[0m         \u001b[0marr\u001b[0m \u001b[0;34m=\u001b[0m \u001b[0mnp\u001b[0m\u001b[0;34m.\u001b[0m\u001b[0masanyarray\u001b[0m\u001b[0;34m(\u001b[0m\u001b[0marr\u001b[0m\u001b[0;34m)\u001b[0m\u001b[0;34m\u001b[0m\u001b[0;34m\u001b[0m\u001b[0m\n\u001b[1;32m    528\u001b[0m         format.write_array(fid, arr, allow_pickle=allow_pickle,\n\u001b[0;32m--> 529\u001b[0;31m                            pickle_kwargs=dict(fix_imports=fix_imports))\n\u001b[0m\u001b[1;32m    530\u001b[0m \u001b[0;34m\u001b[0m\u001b[0m\n\u001b[1;32m    531\u001b[0m \u001b[0;34m\u001b[0m\u001b[0m\n",
      "\u001b[0;32m~/opt/anaconda3/envs/branched_actin/lib/python3.6/site-packages/numpy/lib/format.py\u001b[0m in \u001b[0;36mwrite_array\u001b[0;34m(fp, array, version, allow_pickle, pickle_kwargs)\u001b[0m\n\u001b[1;32m    662\u001b[0m         \u001b[0;32mif\u001b[0m \u001b[0mpickle_kwargs\u001b[0m \u001b[0;32mis\u001b[0m \u001b[0;32mNone\u001b[0m\u001b[0;34m:\u001b[0m\u001b[0;34m\u001b[0m\u001b[0;34m\u001b[0m\u001b[0m\n\u001b[1;32m    663\u001b[0m             \u001b[0mpickle_kwargs\u001b[0m \u001b[0;34m=\u001b[0m \u001b[0;34m{\u001b[0m\u001b[0;34m}\u001b[0m\u001b[0;34m\u001b[0m\u001b[0;34m\u001b[0m\u001b[0m\n\u001b[0;32m--> 664\u001b[0;31m         \u001b[0mpickle\u001b[0m\u001b[0;34m.\u001b[0m\u001b[0mdump\u001b[0m\u001b[0;34m(\u001b[0m\u001b[0marray\u001b[0m\u001b[0;34m,\u001b[0m \u001b[0mfp\u001b[0m\u001b[0;34m,\u001b[0m \u001b[0mprotocol\u001b[0m\u001b[0;34m=\u001b[0m\u001b[0;36m3\u001b[0m\u001b[0;34m,\u001b[0m \u001b[0;34m**\u001b[0m\u001b[0mpickle_kwargs\u001b[0m\u001b[0;34m)\u001b[0m\u001b[0;34m\u001b[0m\u001b[0;34m\u001b[0m\u001b[0m\n\u001b[0m\u001b[1;32m    665\u001b[0m     \u001b[0;32melif\u001b[0m \u001b[0marray\u001b[0m\u001b[0;34m.\u001b[0m\u001b[0mflags\u001b[0m\u001b[0;34m.\u001b[0m\u001b[0mf_contiguous\u001b[0m \u001b[0;32mand\u001b[0m \u001b[0;32mnot\u001b[0m \u001b[0marray\u001b[0m\u001b[0;34m.\u001b[0m\u001b[0mflags\u001b[0m\u001b[0;34m.\u001b[0m\u001b[0mc_contiguous\u001b[0m\u001b[0;34m:\u001b[0m\u001b[0;34m\u001b[0m\u001b[0;34m\u001b[0m\u001b[0m\n\u001b[1;32m    666\u001b[0m         \u001b[0;32mif\u001b[0m \u001b[0misfileobj\u001b[0m\u001b[0;34m(\u001b[0m\u001b[0mfp\u001b[0m\u001b[0;34m)\u001b[0m\u001b[0;34m:\u001b[0m\u001b[0;34m\u001b[0m\u001b[0;34m\u001b[0m\u001b[0m\n",
      "\u001b[0;31mKeyboardInterrupt\u001b[0m: "
     ]
    }
   ],
   "source": [
    "for i in range(len(valid_tracks_separate_experiments_3_color)):\n",
    "    \n",
    "    np.save(unique_user_saved_outputs+\"/dataframes/valid_arpc3_tracks_\"+str(i), np.array(list(valid_tracks_separate_experiments_3_color[i])))"
   ]
  },
  {
   "cell_type": "code",
   "execution_count": null,
   "metadata": {},
   "outputs": [],
   "source": [
    "# extract the output of cmeAnalysis' predictions on whether a track is DNM2 positive or negative\n",
    "significant_dynamin2_cmeAnalysis_prediction = []\n",
    "\n",
    "# an index map for ProcessedTracks.mat attributes for 2 color tracking experiments from cmeAnalysis\n",
    "index_dictionary = generate_index_dictionary.return_index_dictionary()\n",
    "\n",
    "for track in merged_all_valid_tracks_3_color: # iterate through all tracks\n",
    "\n",
    "    significant_dynamin2 = track[index_dictionary['index_significantSlave']][1]\n",
    "    significant_dynamin2_cmeAnalysis_prediction.append(significant_dynamin2)"
   ]
  },
  {
   "cell_type": "code",
   "execution_count": null,
   "metadata": {},
   "outputs": [],
   "source": [
    "print('total number of valid tracks: ' + str(len(merged_all_valid_tracks_3_color)))"
   ]
  },
  {
   "cell_type": "code",
   "execution_count": null,
   "metadata": {},
   "outputs": [],
   "source": [
    "possible_track_features = np.load(unique_user_saved_outputs+'/dataframes/possible_track_features.npy')"
   ]
  },
  {
   "cell_type": "code",
   "execution_count": null,
   "metadata": {},
   "outputs": [],
   "source": [
    "possible_track_features"
   ]
  },
  {
   "cell_type": "code",
   "execution_count": null,
   "metadata": {},
   "outputs": [],
   "source": [
    "all_track_features_3_color = feature_extraction_with_buffer.TrackFeatures(merged_all_valid_tracks_3_color) # an instance of a to-be feature matrix of tracks\n",
    "all_track_features_3_color.add_features(possible_track_features) # set the features to be extracted\n",
    "all_track_features_3_color.extract_features() # extract all features\n",
    "extracted_features_all_tracks_3_color = all_track_features_3_color.feature_matrix # feature matrix for all tracks"
   ]
  },
  {
   "cell_type": "code",
   "execution_count": null,
   "metadata": {},
   "outputs": [],
   "source": [
    "# merge features with labels (experiment number, date, and number of channels)\n",
    "extracted_features_all_tracks_3_color = np.array(extracted_features_all_tracks_3_color)\n",
    "\n",
    "merged_features = np.concatenate((extracted_features_all_tracks_3_color,\n",
    "                                  np.array(experiment_number_3_channel_label).reshape(extracted_features_all_tracks_3_color.shape[0],-1)), axis=-1)\n",
    "merged_features = np.concatenate((merged_features,\n",
    "                                  np.array(number_of_channels_label).reshape(merged_features.shape[0],-1)), axis=-1)\n",
    "merged_features = np.concatenate((merged_features,\n",
    "                                  np.array(date_of_experiment_3_channel).reshape(merged_features.shape[0],-1)), axis=-1)\n",
    "merged_features = np.concatenate((merged_features,\n",
    "                                  np.array(cell_condition).reshape(merged_features.shape[0],-1)), axis=-1)\n",
    "merged_features = np.concatenate((merged_features,\n",
    "                                  np.array(significant_dynamin2_cmeAnalysis_prediction).reshape(merged_features.shape[0],-1)), axis=-1)"
   ]
  },
  {
   "cell_type": "code",
   "execution_count": null,
   "metadata": {},
   "outputs": [],
   "source": [
    "merged_features.shape"
   ]
  },
  {
   "cell_type": "markdown",
   "metadata": {},
   "source": [
    "# use prefit scaler, PCA model, and GMM to fit new dataset to clusters"
   ]
  },
  {
   "cell_type": "code",
   "execution_count": null,
   "metadata": {},
   "outputs": [],
   "source": [
    "with open(unique_user_saved_outputs+'/dataframes/normal_scaler_model', 'rb') as f:\n",
    "    scaler = pickle.load(f)      \n",
    "    \n",
    "with open(unique_user_saved_outputs+'/dataframes/pca_model_fit', 'rb') as f:\n",
    "    pca_model = pickle.load(f)              \n",
    "    \n",
    "with open(unique_user_saved_outputs+'/dataframes/gmm_trained', 'rb') as f:\n",
    "    gmm_model = pickle.load(f)                "
   ]
  },
  {
   "cell_type": "code",
   "execution_count": null,
   "metadata": {},
   "outputs": [],
   "source": [
    "scaled_features_new_data = scaler.transform(merged_features[:,:len(feature_units)]) # scale features to normal distribution, taking into account all previously scaled data\n",
    "pcs_new_data = pca_model.transform(scaled_features_new_data) # find projections of newly scaled data on previous PC axes\n",
    "gmm_predictions_new_data = gmm_model.predict(pcs_new_data) # find gmm cluster assignments using previously fit model"
   ]
  },
  {
   "cell_type": "markdown",
   "metadata": {},
   "source": [
    "# run DNM2 positive events through smoothing and single-peak selection"
   ]
  },
  {
   "cell_type": "code",
   "execution_count": null,
   "metadata": {},
   "outputs": [],
   "source": [
    "# get DNM2 positive events\n",
    "dnm2_positive_events = np.array(list(merged_all_valid_tracks_3_color))[np.nonzero(gmm_predictions_new_data==index_DNM2positive)[0]]"
   ]
  },
  {
   "cell_type": "code",
   "execution_count": null,
   "metadata": {},
   "outputs": [],
   "source": [
    "len(dnm2_positive_events)"
   ]
  },
  {
   "cell_type": "code",
   "execution_count": null,
   "metadata": {},
   "outputs": [],
   "source": [
    "all_dnm2_signal = []\n",
    "\n",
    "for i in range(len(dnm2_positive_events)): # stack all DNM2 intensities\n",
    "\n",
    "    raw_dnm2_intensity = list(return_track_attributes.return_track_amplitude_no_buffer_channel(dnm2_positive_events,i,1))\n",
    "\n",
    "    all_dnm2_signal.append(raw_dnm2_intensity)"
   ]
  },
  {
   "cell_type": "code",
   "execution_count": null,
   "metadata": {},
   "outputs": [],
   "source": [
    "sos = signal.butter(4, 0.2, 'lp', fs=1, output='sos') # low-pass 4-th order Butterworth filter\n",
    "\n",
    "filtered_amplitudes = [] # filtered DNM2 traces per track of interest\n",
    "\n",
    "for i in range(len(all_dnm2_signal)):\n",
    "\n",
    "    raw_intensity = all_dnm2_signal[i]\n",
    "    # add zeros to end to account for phase shift of near-track-end peaks\n",
    "    filtered_amplitudes.append(list(list(signal.sosfilt(sos, raw_intensity)) + [0, 0, 0, 0, 0])) \n",
    "    \n",
    "current_param_outputs = [] # one-hot encoding of indices of tracks with a single peak (0: multiple peaks)\n",
    "\n",
    "\n",
    "for i in range(len(filtered_amplitudes)): # iterate through all filtered amplitudes\n",
    "    \n",
    "    pvals_dnm2 = return_track_attributes.return_pvals_detection_no_buffer(dnm2_positive_events, i, 1)\n",
    "    \n",
    "    # measure whether there is 1 peak with the specified peak-finding parameters\n",
    "    if len(signal.find_peaks(filtered_amplitudes[i], \n",
    "                             distance=best_fit_peak_params[0], \n",
    "                             height=best_fit_peak_params[1],\n",
    "                             width=best_fit_peak_params[2])[0])==1 and len(np.where(np.array(pvals_dnm2)<0.01)[0])>0:\n",
    "\n",
    "        current_param_outputs.append(1)\n",
    "\n",
    "    else:\n",
    "\n",
    "        current_param_outputs.append(0)"
   ]
  },
  {
   "cell_type": "code",
   "execution_count": null,
   "metadata": {},
   "outputs": [],
   "source": [
    "len(np.where(np.array(current_param_outputs)==1)[0])"
   ]
  },
  {
   "cell_type": "code",
   "execution_count": null,
   "metadata": {},
   "outputs": [],
   "source": [
    "data_add_pc_gmm_dataframe = np.hstack((pcs_new_data, gmm_predictions_new_data.reshape(pcs_new_data.shape[0], 1)))\n",
    "df_new_incorporated_data_pcs_gmm_clusters = df_pcs_normal_scaled_with_gmm_cluster.copy()\n",
    "df_new_incorporated_data_pcs_gmm_clusters = df_new_incorporated_data_pcs_gmm_clusters.append(pd.DataFrame(data_add_pc_gmm_dataframe, columns=df_pcs_normal_scaled_with_gmm_cluster.columns))"
   ]
  },
  {
   "cell_type": "code",
   "execution_count": null,
   "metadata": {},
   "outputs": [],
   "source": [
    "df_new_incorporated_data_merged_features = df_merged_features.copy()\n",
    "df_new_incorporated_data_merged_features = df_new_incorporated_data_merged_features.append(pd.DataFrame(merged_features, columns=df_merged_features.columns))"
   ]
  },
  {
   "cell_type": "code",
   "execution_count": null,
   "metadata": {},
   "outputs": [],
   "source": [
    "# save the dataframe for ARPC3 tracking\n",
    "compression_opts = dict(method='zip',\n",
    "                        archive_name=unique_user_saved_outputs+'/dataframes/df_new_incorporated_data_merged_features.csv')  \n",
    "\n",
    "df_new_incorporated_data_merged_features.to_csv(unique_user_saved_outputs+'/dataframes/df_new_incorporated_data_merged_features.zip', index=False,\n",
    "                                                compression=compression_opts) "
   ]
  },
  {
   "cell_type": "code",
   "execution_count": null,
   "metadata": {},
   "outputs": [],
   "source": [
    "df_new_incorporated_data_merged_features"
   ]
  },
  {
   "cell_type": "code",
   "execution_count": null,
   "metadata": {},
   "outputs": [],
   "source": [
    "compression_opts = dict(method='zip',\n",
    "                        archive_name=unique_user_saved_outputs+'/dataframes/df_new_incorporated_data_pcs_gmm_clusters.csv')  \n",
    "\n",
    "df_new_incorporated_data_pcs_gmm_clusters.to_csv(unique_user_saved_outputs+'/dataframes/df_new_incorporated_data_pcs_gmm_clusters.zip', index=False,\n",
    "                                                 compression=compression_opts) "
   ]
  },
  {
   "cell_type": "markdown",
   "metadata": {},
   "source": [
    "# upload hotspot predictions from previous data, then merge and save with newly incorporated predictions"
   ]
  },
  {
   "cell_type": "code",
   "execution_count": null,
   "metadata": {},
   "outputs": [],
   "source": [
    "merged_ccp_predictions = np.array(list(ccp_predictions) + list(current_param_outputs))\n",
    "np.save(unique_user_saved_outputs+'/dataframes/merged_ccp_predictions', merged_ccp_predictions)"
   ]
  },
  {
   "cell_type": "code",
   "execution_count": null,
   "metadata": {},
   "outputs": [],
   "source": [
    "len(merged_ccp_predictions)"
   ]
  },
  {
   "cell_type": "markdown",
   "metadata": {},
   "source": [
    "# merged all previous valid tracks with new valid tracks"
   ]
  },
  {
   "cell_type": "code",
   "execution_count": null,
   "metadata": {},
   "outputs": [],
   "source": [
    "all_merged_valid_tracks = np.concatenate((merged_all_valid_tracks, np.array(list(merged_all_valid_tracks_3_color))))"
   ]
  },
  {
   "cell_type": "code",
   "execution_count": null,
   "metadata": {},
   "outputs": [],
   "source": [
    "all_merged_valid_tracks.shape"
   ]
  },
  {
   "cell_type": "code",
   "execution_count": null,
   "metadata": {},
   "outputs": [],
   "source": [
    "split_valid_tracks = np.array_split(np.array(list(all_merged_valid_tracks)),number_of_track_splits)"
   ]
  },
  {
   "cell_type": "code",
   "execution_count": null,
   "metadata": {},
   "outputs": [],
   "source": [
    "# save each track array chunk\n",
    "for i in range(len(split_valid_tracks)):\n",
    "\n",
    "    np.save(unique_user_saved_outputs+\"/dataframes/all_experiments_merged_all_valid_tracks_\"+str(i), split_valid_tracks[i])"
   ]
  },
  {
   "cell_type": "markdown",
   "metadata": {},
   "source": [
    "# load N-WASP imaging data, repeat pipeline for AP2/DNM2 and AP2/DNM2/ARPC3 data"
   ]
  },
  {
   "cell_type": "code",
   "execution_count": null,
   "metadata": {},
   "outputs": [],
   "source": [
    "# upload AD2/DNM2/N-WASP data, but only AP2/DNM2 tracking for now\n",
    "\n",
    "# 8/3/18\n",
    "\n",
    "tracks_180803ADWCell001_1s=display_tracks.load_tracks(unique_user_path_tracks + '/ap2dynm2arcp3_project/TIRF movies revised/tracking_data_test_cyna/180803_ADW/split_channel_data/180803_ADW_001/tracking_settings_gaussian_psf_model_trackinggaplength_2_trackingradius_3_6/180803ADWCell001AP2DNM2_1s/Ch1/Tracking/ProcessedTracks.mat')\n",
    "tracks_180803ADWCell002_1s=display_tracks.load_tracks(unique_user_path_tracks + '/ap2dynm2arcp3_project/TIRF movies revised/tracking_data_test_cyna/180803_ADW/split_channel_data/180803_ADW_002/tracking_settings_gaussian_psf_model_trackinggaplength_2_trackingradius_3_6/180803ADWCell002AP2DNM2_1s/Ch1/Tracking/ProcessedTracks.mat')\n",
    "tracks_180803ADWCell003_1s=display_tracks.load_tracks(unique_user_path_tracks + '/ap2dynm2arcp3_project/TIRF movies revised/tracking_data_test_cyna/180803_ADW/split_channel_data/180803_ADW_003/tracking_settings_gaussian_psf_model_trackinggaplength_2_trackingradius_3_6/180803ADWCell003AP2DNM2_1s/Ch1/Tracking/ProcessedTracks.mat')\n",
    "tracks_180803ADWCell004_1s=display_tracks.load_tracks(unique_user_path_tracks + '/ap2dynm2arcp3_project/TIRF movies revised/tracking_data_test_cyna/180803_ADW/split_channel_data/180803_ADW_004/tracking_settings_gaussian_psf_model_trackinggaplength_2_trackingradius_3_6/180803ADWCell004AP2DNM2_1s/Ch1/Tracking/ProcessedTracks.mat')\n",
    "tracks_180803ADWCell005_1s=display_tracks.load_tracks(unique_user_path_tracks + '/ap2dynm2arcp3_project/TIRF movies revised/tracking_data_test_cyna/180803_ADW/split_channel_data/180803_ADW_005/tracking_settings_gaussian_psf_model_trackinggaplength_2_trackingradius_3_6/180803ADWCell005AP2DNM2_1s/Ch1/Tracking/ProcessedTracks.mat')\n",
    "tracks_180803ADWCell006_1s=display_tracks.load_tracks(unique_user_path_tracks + '/ap2dynm2arcp3_project/TIRF movies revised/tracking_data_test_cyna/180803_ADW/split_channel_data/180803_ADW_006/tracking_settings_gaussian_psf_model_trackinggaplength_2_trackingradius_3_6/180803ADWCell006AP2DNM2_1s/Ch1/Tracking/ProcessedTracks.mat')\n",
    "\n",
    "# 7/18/18\n",
    "\n",
    "tracks_180718ADWCell001_1s=display_tracks.load_tracks(unique_user_path_tracks + '/ap2dynm2arcp3_project/TIRF movies revised/tracking_data_test_cyna/180803_ADW/split_channel_data/180803_ADW_001/tracking_settings_gaussian_psf_model_trackinggaplength_2_trackingradius_3_6/180803ADWCell001AP2DNM2_1s/Ch1/Tracking/ProcessedTracks.mat')\n",
    "tracks_180718ADWCell002_1s=display_tracks.load_tracks(unique_user_path_tracks + '/ap2dynm2arcp3_project/TIRF movies revised/tracking_data_test_cyna/180803_ADW/split_channel_data/180803_ADW_002/tracking_settings_gaussian_psf_model_trackinggaplength_2_trackingradius_3_6/180803ADWCell002AP2DNM2_1s/Ch1/Tracking/ProcessedTracks.mat')\n",
    "tracks_180718ADWCell003_1s=display_tracks.load_tracks(unique_user_path_tracks + '/ap2dynm2arcp3_project/TIRF movies revised/tracking_data_test_cyna/180803_ADW/split_channel_data/180803_ADW_003/tracking_settings_gaussian_psf_model_trackinggaplength_2_trackingradius_3_6/180803ADWCell003AP2DNM2_1s/Ch1/Tracking/ProcessedTracks.mat')"
   ]
  },
  {
   "cell_type": "code",
   "execution_count": null,
   "metadata": {},
   "outputs": [],
   "source": [
    "all_tracks_nwasp = [] # a list of all the track objects; each value is one experiment\n",
    "\n",
    "all_tracks_nwasp.append(tracks_180803ADWCell001_1s)\n",
    "all_tracks_nwasp.append(tracks_180803ADWCell002_1s)\n",
    "all_tracks_nwasp.append(tracks_180803ADWCell003_1s)\n",
    "all_tracks_nwasp.append(tracks_180803ADWCell004_1s)\n",
    "all_tracks_nwasp.append(tracks_180803ADWCell005_1s)\n",
    "all_tracks_nwasp.append(tracks_180803ADWCell006_1s)\n",
    "\n",
    "all_tracks_nwasp.append(tracks_180718ADWCell001_1s)\n",
    "all_tracks_nwasp.append(tracks_180718ADWCell002_1s)\n",
    "all_tracks_nwasp.append(tracks_180718ADWCell003_1s)"
   ]
  },
  {
   "cell_type": "code",
   "execution_count": null,
   "metadata": {},
   "outputs": [],
   "source": [
    "# extract valid tracks from nwasp cell line movies\n",
    "valid_tracks_separate_experiments_nwasp = [display_tracks.remove_tracks_by_criteria(track_set, track_category=[1]) for track_set in all_tracks_nwasp]\n",
    "# merge all valid tracks into one tracks array\n",
    "merged_all_valid_tracks_nwasp = merge_tools.merge_experiments(valid_tracks_separate_experiments_nwasp,[list(range(len(track_set))) for track_set in valid_tracks_separate_experiments_nwasp])\n",
    "# the experiment number for 2 color cell line movies (0-8)\n",
    "experiment_number_nwasp_label = [i for i in range(len(valid_tracks_separate_experiments_nwasp)) for _ in range(len(valid_tracks_separate_experiments_nwasp[i-1]))]\n",
    "# labels for the two days of imaging\n",
    "date_of_experiment_nwasp = [180803 if i < 6 else 180718 for i in range(len(valid_tracks_separate_experiments_nwasp)) for _ in range(len(valid_tracks_separate_experiments_nwasp[i-1]))]\n",
    "# labels for the number of imaging channels for each track\n",
    "number_of_channels_label_nwasp = [3 for _ in range(len(experiment_number_nwasp_label))]\n",
    "\n",
    "cell_condition = ['no_treatment' for i in range(len(number_of_channels_label_nwasp))]"
   ]
  },
  {
   "cell_type": "code",
   "execution_count": null,
   "metadata": {},
   "outputs": [],
   "source": [
    "# extract the output of cmeAnalysis' predictions on whether a track is DNM2 positive or negative\n",
    "significant_dynamin2_cmeAnalysis_prediction_nwasp = []\n",
    "\n",
    "# an index map for ProcessedTracks.mat attributes for 2 color tracking experiments from cmeAnalysis\n",
    "index_dictionary = generate_index_dictionary.return_index_dictionary()\n",
    "\n",
    "for track in merged_all_valid_tracks_nwasp: # iterate through all tracks\n",
    "\n",
    "    significant_dynamin2 = track[index_dictionary['index_significantSlave']][1]\n",
    "    significant_dynamin2_cmeAnalysis_prediction_nwasp.append(significant_dynamin2)"
   ]
  },
  {
   "cell_type": "code",
   "execution_count": null,
   "metadata": {},
   "outputs": [],
   "source": [
    "print('total number of valid tracks: ' + str(len(merged_all_valid_tracks_nwasp)))"
   ]
  },
  {
   "cell_type": "code",
   "execution_count": null,
   "metadata": {},
   "outputs": [],
   "source": [
    "all_track_features_nwasp = feature_extraction_with_buffer.TrackFeatures(merged_all_valid_tracks_nwasp) # an instance of a to-be feature matrix of tracks\n",
    "all_track_features_nwasp.add_features(possible_track_features) # set the features to be extracted\n",
    "all_track_features_nwasp.extract_features() # extract all features\n",
    "extracted_features_all_tracks_nwasp = all_track_features_nwasp.feature_matrix # feature matrix for all tracks"
   ]
  },
  {
   "cell_type": "code",
   "execution_count": null,
   "metadata": {},
   "outputs": [],
   "source": [
    "extracted_features_all_tracks_nwasp.shape"
   ]
  },
  {
   "cell_type": "code",
   "execution_count": null,
   "metadata": {},
   "outputs": [],
   "source": [
    "# merge features with labels (experiment number, date, and number of channels)\n",
    "extracted_features_all_tracks_nwasp = np.array(extracted_features_all_tracks_nwasp)\n",
    "\n",
    "merged_features_nwasp = np.concatenate((extracted_features_all_tracks_nwasp,\n",
    "                                  np.array(experiment_number_nwasp_label).reshape(extracted_features_all_tracks_nwasp.shape[0],-1)), axis=-1)\n",
    "merged_features_nwasp = np.concatenate((merged_features_nwasp,\n",
    "                                  np.array(number_of_channels_label_nwasp).reshape(merged_features_nwasp.shape[0],-1)), axis=-1)\n",
    "merged_features_nwasp = np.concatenate((merged_features_nwasp,\n",
    "                                  np.array(date_of_experiment_nwasp).reshape(merged_features_nwasp.shape[0],-1)), axis=-1)\n",
    "merged_features_nwasp = np.concatenate((merged_features_nwasp,\n",
    "                                  np.array(cell_condition).reshape(merged_features_nwasp.shape[0],-1)), axis=-1)\n",
    "merged_features_nwasp = np.concatenate((merged_features_nwasp,\n",
    "                                  np.array(significant_dynamin2_cmeAnalysis_prediction_nwasp).reshape(merged_features_nwasp.shape[0],-1)), axis=-1)"
   ]
  },
  {
   "cell_type": "code",
   "execution_count": null,
   "metadata": {},
   "outputs": [],
   "source": [
    "scaled_features_nwasp = scaler.transform(merged_features_nwasp[:,:len(feature_units)]) # scale features to normal distribution, taking into account all previously scaled data\n",
    "pcs_nwasp = pca_model.transform(scaled_features_nwasp) # find projections of newly scaled data on previous PC axes\n",
    "gmm_predictions_nwasp = gmm_model.predict(pcs_nwasp) # find gmm cluster assignments using previously fit model"
   ]
  },
  {
   "cell_type": "code",
   "execution_count": null,
   "metadata": {},
   "outputs": [],
   "source": [
    "pcs_nwasp.shape"
   ]
  },
  {
   "cell_type": "markdown",
   "metadata": {},
   "source": [
    "# run DNM2 positive events through smoothing and single-peak selection"
   ]
  },
  {
   "cell_type": "code",
   "execution_count": null,
   "metadata": {},
   "outputs": [],
   "source": [
    "# get DNM2 positive events\n",
    "dnm2_positive_events_nwasp = np.array(list(merged_all_valid_tracks_nwasp))[np.nonzero(gmm_predictions_nwasp==index_DNM2positive)[0]]"
   ]
  },
  {
   "cell_type": "code",
   "execution_count": null,
   "metadata": {},
   "outputs": [],
   "source": [
    "len(dnm2_positive_events_nwasp)"
   ]
  },
  {
   "cell_type": "code",
   "execution_count": null,
   "metadata": {},
   "outputs": [],
   "source": [
    "all_dnm2_signal_nwasp = []\n",
    "\n",
    "for i in range(len(dnm2_positive_events_nwasp)): # stack all DNM2 intensities\n",
    "\n",
    "    raw_dnm2_intensity_nwasp = list(return_track_attributes.return_track_amplitude_no_buffer_channel(dnm2_positive_events_nwasp,i,1))\n",
    "\n",
    "    all_dnm2_signal_nwasp.append(raw_dnm2_intensity_nwasp)"
   ]
  },
  {
   "cell_type": "code",
   "execution_count": null,
   "metadata": {},
   "outputs": [],
   "source": [
    "sos = signal.butter(4, 0.2, 'lp', fs=1, output='sos') # low-pass 4-th order Butterworth filter\n",
    "\n",
    "filtered_amplitudes_nwasp = [] # filtered DNM2 traces per track of interest\n",
    "\n",
    "for i in range(len(all_dnm2_signal_nwasp)):\n",
    "\n",
    "    raw_intensity_nwasp = all_dnm2_signal_nwasp[i]\n",
    "    # add zeros to end to account for phase shift of near-track-end peaks\n",
    "    filtered_amplitudes_nwasp.append(list(list(signal.sosfilt(sos, raw_intensity_nwasp)) + [0, 0, 0, 0, 0])) \n",
    "    \n",
    "current_param_outputs_nwasp = [] # one-hot encoding of indices of tracks with a single peak (0: multiple peaks)\n",
    "\n",
    "\n",
    "for i in range(len(filtered_amplitudes_nwasp)): # iterate through all filtered amplitudes\n",
    "    \n",
    "    pvals_dnm2 = return_track_attributes.return_pvals_detection_no_buffer(dnm2_positive_events_nwasp, i, 1)\n",
    "    \n",
    "    # measure whether there is 1 peak with the specified peak-finding parameters\n",
    "    if len(signal.find_peaks(filtered_amplitudes_nwasp[i], \n",
    "                             distance=best_fit_peak_params[0], \n",
    "                             height=best_fit_peak_params[1],\n",
    "                             width=best_fit_peak_params[2])[0])==1 and len(np.where(np.array(pvals_dnm2)<0.01)[0])>0:\n",
    "\n",
    "        current_param_outputs_nwasp.append(1)\n",
    "\n",
    "    else:\n",
    "\n",
    "        current_param_outputs_nwasp.append(0)"
   ]
  },
  {
   "cell_type": "code",
   "execution_count": null,
   "metadata": {},
   "outputs": [],
   "source": [
    "len(current_param_outputs_nwasp)"
   ]
  },
  {
   "cell_type": "code",
   "execution_count": null,
   "metadata": {},
   "outputs": [],
   "source": [
    "len(np.where(np.array(current_param_outputs_nwasp)==1)[0])"
   ]
  },
  {
   "cell_type": "code",
   "execution_count": null,
   "metadata": {},
   "outputs": [],
   "source": [
    "data_add_pc_gmm_dataframe_nwasp = np.hstack((pcs_nwasp, gmm_predictions_nwasp.reshape(pcs_nwasp.shape[0], 1)))"
   ]
  },
  {
   "cell_type": "code",
   "execution_count": null,
   "metadata": {},
   "outputs": [],
   "source": [
    "data_add_pc_gmm_dataframe_nwasp.shape"
   ]
  },
  {
   "cell_type": "code",
   "execution_count": null,
   "metadata": {},
   "outputs": [],
   "source": [
    "df_nwasp_data_pcs_gmm_clusters = pd.DataFrame(data_add_pc_gmm_dataframe_nwasp, columns=df_pcs_normal_scaled_with_gmm_cluster.columns)"
   ]
  },
  {
   "cell_type": "code",
   "execution_count": null,
   "metadata": {},
   "outputs": [],
   "source": [
    "df_nwasp_data_pcs_gmm_clusters"
   ]
  },
  {
   "cell_type": "code",
   "execution_count": null,
   "metadata": {},
   "outputs": [],
   "source": [
    "df_nwasp_data_merged_features = pd.DataFrame(merged_features_nwasp, columns=df_merged_features.columns)"
   ]
  },
  {
   "cell_type": "code",
   "execution_count": null,
   "metadata": {},
   "outputs": [],
   "source": [
    "# save the dataframe for ARPC3 tracking\n",
    "compression_opts = dict(method='zip',\n",
    "                        archive_name=unique_user_saved_outputs+'/dataframes/df_nwasp_data_pcs_gmm_clusters.csv')  \n",
    "\n",
    "df_nwasp_data_pcs_gmm_clusters.to_csv(unique_user_saved_outputs+'/dataframes/df_nwasp_data_pcs_gmm_clusters.zip', index=False,\n",
    "                                                compression=compression_opts) "
   ]
  },
  {
   "cell_type": "code",
   "execution_count": null,
   "metadata": {},
   "outputs": [],
   "source": [
    "compression_opts = dict(method='zip',\n",
    "                        archive_name=unique_user_saved_outputs+'/dataframes/df_nwasp_data_merged_features.csv')  \n",
    "\n",
    "df_nwasp_data_merged_features.to_csv(unique_user_saved_outputs+'/dataframes/df_nwasp_data_merged_features.zip', index=False,\n",
    "                                                 compression=compression_opts) "
   ]
  },
  {
   "cell_type": "code",
   "execution_count": null,
   "metadata": {},
   "outputs": [],
   "source": [
    "df_nwasp_data_merged_features"
   ]
  },
  {
   "cell_type": "markdown",
   "metadata": {},
   "source": [
    "# save N-WASP ccp/hotspot predictions"
   ]
  },
  {
   "cell_type": "code",
   "execution_count": null,
   "metadata": {},
   "outputs": [],
   "source": [
    "np.save(unique_user_saved_outputs+'/dataframes/nwasp_ccp_predictions', current_param_outputs_nwasp)"
   ]
  },
  {
   "cell_type": "code",
   "execution_count": null,
   "metadata": {},
   "outputs": [],
   "source": [
    "len(current_param_outputs_nwasp)"
   ]
  },
  {
   "cell_type": "markdown",
   "metadata": {},
   "source": [
    "# save all N-WASP valid tracks"
   ]
  },
  {
   "cell_type": "code",
   "execution_count": null,
   "metadata": {},
   "outputs": [],
   "source": [
    "split_valid_tracks_nwasp = np.array_split(np.array(list(merged_all_valid_tracks_nwasp)),number_of_track_splits)"
   ]
  },
  {
   "cell_type": "code",
   "execution_count": null,
   "metadata": {},
   "outputs": [],
   "source": [
    "# save each track array chunk\n",
    "for i in range(len(split_valid_tracks_nwasp)):\n",
    "\n",
    "    np.save(unique_user_saved_outputs+\"/dataframes/merged_all_valid_nwasp_tracks_\"+str(i), split_valid_tracks_nwasp[i])"
   ]
  },
  {
   "cell_type": "code",
   "execution_count": null,
   "metadata": {},
   "outputs": [],
   "source": []
  },
  {
   "cell_type": "code",
   "execution_count": null,
   "metadata": {},
   "outputs": [],
   "source": []
  },
  {
   "cell_type": "code",
   "execution_count": null,
   "metadata": {},
   "outputs": [],
   "source": []
  },
  {
   "cell_type": "code",
   "execution_count": null,
   "metadata": {},
   "outputs": [],
   "source": []
  },
  {
   "cell_type": "code",
   "execution_count": null,
   "metadata": {},
   "outputs": [],
   "source": []
  },
  {
   "cell_type": "code",
   "execution_count": null,
   "metadata": {},
   "outputs": [],
   "source": []
  }
 ],
 "metadata": {
  "kernelspec": {
   "display_name": "Python 3",
   "language": "python",
   "name": "python3"
  },
  "language_info": {
   "codemirror_mode": {
    "name": "ipython",
    "version": 3
   },
   "file_extension": ".py",
   "mimetype": "text/x-python",
   "name": "python",
   "nbconvert_exporter": "python",
   "pygments_lexer": "ipython3",
   "version": "3.6.12"
  }
 },
 "nbformat": 4,
 "nbformat_minor": 4
}
